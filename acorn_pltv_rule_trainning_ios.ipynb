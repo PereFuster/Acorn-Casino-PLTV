{
 "cells": [
  {
   "cell_type": "code",
   "execution_count": 20,
   "metadata": {},
   "outputs": [],
   "source": [
    "import warnings\n",
    "import matplotlib.pyplot as plt\n",
    "import seaborn as sns\n",
    "\n",
    "# Suppress all warnings\n",
    "warnings.filterwarnings(\"ignore\")"
   ]
  },
  {
   "cell_type": "code",
   "execution_count": 22,
   "metadata": {},
   "outputs": [],
   "source": [
    "# Configure load path\n",
    "import pickle\n",
    "import pandas as pd\n",
    "import os\n",
    "import requests\n",
    "from urllib.parse import urlencode\n",
    "from sklearn.preprocessing import LabelEncoder, OneHotEncoder, StandardScaler, MinMaxScaler\n",
    "from sklearn.model_selection import train_test_split, GridSearchCV, cross_val_score, RandomizedSearchCV\n",
    "from sklearn.metrics import accuracy_score, classification_report, mean_absolute_error, r2_score, d2_absolute_error_score, mean_absolute_percentage_error\n",
    "from sklearn.ensemble import RandomForestRegressor\n",
    "from sklearn.linear_model import HuberRegressor, LinearRegression\n",
    "from sklearn.feature_selection import SelectKBest\n",
    "from sklearn.pipeline import Pipeline\n",
    "import xgboost as xgb\n",
    "from dateutil.relativedelta import relativedelta\n",
    "from tqdm import tqdm, tqdm_notebook\n",
    "import numpy as np\n",
    "import random\n",
    "import json\n",
    "from datetime import datetime, timedelta\n",
    "import re\n",
    "from sklearn.model_selection import TimeSeriesSplit\n",
    "from sklearn.compose import ColumnTransformer\n",
    "from sklearn.metrics import r2_score\n",
    "from sklearn.tree    import DecisionTreeRegressor\n",
    "from sklearn.tree    import DecisionTreeClassifier\n",
    "import itertools\n",
    "\n",
    "os.chdir(\"C:/Users/Win11/Documents/Repos/Acorn-Casino-PLTV/\")\n",
    "\n",
    "bs_token = 'S7Fek4qridIxY1sUfYUyOl0rLak1Eedeg0TTCWHzUHqIFuUGN07xZtd41ZCp2UvE'  # Token Bingo Arena\n",
    "host = 'td.winnerstudio.vip'\n",
    "\n",
    "# Path Thinking Engine tables\n",
    "tables_path = 'pltv_lucky_accorn_ios_tables.py'\n",
    "start_date = (datetime.now() - timedelta(days = 80)).strftime('%Y-%m-%d')\n",
    "end_date = (datetime.now() - timedelta(days = 29)).strftime('%Y-%m-%d')\n",
    "client_name = 'ios'\n",
    "\n",
    "# Load queries from remote python script (This needs to be perfect).  Overall, you might want to have the lsit here\n",
    "exec(open(tables_path).read())\n",
    "tables = locals().get('tables')\n"
   ]
  },
  {
   "cell_type": "code",
   "execution_count": 27,
   "metadata": {},
   "outputs": [
    {
     "data": {
      "text/plain": [
       "['\\nwith payment_aux as (\\nselect \"#event_time\", \"pay_enter_name\", \"payment_type\",\"#account_id\", \"#os\", cast(\"net_amount\" as double) as na\\nfrom ta.v_event_59\\nwhere \"$part_event\" = \\'order_pay\\'\\n    and (\"is_true\" is null or \"is_true\" = true)\\n    and \"$part_date\" is not null)\\n\\nselect\\na.\"#account_id\"\\n,cast(date_format(date_add(\\'hour\\', 8, a.\"register_time\"),\\'%Y-%m-%d\\') as varchar) as \"register_time\"\\n,sum(if(date_diff(\\'day\\',a.\"register_time\",b.\"#event_time\")<=35,na,0)) as p35\\n,sum(if(date_diff(\\'day\\',a.\"register_time\",b.\"#event_time\")<=42,na,0)) as p42\\n,sum(if(date_diff(\\'day\\',a.\"register_time\",b.\"#event_time\")<=49,na,0)) as p49\\n,sum(if(date_diff(\\'day\\',a.\"register_time\",b.\"#event_time\")<=56,na,0)) as p56\\n,sum(if(date_diff(\\'day\\',a.\"register_time\",b.\"#event_time\")<=63,na,0)) as p63\\n,sum(if(date_diff(\\'day\\',a.\"register_time\",b.\"#event_time\")<=70,na,0)) as p70\\n,sum(if(date_diff(\\'day\\',a.\"register_time\",b.\"#event_time\")<=77,na,0)) as p77\\n,sum(if(date_diff(\\'day\\',a.\"register_time\",b.\"#event_time\")<=84,na,0)) as p84\\n,sum(if(date_diff(\\'day\\',a.\"register_time\",b.\"#event_time\")<=91,na,0)) as p91\\n,sum(if(date_diff(\\'day\\',a.\"register_time\",b.\"#event_time\")<=98,na,0)) as p98\\n,sum(if(date_diff(\\'day\\',a.\"register_time\",b.\"#event_time\")<=100,na,0)) as p100\\n,sum(if(date_diff(\\'day\\',a.\"register_time\",b.\"#event_time\")<=105,na,0)) as p105\\n,sum(if(date_diff(\\'day\\',a.\"register_time\",b.\"#event_time\")<=112,na,0)) as p112\\n,sum(if(date_diff(\\'day\\',a.\"register_time\",b.\"#event_time\")<=119,na,0)) as p119\\n,sum(if(date_diff(\\'day\\',a.\"register_time\",b.\"#event_time\")<=126,na,0)) as p126\\n,sum(if(date_diff(\\'day\\',a.\"register_time\",b.\"#event_time\")<=133,na,0)) as p133\\n,sum(if(date_diff(\\'day\\',a.\"register_time\",b.\"#event_time\")<=28,na,0)) as p28\\n,sum(if(date_diff(\\'day\\',a.\"register_time\",b.\"#event_time\")<=27,na,0)) as p27\\n,sum(if(date_diff(\\'day\\',a.\"register_time\",b.\"#event_time\")<=26,na,0)) as p26\\n,sum(if(date_diff(\\'day\\',a.\"register_time\",b.\"#event_time\")<=25,na,0)) as p25\\n,sum(if(date_diff(\\'day\\',a.\"register_time\",b.\"#event_time\")<=24,na,0)) as p24\\n,sum(if(date_diff(\\'day\\',a.\"register_time\",b.\"#event_time\")<=23,na,0)) as p23\\n,sum(if(date_diff(\\'day\\',a.\"register_time\",b.\"#event_time\")<=22,na,0)) as p22\\n,sum(if(date_diff(\\'day\\',a.\"register_time\",b.\"#event_time\")<=21,na,0)) as p21\\n,sum(if(date_diff(\\'day\\',a.\"register_time\",b.\"#event_time\")<=20,na,0)) as p20\\n,sum(if(date_diff(\\'day\\',a.\"register_time\",b.\"#event_time\")<=19,na,0)) as p19\\n,sum(if(date_diff(\\'day\\',a.\"register_time\",b.\"#event_time\")<=18,na,0)) as p18\\n,sum(if(date_diff(\\'day\\',a.\"register_time\",b.\"#event_time\")<=17,na,0)) as p17\\n,sum(if(date_diff(\\'day\\',a.\"register_time\",b.\"#event_time\")<=16,na,0)) as p16\\n,sum(if(date_diff(\\'day\\',a.\"register_time\",b.\"#event_time\")<=15,na,0)) as p15\\n,sum(if(date_diff(\\'day\\',a.\"register_time\",b.\"#event_time\")<=14,na,0)) as p14\\n,sum(if(date_diff(\\'day\\',a.\"register_time\",b.\"#event_time\")<=13,na,0)) as p13\\n,sum(if(date_diff(\\'day\\',a.\"register_time\",b.\"#event_time\")<=12,na,0)) as p12\\n,sum(if(date_diff(\\'day\\',a.\"register_time\",b.\"#event_time\")<=11,na,0)) as p11\\n,sum(if(date_diff(\\'day\\',a.\"register_time\",b.\"#event_time\")<=10,na,0)) as p10\\n,sum(if(date_diff(\\'day\\',a.\"register_time\",b.\"#event_time\")<=9,na,0)) as p9\\n,sum(if(date_diff(\\'day\\',a.\"register_time\",b.\"#event_time\")<=8,na,0)) as p8\\n,sum(if(date_diff(\\'day\\',a.\"register_time\",b.\"#event_time\")<=7,na,0)) as p7\\n,sum(if(date_diff(\\'day\\',a.\"register_time\",b.\"#event_time\")<=6,na,0)) as p6\\n,sum(if(date_diff(\\'day\\',a.\"register_time\",b.\"#event_time\")<=5,na,0)) as p5\\n,sum(if(date_diff(\\'day\\',a.\"register_time\",b.\"#event_time\")<=4,na,0)) as p4\\n,sum(if(date_diff(\\'day\\',a.\"register_time\",b.\"#event_time\")<=3,na,0)) as p3\\n,sum(if(date_diff(\\'day\\',a.\"register_time\",b.\"#event_time\")<=2,na,0)) as p2\\n,sum(if(date_diff(\\'day\\',a.\"register_time\",b.\"#event_time\")<=1,na,0)) as p1\\n,sum(if(date_diff(\\'hour\\',a.\"register_time\",b.\"#event_time\")<=6,na,0)) as ph6\\n,sum(if(date_diff(\\'hour\\',a.\"register_time\",b.\"#event_time\")<=1,na,0)) as ph1\\n,sum(if(date_diff(\\'day\\',a.\"register_time\",b.\"#event_time\")<=7,1,0)) as cp7\\n,sum(if(date_diff(\\'day\\',a.\"register_time\",b.\"#event_time\")<=3,1,0)) as cp3\\n,sum(if(date_diff(\\'day\\',a.\"register_time\",b.\"#event_time\")<=1,1,0)) as cp1\\nfrom ta.v_user_59 as a\\n  left join payment_aux as b\\n  on a.\"#account_id\" = b.\"#account_id\"\\n  and a.\"register_time\" < b.\"#event_time\"\\nwhere cast(date_format(date_add(\\'hour\\', 8, \"register_time\"), \\'%Y-%m-%d\\') as varchar) between \\'2023-11-07\\' and \\'2023-12-28\\'\\ngroup by 1,2\\n',\n",
       " '\\n\\nwith cash_withdrawals_success as (\\nselect \"#account_id\",\"withdraw_id\",\"#event_time\",\"amount\",\"withdraw_fee\"\\nfrom v_event_59 where \"$part_event\"=\\'withdraw_success\\' and \"$part_date\" is not null)\\n\\n, cash_withdrawals_applied as (\\nselect \"#account_id\",\"withdraw_id\",\"#event_time\",\"amount\",\"withdraw_fee\"\\nfrom v_event_59 where \"$part_event\"=\\'withdraw_apply\\' and \"$part_date\" is not null)\\n\\n, withdrawals_aux as (\\nselect\\n a.\"#account_id\"\\n , a.\"withdraw_id\"\\n , a.\"#event_time\"                      as withdrawal_apply_time\\n , a.\"amount\" - a.\"withdraw_fee\"        as withdrawal_amount\\n , b.\"#event_time\"                      as ws_t\\n , b.\"amount\" - b.\"withdraw_fee\"        as withdrawal_succes_amount\\n , b.\"amount\"                           as wa\\nfrom cash_withdrawals_applied a \\n  left join cash_withdrawals_success b on a.\"withdraw_id\" = b.\"withdraw_id\")\\n\\nselect\\n a.\"#account_id\"\\n ,sum(if(date_diff(\\'day\\',a.\"register_time\",ws_t)<=28,wa,0)) as w28\\n ,sum(if(date_diff(\\'day\\',a.\"register_time\",ws_t)<=35,wa,0)) as w35\\n ,sum(if(date_diff(\\'day\\',a.\"register_time\",ws_t)<=42,wa,0)) as w42\\n ,sum(if(date_diff(\\'day\\',a.\"register_time\",ws_t)<=49,wa,0)) as w49\\n ,sum(if(date_diff(\\'day\\',a.\"register_time\",ws_t)<=56,wa,0)) as w56\\n ,sum(if(date_diff(\\'day\\',a.\"register_time\",ws_t)<=63,wa,0)) as w63\\n ,sum(if(date_diff(\\'day\\',a.\"register_time\",ws_t)<=70,wa,0)) as w70\\n ,sum(if(date_diff(\\'day\\',a.\"register_time\",ws_t)<=77,wa,0)) as w77\\n ,sum(if(date_diff(\\'day\\',a.\"register_time\",ws_t)<=84,wa,0)) as w84\\n ,sum(if(date_diff(\\'day\\',a.\"register_time\",ws_t)<=91,wa,0)) as w91\\n ,sum(if(date_diff(\\'day\\',a.\"register_time\",ws_t)<=98,wa,0)) as w98\\n ,sum(if(date_diff(\\'day\\',a.\"register_time\",ws_t)<=100,wa,0)) as w100\\n ,sum(if(date_diff(\\'day\\',a.\"register_time\",ws_t)<=105,wa,0)) as w105\\n ,sum(if(date_diff(\\'day\\',a.\"register_time\",ws_t)<=112,wa,0)) as w112\\n ,sum(if(date_diff(\\'day\\',a.\"register_time\",ws_t)<=119,wa,0)) as w119\\n ,sum(if(date_diff(\\'day\\',a.\"register_time\",ws_t)<=126,wa,0)) as w126\\n ,sum(if(date_diff(\\'day\\',a.\"register_time\",ws_t)<=133,wa,0)) as w133\\n ,sum(if(date_diff(\\'day\\',a.\"register_time\",ws_t)<=27,wa,0)) as w27\\n ,sum(if(date_diff(\\'day\\',a.\"register_time\",ws_t)<=26,wa,0)) as w26\\n ,sum(if(date_diff(\\'day\\',a.\"register_time\",ws_t)<=25,wa,0)) as w25\\n ,sum(if(date_diff(\\'day\\',a.\"register_time\",ws_t)<=24,wa,0)) as w24\\n ,sum(if(date_diff(\\'day\\',a.\"register_time\",ws_t)<=23,wa,0)) as w23\\n ,sum(if(date_diff(\\'day\\',a.\"register_time\",ws_t)<=22,wa,0)) as w22\\n ,sum(if(date_diff(\\'day\\',a.\"register_time\",ws_t)<=21,wa,0)) as w21\\n ,sum(if(date_diff(\\'day\\',a.\"register_time\",ws_t)<=20,wa,0)) as w20\\n ,sum(if(date_diff(\\'day\\',a.\"register_time\",ws_t)<=19,wa,0)) as w19\\n ,sum(if(date_diff(\\'day\\',a.\"register_time\",ws_t)<=18,wa,0)) as w18\\n ,sum(if(date_diff(\\'day\\',a.\"register_time\",ws_t)<=17,wa,0)) as w17\\n ,sum(if(date_diff(\\'day\\',a.\"register_time\",ws_t)<=16,wa,0)) as w16\\n ,sum(if(date_diff(\\'day\\',a.\"register_time\",ws_t)<=15,wa,0)) as w15\\n ,sum(if(date_diff(\\'day\\',a.\"register_time\",ws_t)<=14,wa,0)) as w14\\n ,sum(if(date_diff(\\'day\\',a.\"register_time\",ws_t)<=13,wa,0)) as w13\\n ,sum(if(date_diff(\\'day\\',a.\"register_time\",ws_t)<=12,wa,0)) as w12\\n ,sum(if(date_diff(\\'day\\',a.\"register_time\",ws_t)<=11,wa,0)) as w11\\n ,sum(if(date_diff(\\'day\\',a.\"register_time\",ws_t)<=10,wa,0)) as w10\\n ,sum(if(date_diff(\\'day\\',a.\"register_time\",ws_t)<=9,wa,0)) as w9\\n ,sum(if(date_diff(\\'day\\',a.\"register_time\",ws_t)<=8,wa,0)) as w8\\n ,sum(if(date_diff(\\'day\\',a.\"register_time\",ws_t)<=7,wa,0)) as w7\\n ,sum(if(date_diff(\\'day\\',a.\"register_time\",ws_t)<=3,wa,0)) as w3\\n ,sum(if(date_diff(\\'day\\',a.\"register_time\",ws_t)<=1,wa,0)) as w1\\nfrom ta.v_user_59 a\\n   left join withdrawals_aux b\\n\\ton a.\"#account_id\"=b.\"#account_id\"\\n\\tand a.\"register_time\" < ws_t\\n\\tand ws_t < date_add(\\'day\\', 30, a.\"register_time\")\\nwhere cast(date_format(date_add(\\'hour\\', 8, \"register_time\"), \\'%Y-%m-%d\\') as varchar) between \\'2023-11-07\\' and \\'2023-12-28\\'\\ngroup by 1\\n',\n",
       " '\\nselect\\n  a.\"#account_id\"\\n ,sum(if(date_diff(\\'day\\',a.\"register_time\",b.\"#event_time\")<=28,b.\"revenue\",0)) as ad28\\n ,sum(if(date_diff(\\'day\\',a.\"register_time\",b.\"#event_time\")<=35,b.\"revenue\",0)) as ad35\\n ,sum(if(date_diff(\\'day\\',a.\"register_time\",b.\"#event_time\")<=42,b.\"revenue\",0)) as ad42\\n ,sum(if(date_diff(\\'day\\',a.\"register_time\",b.\"#event_time\")<=49,b.\"revenue\",0)) as ad49\\n ,sum(if(date_diff(\\'day\\',a.\"register_time\",b.\"#event_time\")<=56,b.\"revenue\",0)) as ad56\\n ,sum(if(date_diff(\\'day\\',a.\"register_time\",b.\"#event_time\")<=63,b.\"revenue\",0)) as ad63\\n ,sum(if(date_diff(\\'day\\',a.\"register_time\",b.\"#event_time\")<=70,b.\"revenue\",0)) as ad70\\n ,sum(if(date_diff(\\'day\\',a.\"register_time\",b.\"#event_time\")<=77,b.\"revenue\",0)) as ad77\\n ,sum(if(date_diff(\\'day\\',a.\"register_time\",b.\"#event_time\")<=84,b.\"revenue\",0)) as ad84\\n ,sum(if(date_diff(\\'day\\',a.\"register_time\",b.\"#event_time\")<=91,b.\"revenue\",0)) as ad91\\n ,sum(if(date_diff(\\'day\\',a.\"register_time\",b.\"#event_time\")<=98,b.\"revenue\",0)) as ad98\\n ,sum(if(date_diff(\\'day\\',a.\"register_time\",b.\"#event_time\")<=100,b.\"revenue\",0)) as ad100\\n ,sum(if(date_diff(\\'day\\',a.\"register_time\",b.\"#event_time\")<=105,b.\"revenue\",0)) as ad105\\n ,sum(if(date_diff(\\'day\\',a.\"register_time\",b.\"#event_time\")<=112,b.\"revenue\",0)) as ad112\\n ,sum(if(date_diff(\\'day\\',a.\"register_time\",b.\"#event_time\")<=119,b.\"revenue\",0)) as ad119\\n ,sum(if(date_diff(\\'day\\',a.\"register_time\",b.\"#event_time\")<=126,b.\"revenue\",0)) as ad126\\n ,sum(if(date_diff(\\'day\\',a.\"register_time\",b.\"#event_time\")<=133,b.\"revenue\",0)) as ad133\\n ,sum(if(date_diff(\\'day\\',a.\"register_time\",b.\"#event_time\")<=27,b.\"revenue\",0)) as ad27\\n ,sum(if(date_diff(\\'day\\',a.\"register_time\",b.\"#event_time\")<=26,b.\"revenue\",0)) as ad26\\n ,sum(if(date_diff(\\'day\\',a.\"register_time\",b.\"#event_time\")<=25,b.\"revenue\",0)) as ad25\\n ,sum(if(date_diff(\\'day\\',a.\"register_time\",b.\"#event_time\")<=24,b.\"revenue\",0)) as ad24\\n ,sum(if(date_diff(\\'day\\',a.\"register_time\",b.\"#event_time\")<=23,b.\"revenue\",0)) as ad23\\n ,sum(if(date_diff(\\'day\\',a.\"register_time\",b.\"#event_time\")<=22,b.\"revenue\",0)) as ad22\\n ,sum(if(date_diff(\\'day\\',a.\"register_time\",b.\"#event_time\")<=21,b.\"revenue\",0)) as ad21\\n ,sum(if(date_diff(\\'day\\',a.\"register_time\",b.\"#event_time\")<=20,b.\"revenue\",0)) as ad20\\n ,sum(if(date_diff(\\'day\\',a.\"register_time\",b.\"#event_time\")<=19,b.\"revenue\",0)) as ad19\\n ,sum(if(date_diff(\\'day\\',a.\"register_time\",b.\"#event_time\")<=18,b.\"revenue\",0)) as ad18\\n ,sum(if(date_diff(\\'day\\',a.\"register_time\",b.\"#event_time\")<=17,b.\"revenue\",0)) as ad17\\n ,sum(if(date_diff(\\'day\\',a.\"register_time\",b.\"#event_time\")<=16,b.\"revenue\",0)) as ad16\\n ,sum(if(date_diff(\\'day\\',a.\"register_time\",b.\"#event_time\")<=15,b.\"revenue\",0)) as ad15\\n ,sum(if(date_diff(\\'day\\',a.\"register_time\",b.\"#event_time\")<=14,b.\"revenue\",0)) as ad14\\n ,sum(if(date_diff(\\'day\\',a.\"register_time\",b.\"#event_time\")<=13,b.\"revenue\",0)) as ad13\\n ,sum(if(date_diff(\\'day\\',a.\"register_time\",b.\"#event_time\")<=12,b.\"revenue\",0)) as ad12\\n ,sum(if(date_diff(\\'day\\',a.\"register_time\",b.\"#event_time\")<=11,b.\"revenue\",0)) as ad11\\n ,sum(if(date_diff(\\'day\\',a.\"register_time\",b.\"#event_time\")<=10,b.\"revenue\",0)) as ad10\\n ,sum(if(date_diff(\\'day\\',a.\"register_time\",b.\"#event_time\")<=9,b.\"revenue\",0)) as ad9\\n ,sum(if(date_diff(\\'day\\',a.\"register_time\",b.\"#event_time\")<=8,b.\"revenue\",0)) as ad8\\n ,sum(if(date_diff(\\'day\\',a.\"register_time\",b.\"#event_time\")<=7,b.\"revenue\",0)) as ad7\\n ,sum(if(date_diff(\\'day\\',a.\"register_time\",b.\"#event_time\")<=6,b.\"revenue\",0)) as ad6\\n ,sum(if(date_diff(\\'day\\',a.\"register_time\",b.\"#event_time\")<=5,b.\"revenue\",0)) as ad5\\n ,sum(if(date_diff(\\'day\\',a.\"register_time\",b.\"#event_time\")<=4,b.\"revenue\",0)) as ad4\\n ,sum(if(date_diff(\\'day\\',a.\"register_time\",b.\"#event_time\")<=3,b.\"revenue\",0)) as ad3\\n ,sum(if(date_diff(\\'day\\',a.\"register_time\",b.\"#event_time\")<=2,b.\"revenue\",0)) as ad2\\n ,sum(if(date_diff(\\'day\\',a.\"register_time\",b.\"#event_time\")<=1,b.\"revenue\",0)) as ad1\\nfrom ta.v_user_59 as a\\nleft join (select \"#account_id\", \"#event_time\", \"revenue\" from v_event_59 where  \"$part_event\"=\\'ad_done\\' and \"$part_date\" is not null) as b\\n  on a.\"#account_id\" = b.\"#account_id\"\\n  and a.\"register_time\" < b.\"#event_time\"\\nwhere cast(date_format(date_add(\\'hour\\', 8, \"register_time\"), \\'%Y-%m-%d\\') as varchar) between \\'2023-11-07\\' and \\'2023-12-28\\'\\ngroup by 1, a.\"register_time\"\\n']"
      ]
     },
     "execution_count": 27,
     "metadata": {},
     "output_type": "execute_result"
    }
   ],
   "source": [
    "tables"
   ]
  },
  {
   "cell_type": "code",
   "execution_count": 21,
   "metadata": {},
   "outputs": [
    {
     "data": {
      "text/html": [
       "<div>\n",
       "<style scoped>\n",
       "    .dataframe tbody tr th:only-of-type {\n",
       "        vertical-align: middle;\n",
       "    }\n",
       "\n",
       "    .dataframe tbody tr th {\n",
       "        vertical-align: top;\n",
       "    }\n",
       "\n",
       "    .dataframe thead th {\n",
       "        text-align: right;\n",
       "    }\n",
       "</style>\n",
       "<table border=\"1\" class=\"dataframe\">\n",
       "  <thead>\n",
       "    <tr style=\"text-align: right;\">\n",
       "      <th></th>\n",
       "      <th>Available day</th>\n",
       "      <th>Target day</th>\n",
       "      <th>Model</th>\n",
       "      <th>Columns</th>\n",
       "    </tr>\n",
       "  </thead>\n",
       "  <tbody>\n",
       "    <tr>\n",
       "      <th>0</th>\n",
       "      <td>7</td>\n",
       "      <td>14</td>\n",
       "      <td>(ColumnTransformer(remainder='passthrough',\\n ...</td>\n",
       "      <td>Index(['p7_diff', 'p6_diff', 'p5_diff', 'p4_di...</td>\n",
       "    </tr>\n",
       "    <tr>\n",
       "      <th>1</th>\n",
       "      <td>8</td>\n",
       "      <td>14</td>\n",
       "      <td>(ColumnTransformer(remainder='passthrough',\\n ...</td>\n",
       "      <td>Index(['p7_diff', 'p6_diff', 'p5_diff', 'p4_di...</td>\n",
       "    </tr>\n",
       "    <tr>\n",
       "      <th>2</th>\n",
       "      <td>9</td>\n",
       "      <td>14</td>\n",
       "      <td>(ColumnTransformer(remainder='passthrough',\\n ...</td>\n",
       "      <td>Index(['p7_diff', 'p6_diff', 'p5_diff', 'p4_di...</td>\n",
       "    </tr>\n",
       "    <tr>\n",
       "      <th>3</th>\n",
       "      <td>10</td>\n",
       "      <td>14</td>\n",
       "      <td>(ColumnTransformer(remainder='passthrough',\\n ...</td>\n",
       "      <td>Index(['p7_diff', 'p6_diff', 'p5_diff', 'p4_di...</td>\n",
       "    </tr>\n",
       "    <tr>\n",
       "      <th>4</th>\n",
       "      <td>11</td>\n",
       "      <td>14</td>\n",
       "      <td>(ColumnTransformer(remainder='passthrough',\\n ...</td>\n",
       "      <td>Index(['p7_diff', 'p6_diff', 'p5_diff', 'p4_di...</td>\n",
       "    </tr>\n",
       "  </tbody>\n",
       "</table>\n",
       "</div>"
      ],
      "text/plain": [
       "  Available day Target day                                              Model  \\\n",
       "0             7         14  (ColumnTransformer(remainder='passthrough',\\n ...   \n",
       "1             8         14  (ColumnTransformer(remainder='passthrough',\\n ...   \n",
       "2             9         14  (ColumnTransformer(remainder='passthrough',\\n ...   \n",
       "3            10         14  (ColumnTransformer(remainder='passthrough',\\n ...   \n",
       "4            11         14  (ColumnTransformer(remainder='passthrough',\\n ...   \n",
       "\n",
       "                                             Columns  \n",
       "0  Index(['p7_diff', 'p6_diff', 'p5_diff', 'p4_di...  \n",
       "1  Index(['p7_diff', 'p6_diff', 'p5_diff', 'p4_di...  \n",
       "2  Index(['p7_diff', 'p6_diff', 'p5_diff', 'p4_di...  \n",
       "3  Index(['p7_diff', 'p6_diff', 'p5_diff', 'p4_di...  \n",
       "4  Index(['p7_diff', 'p6_diff', 'p5_diff', 'p4_di...  "
      ]
     },
     "execution_count": 21,
     "metadata": {},
     "output_type": "execute_result"
    }
   ],
   "source": [
    "with open('acorn_ios_ptlv_dictionary_2024_jan.pkl', 'rb') as file:\n",
    "    model_dict = pickle.load(file)\n",
    "model_dict.head()"
   ]
  },
  {
   "cell_type": "markdown",
   "metadata": {},
   "source": [
    "## 1. Load the data and incorporate the predictions \n",
    "\n",
    "This should be everything that you can get from the previous step, except the API data "
   ]
  },
  {
   "cell_type": "code",
   "execution_count": 23,
   "metadata": {},
   "outputs": [
    {
     "name": "stdout",
     "output_type": "stream",
     "text": [
      "Error parsing JSON: Expecting value: line 1 column 1 (char 0)\n",
      "       #account_id  cp1  cp3  cp7   p1    p10   p100   p105    p11   p112  \\\n",
      "0           145966    0    0    0  0.0  0.000  0.000  0.000  0.000  0.000   \n",
      "1           146000    0    0    0  0.0  0.000  0.000  0.000  0.000  0.000   \n",
      "2           146405    0    0    0  0.0  4.435  4.435  4.435  4.435  4.435   \n",
      "3           147245    0    0    0  0.0  0.000  0.000  0.000  0.000  0.000   \n",
      "4         10024061    0    0    0  0.0  0.000  0.000  0.000  0.000  0.000   \n",
      "...            ...  ...  ...  ...  ...    ...    ...    ...    ...    ...   \n",
      "173217    10180179    0    0    0  0.0  0.000  0.000  0.000  0.000  0.000   \n",
      "173218    10180192    0    0    0  0.0  0.000  0.000  0.000  0.000  0.000   \n",
      "173219    10180212    0    0    0  0.0  0.000  0.000  0.000  0.000  0.000   \n",
      "173220    10180602    0    0    0  0.0  0.000  0.000  0.000  0.000  0.000   \n",
      "173221    10180768    0    0    0  0.0  0.000  0.000  0.000  0.000  0.000   \n",
      "\n",
      "        ...    p70    p77     p8    p84     p9    p91    p98  ph1  ph6  \\\n",
      "0       ...  0.000  0.000  0.000  0.000  0.000  0.000  0.000  0.0  0.0   \n",
      "1       ...  0.000  0.000  0.000  0.000  0.000  0.000  0.000  0.0  0.0   \n",
      "2       ...  4.435  4.435  4.435  4.435  4.435  4.435  4.435  0.0  0.0   \n",
      "3       ...  0.000  0.000  0.000  0.000  0.000  0.000  0.000  0.0  0.0   \n",
      "4       ...  0.000  0.000  0.000  0.000  0.000  0.000  0.000  0.0  0.0   \n",
      "...     ...    ...    ...    ...    ...    ...    ...    ...  ...  ...   \n",
      "173217  ...  0.000  0.000  0.000  0.000  0.000  0.000  0.000  0.0  0.0   \n",
      "173218  ...  0.000  0.000  0.000  0.000  0.000  0.000  0.000  0.0  0.0   \n",
      "173219  ...  0.000  0.000  0.000  0.000  0.000  0.000  0.000  0.0  0.0   \n",
      "173220  ...  0.000  0.000  0.000  0.000  0.000  0.000  0.000  0.0  0.0   \n",
      "173221  ...  0.000  0.000  0.000  0.000  0.000  0.000  0.000  0.0  0.0   \n",
      "\n",
      "        register_time  \n",
      "0          2023-11-07  \n",
      "1          2023-11-07  \n",
      "2          2023-11-07  \n",
      "3          2023-11-07  \n",
      "4          2023-11-07  \n",
      "...               ...  \n",
      "173217     2023-12-28  \n",
      "173218     2023-12-28  \n",
      "173219     2023-12-28  \n",
      "173220     2023-12-28  \n",
      "173221     2023-12-28  \n",
      "\n",
      "[173222 rows x 51 columns]\n",
      "Error parsing JSON: Expecting value: line 1 column 1 (char 0)\n",
      "       #account_id   w1  w10  w100  w105  w11  w112  w119  w12  w126  ...  \\\n",
      "0         10136537  0.0  0.0   0.0   0.0  0.0   0.0   0.0  0.0   0.0  ...   \n",
      "1         10023126  0.0  0.0   0.0   0.0  0.0   0.0   0.0  0.0   0.0  ...   \n",
      "2           146127  0.0  0.0   0.0   0.0  0.0   0.0   0.0  0.0   0.0  ...   \n",
      "3           146180  0.0  0.0   0.0   0.0  0.0   0.0   0.0  0.0   0.0  ...   \n",
      "4           146189  0.0  0.0   0.0   0.0  0.0   0.0   0.0  0.0   0.0  ...   \n",
      "...            ...  ...  ...   ...   ...  ...   ...   ...  ...   ...  ...   \n",
      "173217    10178545  0.0  0.0   0.0   0.0  0.0   0.0   0.0  0.0   0.0  ...   \n",
      "173218    10178981  0.0  0.0   0.0   0.0  0.0   0.0   0.0  0.0   0.0  ...   \n",
      "173219    10179540  0.0  0.0   0.0   0.0  0.0   0.0   0.0  0.0   0.0  ...   \n",
      "173220    10179571  0.0  0.0   0.0   0.0  0.0   0.0   0.0  0.0   0.0  ...   \n",
      "173221    10180763  0.0  0.0   0.0   0.0  0.0   0.0   0.0  0.0   0.0  ...   \n",
      "\n",
      "        w56  w63   w7  w70  w77   w8  w84   w9  w91  w98  \n",
      "0       0.0  0.0  0.0  0.0  0.0  0.0  0.0  0.0  0.0  0.0  \n",
      "1       0.0  0.0  0.0  0.0  0.0  0.0  0.0  0.0  0.0  0.0  \n",
      "2       0.0  0.0  0.0  0.0  0.0  0.0  0.0  0.0  0.0  0.0  \n",
      "3       0.0  0.0  0.0  0.0  0.0  0.0  0.0  0.0  0.0  0.0  \n",
      "4       0.0  0.0  0.0  0.0  0.0  0.0  0.0  0.0  0.0  0.0  \n",
      "...     ...  ...  ...  ...  ...  ...  ...  ...  ...  ...  \n",
      "173217  0.0  0.0  0.0  0.0  0.0  0.0  0.0  0.0  0.0  0.0  \n",
      "173218  0.0  0.0  0.0  0.0  0.0  0.0  0.0  0.0  0.0  0.0  \n",
      "173219  0.0  0.0  0.0  0.0  0.0  0.0  0.0  0.0  0.0  0.0  \n",
      "173220  0.0  0.0  0.0  0.0  0.0  0.0  0.0  0.0  0.0  0.0  \n",
      "173221  0.0  0.0  0.0  0.0  0.0  0.0  0.0  0.0  0.0  0.0  \n",
      "\n",
      "[173222 rows x 41 columns]\n",
      "Error parsing JSON: Expecting value: line 1 column 1 (char 0)\n",
      "       #account_id  ad1  ad10  ad100  ad105  ad11  ad112  ad119  ad12  ad126  \\\n",
      "0           145936  0.0   0.0    0.0    0.0   0.0    0.0    0.0   0.0    0.0   \n",
      "1           146460  0.0   0.0    0.0    0.0   0.0    0.0    0.0   0.0    0.0   \n",
      "2           147253  0.0   0.0    0.0    0.0   0.0    0.0    0.0   0.0    0.0   \n",
      "3         10024416  0.0   0.0    0.0    0.0   0.0    0.0    0.0   0.0    0.0   \n",
      "4           147670  0.0   0.0    0.0    0.0   0.0    0.0    0.0   0.0    0.0   \n",
      "...            ...  ...   ...    ...    ...   ...    ...    ...   ...    ...   \n",
      "173217    10179664  0.0   0.0    0.0    0.0   0.0    0.0    0.0   0.0    0.0   \n",
      "173218    10179950  0.0   0.0    0.0    0.0   0.0    0.0    0.0   0.0    0.0   \n",
      "173219    10180217  0.0   0.0    0.0    0.0   0.0    0.0    0.0   0.0    0.0   \n",
      "173220    10180439  0.0   0.0    0.0    0.0   0.0    0.0    0.0   0.0    0.0   \n",
      "173221    10180747  0.0   0.0    0.0    0.0   0.0    0.0    0.0   0.0    0.0   \n",
      "\n",
      "        ...  ad6  ad63  ad7  ad70  ad77  ad8  ad84  ad9  ad91  ad98  \n",
      "0       ...  0.0   0.0  0.0   0.0   0.0  0.0   0.0  0.0   0.0   0.0  \n",
      "1       ...  0.0   0.0  0.0   0.0   0.0  0.0   0.0  0.0   0.0   0.0  \n",
      "2       ...  0.0   0.0  0.0   0.0   0.0  0.0   0.0  0.0   0.0   0.0  \n",
      "3       ...  0.0   0.0  0.0   0.0   0.0  0.0   0.0  0.0   0.0   0.0  \n",
      "4       ...  0.0   0.0  0.0   0.0   0.0  0.0   0.0  0.0   0.0   0.0  \n",
      "...     ...  ...   ...  ...   ...   ...  ...   ...  ...   ...   ...  \n",
      "173217  ...  0.0   0.0  0.0   0.0   0.0  0.0   0.0  0.0   0.0   0.0  \n",
      "173218  ...  0.0   0.0  0.0   0.0   0.0  0.0   0.0  0.0   0.0   0.0  \n",
      "173219  ...  0.0   0.0  0.0   0.0   0.0  0.0   0.0  0.0   0.0   0.0  \n",
      "173220  ...  0.0   0.0  0.0   0.0   0.0  0.0   0.0  0.0   0.0   0.0  \n",
      "173221  ...  0.0   0.0  0.0   0.0   0.0  0.0   0.0  0.0   0.0   0.0  \n",
      "\n",
      "[173222 rows x 45 columns]\n"
     ]
    }
   ],
   "source": [
    "def load_data(tables, bs_token, host):\n",
    "    def pull_data(sql_script, bs_token, host):\n",
    "\n",
    "        data = {\n",
    "            'token':          bs_token,\n",
    "            'format':         'json_object',\n",
    "            'timeoutSeconds': 2000,\n",
    "            'sql':            sql_script\n",
    "        }\n",
    "\n",
    "        data = str(urlencode(data))\n",
    "        response = requests.post(f'http://{host}:8992/querySql?{data}', timeout = 1000000)\n",
    "\n",
    "        # Sample list of JSON strings\n",
    "        json_list = response.text.split('\\n')[1:]\n",
    "\n",
    "        # Convert JSON strings to dictionaries\n",
    "        dict_list = []\n",
    "        for json_str in json_list:\n",
    "            try:\n",
    "                dict_list.append(json.loads(json_str))\n",
    "            except json.JSONDecodeError as e:\n",
    "                print(f\"Error parsing JSON: {e}\")\n",
    "\n",
    "        # Create a pandas DataFrame\n",
    "        data = pd.DataFrame(dict_list).sort_index(axis = 1)\n",
    "        print(data)\n",
    "        # Display the DataFrame\n",
    "        return data\n",
    "\n",
    "    # Load the first data using USER_PAYMENT, and then iteatevely join the remaining data for trainning\n",
    "\n",
    "    df = pull_data(tables[0], bs_token, host)\n",
    "    for i in range(1, len(tables)):\n",
    "        new_data = pull_data(tables[i], bs_token, host)\n",
    "        df = df.merge(new_data, on = '#account_id', how = 'left')\n",
    "\n",
    "    return df\n",
    "\n",
    "# Load queries from remote python script (This needs to be perfect).  Overall, you might want to have the lsit here\n",
    "exec(open(tables_path).read())\n",
    "tables = locals().get('tables')\n",
    "training_columns = locals().get('training_columns')\n",
    "training_columns_feb = locals().get('training_columns_feb')\n",
    "\n",
    "# Create df by loading information and joining on account_id\n",
    "df = load_data(tables, bs_token, host)"
   ]
  },
  {
   "cell_type": "code",
   "execution_count": 24,
   "metadata": {},
   "outputs": [],
   "source": [
    "# Data preprocessing and transformations\n",
    "df['#account_id'] = df['#account_id'].astype(str)\n",
    "df['register_time'] = pd.to_datetime(df['register_time'], errors = 'coerce')\n",
    "df['date'] = df['register_time'].dt.strftime('%Y%m%d').astype(float)  # Change to float if needed\n",
    "\n",
    "df = df.fillna(0)"
   ]
  },
  {
   "cell_type": "code",
   "execution_count": 25,
   "metadata": {},
   "outputs": [],
   "source": [
    "# Calculate differences\n",
    "day_columns = ['p1', 'p2', 'p3', 'p4', 'p5', 'p6', 'p7']\n",
    "for i in range(len(day_columns) - 1, 0, -1):\n",
    "    df[f'{day_columns[i]}_diff'] = df[day_columns[i]] - df[day_columns[i - 1]]"
   ]
  },
  {
   "cell_type": "code",
   "execution_count": 7,
   "metadata": {},
   "outputs": [],
   "source": [
    "# Add predictions\n",
    "integers_list = list(range(7, 28))\n",
    "incremented_numbers = [str(number) for number in range(28, 36, 7)]\n",
    "predictors_days_input = predictors_days = [str(integer) for integer in integers_list] + incremented_numbers\n",
    "\n",
    "# Available dates as target (I am considering adding more values, above and below, maybe up to two on each side)\n",
    "response_days_input = response_days = [\"14\", \"28\", \"56\", \"63\", \"70\", \"77\", \"84\", \"91\", \"98\", \"100\", \"105\", \"112\", \"119\", \"126\", \"133\"]\n",
    "def add_predictions(data, model_dict, response_days, predictors_days):\n",
    "\n",
    "    for response in response_days:\n",
    "        data[f'actual_{response}'] = data[f'p{response}'] - data[f'w{response}']\n",
    "\n",
    "        for reg in predictors_days:\n",
    "\n",
    "            if int(response) > int(reg):\n",
    "                \n",
    "                data[f'p_last_diff_7_{reg}'] = data[f'p{reg}'] - data[f'p7']\n",
    "                data[f'w_last_diff_7_{reg}'] = data[f'w{reg}'] - data[f'w7']\n",
    "                columns = list((model_dict[(model_dict['Available day'] == reg) & (model_dict['Target day'] == response)][['Columns']].reset_index(drop=True).values[0])[0]) #+ [f'p_last_diff_7_{reg}'] + [f'w_last_diff_7_{reg}']\n",
    "                \n",
    "                # Load the model\n",
    "                model = model_dict[(model_dict['Available day'] == reg) & (model_dict['Target day'] == response)]['Model'].reset_index(drop=True).values[0]\n",
    "\n",
    "                # Make the prediction (Make sure is done only for those on which makese sense)\n",
    "                prediction = model.predict(data[columns])\n",
    "                data[f'pred_{reg}_{response}'] = prediction + data[f'p{reg}']- data[f'w{reg}']\n",
    "                del data[f'p_last_diff_7_{reg}']\n",
    "                del data[f'w_last_diff_7_{reg}']\n",
    "\n",
    "    return data\n",
    "\n",
    "df = add_predictions(df, model_dict, response_days_input, predictors_days_input)"
   ]
  },
  {
   "cell_type": "markdown",
   "metadata": {},
   "source": [
    "## 2. Add media source \n",
    "\n",
    "Add the media source"
   ]
  },
  {
   "cell_type": "code",
   "execution_count": 16,
   "metadata": {},
   "outputs": [
    {
     "name": "stdout",
     "output_type": "stream",
     "text": [
      "Loaded (231, 7)\n"
     ]
    }
   ],
   "source": [
    "api_details = {'bundle_id': 'com.acorncasino.slots', 'start': start_date, 'end':  end_date}\n",
    "api_url = 'http://acorncasino-ios.twilightgift.club/server/media_source_cost'\n",
    "\n",
    "# Send a GET request to the API\n",
    "response = requests.post(api_url, api_details)\n",
    "if response.status_code == 200:\n",
    "    # Request was successful\n",
    "    api_df = response.json()  # Parse the JSON response if the API returns JSON data\n",
    "    api_df = pd.DataFrame(api_df['data'])\n",
    "    api_df['api_installs'] = api_df['user_ids'].apply(lambda x: len([int(item.strip()) for item in x.split(\",\") if item.strip()]))\n",
    "    print('Loaded', api_df.shape)\n",
    "else:\n",
    "    print(f\"Failed to retrieve data. Status code: {response.status_code}\")\n",
    "\n"
   ]
  },
  {
   "cell_type": "code",
   "execution_count": 17,
   "metadata": {},
   "outputs": [
    {
     "data": {
      "text/html": [
       "<div>\n",
       "<style scoped>\n",
       "    .dataframe tbody tr th:only-of-type {\n",
       "        vertical-align: middle;\n",
       "    }\n",
       "\n",
       "    .dataframe tbody tr th {\n",
       "        vertical-align: top;\n",
       "    }\n",
       "\n",
       "    .dataframe thead th {\n",
       "        text-align: right;\n",
       "    }\n",
       "</style>\n",
       "<table border=\"1\" class=\"dataframe\">\n",
       "  <thead>\n",
       "    <tr style=\"text-align: right;\">\n",
       "      <th></th>\n",
       "      <th>date</th>\n",
       "      <th>cost</th>\n",
       "      <th>revenue_d7</th>\n",
       "      <th>withdraw_d7</th>\n",
       "      <th>api_installs</th>\n",
       "    </tr>\n",
       "  </thead>\n",
       "  <tbody>\n",
       "    <tr>\n",
       "      <th>0</th>\n",
       "      <td>20231107</td>\n",
       "      <td>5118.22</td>\n",
       "      <td>5365.69</td>\n",
       "      <td>3075.03</td>\n",
       "      <td>778</td>\n",
       "    </tr>\n",
       "    <tr>\n",
       "      <th>1</th>\n",
       "      <td>20231108</td>\n",
       "      <td>5957.26</td>\n",
       "      <td>8082.24</td>\n",
       "      <td>5636.90</td>\n",
       "      <td>832</td>\n",
       "    </tr>\n",
       "    <tr>\n",
       "      <th>2</th>\n",
       "      <td>20231109</td>\n",
       "      <td>6571.56</td>\n",
       "      <td>5113.44</td>\n",
       "      <td>2044.53</td>\n",
       "      <td>835</td>\n",
       "    </tr>\n",
       "    <tr>\n",
       "      <th>3</th>\n",
       "      <td>20231110</td>\n",
       "      <td>6888.82</td>\n",
       "      <td>5565.94</td>\n",
       "      <td>2926.28</td>\n",
       "      <td>882</td>\n",
       "    </tr>\n",
       "    <tr>\n",
       "      <th>4</th>\n",
       "      <td>20231111</td>\n",
       "      <td>6935.93</td>\n",
       "      <td>3301.68</td>\n",
       "      <td>1098.13</td>\n",
       "      <td>862</td>\n",
       "    </tr>\n",
       "  </tbody>\n",
       "</table>\n",
       "</div>"
      ],
      "text/plain": [
       "       date     cost  revenue_d7  withdraw_d7  api_installs\n",
       "0  20231107  5118.22     5365.69      3075.03           778\n",
       "1  20231108  5957.26     8082.24      5636.90           832\n",
       "2  20231109  6571.56     5113.44      2044.53           835\n",
       "3  20231110  6888.82     5565.94      2926.28           882\n",
       "4  20231111  6935.93     3301.68      1098.13           862"
      ]
     },
     "execution_count": 17,
     "metadata": {},
     "output_type": "execute_result"
    }
   ],
   "source": [
    "api_df = api_df.groupby('date')[['cost', 'revenue_d7', 'withdraw_d7', 'api_installs']].sum().reset_index(drop = False).sort_values(by = 'date')\n",
    "api_df.head()"
   ]
  },
  {
   "cell_type": "code",
   "execution_count": 30,
   "metadata": {},
   "outputs": [],
   "source": [
    "today = pd.to_datetime((datetime.now() - timedelta(days = 1)).strftime('%Y-%m-%d'))\n",
    "n_values = df.columns[df.columns.str.match(r'pred_\\d+_\\d+')].str.extract(r'pred_\\d+_(\\d+)').dropna()[0].unique() # These are the responses, after removing the availables.\n",
    "available_k_values = [int(col.split('_')[1]) for col in df.columns if col.startswith('pred_')] # What are the numbers after 'pred_'\n",
    "pred_list = ['pred_14', 'pred_28', 'pred_56', 'pred_63', 'pred_70', 'pred_77', 'pred_84', 'pred_91', 'pred_98', 'pred_100', 'pred_105', 'pred_112', 'pred_119', 'pred_126', 'pred_133']\n",
    "\n",
    "df['te_installs'] = 1\n",
    "agg_df = df.fillna(0).groupby('date')[[col for col in df.columns if col.startswith(\"p\") or col.startswith(\"w\") or col.startswith(\"ad\") or col.startswith(\"actual_\")] + ['te_installs']].sum().reset_index()\n",
    "agg_df = api_df[['date', 'api_installs', 'cost', 'revenue_d7', 'withdraw_d7']].merge(agg_df, on = 'date', how = 'inner')\n",
    "\n",
    "agg_df['payment_increase']    = (agg_df['revenue_d7'] - agg_df['p7']) / agg_df['p7']\n",
    "agg_df['rpi_increase']        = ((agg_df['revenue_d7'] / agg_df['api_installs'].astype(float)) - (agg_df['p7'] / agg_df['te_installs']) / (agg_df['p7'] / agg_df['te_installs']))\n",
    "agg_df['installs_difference'] = (agg_df['api_installs'] - agg_df['te_installs']) / agg_df['te_installs'] # ['Install', 'installs']'Install' is API\n",
    "agg_df['withdrawn_ratio']     = agg_df['withdraw_d7'] / agg_df['revenue_d7']\n",
    "agg_df['return_p_d7']         = agg_df['p7'] / agg_df['cost'] \n",
    "agg_df['return_ad_d7']        = agg_df['ad7'] / agg_df['cost'] \n"
   ]
  },
  {
   "cell_type": "code",
   "execution_count": 31,
   "metadata": {},
   "outputs": [],
   "source": [
    "# Generate pred roas cols by dividing pred_revenue by spending (Name does not change)\n",
    "agg_df[[col for col in df.columns if col.startswith(\"pred_\")]] = agg_df[[col for col in df.columns if col.startswith(\"pred_\")]].div(agg_df['cost'], axis = 0)"
   ]
  },
  {
   "cell_type": "code",
   "execution_count": 32,
   "metadata": {},
   "outputs": [
    {
     "data": {
      "text/html": [
       "<div>\n",
       "<style scoped>\n",
       "    .dataframe tbody tr th:only-of-type {\n",
       "        vertical-align: middle;\n",
       "    }\n",
       "\n",
       "    .dataframe tbody tr th {\n",
       "        vertical-align: top;\n",
       "    }\n",
       "\n",
       "    .dataframe thead th {\n",
       "        text-align: right;\n",
       "    }\n",
       "</style>\n",
       "<table border=\"1\" class=\"dataframe\">\n",
       "  <thead>\n",
       "    <tr style=\"text-align: right;\">\n",
       "      <th></th>\n",
       "      <th>date</th>\n",
       "      <th>cost</th>\n",
       "      <th>revenue_d7</th>\n",
       "      <th>withdraw_d7</th>\n",
       "      <th>payment_increase</th>\n",
       "      <th>rpi_increase</th>\n",
       "      <th>installs_difference</th>\n",
       "      <th>withdrawn_ratio</th>\n",
       "      <th>withdraw_d7</th>\n",
       "      <th>w1</th>\n",
       "      <th>...</th>\n",
       "      <th>w63</th>\n",
       "      <th>w7</th>\n",
       "      <th>w70</th>\n",
       "      <th>w77</th>\n",
       "      <th>w8</th>\n",
       "      <th>w84</th>\n",
       "      <th>w9</th>\n",
       "      <th>w91</th>\n",
       "      <th>w98</th>\n",
       "      <th>withdrawn_ratio</th>\n",
       "    </tr>\n",
       "  </thead>\n",
       "  <tbody>\n",
       "    <tr>\n",
       "      <th>24</th>\n",
       "      <td>20231201</td>\n",
       "      <td>16334.34</td>\n",
       "      <td>20415.13</td>\n",
       "      <td>6499.97</td>\n",
       "      <td>-0.355665</td>\n",
       "      <td>10.373331</td>\n",
       "      <td>-0.204696</td>\n",
       "      <td>0.318390</td>\n",
       "      <td>6499.97</td>\n",
       "      <td>1136.92</td>\n",
       "      <td>...</td>\n",
       "      <td>50714.0399</td>\n",
       "      <td>7732.52</td>\n",
       "      <td>50714.0399</td>\n",
       "      <td>50714.0399</td>\n",
       "      <td>9003.52</td>\n",
       "      <td>50714.0399</td>\n",
       "      <td>9694.25</td>\n",
       "      <td>50714.0399</td>\n",
       "      <td>50714.0399</td>\n",
       "      <td>0.318390</td>\n",
       "    </tr>\n",
       "    <tr>\n",
       "      <th>33</th>\n",
       "      <td>20231210</td>\n",
       "      <td>41000.42</td>\n",
       "      <td>21567.61</td>\n",
       "      <td>10966.57</td>\n",
       "      <td>-0.017793</td>\n",
       "      <td>4.803985</td>\n",
       "      <td>-0.237431</td>\n",
       "      <td>0.508474</td>\n",
       "      <td>10966.57</td>\n",
       "      <td>3012.91</td>\n",
       "      <td>...</td>\n",
       "      <td>87475.9502</td>\n",
       "      <td>12452.24</td>\n",
       "      <td>87475.9502</td>\n",
       "      <td>87475.9502</td>\n",
       "      <td>13288.87</td>\n",
       "      <td>87475.9502</td>\n",
       "      <td>14895.57</td>\n",
       "      <td>87475.9502</td>\n",
       "      <td>87475.9502</td>\n",
       "      <td>0.508474</td>\n",
       "    </tr>\n",
       "    <tr>\n",
       "      <th>6</th>\n",
       "      <td>20231113</td>\n",
       "      <td>6546.11</td>\n",
       "      <td>3331.90</td>\n",
       "      <td>659.26</td>\n",
       "      <td>-0.782384</td>\n",
       "      <td>3.175313</td>\n",
       "      <td>-0.716115</td>\n",
       "      <td>0.197863</td>\n",
       "      <td>659.26</td>\n",
       "      <td>1213.24</td>\n",
       "      <td>...</td>\n",
       "      <td>31084.9400</td>\n",
       "      <td>9319.14</td>\n",
       "      <td>31084.9400</td>\n",
       "      <td>31084.9400</td>\n",
       "      <td>9496.05</td>\n",
       "      <td>31084.9400</td>\n",
       "      <td>9932.93</td>\n",
       "      <td>31084.9400</td>\n",
       "      <td>31084.9400</td>\n",
       "      <td>0.197863</td>\n",
       "    </tr>\n",
       "    <tr>\n",
       "      <th>29</th>\n",
       "      <td>20231206</td>\n",
       "      <td>26021.99</td>\n",
       "      <td>14434.37</td>\n",
       "      <td>5826.37</td>\n",
       "      <td>-0.039916</td>\n",
       "      <td>4.766828</td>\n",
       "      <td>-0.225077</td>\n",
       "      <td>0.403646</td>\n",
       "      <td>5826.37</td>\n",
       "      <td>1191.56</td>\n",
       "      <td>...</td>\n",
       "      <td>26508.1700</td>\n",
       "      <td>8123.39</td>\n",
       "      <td>26508.1700</td>\n",
       "      <td>26508.1700</td>\n",
       "      <td>8503.39</td>\n",
       "      <td>26508.1700</td>\n",
       "      <td>9243.39</td>\n",
       "      <td>26508.1700</td>\n",
       "      <td>26508.1700</td>\n",
       "      <td>0.403646</td>\n",
       "    </tr>\n",
       "    <tr>\n",
       "      <th>1</th>\n",
       "      <td>20231108</td>\n",
       "      <td>5957.26</td>\n",
       "      <td>8082.24</td>\n",
       "      <td>5636.90</td>\n",
       "      <td>-0.416625</td>\n",
       "      <td>8.714231</td>\n",
       "      <td>-0.655772</td>\n",
       "      <td>0.697443</td>\n",
       "      <td>5636.90</td>\n",
       "      <td>2077.39</td>\n",
       "      <td>...</td>\n",
       "      <td>23440.5300</td>\n",
       "      <td>9744.74</td>\n",
       "      <td>23440.5300</td>\n",
       "      <td>23440.5300</td>\n",
       "      <td>9972.50</td>\n",
       "      <td>23440.5300</td>\n",
       "      <td>10913.50</td>\n",
       "      <td>23440.5300</td>\n",
       "      <td>23440.5300</td>\n",
       "      <td>0.697443</td>\n",
       "    </tr>\n",
       "    <tr>\n",
       "      <th>35</th>\n",
       "      <td>20231212</td>\n",
       "      <td>43707.59</td>\n",
       "      <td>25125.52</td>\n",
       "      <td>11637.15</td>\n",
       "      <td>-0.131335</td>\n",
       "      <td>5.138656</td>\n",
       "      <td>-0.218446</td>\n",
       "      <td>0.463161</td>\n",
       "      <td>11637.15</td>\n",
       "      <td>3798.52</td>\n",
       "      <td>...</td>\n",
       "      <td>76901.9200</td>\n",
       "      <td>15625.88</td>\n",
       "      <td>76901.9200</td>\n",
       "      <td>76901.9200</td>\n",
       "      <td>16278.88</td>\n",
       "      <td>76901.9200</td>\n",
       "      <td>19036.45</td>\n",
       "      <td>76901.9200</td>\n",
       "      <td>76901.9200</td>\n",
       "      <td>0.463161</td>\n",
       "    </tr>\n",
       "    <tr>\n",
       "      <th>3</th>\n",
       "      <td>20231110</td>\n",
       "      <td>6888.82</td>\n",
       "      <td>5565.94</td>\n",
       "      <td>2926.28</td>\n",
       "      <td>-0.697819</td>\n",
       "      <td>5.310590</td>\n",
       "      <td>-0.672849</td>\n",
       "      <td>0.525748</td>\n",
       "      <td>2926.28</td>\n",
       "      <td>2404.71</td>\n",
       "      <td>...</td>\n",
       "      <td>39470.9100</td>\n",
       "      <td>11587.47</td>\n",
       "      <td>39470.9100</td>\n",
       "      <td>39470.9100</td>\n",
       "      <td>12749.83</td>\n",
       "      <td>39470.9100</td>\n",
       "      <td>13148.49</td>\n",
       "      <td>39470.9100</td>\n",
       "      <td>39470.9100</td>\n",
       "      <td>0.525748</td>\n",
       "    </tr>\n",
       "    <tr>\n",
       "      <th>36</th>\n",
       "      <td>20231213</td>\n",
       "      <td>44256.74</td>\n",
       "      <td>46682.23</td>\n",
       "      <td>20273.24</td>\n",
       "      <td>-0.154269</td>\n",
       "      <td>11.307469</td>\n",
       "      <td>-0.237281</td>\n",
       "      <td>0.434282</td>\n",
       "      <td>20273.24</td>\n",
       "      <td>2806.16</td>\n",
       "      <td>...</td>\n",
       "      <td>229272.8400</td>\n",
       "      <td>31066.02</td>\n",
       "      <td>229272.8400</td>\n",
       "      <td>229272.8400</td>\n",
       "      <td>37520.25</td>\n",
       "      <td>229272.8400</td>\n",
       "      <td>48808.90</td>\n",
       "      <td>229272.8400</td>\n",
       "      <td>229272.8400</td>\n",
       "      <td>0.434282</td>\n",
       "    </tr>\n",
       "    <tr>\n",
       "      <th>26</th>\n",
       "      <td>20231203</td>\n",
       "      <td>18166.54</td>\n",
       "      <td>11883.85</td>\n",
       "      <td>7529.60</td>\n",
       "      <td>-0.119466</td>\n",
       "      <td>4.883094</td>\n",
       "      <td>-0.220378</td>\n",
       "      <td>0.633599</td>\n",
       "      <td>7529.60</td>\n",
       "      <td>1511.64</td>\n",
       "      <td>...</td>\n",
       "      <td>44163.0800</td>\n",
       "      <td>9109.51</td>\n",
       "      <td>44163.0800</td>\n",
       "      <td>44163.0800</td>\n",
       "      <td>9871.12</td>\n",
       "      <td>44163.0800</td>\n",
       "      <td>10934.77</td>\n",
       "      <td>44163.0800</td>\n",
       "      <td>44163.0800</td>\n",
       "      <td>0.633599</td>\n",
       "    </tr>\n",
       "    <tr>\n",
       "      <th>40</th>\n",
       "      <td>20231217</td>\n",
       "      <td>55968.07</td>\n",
       "      <td>42076.22</td>\n",
       "      <td>21138.65</td>\n",
       "      <td>-0.054785</td>\n",
       "      <td>8.436246</td>\n",
       "      <td>-0.192503</td>\n",
       "      <td>0.502389</td>\n",
       "      <td>21138.65</td>\n",
       "      <td>3158.92</td>\n",
       "      <td>...</td>\n",
       "      <td>84405.3800</td>\n",
       "      <td>29134.39</td>\n",
       "      <td>84405.3800</td>\n",
       "      <td>84405.3800</td>\n",
       "      <td>32514.53</td>\n",
       "      <td>84405.3800</td>\n",
       "      <td>34141.66</td>\n",
       "      <td>84405.3800</td>\n",
       "      <td>84405.3800</td>\n",
       "      <td>0.502389</td>\n",
       "    </tr>\n",
       "  </tbody>\n",
       "</table>\n",
       "<p>10 rows × 50 columns</p>\n",
       "</div>"
      ],
      "text/plain": [
       "        date      cost  revenue_d7  withdraw_d7  payment_increase  \\\n",
       "24  20231201  16334.34    20415.13      6499.97         -0.355665   \n",
       "33  20231210  41000.42    21567.61     10966.57         -0.017793   \n",
       "6   20231113   6546.11     3331.90       659.26         -0.782384   \n",
       "29  20231206  26021.99    14434.37      5826.37         -0.039916   \n",
       "1   20231108   5957.26     8082.24      5636.90         -0.416625   \n",
       "35  20231212  43707.59    25125.52     11637.15         -0.131335   \n",
       "3   20231110   6888.82     5565.94      2926.28         -0.697819   \n",
       "36  20231213  44256.74    46682.23     20273.24         -0.154269   \n",
       "26  20231203  18166.54    11883.85      7529.60         -0.119466   \n",
       "40  20231217  55968.07    42076.22     21138.65         -0.054785   \n",
       "\n",
       "    rpi_increase  installs_difference  withdrawn_ratio  withdraw_d7       w1  \\\n",
       "24     10.373331            -0.204696         0.318390      6499.97  1136.92   \n",
       "33      4.803985            -0.237431         0.508474     10966.57  3012.91   \n",
       "6       3.175313            -0.716115         0.197863       659.26  1213.24   \n",
       "29      4.766828            -0.225077         0.403646      5826.37  1191.56   \n",
       "1       8.714231            -0.655772         0.697443      5636.90  2077.39   \n",
       "35      5.138656            -0.218446         0.463161     11637.15  3798.52   \n",
       "3       5.310590            -0.672849         0.525748      2926.28  2404.71   \n",
       "36     11.307469            -0.237281         0.434282     20273.24  2806.16   \n",
       "26      4.883094            -0.220378         0.633599      7529.60  1511.64   \n",
       "40      8.436246            -0.192503         0.502389     21138.65  3158.92   \n",
       "\n",
       "    ...          w63        w7          w70          w77        w8  \\\n",
       "24  ...   50714.0399   7732.52   50714.0399   50714.0399   9003.52   \n",
       "33  ...   87475.9502  12452.24   87475.9502   87475.9502  13288.87   \n",
       "6   ...   31084.9400   9319.14   31084.9400   31084.9400   9496.05   \n",
       "29  ...   26508.1700   8123.39   26508.1700   26508.1700   8503.39   \n",
       "1   ...   23440.5300   9744.74   23440.5300   23440.5300   9972.50   \n",
       "35  ...   76901.9200  15625.88   76901.9200   76901.9200  16278.88   \n",
       "3   ...   39470.9100  11587.47   39470.9100   39470.9100  12749.83   \n",
       "36  ...  229272.8400  31066.02  229272.8400  229272.8400  37520.25   \n",
       "26  ...   44163.0800   9109.51   44163.0800   44163.0800   9871.12   \n",
       "40  ...   84405.3800  29134.39   84405.3800   84405.3800  32514.53   \n",
       "\n",
       "            w84        w9          w91          w98  withdrawn_ratio  \n",
       "24   50714.0399   9694.25   50714.0399   50714.0399         0.318390  \n",
       "33   87475.9502  14895.57   87475.9502   87475.9502         0.508474  \n",
       "6    31084.9400   9932.93   31084.9400   31084.9400         0.197863  \n",
       "29   26508.1700   9243.39   26508.1700   26508.1700         0.403646  \n",
       "1    23440.5300  10913.50   23440.5300   23440.5300         0.697443  \n",
       "35   76901.9200  19036.45   76901.9200   76901.9200         0.463161  \n",
       "3    39470.9100  13148.49   39470.9100   39470.9100         0.525748  \n",
       "36  229272.8400  48808.90  229272.8400  229272.8400         0.434282  \n",
       "26   44163.0800  10934.77   44163.0800   44163.0800         0.633599  \n",
       "40   84405.3800  34141.66   84405.3800   84405.3800         0.502389  \n",
       "\n",
       "[10 rows x 50 columns]"
      ]
     },
     "execution_count": 32,
     "metadata": {},
     "output_type": "execute_result"
    }
   ],
   "source": [
    "agg_df_train = agg_df[['date'] + ['cost'] + ['revenue_d7'] + ['withdraw_d7'] + ['payment_increase'] + ['rpi_increase'] + ['installs_difference'] + ['withdrawn_ratio'] \n",
    "                        + [col for col in agg_df.columns if col.startswith(\"pred_\")] + [col for col in agg_df.columns if col.startswith(\"w\")]]\n",
    "\n",
    "agg_df_train.sample(10)"
   ]
  },
  {
   "cell_type": "markdown",
   "metadata": {},
   "source": [
    "## Check numbers are pulled decently well\n"
   ]
  },
  {
   "cell_type": "code",
   "execution_count": 33,
   "metadata": {},
   "outputs": [
    {
     "data": {
      "image/png": "[encoded data removed]",
      "text/plain": [
       "<Figure size 2200x600 with 1 Axes>"
      ]
     },
     "metadata": {},
     "output_type": "display_data"
    }
   ],
   "source": [
    "\n",
    "# Set the seaborn style\n",
    "sns.set(style=\"whitegrid\")\n",
    "\n",
    "# Melt the DataFrame to long format for easier plotting\n",
    "df_long = pd.melt(agg_df, id_vars=['date'], value_vars=['api_installs', 'te_installs'])\n",
    "df_long['date'] = pd.to_datetime(df_long['date'], format='%Y%m%d')\n",
    "\n",
    "# Create the lineplot\n",
    "plt.figure(figsize=(22, 6))\n",
    "sns.lineplot(x='date', y='value', hue='variable', markers=True, data=df_long)\n",
    "\n",
    "# Set labels and title\n",
    "plt.xlabel('Date')\n",
    "plt.ylabel('Count')\n",
    "plt.title('Series Over Time All')\n",
    "\n",
    "# Display the legend\n",
    "# plt.legend(title='Media Source')\n",
    "\n",
    "# Set x-axis ticks at specific intervals\n",
    "plt.xticks(rotation=45, ha='right')  # Adjust rotation and alignment as needed\n",
    "\n",
    "# Show the plot\n",
    "plt.tight_layout()  # Optional for better layout\n",
    "plt.show()"
   ]
  },
  {
   "cell_type": "code",
   "execution_count": 34,
   "metadata": {},
   "outputs": [
    {
     "data": {
      "image/png": "[encoded data removed]",
      "text/plain": [
       "<Figure size 2200x600 with 1 Axes>"
      ]
     },
     "metadata": {},
     "output_type": "display_data"
    }
   ],
   "source": [
    "# Melt the DataFrame to long format for easier plotting\n",
    "df_long = pd.melt(agg_df, id_vars=['date'], value_vars=['revenue_d7', 'p7'])\n",
    "df_long['date'] = pd.to_datetime(df_long['date'], format='%Y%m%d')\n",
    "\n",
    "# Create the lineplot\n",
    "plt.figure(figsize=(22, 6))\n",
    "sns.lineplot(x='date', y='value', hue='variable', markers=True, data=df_long)\n",
    "\n",
    "# Set labels and title\n",
    "plt.xlabel('Date')\n",
    "plt.ylabel('Count')\n",
    "plt.title('Series Over Time by Media Source')\n",
    "\n",
    "# Display the legend\n",
    "# plt.legend(title='Media Source')\n",
    "\n",
    "# Set x-axis ticks at specific intervals\n",
    "plt.xticks(rotation=45, ha='right')  # Adjust rotation and alignment as needed\n",
    "\n",
    "# Show the plot\n",
    "plt.tight_layout()  # Optional for better layout\n",
    "plt.show()"
   ]
  },
  {
   "cell_type": "code",
   "execution_count": 35,
   "metadata": {},
   "outputs": [
    {
     "data": {
      "image/png": "[encoded data removed]",
      "text/plain": [
       "<Figure size 2200x600 with 1 Axes>"
      ]
     },
     "metadata": {},
     "output_type": "display_data"
    }
   ],
   "source": [
    "sns.set(style=\"whitegrid\")\n",
    "\n",
    "# Melt the DataFrame to long format for easier plotting\n",
    "df_long = pd.melt(agg_df, id_vars=['date'], value_vars=['withdraw_d7', 'w7'])\n",
    "df_long['date'] = pd.to_datetime(df_long['date'], format='%Y%m%d')\n",
    "\n",
    "# Create the lineplot\n",
    "plt.figure(figsize=(22, 6))\n",
    "sns.lineplot(x='date', y='value', hue='variable', markers=True, data=df_long)\n",
    "\n",
    "# Set labels and title\n",
    "plt.xlabel('Date')\n",
    "plt.ylabel('Count')\n",
    "plt.title('Series Over Time by Media Source')\n",
    "\n",
    "# Display the legend\n",
    "# plt.legend(title='Media Source')\n",
    "\n",
    "# Set x-axis ticks at specific intervals\n",
    "plt.xticks(rotation=45, ha='right')  # Adjust rotation and alignment as needed\n",
    "\n",
    "# Show the plot\n",
    "plt.tight_layout()  # Optional for better layout\n",
    "plt.show()"
   ]
  },
  {
   "cell_type": "markdown",
   "metadata": {},
   "source": [
    "## 3. Incorporate the responses from the BI tool "
   ]
  },
  {
   "cell_type": "code",
   "execution_count": 40,
   "metadata": {},
   "outputs": [],
   "source": [
    "file_path = (os.getcwd()).replace('\\\\', '/') + r'/roi_all_by_user_20240126114811.xlsx'.replace('\\\\', '/')\n",
    "bi_tool_actuals = pd.read_excel(file_path)\n",
    "\n",
    "bi_tool_actuals = bi_tool_actuals[bi_tool_actuals['date'] != '--']"
   ]
  },
  {
   "cell_type": "code",
   "execution_count": 41,
   "metadata": {},
   "outputs": [
    {
     "data": {
      "text/html": [
       "<div>\n",
       "<style scoped>\n",
       "    .dataframe tbody tr th:only-of-type {\n",
       "        vertical-align: middle;\n",
       "    }\n",
       "\n",
       "    .dataframe tbody tr th {\n",
       "        vertical-align: top;\n",
       "    }\n",
       "\n",
       "    .dataframe thead th {\n",
       "        text-align: right;\n",
       "    }\n",
       "</style>\n",
       "<table border=\"1\" class=\"dataframe\">\n",
       "  <thead>\n",
       "    <tr style=\"text-align: right;\">\n",
       "      <th></th>\n",
       "      <th>date</th>\n",
       "      <th>7-day recovery (rate)</th>\n",
       "      <th>14-day recycling (rate)</th>\n",
       "      <th>Recovery on the 28th (rate)</th>\n",
       "    </tr>\n",
       "  </thead>\n",
       "  <tbody>\n",
       "    <tr>\n",
       "      <th>71</th>\n",
       "      <td>20231108</td>\n",
       "      <td>4,975.01 (36.28%)</td>\n",
       "      <td>7,668.44 (55.92%)</td>\n",
       "      <td>16,387.03 (119.5%)</td>\n",
       "    </tr>\n",
       "    <tr>\n",
       "      <th>70</th>\n",
       "      <td>20231109</td>\n",
       "      <td>2,298.62 (15.38%)</td>\n",
       "      <td>3,588.79 (24.01%)</td>\n",
       "      <td>4,962.28 (33.2%)</td>\n",
       "    </tr>\n",
       "    <tr>\n",
       "      <th>69</th>\n",
       "      <td>20231110</td>\n",
       "      <td>11,288.82 (69.2%)</td>\n",
       "      <td>25,256.77 (154.81%)</td>\n",
       "      <td>37,694.67 (231.05%)</td>\n",
       "    </tr>\n",
       "    <tr>\n",
       "      <th>68</th>\n",
       "      <td>20231111</td>\n",
       "      <td>2,622.44 (16.48%)</td>\n",
       "      <td>3,771.83 (23.71%)</td>\n",
       "      <td>9,822.25 (61.74%)</td>\n",
       "    </tr>\n",
       "    <tr>\n",
       "      <th>67</th>\n",
       "      <td>20231112</td>\n",
       "      <td>7,123.44 (42.87%)</td>\n",
       "      <td>10,995.05 (66.17%)</td>\n",
       "      <td>14,381.77 (86.56%)</td>\n",
       "    </tr>\n",
       "    <tr>\n",
       "      <th>66</th>\n",
       "      <td>20231113</td>\n",
       "      <td>2,641.14（15.98%）</td>\n",
       "      <td>4,017.01（24.31%）</td>\n",
       "      <td>5,039.40（30.5%）</td>\n",
       "    </tr>\n",
       "    <tr>\n",
       "      <th>65</th>\n",
       "      <td>20231114</td>\n",
       "      <td>2,633.08（15.81%）</td>\n",
       "      <td>3,847.72（23.11%）</td>\n",
       "      <td>4,954.05（29.75%）</td>\n",
       "    </tr>\n",
       "    <tr>\n",
       "      <th>64</th>\n",
       "      <td>20231115</td>\n",
       "      <td>1,956.68（11.26%）</td>\n",
       "      <td>2,283.08（13.14%）</td>\n",
       "      <td>3,897.57（22.44%）</td>\n",
       "    </tr>\n",
       "    <tr>\n",
       "      <th>63</th>\n",
       "      <td>20231116</td>\n",
       "      <td>2,587.26（16.46%）</td>\n",
       "      <td>4,044.17（25.72%）</td>\n",
       "      <td>5,351.50（34.04%）</td>\n",
       "    </tr>\n",
       "    <tr>\n",
       "      <th>62</th>\n",
       "      <td>20231117</td>\n",
       "      <td>3,549.81（19.97%）</td>\n",
       "      <td>4,594.79（25.85%）</td>\n",
       "      <td>6,578.70（37.01%）</td>\n",
       "    </tr>\n",
       "  </tbody>\n",
       "</table>\n",
       "</div>"
      ],
      "text/plain": [
       "        date 7-day recovery (rate) 14-day recycling (rate)  \\\n",
       "71  20231108     4,975.01 (36.28%)       7,668.44 (55.92%)   \n",
       "70  20231109     2,298.62 (15.38%)       3,588.79 (24.01%)   \n",
       "69  20231110     11,288.82 (69.2%)     25,256.77 (154.81%)   \n",
       "68  20231111     2,622.44 (16.48%)       3,771.83 (23.71%)   \n",
       "67  20231112     7,123.44 (42.87%)      10,995.05 (66.17%)   \n",
       "66  20231113      2,641.14（15.98%）        4,017.01（24.31%）   \n",
       "65  20231114      2,633.08（15.81%）        3,847.72（23.11%）   \n",
       "64  20231115      1,956.68（11.26%）        2,283.08（13.14%）   \n",
       "63  20231116      2,587.26（16.46%）        4,044.17（25.72%）   \n",
       "62  20231117      3,549.81（19.97%）        4,594.79（25.85%）   \n",
       "\n",
       "   Recovery on the 28th (rate)  \n",
       "71          16,387.03 (119.5%)  \n",
       "70            4,962.28 (33.2%)  \n",
       "69         37,694.67 (231.05%)  \n",
       "68           9,822.25 (61.74%)  \n",
       "67          14,381.77 (86.56%)  \n",
       "66             5,039.40（30.5%）  \n",
       "65            4,954.05（29.75%）  \n",
       "64            3,897.57（22.44%）  \n",
       "63            5,351.50（34.04%）  \n",
       "62            6,578.70（37.01%）  "
      ]
     },
     "execution_count": 41,
     "metadata": {},
     "output_type": "execute_result"
    }
   ],
   "source": [
    "bi_tool_actuals[['date', '7-day recovery (rate)', '14-day recycling (rate)', 'Recovery on the 28th (rate)']].sort_values(by = 'date').head(10)"
   ]
  },
  {
   "cell_type": "code",
   "execution_count": 42,
   "metadata": {},
   "outputs": [
    {
     "data": {
      "text/html": [
       "<div>\n",
       "<style scoped>\n",
       "    .dataframe tbody tr th:only-of-type {\n",
       "        vertical-align: middle;\n",
       "    }\n",
       "\n",
       "    .dataframe tbody tr th {\n",
       "        vertical-align: top;\n",
       "    }\n",
       "\n",
       "    .dataframe thead th {\n",
       "        text-align: right;\n",
       "    }\n",
       "</style>\n",
       "<table border=\"1\" class=\"dataframe\">\n",
       "  <thead>\n",
       "    <tr style=\"text-align: right;\">\n",
       "      <th></th>\n",
       "      <th>date</th>\n",
       "      <th>7-day recovery (rate)</th>\n",
       "      <th>14-day recycling (rate)</th>\n",
       "      <th>Recovery on the 28th (rate)</th>\n",
       "    </tr>\n",
       "  </thead>\n",
       "  <tbody>\n",
       "    <tr>\n",
       "      <th>71</th>\n",
       "      <td>20231108</td>\n",
       "      <td>0.3628</td>\n",
       "      <td>0.5592</td>\n",
       "      <td>1.1950</td>\n",
       "    </tr>\n",
       "    <tr>\n",
       "      <th>70</th>\n",
       "      <td>20231109</td>\n",
       "      <td>0.1538</td>\n",
       "      <td>0.2401</td>\n",
       "      <td>0.3320</td>\n",
       "    </tr>\n",
       "    <tr>\n",
       "      <th>69</th>\n",
       "      <td>20231110</td>\n",
       "      <td>0.6920</td>\n",
       "      <td>1.5481</td>\n",
       "      <td>2.3105</td>\n",
       "    </tr>\n",
       "    <tr>\n",
       "      <th>68</th>\n",
       "      <td>20231111</td>\n",
       "      <td>0.1648</td>\n",
       "      <td>0.2371</td>\n",
       "      <td>0.6174</td>\n",
       "    </tr>\n",
       "    <tr>\n",
       "      <th>67</th>\n",
       "      <td>20231112</td>\n",
       "      <td>0.4287</td>\n",
       "      <td>0.6617</td>\n",
       "      <td>0.8656</td>\n",
       "    </tr>\n",
       "    <tr>\n",
       "      <th>66</th>\n",
       "      <td>20231113</td>\n",
       "      <td>0.1598</td>\n",
       "      <td>0.2431</td>\n",
       "      <td>0.3050</td>\n",
       "    </tr>\n",
       "    <tr>\n",
       "      <th>65</th>\n",
       "      <td>20231114</td>\n",
       "      <td>0.1581</td>\n",
       "      <td>0.2311</td>\n",
       "      <td>0.2975</td>\n",
       "    </tr>\n",
       "    <tr>\n",
       "      <th>64</th>\n",
       "      <td>20231115</td>\n",
       "      <td>0.1126</td>\n",
       "      <td>0.1314</td>\n",
       "      <td>0.2244</td>\n",
       "    </tr>\n",
       "    <tr>\n",
       "      <th>63</th>\n",
       "      <td>20231116</td>\n",
       "      <td>0.1646</td>\n",
       "      <td>0.2572</td>\n",
       "      <td>0.3404</td>\n",
       "    </tr>\n",
       "    <tr>\n",
       "      <th>62</th>\n",
       "      <td>20231117</td>\n",
       "      <td>0.1997</td>\n",
       "      <td>0.2585</td>\n",
       "      <td>0.3701</td>\n",
       "    </tr>\n",
       "  </tbody>\n",
       "</table>\n",
       "</div>"
      ],
      "text/plain": [
       "        date  7-day recovery (rate)  14-day recycling (rate)  \\\n",
       "71  20231108                 0.3628                   0.5592   \n",
       "70  20231109                 0.1538                   0.2401   \n",
       "69  20231110                 0.6920                   1.5481   \n",
       "68  20231111                 0.1648                   0.2371   \n",
       "67  20231112                 0.4287                   0.6617   \n",
       "66  20231113                 0.1598                   0.2431   \n",
       "65  20231114                 0.1581                   0.2311   \n",
       "64  20231115                 0.1126                   0.1314   \n",
       "63  20231116                 0.1646                   0.2572   \n",
       "62  20231117                 0.1997                   0.2585   \n",
       "\n",
       "    Recovery on the 28th (rate)  \n",
       "71                       1.1950  \n",
       "70                       0.3320  \n",
       "69                       2.3105  \n",
       "68                       0.6174  \n",
       "67                       0.8656  \n",
       "66                       0.3050  \n",
       "65                       0.2975  \n",
       "64                       0.2244  \n",
       "63                       0.3404  \n",
       "62                       0.3701  "
      ]
     },
     "execution_count": 42,
     "metadata": {},
     "output_type": "execute_result"
    }
   ],
   "source": [
    "# Convert percentage strings to floats\n",
    "def convert_percentage_string_to_float(percentage_string):\n",
    "    try:\n",
    "        return float(percentage_string.split(' ')[1][1:-2]) / 100\n",
    "    except (ValueError, IndexError):\n",
    "        return float(percentage_string.split('（')[1][0:-2]) / 100\n",
    "\n",
    "for col in ['7-day recovery (rate)', '14-day recycling (rate)', 'Recovery on the 28th (rate)']:\n",
    "    bi_tool_actuals[col] = bi_tool_actuals[col].apply(convert_percentage_string_to_float)\n",
    "\n",
    "bi_tool_actuals[['date', '7-day recovery (rate)', '14-day recycling (rate)', 'Recovery on the 28th (rate)']].sort_values(by = 'date').head(10)"
   ]
  },
  {
   "cell_type": "code",
   "execution_count": 43,
   "metadata": {},
   "outputs": [
    {
     "data": {
      "text/plain": [
       "20240118"
      ]
     },
     "execution_count": 43,
     "metadata": {},
     "output_type": "execute_result"
    }
   ],
   "source": [
    "bi_tool_actuals['date'].max()\n",
    "# bi_tool_actuals['date'].dtype"
   ]
  },
  {
   "cell_type": "code",
   "execution_count": 24,
   "metadata": {},
   "outputs": [
    {
     "data": {
      "text/html": [
       "<div>\n",
       "<style scoped>\n",
       "    .dataframe tbody tr th:only-of-type {\n",
       "        vertical-align: middle;\n",
       "    }\n",
       "\n",
       "    .dataframe tbody tr th {\n",
       "        vertical-align: top;\n",
       "    }\n",
       "\n",
       "    .dataframe thead th {\n",
       "        text-align: right;\n",
       "    }\n",
       "</style>\n",
       "<table border=\"1\" class=\"dataframe\">\n",
       "  <thead>\n",
       "    <tr style=\"text-align: right;\">\n",
       "      <th></th>\n",
       "      <th>date</th>\n",
       "      <th>api_installs</th>\n",
       "      <th>cost</th>\n",
       "      <th>revenue_d7</th>\n",
       "      <th>withdraw_d7</th>\n",
       "      <th>p1</th>\n",
       "      <th>p10</th>\n",
       "      <th>p100</th>\n",
       "      <th>p105</th>\n",
       "      <th>p11</th>\n",
       "      <th>...</th>\n",
       "      <th>pred_26_133</th>\n",
       "      <th>pred_27_133</th>\n",
       "      <th>pred_28_133</th>\n",
       "      <th>pred_35_133</th>\n",
       "      <th>te_installs</th>\n",
       "      <th>payment_increase</th>\n",
       "      <th>rpi_increase</th>\n",
       "      <th>installs_difference</th>\n",
       "      <th>withdrawn_ratio</th>\n",
       "      <th>Recovery on the 28th (rate)</th>\n",
       "    </tr>\n",
       "  </thead>\n",
       "  <tbody>\n",
       "    <tr>\n",
       "      <th>45</th>\n",
       "      <td>20231213</td>\n",
       "      <td>1371</td>\n",
       "      <td>33124.70</td>\n",
       "      <td>7118.55</td>\n",
       "      <td>2543.25</td>\n",
       "      <td>2662.15431</td>\n",
       "      <td>12860.33303</td>\n",
       "      <td>41283.69232</td>\n",
       "      <td>41283.69232</td>\n",
       "      <td>13535.09224</td>\n",
       "      <td>...</td>\n",
       "      <td>2.828831</td>\n",
       "      <td>2.897791</td>\n",
       "      <td>2.805545</td>\n",
       "      <td>3.141404</td>\n",
       "      <td>1656</td>\n",
       "      <td>-0.163845</td>\n",
       "      <td>4.192232</td>\n",
       "      <td>-0.172101</td>\n",
       "      <td>0.357271</td>\n",
       "      <td>0.5575</td>\n",
       "    </tr>\n",
       "    <tr>\n",
       "      <th>26</th>\n",
       "      <td>20231124</td>\n",
       "      <td>1085</td>\n",
       "      <td>23417.13</td>\n",
       "      <td>2869.86</td>\n",
       "      <td>864.68</td>\n",
       "      <td>975.17478</td>\n",
       "      <td>3550.02703</td>\n",
       "      <td>29836.43448</td>\n",
       "      <td>29836.43448</td>\n",
       "      <td>3771.90966</td>\n",
       "      <td>...</td>\n",
       "      <td>1.816122</td>\n",
       "      <td>1.837705</td>\n",
       "      <td>1.885557</td>\n",
       "      <td>2.293819</td>\n",
       "      <td>1282</td>\n",
       "      <td>-0.032415</td>\n",
       "      <td>1.645032</td>\n",
       "      <td>-0.153666</td>\n",
       "      <td>0.301297</td>\n",
       "      <td>0.1908</td>\n",
       "    </tr>\n",
       "    <tr>\n",
       "      <th>29</th>\n",
       "      <td>20231127</td>\n",
       "      <td>1299</td>\n",
       "      <td>25645.28</td>\n",
       "      <td>4561.63</td>\n",
       "      <td>1143.42</td>\n",
       "      <td>1950.98998</td>\n",
       "      <td>5695.36793</td>\n",
       "      <td>20820.80594</td>\n",
       "      <td>20820.80594</td>\n",
       "      <td>6062.80356</td>\n",
       "      <td>...</td>\n",
       "      <td>1.313106</td>\n",
       "      <td>1.295382</td>\n",
       "      <td>1.220269</td>\n",
       "      <td>1.381953</td>\n",
       "      <td>1518</td>\n",
       "      <td>0.055693</td>\n",
       "      <td>2.511647</td>\n",
       "      <td>-0.144269</td>\n",
       "      <td>0.250660</td>\n",
       "      <td>0.3492</td>\n",
       "    </tr>\n",
       "    <tr>\n",
       "      <th>49</th>\n",
       "      <td>20231217</td>\n",
       "      <td>1137</td>\n",
       "      <td>31540.05</td>\n",
       "      <td>3281.35</td>\n",
       "      <td>736.79</td>\n",
       "      <td>1716.16373</td>\n",
       "      <td>4638.64708</td>\n",
       "      <td>15918.30281</td>\n",
       "      <td>15918.30281</td>\n",
       "      <td>5003.79471</td>\n",
       "      <td>...</td>\n",
       "      <td>1.600666</td>\n",
       "      <td>1.614135</td>\n",
       "      <td>1.532664</td>\n",
       "      <td>1.551533</td>\n",
       "      <td>1390</td>\n",
       "      <td>-0.059755</td>\n",
       "      <td>1.885972</td>\n",
       "      <td>-0.182014</td>\n",
       "      <td>0.224539</td>\n",
       "      <td>0.1836</td>\n",
       "    </tr>\n",
       "    <tr>\n",
       "      <th>1</th>\n",
       "      <td>20231030</td>\n",
       "      <td>605</td>\n",
       "      <td>10158.87</td>\n",
       "      <td>1674.85</td>\n",
       "      <td>485.41</td>\n",
       "      <td>628.87015</td>\n",
       "      <td>1776.24825</td>\n",
       "      <td>11519.05851</td>\n",
       "      <td>11519.05851</td>\n",
       "      <td>1876.38883</td>\n",
       "      <td>...</td>\n",
       "      <td>0.952914</td>\n",
       "      <td>1.026912</td>\n",
       "      <td>0.975149</td>\n",
       "      <td>1.079020</td>\n",
       "      <td>738</td>\n",
       "      <td>0.291874</td>\n",
       "      <td>1.768347</td>\n",
       "      <td>-0.180217</td>\n",
       "      <td>0.289823</td>\n",
       "      <td>0.2781</td>\n",
       "    </tr>\n",
       "    <tr>\n",
       "      <th>37</th>\n",
       "      <td>20231205</td>\n",
       "      <td>1469</td>\n",
       "      <td>31137.36</td>\n",
       "      <td>5105.22</td>\n",
       "      <td>1748.62</td>\n",
       "      <td>2494.92593</td>\n",
       "      <td>6815.33787</td>\n",
       "      <td>31116.42411</td>\n",
       "      <td>31116.42411</td>\n",
       "      <td>7298.02397</td>\n",
       "      <td>...</td>\n",
       "      <td>1.193017</td>\n",
       "      <td>1.204039</td>\n",
       "      <td>1.234281</td>\n",
       "      <td>1.513614</td>\n",
       "      <td>1779</td>\n",
       "      <td>-0.041953</td>\n",
       "      <td>2.475303</td>\n",
       "      <td>-0.174255</td>\n",
       "      <td>0.342516</td>\n",
       "      <td>0.3338</td>\n",
       "    </tr>\n",
       "    <tr>\n",
       "      <th>21</th>\n",
       "      <td>20231119</td>\n",
       "      <td>1348</td>\n",
       "      <td>22010.59</td>\n",
       "      <td>8517.65</td>\n",
       "      <td>1270.36</td>\n",
       "      <td>2071.69152</td>\n",
       "      <td>11796.17856</td>\n",
       "      <td>70219.27796</td>\n",
       "      <td>70219.27796</td>\n",
       "      <td>12953.91919</td>\n",
       "      <td>...</td>\n",
       "      <td>2.699826</td>\n",
       "      <td>2.872190</td>\n",
       "      <td>2.923490</td>\n",
       "      <td>3.833478</td>\n",
       "      <td>1570</td>\n",
       "      <td>-0.131660</td>\n",
       "      <td>5.318731</td>\n",
       "      <td>-0.141401</td>\n",
       "      <td>0.149144</td>\n",
       "      <td>0.9932</td>\n",
       "    </tr>\n",
       "    <tr>\n",
       "      <th>13</th>\n",
       "      <td>20231111</td>\n",
       "      <td>925</td>\n",
       "      <td>16688.19</td>\n",
       "      <td>3464.21</td>\n",
       "      <td>1204.15</td>\n",
       "      <td>1031.85026</td>\n",
       "      <td>5482.84888</td>\n",
       "      <td>41800.33429</td>\n",
       "      <td>41800.33429</td>\n",
       "      <td>5606.55404</td>\n",
       "      <td>...</td>\n",
       "      <td>2.404345</td>\n",
       "      <td>2.656606</td>\n",
       "      <td>2.602957</td>\n",
       "      <td>3.109607</td>\n",
       "      <td>1093</td>\n",
       "      <td>-0.157713</td>\n",
       "      <td>2.745092</td>\n",
       "      <td>-0.153705</td>\n",
       "      <td>0.347597</td>\n",
       "      <td>0.6174</td>\n",
       "    </tr>\n",
       "    <tr>\n",
       "      <th>6</th>\n",
       "      <td>20231104</td>\n",
       "      <td>810</td>\n",
       "      <td>14921.47</td>\n",
       "      <td>3523.87</td>\n",
       "      <td>318.95</td>\n",
       "      <td>1357.39378</td>\n",
       "      <td>3621.93441</td>\n",
       "      <td>16040.77450</td>\n",
       "      <td>16040.77450</td>\n",
       "      <td>3744.55841</td>\n",
       "      <td>...</td>\n",
       "      <td>1.036229</td>\n",
       "      <td>1.133306</td>\n",
       "      <td>1.131727</td>\n",
       "      <td>1.311372</td>\n",
       "      <td>976</td>\n",
       "      <td>0.013839</td>\n",
       "      <td>3.350457</td>\n",
       "      <td>-0.170082</td>\n",
       "      <td>0.090511</td>\n",
       "      <td>0.4928</td>\n",
       "    </tr>\n",
       "    <tr>\n",
       "      <th>4</th>\n",
       "      <td>20231102</td>\n",
       "      <td>829</td>\n",
       "      <td>15394.49</td>\n",
       "      <td>2742.50</td>\n",
       "      <td>369.41</td>\n",
       "      <td>839.56078</td>\n",
       "      <td>5543.36962</td>\n",
       "      <td>18267.27786</td>\n",
       "      <td>18267.27786</td>\n",
       "      <td>6031.43662</td>\n",
       "      <td>...</td>\n",
       "      <td>1.647325</td>\n",
       "      <td>1.648552</td>\n",
       "      <td>1.667445</td>\n",
       "      <td>1.837944</td>\n",
       "      <td>978</td>\n",
       "      <td>-0.363490</td>\n",
       "      <td>2.308203</td>\n",
       "      <td>-0.152352</td>\n",
       "      <td>0.134698</td>\n",
       "      <td>0.5009</td>\n",
       "    </tr>\n",
       "  </tbody>\n",
       "</table>\n",
       "<p>10 rows × 444 columns</p>\n",
       "</div>"
      ],
      "text/plain": [
       "        date  api_installs      cost  revenue_d7  withdraw_d7          p1  \\\n",
       "45  20231213          1371  33124.70     7118.55      2543.25  2662.15431   \n",
       "26  20231124          1085  23417.13     2869.86       864.68   975.17478   \n",
       "29  20231127          1299  25645.28     4561.63      1143.42  1950.98998   \n",
       "49  20231217          1137  31540.05     3281.35       736.79  1716.16373   \n",
       "1   20231030           605  10158.87     1674.85       485.41   628.87015   \n",
       "37  20231205          1469  31137.36     5105.22      1748.62  2494.92593   \n",
       "21  20231119          1348  22010.59     8517.65      1270.36  2071.69152   \n",
       "13  20231111           925  16688.19     3464.21      1204.15  1031.85026   \n",
       "6   20231104           810  14921.47     3523.87       318.95  1357.39378   \n",
       "4   20231102           829  15394.49     2742.50       369.41   839.56078   \n",
       "\n",
       "            p10         p100         p105          p11  ...  pred_26_133  \\\n",
       "45  12860.33303  41283.69232  41283.69232  13535.09224  ...     2.828831   \n",
       "26   3550.02703  29836.43448  29836.43448   3771.90966  ...     1.816122   \n",
       "29   5695.36793  20820.80594  20820.80594   6062.80356  ...     1.313106   \n",
       "49   4638.64708  15918.30281  15918.30281   5003.79471  ...     1.600666   \n",
       "1    1776.24825  11519.05851  11519.05851   1876.38883  ...     0.952914   \n",
       "37   6815.33787  31116.42411  31116.42411   7298.02397  ...     1.193017   \n",
       "21  11796.17856  70219.27796  70219.27796  12953.91919  ...     2.699826   \n",
       "13   5482.84888  41800.33429  41800.33429   5606.55404  ...     2.404345   \n",
       "6    3621.93441  16040.77450  16040.77450   3744.55841  ...     1.036229   \n",
       "4    5543.36962  18267.27786  18267.27786   6031.43662  ...     1.647325   \n",
       "\n",
       "    pred_27_133  pred_28_133  pred_35_133  te_installs  payment_increase  \\\n",
       "45     2.897791     2.805545     3.141404         1656         -0.163845   \n",
       "26     1.837705     1.885557     2.293819         1282         -0.032415   \n",
       "29     1.295382     1.220269     1.381953         1518          0.055693   \n",
       "49     1.614135     1.532664     1.551533         1390         -0.059755   \n",
       "1      1.026912     0.975149     1.079020          738          0.291874   \n",
       "37     1.204039     1.234281     1.513614         1779         -0.041953   \n",
       "21     2.872190     2.923490     3.833478         1570         -0.131660   \n",
       "13     2.656606     2.602957     3.109607         1093         -0.157713   \n",
       "6      1.133306     1.131727     1.311372          976          0.013839   \n",
       "4      1.648552     1.667445     1.837944          978         -0.363490   \n",
       "\n",
       "    rpi_increase  installs_difference  withdrawn_ratio  \\\n",
       "45      4.192232            -0.172101         0.357271   \n",
       "26      1.645032            -0.153666         0.301297   \n",
       "29      2.511647            -0.144269         0.250660   \n",
       "49      1.885972            -0.182014         0.224539   \n",
       "1       1.768347            -0.180217         0.289823   \n",
       "37      2.475303            -0.174255         0.342516   \n",
       "21      5.318731            -0.141401         0.149144   \n",
       "13      2.745092            -0.153705         0.347597   \n",
       "6       3.350457            -0.170082         0.090511   \n",
       "4       2.308203            -0.152352         0.134698   \n",
       "\n",
       "    Recovery on the 28th (rate)  \n",
       "45                       0.5575  \n",
       "26                       0.1908  \n",
       "29                       0.3492  \n",
       "49                       0.1836  \n",
       "1                        0.2781  \n",
       "37                       0.3338  \n",
       "21                       0.9932  \n",
       "13                       0.6174  \n",
       "6                        0.4928  \n",
       "4                        0.5009  \n",
       "\n",
       "[10 rows x 444 columns]"
      ]
     },
     "execution_count": 24,
     "metadata": {},
     "output_type": "execute_result"
    }
   ],
   "source": [
    "# MERGE BI TOOL TO MY DATA (AGG DF INCLUDES BI DATA)\n",
    "\n",
    "bi_tool_wanted_cols = ['date', 'Recovery on the 28th (rate)']\n",
    "\n",
    "# agg_df['channel'] = agg_df['media_source']\n",
    "# bi_tool_actuals['date'] = pd.to_datetime(bi_tool_actuals['date']).dt.date.apply(lambda x: int(x.strftime('%Y%m%d')))\n",
    "agg_df = pd.merge(agg_df, bi_tool_actuals[bi_tool_wanted_cols], on = 'date')\n",
    "agg_df.sample(10)\n"
   ]
  },
  {
   "cell_type": "markdown",
   "metadata": {},
   "source": [
    "### Check the Joint results"
   ]
  },
  {
   "cell_type": "code",
   "execution_count": 25,
   "metadata": {},
   "outputs": [
    {
     "data": {
      "image/png": "[encoded data removed]",
      "text/plain": [
       "<Figure size 2200x600 with 1 Axes>"
      ]
     },
     "metadata": {},
     "output_type": "display_data"
    }
   ],
   "source": [
    "\n",
    "# sourcesito = 'unityads_int'\n",
    "\n",
    "filtered_df = agg_df.copy()#[agg_df['channel'] == sourcesito]\n",
    "# filtered_df['date'] = pd.to_datetime(filtered_df['date'], format='%Y-%m-%d')\n",
    "filtered_df = filtered_df.sort_values(by='date')\n",
    "filtered_df['actual_28'] = filtered_df['actual_28']/filtered_df['cost']\n",
    "\n",
    "# Melt the DataFrame to long format for easier plotting\n",
    "df_long = pd.melt(filtered_df, id_vars=['date'], value_vars=['Recovery on the 28th (rate)', 'pred_7_28', 'actual_28'])\n",
    "# df_long['date'] = pd.to_datetime(df_long['date']).dt.date.apply(lambda x: int(x.strftime('%Y%m%d')))\n",
    "df_long['date'] = pd.to_datetime(df_long['date'], format='%Y%m%d')\n",
    "\n",
    "# Create the lineplot\n",
    "plt.figure(figsize=(22, 6))\n",
    "sns.lineplot(x='date', y='value', hue='variable', markers=True, data=df_long)\n",
    "\n",
    "# Set labels and title\n",
    "plt.xlabel('Date')\n",
    "plt.ylabel('ROAS day 28')\n",
    "plt.title(f'ROAS Over Time Unity: ')\n",
    "\n",
    "# Display the legend\n",
    "plt.legend(title='Media Source')\n",
    "\n",
    "# Rotate X-axis labels\n",
    "plt.xticks(rotation=45, ha='right')\n",
    "\n",
    "# Show the plot\n",
    "plt.show()"
   ]
  },
  {
   "cell_type": "code",
   "execution_count": null,
   "metadata": {},
   "outputs": [],
   "source": []
  },
  {
   "cell_type": "markdown",
   "metadata": {},
   "source": [
    "## Find the best configuration to train correction rule"
   ]
  },
  {
   "cell_type": "code",
   "execution_count": 26,
   "metadata": {},
   "outputs": [],
   "source": [
    "w_col_names = [col for col in agg_df.columns if re.match(r'^w\\d*$', col) is not None]\n",
    "p_col_names = [col for col in agg_df.columns if re.match(r'^p\\d*$', col) is not None]\n",
    "agg_df_train = agg_df[agg_df['api_installs'] > 50][['date'] + ['te_installs'] + ['cost'] + ['revenue_d7'] + ['withdraw_d7'] + ['payment_increase'] \n",
    "                        + ['rpi_increase'] + ['installs_difference'] + ['withdrawn_ratio'] + ['Recovery on the 28th (rate)']\n",
    "                        + [col for col in agg_df.columns if col.startswith(\"pred_\") ] + w_col_names + p_col_names]\n",
    "\n",
    "agg_df_train['d7_28_increase_api'] = agg_df_train['Recovery on the 28th (rate)'] - agg_df_train['revenue_d7']/agg_df_train['cost']\n",
    "agg_df_train['d7_28_increase_pred'] = agg_df_train['pred_7_28'] - (agg_df_train['p7']/agg_df_train['cost'] - agg_df_train['withdraw_d7']/agg_df_train['cost'])\n",
    "agg_df_train['d7_28_increase_pred'] = agg_df_train['pred_7_28'] - (agg_df_train['p7']/agg_df_train['cost'] - agg_df_train['withdraw_d7']/agg_df_train['cost'])\n"
   ]
  },
  {
   "cell_type": "code",
   "execution_count": 27,
   "metadata": {},
   "outputs": [],
   "source": [
    "# GET THE COLUMN GROUPS\n",
    "validation_sets = 3\n",
    "agg_df_train['validation_set_id'] = pd.qcut(agg_df_train['date'].astype(float).values, validation_sets)"
   ]
  },
  {
   "cell_type": "code",
   "execution_count": 28,
   "metadata": {},
   "outputs": [
    {
     "data": {
      "text/plain": [
       "validation_set_id\n",
       "(20231028.999, 20231114.667]    17\n",
       "(20231114.667, 20231201.333]    17\n",
       "(20231201.333, 20231218.0]      17\n",
       "dtype: int64"
      ]
     },
     "execution_count": 28,
     "metadata": {},
     "output_type": "execute_result"
    }
   ],
   "source": [
    "agg_df_train.groupby('validation_set_id').size()"
   ]
  },
  {
   "cell_type": "code",
   "execution_count": 29,
   "metadata": {},
   "outputs": [
    {
     "name": "stdout",
     "output_type": "stream",
     "text": [
      "Empty DataFrame\n",
      "Columns: [date, te_installs, cost, revenue_d7, withdraw_d7, payment_increase, rpi_increase, installs_difference, withdrawn_ratio, Recovery on the 28th (rate), pred_7_14, pred_8_14, pred_9_14, pred_10_14, pred_11_14, pred_12_14, pred_13_14, pred_7_28, pred_8_28, pred_9_28, pred_10_28, pred_11_28, pred_12_28, pred_13_28, pred_14_28, pred_15_28, pred_16_28, pred_17_28, pred_18_28, pred_19_28, pred_20_28, pred_21_28, pred_22_28, pred_23_28, pred_24_28, pred_25_28, pred_26_28, pred_27_28, pred_7_56, pred_8_56, pred_9_56, pred_10_56, pred_11_56, pred_12_56, pred_13_56, pred_14_56, pred_15_56, pred_16_56, pred_17_56, pred_18_56, pred_19_56, pred_20_56, pred_21_56, pred_22_56, pred_23_56, pred_24_56, pred_25_56, pred_26_56, pred_27_56, pred_28_56, pred_35_56, pred_7_63, pred_8_63, pred_9_63, pred_10_63, pred_11_63, pred_12_63, pred_13_63, pred_14_63, pred_15_63, pred_16_63, pred_17_63, pred_18_63, pred_19_63, pred_20_63, pred_21_63, pred_22_63, pred_23_63, pred_24_63, pred_25_63, pred_26_63, pred_27_63, pred_28_63, pred_35_63, pred_7_70, pred_8_70, pred_9_70, pred_10_70, pred_11_70, pred_12_70, pred_13_70, pred_14_70, pred_15_70, pred_16_70, pred_17_70, pred_18_70, pred_19_70, pred_20_70, pred_21_70, pred_22_70, ...]\n",
      "Index: []\n",
      "\n",
      "[0 rows x 423 columns]\n"
     ]
    },
    {
     "data": {
      "text/html": [
       "<div>\n",
       "<style scoped>\n",
       "    .dataframe tbody tr th:only-of-type {\n",
       "        vertical-align: middle;\n",
       "    }\n",
       "\n",
       "    .dataframe tbody tr th {\n",
       "        vertical-align: top;\n",
       "    }\n",
       "\n",
       "    .dataframe thead th {\n",
       "        text-align: right;\n",
       "    }\n",
       "</style>\n",
       "<table border=\"1\" class=\"dataframe\">\n",
       "  <thead>\n",
       "    <tr style=\"text-align: right;\">\n",
       "      <th></th>\n",
       "      <th>date</th>\n",
       "      <th>te_installs</th>\n",
       "      <th>cost</th>\n",
       "      <th>revenue_d7</th>\n",
       "      <th>withdraw_d7</th>\n",
       "      <th>payment_increase</th>\n",
       "      <th>rpi_increase</th>\n",
       "      <th>installs_difference</th>\n",
       "      <th>withdrawn_ratio</th>\n",
       "      <th>Recovery on the 28th (rate)</th>\n",
       "      <th>...</th>\n",
       "      <th>p70</th>\n",
       "      <th>p77</th>\n",
       "      <th>p8</th>\n",
       "      <th>p84</th>\n",
       "      <th>p9</th>\n",
       "      <th>p91</th>\n",
       "      <th>p98</th>\n",
       "      <th>d7_28_increase_api</th>\n",
       "      <th>d7_28_increase_pred</th>\n",
       "      <th>validation_set_id</th>\n",
       "    </tr>\n",
       "  </thead>\n",
       "  <tbody>\n",
       "  </tbody>\n",
       "</table>\n",
       "<p>0 rows × 423 columns</p>\n",
       "</div>"
      ],
      "text/plain": [
       "Empty DataFrame\n",
       "Columns: [date, te_installs, cost, revenue_d7, withdraw_d7, payment_increase, rpi_increase, installs_difference, withdrawn_ratio, Recovery on the 28th (rate), pred_7_14, pred_8_14, pred_9_14, pred_10_14, pred_11_14, pred_12_14, pred_13_14, pred_7_28, pred_8_28, pred_9_28, pred_10_28, pred_11_28, pred_12_28, pred_13_28, pred_14_28, pred_15_28, pred_16_28, pred_17_28, pred_18_28, pred_19_28, pred_20_28, pred_21_28, pred_22_28, pred_23_28, pred_24_28, pred_25_28, pred_26_28, pred_27_28, pred_7_56, pred_8_56, pred_9_56, pred_10_56, pred_11_56, pred_12_56, pred_13_56, pred_14_56, pred_15_56, pred_16_56, pred_17_56, pred_18_56, pred_19_56, pred_20_56, pred_21_56, pred_22_56, pred_23_56, pred_24_56, pred_25_56, pred_26_56, pred_27_56, pred_28_56, pred_35_56, pred_7_63, pred_8_63, pred_9_63, pred_10_63, pred_11_63, pred_12_63, pred_13_63, pred_14_63, pred_15_63, pred_16_63, pred_17_63, pred_18_63, pred_19_63, pred_20_63, pred_21_63, pred_22_63, pred_23_63, pred_24_63, pred_25_63, pred_26_63, pred_27_63, pred_28_63, pred_35_63, pred_7_70, pred_8_70, pred_9_70, pred_10_70, pred_11_70, pred_12_70, pred_13_70, pred_14_70, pred_15_70, pred_16_70, pred_17_70, pred_18_70, pred_19_70, pred_20_70, pred_21_70, pred_22_70, ...]\n",
       "Index: []\n",
       "\n",
       "[0 rows x 423 columns]"
      ]
     },
     "execution_count": 29,
     "metadata": {},
     "output_type": "execute_result"
    }
   ],
   "source": [
    "# Check for nulls, infinities and select the model_cols\n",
    "model_cols = agg_df_train[agg_df_train.columns[5:]].columns\n",
    "model_cols\n",
    "null_rows = agg_df_train[agg_df_train['payment_increase'].isnull()]\n",
    "print(null_rows)\n",
    "infinity_rows = agg_df_train[np.isinf(agg_df_train['payment_increase'])]\n",
    "infinity_rows"
   ]
  },
  {
   "cell_type": "markdown",
   "metadata": {},
   "source": [
    "### Modelling"
   ]
  },
  {
   "cell_type": "code",
   "execution_count": 30,
   "metadata": {},
   "outputs": [],
   "source": [
    "# Define predictive model and the polynomial transformation (This should be kept for the dictionary with the exception of the dynamic column. In this case: d7_28_increase_pred)\n",
    "\n",
    "## Model cols\n",
    "\n",
    "## Addition\n",
    "agg_df_train['return_withdraw_d7'] = agg_df_train['withdraw_d7'] / agg_df_train['cost'] \n",
    "agg_df_train['return_p_d7'] = agg_df_train['p7'] / agg_df_train['cost'] \n",
    "\n",
    "## Definintion in list \n",
    "model_cols = ['return_withdraw_d7', 'return_p_d7', 'payment_increase', 'rpi_increase', 'installs_difference', 'withdrawn_ratio', 'd7_28_increase_api', 'd7_28_increase_pred', 'te_installs']\n",
    "\n",
    "## Algorithm \n",
    "def create_huber(alpha, epsi, cols, weights_train): \n",
    "    \n",
    "    columns = cols\n",
    "    preprocessor = ColumnTransformer(\n",
    "        transformers=[\n",
    "            ('scaler', StandardScaler(), columns)\n",
    "        ],\n",
    "        remainder='passthrough'\n",
    "    )\n",
    "\n",
    "\n",
    "    # Create the pipeline\n",
    "    pipe = Pipeline([\n",
    "        ('preprocessor', preprocessor),\n",
    "        ('regressor', HuberRegressor(fit_intercept = True, epsilon = epsi, alpha = alpha, warm_start = False, max_iter = 1000))\n",
    "    ])\n",
    "\n",
    "    pipe.named_steps['regressor'].sample_weight = weights_train\n",
    "\n",
    "    return pipe\n",
    "\n",
    "## Feat engineering\n",
    "def all_feature_enginerring(data, pred_col):\n",
    "\n",
    "    \"\"\"\n",
    "    This is better to create before and the just utilise it in whatever model\n",
    "        - Notice what you're doing with withdrawal day 100 (I am not so interested in withdrawal but it is fine)\n",
    "    \"\"\"\n",
    "    \n",
    "    # Inclusion of interpolation \n",
    "    column_list = ['withdrawn_ratio', pred_col, 'installs_difference']\n",
    "    column_combinations = list(itertools.combinations(column_list, 2))\n",
    "\n",
    "    for pair in column_combinations:\n",
    "        column1, column2 = pair\n",
    "        new_column_name = f\"{column1}_times_{column2}\"\n",
    "        data[new_column_name] = data[column1] * data[column2]  # Example: Multiply values of two columns\n",
    "\n",
    "    return data\n"
   ]
  },
  {
   "cell_type": "code",
   "execution_count": 31,
   "metadata": {},
   "outputs": [
    {
     "name": "stderr",
     "output_type": "stream",
     "text": [
      "  0%|          | 0/3 [00:00<?, ?it/s]"
     ]
    },
    {
     "name": "stdout",
     "output_type": "stream",
     "text": [
      "(20231028.999, 20231114.667]\n"
     ]
    },
    {
     "name": "stderr",
     "output_type": "stream",
     "text": [
      " 33%|███▎      | 1/3 [00:02<00:04,  2.23s/it]"
     ]
    },
    {
     "name": "stdout",
     "output_type": "stream",
     "text": [
      "(20231114.667, 20231201.333]\n"
     ]
    },
    {
     "name": "stderr",
     "output_type": "stream",
     "text": [
      " 67%|██████▋   | 2/3 [00:04<00:02,  2.51s/it]"
     ]
    },
    {
     "name": "stdout",
     "output_type": "stream",
     "text": [
      "(20231201.333, 20231218.0]\n"
     ]
    },
    {
     "name": "stderr",
     "output_type": "stream",
     "text": [
      "100%|██████████| 3/3 [00:07<00:00,  2.50s/it]\n"
     ]
    },
    {
     "data": {
      "text/plain": [
       "864"
      ]
     },
     "execution_count": 31,
     "metadata": {},
     "output_type": "execute_result"
    }
   ],
   "source": [
    "model_results = []\n",
    "all_model_results = []\n",
    "alphas = [0, 0.005, 0.01, 0.02, 0.05, 0.1, 0.15, 0.2] \n",
    "epsils = [1, 1.05, 1.1, 1.3, 1.5, 1.7, 2, 2.5, 3] \n",
    "\n",
    "# for train_index, test_index in splits:\n",
    "for date_group in tqdm(agg_df_train['validation_set_id'].unique()):\n",
    "    \n",
    "    print(date_group)\n",
    "\n",
    "    train_data =  agg_df_train[agg_df_train['validation_set_id'] != date_group][model_cols]\n",
    "    test_data =  agg_df_train[agg_df_train['validation_set_id'] == date_group][model_cols]\n",
    "\n",
    "    # Separate features (X) and target variable (y)\n",
    "    X_train, y_train = train_data.drop(columns = [f'd7_28_increase_api']), train_data[f'd7_28_increase_api'] \n",
    "    X_test, y_test = test_data.drop(columns = [f'd7_28_increase_api']), test_data[f'd7_28_increase_api']\n",
    "\n",
    "    old_cols = X_train[[col for col in X_train.columns if col != 'te_installs']].copy().columns\n",
    "    X_train = all_feature_enginerring(X_train, 'd7_28_increase_pred')\n",
    "    X_test = all_feature_enginerring(X_test, 'd7_28_increase_pred')\n",
    "\n",
    "    weights_train = np.log1p(X_train['te_installs'])\n",
    "\n",
    "    for alpha in alphas: \n",
    "        for epsi in epsils: \n",
    "            for cols in [old_cols, X_train.columns]:\n",
    "                \n",
    "                # Full trainning and testing \n",
    "                model = create_huber(alpha, epsi, old_cols, weights_train)\n",
    "                model.fit(X_train[[col for col in cols if col != 'te_installs']], y_train)\n",
    "                predictions = model.predict(X_test[[col for col in X_train.columns if col != 'te_installs']])\n",
    "                mae = mean_absolute_error(y_test, predictions)\n",
    "                r2 = r2_score(y_test, predictions)\n",
    "\n",
    "                # Save the model into dictionary (Response, day, mo...)\n",
    "                model_result = pd.DataFrame({\n",
    "                    'Iteration': [str(alpha) + ' - ' + str(epsi) + ' - ' + str(len([col for col in cols if col != 'te_installs']))]\n",
    "                    , 'Test at': [date_group]\n",
    "                    , 'Model': [model]\n",
    "                    , 'mae': [mae]\n",
    "                    , 'r2': [r2]\n",
    "                    , 'rel_mae': [(((y_test - y_test.mean()).abs()).mean() - mae) / (((y_test - y_test.mean()).abs()).mean())]\n",
    "                })\n",
    "\n",
    "                model_results.append(model_result)\n",
    "    all_model_results.extend(model_results)\n",
    "\n",
    "all_model_results = pd.concat(all_model_results, ignore_index = True)\n",
    "all_model_results.shape[0]\n"
   ]
  },
  {
   "cell_type": "code",
   "execution_count": 32,
   "metadata": {},
   "outputs": [
    {
     "data": {
      "text/html": [
       "<div>\n",
       "<style scoped>\n",
       "    .dataframe tbody tr th:only-of-type {\n",
       "        vertical-align: middle;\n",
       "    }\n",
       "\n",
       "    .dataframe tbody tr th {\n",
       "        vertical-align: top;\n",
       "    }\n",
       "\n",
       "    .dataframe thead th {\n",
       "        text-align: right;\n",
       "    }\n",
       "</style>\n",
       "<table border=\"1\" class=\"dataframe\">\n",
       "  <thead>\n",
       "    <tr style=\"text-align: right;\">\n",
       "      <th></th>\n",
       "      <th>Iteration</th>\n",
       "      <th>Test at</th>\n",
       "      <th>Model</th>\n",
       "      <th>mae</th>\n",
       "      <th>r2</th>\n",
       "      <th>rel_mae</th>\n",
       "    </tr>\n",
       "  </thead>\n",
       "  <tbody>\n",
       "    <tr>\n",
       "      <th>736</th>\n",
       "      <td>0 - 3 - 7</td>\n",
       "      <td>(20231201.333, 20231218.0]</td>\n",
       "      <td>(ColumnTransformer(remainder='passthrough',\\n ...</td>\n",
       "      <td>0.071873</td>\n",
       "      <td>0.246702</td>\n",
       "      <td>0.279445</td>\n",
       "    </tr>\n",
       "    <tr>\n",
       "      <th>754</th>\n",
       "      <td>0.005 - 3 - 7</td>\n",
       "      <td>(20231201.333, 20231218.0]</td>\n",
       "      <td>(ColumnTransformer(remainder='passthrough',\\n ...</td>\n",
       "      <td>0.071875</td>\n",
       "      <td>0.246542</td>\n",
       "      <td>0.279424</td>\n",
       "    </tr>\n",
       "    <tr>\n",
       "      <th>772</th>\n",
       "      <td>0.01 - 3 - 7</td>\n",
       "      <td>(20231201.333, 20231218.0]</td>\n",
       "      <td>(ColumnTransformer(remainder='passthrough',\\n ...</td>\n",
       "      <td>0.071877</td>\n",
       "      <td>0.246381</td>\n",
       "      <td>0.279404</td>\n",
       "    </tr>\n",
       "    <tr>\n",
       "      <th>790</th>\n",
       "      <td>0.02 - 3 - 7</td>\n",
       "      <td>(20231201.333, 20231218.0]</td>\n",
       "      <td>(ColumnTransformer(remainder='passthrough',\\n ...</td>\n",
       "      <td>0.071881</td>\n",
       "      <td>0.246059</td>\n",
       "      <td>0.279363</td>\n",
       "    </tr>\n",
       "    <tr>\n",
       "      <th>808</th>\n",
       "      <td>0.05 - 3 - 7</td>\n",
       "      <td>(20231201.333, 20231218.0]</td>\n",
       "      <td>(ColumnTransformer(remainder='passthrough',\\n ...</td>\n",
       "      <td>0.071893</td>\n",
       "      <td>0.245090</td>\n",
       "      <td>0.279241</td>\n",
       "    </tr>\n",
       "  </tbody>\n",
       "</table>\n",
       "</div>"
      ],
      "text/plain": [
       "         Iteration                     Test at  \\\n",
       "736      0 - 3 - 7  (20231201.333, 20231218.0]   \n",
       "754  0.005 - 3 - 7  (20231201.333, 20231218.0]   \n",
       "772   0.01 - 3 - 7  (20231201.333, 20231218.0]   \n",
       "790   0.02 - 3 - 7  (20231201.333, 20231218.0]   \n",
       "808   0.05 - 3 - 7  (20231201.333, 20231218.0]   \n",
       "\n",
       "                                                 Model       mae        r2  \\\n",
       "736  (ColumnTransformer(remainder='passthrough',\\n ...  0.071873  0.246702   \n",
       "754  (ColumnTransformer(remainder='passthrough',\\n ...  0.071875  0.246542   \n",
       "772  (ColumnTransformer(remainder='passthrough',\\n ...  0.071877  0.246381   \n",
       "790  (ColumnTransformer(remainder='passthrough',\\n ...  0.071881  0.246059   \n",
       "808  (ColumnTransformer(remainder='passthrough',\\n ...  0.071893  0.245090   \n",
       "\n",
       "      rel_mae  \n",
       "736  0.279445  \n",
       "754  0.279424  \n",
       "772  0.279404  \n",
       "790  0.279363  \n",
       "808  0.279241  "
      ]
     },
     "execution_count": 32,
     "metadata": {},
     "output_type": "execute_result"
    }
   ],
   "source": [
    "all_model_results.sort_values(by = 'mae').head(5)"
   ]
  },
  {
   "cell_type": "code",
   "execution_count": 33,
   "metadata": {},
   "outputs": [
    {
     "data": {
      "text/html": [
       "<div>\n",
       "<style scoped>\n",
       "    .dataframe tbody tr th:only-of-type {\n",
       "        vertical-align: middle;\n",
       "    }\n",
       "\n",
       "    .dataframe tbody tr th {\n",
       "        vertical-align: top;\n",
       "    }\n",
       "\n",
       "    .dataframe thead th {\n",
       "        text-align: right;\n",
       "    }\n",
       "</style>\n",
       "<table border=\"1\" class=\"dataframe\">\n",
       "  <thead>\n",
       "    <tr style=\"text-align: right;\">\n",
       "      <th></th>\n",
       "      <th>mae</th>\n",
       "      <th>r2</th>\n",
       "      <th>rel_mae</th>\n",
       "    </tr>\n",
       "    <tr>\n",
       "      <th>Iteration</th>\n",
       "      <th></th>\n",
       "      <th></th>\n",
       "      <th></th>\n",
       "    </tr>\n",
       "  </thead>\n",
       "  <tbody>\n",
       "    <tr>\n",
       "      <th>0.05 - 1.05 - 10</th>\n",
       "      <td>0.139712</td>\n",
       "      <td>0.216797</td>\n",
       "      <td>0.228476</td>\n",
       "    </tr>\n",
       "    <tr>\n",
       "      <th>0.01 - 1.05 - 10</th>\n",
       "      <td>0.139805</td>\n",
       "      <td>0.218616</td>\n",
       "      <td>0.227292</td>\n",
       "    </tr>\n",
       "    <tr>\n",
       "      <th>0.2 - 1.3 - 7</th>\n",
       "      <td>0.139970</td>\n",
       "      <td>0.226613</td>\n",
       "      <td>0.227826</td>\n",
       "    </tr>\n",
       "    <tr>\n",
       "      <th>0.2 - 1.3 - 10</th>\n",
       "      <td>0.140020</td>\n",
       "      <td>0.225516</td>\n",
       "      <td>0.227536</td>\n",
       "    </tr>\n",
       "    <tr>\n",
       "      <th>0.05 - 1.05 - 7</th>\n",
       "      <td>0.140022</td>\n",
       "      <td>0.213705</td>\n",
       "      <td>0.225402</td>\n",
       "    </tr>\n",
       "    <tr>\n",
       "      <th>0.15 - 1.3 - 7</th>\n",
       "      <td>0.140056</td>\n",
       "      <td>0.225389</td>\n",
       "      <td>0.227058</td>\n",
       "    </tr>\n",
       "    <tr>\n",
       "      <th>0.15 - 1.3 - 10</th>\n",
       "      <td>0.140120</td>\n",
       "      <td>0.223934</td>\n",
       "      <td>0.226687</td>\n",
       "    </tr>\n",
       "    <tr>\n",
       "      <th>0.1 - 1.3 - 7</th>\n",
       "      <td>0.140143</td>\n",
       "      <td>0.224150</td>\n",
       "      <td>0.226281</td>\n",
       "    </tr>\n",
       "    <tr>\n",
       "      <th>0.05 - 1.3 - 7</th>\n",
       "      <td>0.140232</td>\n",
       "      <td>0.222879</td>\n",
       "      <td>0.225489</td>\n",
       "    </tr>\n",
       "    <tr>\n",
       "      <th>0.1 - 1.3 - 10</th>\n",
       "      <td>0.140236</td>\n",
       "      <td>0.222001</td>\n",
       "      <td>0.225744</td>\n",
       "    </tr>\n",
       "  </tbody>\n",
       "</table>\n",
       "</div>"
      ],
      "text/plain": [
       "                       mae        r2   rel_mae\n",
       "Iteration                                     \n",
       "0.05 - 1.05 - 10  0.139712  0.216797  0.228476\n",
       "0.01 - 1.05 - 10  0.139805  0.218616  0.227292\n",
       "0.2 - 1.3 - 7     0.139970  0.226613  0.227826\n",
       "0.2 - 1.3 - 10    0.140020  0.225516  0.227536\n",
       "0.05 - 1.05 - 7   0.140022  0.213705  0.225402\n",
       "0.15 - 1.3 - 7    0.140056  0.225389  0.227058\n",
       "0.15 - 1.3 - 10   0.140120  0.223934  0.226687\n",
       "0.1 - 1.3 - 7     0.140143  0.224150  0.226281\n",
       "0.05 - 1.3 - 7    0.140232  0.222879  0.225489\n",
       "0.1 - 1.3 - 10    0.140236  0.222001  0.225744"
      ]
     },
     "execution_count": 33,
     "metadata": {},
     "output_type": "execute_result"
    }
   ],
   "source": [
    "all_model_results.groupby('Iteration')[['mae', 'r2', 'rel_mae']].mean().sort_values(by = 'mae', ascending = True).head(10)"
   ]
  },
  {
   "cell_type": "code",
   "execution_count": 40,
   "metadata": {},
   "outputs": [],
   "source": [
    "# def all_feature_enginerring(data, pred_col):\n",
    "\n",
    "#     \"\"\"\n",
    "#     This is better to create before and the just utilise it in whatever model\n",
    "#         - Notice what you're doing with withdrawal day 100 (I am not so interested in withdrawal but it is fine)\n",
    "#     \"\"\"\n",
    "    \n",
    "#     # Inclusion of interpolation \n",
    "#     column_list = ['withdrawn_ratio', pred_col, 'installs_difference']\n",
    "#     column_combinations = list(itertools.combinations(column_list, 2))\n",
    "\n",
    "#     for pair in column_combinations:\n",
    "#         column1, column2 = pair\n",
    "#         new_column_name = f\"{column1}_times_{column2}\"\n",
    "#         data[new_column_name] = data[column1] * data[column2]  # Example: Multiply values of two columns\n",
    "\n",
    "#     return data"
   ]
  },
  {
   "cell_type": "code",
   "execution_count": 34,
   "metadata": {},
   "outputs": [],
   "source": [
    "model_value = all_model_results.loc[all_model_results['Iteration'] == '0.2 - 1 - 10', 'Model'].iloc[0]\n",
    "reset_df_plus = all_feature_enginerring(agg_df_train, 'd7_28_increase_pred')\n",
    "cols_to_append = [\n",
    "    'roas_d7_times_installs_difference',\n",
    "    'withdrawn_ratio_times_installs_difference',\n",
    "    'withdrawn_ratio_times_pred_7_28',\n",
    "    'roas_d7_times_pred_7_28',\n",
    "    'roas_d7_times_withdrawn_ratio',\n",
    "    'pred_7_28_times_installs_difference'\n",
    "]\n",
    "cols_to_append = [\n",
    "    'withdrawn_ratio_times_d7_28_increase_pred',\n",
    "    'withdrawn_ratio_times_installs_difference',\n",
    "    'd7_28_increase_pred_times_installs_difference']\n",
    "\n",
    "subnormal = [col for col in old_cols if col != 'Installs']\n",
    "subnormal.extend(cols_to_append)\n",
    "\n",
    "predictions = model_value.predict(reset_df_plus[subnormal])"
   ]
  },
  {
   "cell_type": "code",
   "execution_count": 35,
   "metadata": {},
   "outputs": [
    {
     "data": {
      "application/vnd.plotly.v1+json": {
       "config": {
        "plotlyServerURL": "https://plot.ly"
       },
       "data": [
        {
         "hovertemplate": "X-axis Label=%{x}<br>Y-axis Label=%{y}<br>installs=%{marker.size}<extra></extra>",
         "legendgroup": "",
         "marker": {
          "color": "#636efa",
          "size": [
           755,
           738,
           767,
           814,
           978,
           1100,
           976,
           939,
           852,
           1026,
           1198,
           1053,
           1226,
           1093,
           1270,
           1232,
           1210,
           1259,
           1397,
           1469,
           1409,
           1570,
           1438,
           1366,
           1387,
           1295,
           1282,
           1373,
           1427,
           1518,
           1409,
           1443,
           1492,
           1342,
           1524,
           1771,
           1715,
           1779,
           1822,
           1715,
           1574,
           1540,
           1603,
           1779,
           1743,
           1656,
           1522,
           1426,
           1462,
           1390,
           1451
          ],
          "sizemode": "area",
          "sizeref": 4.555,
          "symbol": "circle"
         },
         "mode": "markers",
         "name": "",
         "orientation": "v",
         "showlegend": false,
         "type": "scatter",
         "x": [
          0.09187543662045031,
          0.16486577739453304,
          0.2516027133625951,
          0.13139044787286314,
          0.17814815560632408,
          0.11730889398042074,
          0.2361610484757869,
          0.1086303462657371,
          0.17351477838108004,
          0.3471467997786003,
          0.32564231439807695,
          0.1803022142327031,
          0.32485471437470054,
          0.20758452534397082,
          0.45124686198093167,
          0.17727241727514528,
          0.15745891440280463,
          0.14817943264844097,
          0.1562650735471106,
          0.17627459149235922,
          0.20397972060960026,
          0.3869796311684512,
          0.2519711394563062,
          0.12076052265161079,
          0.2763213998109072,
          0.19082499809993794,
          0.12255387402299087,
          0.13025966231863337,
          0.3519393847794008,
          0.17787405713643994,
          0.17333184434596233,
          0.15027185648097863,
          0.24163263246730568,
          0.24808649393466553,
          0.1694123776782547,
          0.21704068747831978,
          0.20943351062833665,
          0.16395802341624335,
          0.19807095475259562,
          0.18187349229445857,
          0.1456434561818183,
          0.1706632536824714,
          0.11965085046425247,
          0.16610375959696608,
          0.2534628610335957,
          0.2149015689198695,
          0.1692431724655117,
          0.23116155043544975,
          0.14073231633695144,
          0.10403756493727814,
          0.11815281060882318
         ],
         "xaxis": "x",
         "y": [
          0.16932456337954968,
          0.11323422260546698,
          0.2887972866374049,
          0.15320955212713688,
          0.32275184439367594,
          0.12419110601957925,
          0.2566389515242131,
          0.2060696537342629,
          0.20858522161891996,
          0.5487532002213997,
          0.8693576856019232,
          0.16519778576729688,
          1.9856452856252997,
          0.40981547465602924,
          0.41435313801906837,
          0.1277275827248547,
          0.14004108559719536,
          0.07972056735155902,
          0.18413492645288937,
          0.19382540850764077,
          0.43032027939039974,
          0.6062203688315488,
          0.2810288605436937,
          0.19303947734838917,
          0.1153786001890928,
          0.05707500190006204,
          0.0682461259770091,
          0.07194033768136662,
          -0.04673938477940082,
          0.17132594286356007,
          -0.060331844345962324,
          0.12102814351902136,
          0.08926736753269435,
          0.25601350606533446,
          0.34838762232174536,
          0.2931593125216802,
          0.3000664893716634,
          0.1698419765837567,
          0.3965290452474044,
          0.09052650770554141,
          0.1252565438181817,
          0.010136746317528589,
          0.12284914953574752,
          0.2642962404030339,
          0.3140371389664043,
          0.3425984310801305,
          0.21895682753448828,
          0.11333844956455028,
          0.23146768366304854,
          0.07956243506272184,
          0.0954471893911768
         ],
         "yaxis": "y"
        },
        {
         "hovertemplate": "<b>OLS trendline</b><br>y_test = 1.89895 * predictions + -0.12469<br>R<sup>2</sup>=0.237924<br><br>X-axis Label=%{x}<br>Y-axis Label=%{y} <b>(trend)</b><extra></extra>",
         "legendgroup": "",
         "marker": {
          "color": "#636efa",
          "symbol": "circle"
         },
         "mode": "lines",
         "name": "",
         "showlegend": false,
         "type": "scatter",
         "x": [
          0.09187543662045031,
          0.10403756493727814,
          0.1086303462657371,
          0.11730889398042074,
          0.11815281060882318,
          0.11965085046425247,
          0.12076052265161079,
          0.12255387402299087,
          0.13025966231863337,
          0.13139044787286314,
          0.14073231633695144,
          0.1456434561818183,
          0.14817943264844097,
          0.15027185648097863,
          0.1562650735471106,
          0.15745891440280463,
          0.16395802341624335,
          0.16486577739453304,
          0.16610375959696608,
          0.1692431724655117,
          0.1694123776782547,
          0.1706632536824714,
          0.17333184434596233,
          0.17351477838108004,
          0.17627459149235922,
          0.17727241727514528,
          0.17787405713643994,
          0.17814815560632408,
          0.1803022142327031,
          0.18187349229445857,
          0.19082499809993794,
          0.19807095475259562,
          0.20397972060960026,
          0.20758452534397082,
          0.20943351062833665,
          0.2149015689198695,
          0.21704068747831978,
          0.23116155043544975,
          0.2361610484757869,
          0.24163263246730568,
          0.24808649393466553,
          0.2516027133625951,
          0.2519711394563062,
          0.2534628610335957,
          0.2763213998109072,
          0.32485471437470054,
          0.32564231439807695,
          0.3471467997786003,
          0.3519393847794008,
          0.3869796311684512,
          0.45124686198093167
         ],
         "xaxis": "x",
         "y": [
          0.049776207854943036,
          0.07287142637719633,
          0.08159286769424946,
          0.09807295659851605,
          0.0996755082605101,
          0.10252020426394844,
          0.10462741124182971,
          0.10803288771192242,
          0.12266575952004548,
          0.12481305963038962,
          0.14255275846959242,
          0.15187874525050876,
          0.15669442628414043,
          0.1606678250507662,
          0.17204861747359418,
          0.17431565616326972,
          0.18665710980980244,
          0.18838088511844125,
          0.19073174581872604,
          0.19669331967667614,
          0.19701463114960288,
          0.19938997647642825,
          0.20445748463899982,
          0.20480486639703926,
          0.21004560101397157,
          0.2119404177680998,
          0.21308289905972316,
          0.21360339710855814,
          0.21769383698799394,
          0.22067760835186412,
          0.237676029787257,
          0.2514357063781016,
          0.26265613055957776,
          0.26950145819480337,
          0.273012580432165,
          0.2833961249768017,
          0.28745819448186205,
          0.31427294328421385,
          0.3237667174605152,
          0.3341569571171832,
          0.3464124881408768,
          0.3530895971093675,
          0.35378921817254816,
          0.356621916110309,
          0.40002903486525265,
          0.49219115289760207,
          0.4936867623973671,
          0.534522607582836,
          0.5436234651791839,
          0.6101629824698377,
          0.732202949551969
         ],
         "yaxis": "y"
        }
       ],
       "layout": {
        "height": 800,
        "legend": {
         "itemsizing": "constant",
         "title": {
          "text": "Legend Title"
         },
         "tracegroupgap": 0
        },
        "showlegend": true,
        "template": {
         "data": {
          "bar": [
           {
            "error_x": {
             "color": "#f2f5fa"
            },
            "error_y": {
             "color": "#f2f5fa"
            },
            "marker": {
             "line": {
              "color": "rgb(17,17,17)",
              "width": 0.5
             },
             "pattern": {
              "fillmode": "overlay",
              "size": 10,
              "solidity": 0.2
             }
            },
            "type": "bar"
           }
          ],
          "barpolar": [
           {
            "marker": {
             "line": {
              "color": "rgb(17,17,17)",
              "width": 0.5
             },
             "pattern": {
              "fillmode": "overlay",
              "size": 10,
              "solidity": 0.2
             }
            },
            "type": "barpolar"
           }
          ],
          "carpet": [
           {
            "aaxis": {
             "endlinecolor": "#A2B1C6",
             "gridcolor": "#506784",
             "linecolor": "#506784",
             "minorgridcolor": "#506784",
             "startlinecolor": "#A2B1C6"
            },
            "baxis": {
             "endlinecolor": "#A2B1C6",
             "gridcolor": "#506784",
             "linecolor": "#506784",
             "minorgridcolor": "#506784",
             "startlinecolor": "#A2B1C6"
            },
            "type": "carpet"
           }
          ],
          "choropleth": [
           {
            "colorbar": {
             "outlinewidth": 0,
             "ticks": ""
            },
            "type": "choropleth"
           }
          ],
          "contour": [
           {
            "colorbar": {
             "outlinewidth": 0,
             "ticks": ""
            },
            "colorscale": [
             [
              0,
              "#0d0887"
             ],
             [
              0.1111111111111111,
              "#46039f"
             ],
             [
              0.2222222222222222,
              "#7201a8"
             ],
             [
              0.3333333333333333,
              "#9c179e"
             ],
             [
              0.4444444444444444,
              "#bd3786"
             ],
             [
              0.5555555555555556,
              "#d8576b"
             ],
             [
              0.6666666666666666,
              "#ed7953"
             ],
             [
              0.7777777777777778,
              "#fb9f3a"
             ],
             [
              0.8888888888888888,
              "#fdca26"
             ],
             [
              1,
              "#f0f921"
             ]
            ],
            "type": "contour"
           }
          ],
          "contourcarpet": [
           {
            "colorbar": {
             "outlinewidth": 0,
             "ticks": ""
            },
            "type": "contourcarpet"
           }
          ],
          "heatmap": [
           {
            "colorbar": {
             "outlinewidth": 0,
             "ticks": ""
            },
            "colorscale": [
             [
              0,
              "#0d0887"
             ],
             [
              0.1111111111111111,
              "#46039f"
             ],
             [
              0.2222222222222222,
              "#7201a8"
             ],
             [
              0.3333333333333333,
              "#9c179e"
             ],
             [
              0.4444444444444444,
              "#bd3786"
             ],
             [
              0.5555555555555556,
              "#d8576b"
             ],
             [
              0.6666666666666666,
              "#ed7953"
             ],
             [
              0.7777777777777778,
              "#fb9f3a"
             ],
             [
              0.8888888888888888,
              "#fdca26"
             ],
             [
              1,
              "#f0f921"
             ]
            ],
            "type": "heatmap"
           }
          ],
          "heatmapgl": [
           {
            "colorbar": {
             "outlinewidth": 0,
             "ticks": ""
            },
            "colorscale": [
             [
              0,
              "#0d0887"
             ],
             [
              0.1111111111111111,
              "#46039f"
             ],
             [
              0.2222222222222222,
              "#7201a8"
             ],
             [
              0.3333333333333333,
              "#9c179e"
             ],
             [
              0.4444444444444444,
              "#bd3786"
             ],
             [
              0.5555555555555556,
              "#d8576b"
             ],
             [
              0.6666666666666666,
              "#ed7953"
             ],
             [
              0.7777777777777778,
              "#fb9f3a"
             ],
             [
              0.8888888888888888,
              "#fdca26"
             ],
             [
              1,
              "#f0f921"
             ]
            ],
            "type": "heatmapgl"
           }
          ],
          "histogram": [
           {
            "marker": {
             "pattern": {
              "fillmode": "overlay",
              "size": 10,
              "solidity": 0.2
             }
            },
            "type": "histogram"
           }
          ],
          "histogram2d": [
           {
            "colorbar": {
             "outlinewidth": 0,
             "ticks": ""
            },
            "colorscale": [
             [
              0,
              "#0d0887"
             ],
             [
              0.1111111111111111,
              "#46039f"
             ],
             [
              0.2222222222222222,
              "#7201a8"
             ],
             [
              0.3333333333333333,
              "#9c179e"
             ],
             [
              0.4444444444444444,
              "#bd3786"
             ],
             [
              0.5555555555555556,
              "#d8576b"
             ],
             [
              0.6666666666666666,
              "#ed7953"
             ],
             [
              0.7777777777777778,
              "#fb9f3a"
             ],
             [
              0.8888888888888888,
              "#fdca26"
             ],
             [
              1,
              "#f0f921"
             ]
            ],
            "type": "histogram2d"
           }
          ],
          "histogram2dcontour": [
           {
            "colorbar": {
             "outlinewidth": 0,
             "ticks": ""
            },
            "colorscale": [
             [
              0,
              "#0d0887"
             ],
             [
              0.1111111111111111,
              "#46039f"
             ],
             [
              0.2222222222222222,
              "#7201a8"
             ],
             [
              0.3333333333333333,
              "#9c179e"
             ],
             [
              0.4444444444444444,
              "#bd3786"
             ],
             [
              0.5555555555555556,
              "#d8576b"
             ],
             [
              0.6666666666666666,
              "#ed7953"
             ],
             [
              0.7777777777777778,
              "#fb9f3a"
             ],
             [
              0.8888888888888888,
              "#fdca26"
             ],
             [
              1,
              "#f0f921"
             ]
            ],
            "type": "histogram2dcontour"
           }
          ],
          "mesh3d": [
           {
            "colorbar": {
             "outlinewidth": 0,
             "ticks": ""
            },
            "type": "mesh3d"
           }
          ],
          "parcoords": [
           {
            "line": {
             "colorbar": {
              "outlinewidth": 0,
              "ticks": ""
             }
            },
            "type": "parcoords"
           }
          ],
          "pie": [
           {
            "automargin": true,
            "type": "pie"
           }
          ],
          "scatter": [
           {
            "marker": {
             "line": {
              "color": "#283442"
             }
            },
            "type": "scatter"
           }
          ],
          "scatter3d": [
           {
            "line": {
             "colorbar": {
              "outlinewidth": 0,
              "ticks": ""
             }
            },
            "marker": {
             "colorbar": {
              "outlinewidth": 0,
              "ticks": ""
             }
            },
            "type": "scatter3d"
           }
          ],
          "scattercarpet": [
           {
            "marker": {
             "colorbar": {
              "outlinewidth": 0,
              "ticks": ""
             }
            },
            "type": "scattercarpet"
           }
          ],
          "scattergeo": [
           {
            "marker": {
             "colorbar": {
              "outlinewidth": 0,
              "ticks": ""
             }
            },
            "type": "scattergeo"
           }
          ],
          "scattergl": [
           {
            "marker": {
             "line": {
              "color": "#283442"
             }
            },
            "type": "scattergl"
           }
          ],
          "scattermapbox": [
           {
            "marker": {
             "colorbar": {
              "outlinewidth": 0,
              "ticks": ""
             }
            },
            "type": "scattermapbox"
           }
          ],
          "scatterpolar": [
           {
            "marker": {
             "colorbar": {
              "outlinewidth": 0,
              "ticks": ""
             }
            },
            "type": "scatterpolar"
           }
          ],
          "scatterpolargl": [
           {
            "marker": {
             "colorbar": {
              "outlinewidth": 0,
              "ticks": ""
             }
            },
            "type": "scatterpolargl"
           }
          ],
          "scatterternary": [
           {
            "marker": {
             "colorbar": {
              "outlinewidth": 0,
              "ticks": ""
             }
            },
            "type": "scatterternary"
           }
          ],
          "surface": [
           {
            "colorbar": {
             "outlinewidth": 0,
             "ticks": ""
            },
            "colorscale": [
             [
              0,
              "#0d0887"
             ],
             [
              0.1111111111111111,
              "#46039f"
             ],
             [
              0.2222222222222222,
              "#7201a8"
             ],
             [
              0.3333333333333333,
              "#9c179e"
             ],
             [
              0.4444444444444444,
              "#bd3786"
             ],
             [
              0.5555555555555556,
              "#d8576b"
             ],
             [
              0.6666666666666666,
              "#ed7953"
             ],
             [
              0.7777777777777778,
              "#fb9f3a"
             ],
             [
              0.8888888888888888,
              "#fdca26"
             ],
             [
              1,
              "#f0f921"
             ]
            ],
            "type": "surface"
           }
          ],
          "table": [
           {
            "cells": {
             "fill": {
              "color": "#506784"
             },
             "line": {
              "color": "rgb(17,17,17)"
             }
            },
            "header": {
             "fill": {
              "color": "#2a3f5f"
             },
             "line": {
              "color": "rgb(17,17,17)"
             }
            },
            "type": "table"
           }
          ]
         },
         "layout": {
          "annotationdefaults": {
           "arrowcolor": "#f2f5fa",
           "arrowhead": 0,
           "arrowwidth": 1
          },
          "autotypenumbers": "strict",
          "coloraxis": {
           "colorbar": {
            "outlinewidth": 0,
            "ticks": ""
           }
          },
          "colorscale": {
           "diverging": [
            [
             0,
             "#8e0152"
            ],
            [
             0.1,
             "#c51b7d"
            ],
            [
             0.2,
             "#de77ae"
            ],
            [
             0.3,
             "#f1b6da"
            ],
            [
             0.4,
             "#fde0ef"
            ],
            [
             0.5,
             "#f7f7f7"
            ],
            [
             0.6,
             "#e6f5d0"
            ],
            [
             0.7,
             "#b8e186"
            ],
            [
             0.8,
             "#7fbc41"
            ],
            [
             0.9,
             "#4d9221"
            ],
            [
             1,
             "#276419"
            ]
           ],
           "sequential": [
            [
             0,
             "#0d0887"
            ],
            [
             0.1111111111111111,
             "#46039f"
            ],
            [
             0.2222222222222222,
             "#7201a8"
            ],
            [
             0.3333333333333333,
             "#9c179e"
            ],
            [
             0.4444444444444444,
             "#bd3786"
            ],
            [
             0.5555555555555556,
             "#d8576b"
            ],
            [
             0.6666666666666666,
             "#ed7953"
            ],
            [
             0.7777777777777778,
             "#fb9f3a"
            ],
            [
             0.8888888888888888,
             "#fdca26"
            ],
            [
             1,
             "#f0f921"
            ]
           ],
           "sequentialminus": [
            [
             0,
             "#0d0887"
            ],
            [
             0.1111111111111111,
             "#46039f"
            ],
            [
             0.2222222222222222,
             "#7201a8"
            ],
            [
             0.3333333333333333,
             "#9c179e"
            ],
            [
             0.4444444444444444,
             "#bd3786"
            ],
            [
             0.5555555555555556,
             "#d8576b"
            ],
            [
             0.6666666666666666,
             "#ed7953"
            ],
            [
             0.7777777777777778,
             "#fb9f3a"
            ],
            [
             0.8888888888888888,
             "#fdca26"
            ],
            [
             1,
             "#f0f921"
            ]
           ]
          },
          "colorway": [
           "#636efa",
           "#EF553B",
           "#00cc96",
           "#ab63fa",
           "#FFA15A",
           "#19d3f3",
           "#FF6692",
           "#B6E880",
           "#FF97FF",
           "#FECB52"
          ],
          "font": {
           "color": "#f2f5fa"
          },
          "geo": {
           "bgcolor": "rgb(17,17,17)",
           "lakecolor": "rgb(17,17,17)",
           "landcolor": "rgb(17,17,17)",
           "showlakes": true,
           "showland": true,
           "subunitcolor": "#506784"
          },
          "hoverlabel": {
           "align": "left"
          },
          "hovermode": "closest",
          "mapbox": {
           "style": "dark"
          },
          "paper_bgcolor": "rgb(17,17,17)",
          "plot_bgcolor": "rgb(17,17,17)",
          "polar": {
           "angularaxis": {
            "gridcolor": "#506784",
            "linecolor": "#506784",
            "ticks": ""
           },
           "bgcolor": "rgb(17,17,17)",
           "radialaxis": {
            "gridcolor": "#506784",
            "linecolor": "#506784",
            "ticks": ""
           }
          },
          "scene": {
           "xaxis": {
            "backgroundcolor": "rgb(17,17,17)",
            "gridcolor": "#506784",
            "gridwidth": 2,
            "linecolor": "#506784",
            "showbackground": true,
            "ticks": "",
            "zerolinecolor": "#C8D4E3"
           },
           "yaxis": {
            "backgroundcolor": "rgb(17,17,17)",
            "gridcolor": "#506784",
            "gridwidth": 2,
            "linecolor": "#506784",
            "showbackground": true,
            "ticks": "",
            "zerolinecolor": "#C8D4E3"
           },
           "zaxis": {
            "backgroundcolor": "rgb(17,17,17)",
            "gridcolor": "#506784",
            "gridwidth": 2,
            "linecolor": "#506784",
            "showbackground": true,
            "ticks": "",
            "zerolinecolor": "#C8D4E3"
           }
          },
          "shapedefaults": {
           "line": {
            "color": "#f2f5fa"
           }
          },
          "sliderdefaults": {
           "bgcolor": "#C8D4E3",
           "bordercolor": "rgb(17,17,17)",
           "borderwidth": 1,
           "tickwidth": 0
          },
          "ternary": {
           "aaxis": {
            "gridcolor": "#506784",
            "linecolor": "#506784",
            "ticks": ""
           },
           "baxis": {
            "gridcolor": "#506784",
            "linecolor": "#506784",
            "ticks": ""
           },
           "bgcolor": "rgb(17,17,17)",
           "caxis": {
            "gridcolor": "#506784",
            "linecolor": "#506784",
            "ticks": ""
           }
          },
          "title": {
           "x": 0.05
          },
          "updatemenudefaults": {
           "bgcolor": "#506784",
           "borderwidth": 0
          },
          "xaxis": {
           "automargin": true,
           "gridcolor": "#283442",
           "linecolor": "#506784",
           "ticks": "",
           "title": {
            "standoff": 15
           },
           "zerolinecolor": "#283442",
           "zerolinewidth": 2
          },
          "yaxis": {
           "automargin": true,
           "gridcolor": "#283442",
           "linecolor": "#506784",
           "ticks": "",
           "title": {
            "standoff": 15
           },
           "zerolinecolor": "#283442",
           "zerolinewidth": 2
          }
         }
        },
        "title": {
         "text": "Association Actuals vs ROAS day 7"
        },
        "width": 1700,
        "xaxis": {
         "anchor": "y",
         "domain": [
          0,
          1
         ],
         "title": {
          "text": "Predicted"
         }
        },
        "yaxis": {
         "anchor": "x",
         "domain": [
          0,
          1
         ],
         "title": {
          "text": "Actual user revenue"
         }
        }
       }
      }
     },
     "metadata": {},
     "output_type": "display_data"
    }
   ],
   "source": [
    "import pandas as pd\n",
    "import plotly.express as px\n",
    "\n",
    "# Assuming reset_df is your DataFrame\n",
    "pdf = pd.DataFrame({'y_test': agg_df_train['d7_28_increase_api'].values, 'predictions': (agg_df_train['revenue_d7']/agg_df_train['cost']), 'installs': agg_df_train['te_installs']})\n",
    "\n",
    "# Create a scatter plot with size and color based on 'installs' and 'channel'\n",
    "fig = px.scatter(pdf, x='predictions', y='y_test', title='Association Actuals vs ROAS day 7', trendline='ols',\n",
    "                 labels={'predictions': 'X-axis Label', 'y_test': 'Y-axis Label'},\n",
    "                 template='plotly_dark',\n",
    "                 hover_data=['predictions', 'y_test'],\n",
    "                 size='installs'\n",
    "                 )\n",
    "\n",
    "# Customize the layout\n",
    "fig.update_layout(\n",
    "    width=1700,\n",
    "    height=800,\n",
    "    xaxis=dict(title_text='Predicted'),\n",
    "    yaxis=dict(title_text='Actual user revenue'),\n",
    "    legend=dict(title='Legend Title'),\n",
    "    showlegend=True\n",
    ")\n",
    "\n",
    "# Show the plot\n",
    "fig.show()"
   ]
  },
  {
   "cell_type": "code",
   "execution_count": 36,
   "metadata": {},
   "outputs": [
    {
     "data": {
      "application/vnd.plotly.v1+json": {
       "config": {
        "plotlyServerURL": "https://plot.ly"
       },
       "data": [
        {
         "hovertemplate": "X-axis Label=%{x}<br>Y-axis Label=%{y}<br>installs=%{marker.size}<extra></extra>",
         "legendgroup": "",
         "marker": {
          "color": "#636efa",
          "size": [
           755,
           738,
           767,
           814,
           978,
           1100,
           976,
           939,
           852,
           1026,
           1198,
           1053,
           1226,
           1093,
           1270,
           1232,
           1210,
           1259,
           1397,
           1469,
           1409,
           1570,
           1438,
           1366,
           1387,
           1295,
           1282,
           1373,
           1427,
           1518,
           1409,
           1443,
           1492,
           1342,
           1524,
           1771,
           1715,
           1779,
           1822,
           1715,
           1574,
           1540,
           1603,
           1779,
           1743,
           1656,
           1522,
           1426,
           1462,
           1390,
           1451
          ],
          "sizemode": "area",
          "sizeref": 4.555,
          "symbol": "circle"
         },
         "mode": "markers",
         "name": "",
         "orientation": "v",
         "showlegend": false,
         "type": "scatter",
         "x": [
          0.10892325635347853,
          0.11943381842400337,
          0.2896096567086933,
          0.1359881943757325,
          0.3221750255610129,
          0.1720045600481834,
          0.40740589429852286,
          -0.02756761300225319,
          0.1567812168442111,
          0.7431451658219859,
          0.4520270302315045,
          0.2571573555972104,
          0.513853872191115,
          0.05561627711032871,
          0.4146243116007048,
          0.1858511412956113,
          0.13792300592724127,
          0.07972079861573718,
          0.11730063428432742,
          0.20674627579873492,
          0.2216693599361412,
          0.6062203687467329,
          0.44209513107799703,
          0.19303918015719385,
          0.28960274823926546,
          0.03911762083712733,
          0.07124004269485805,
          0.09658204573044658,
          -0.04673739834441168,
          0.15671692700720768,
          0.015989525026932017,
          0.15046265967100336,
          0.320697321277261,
          0.25599743262216823,
          0.22226071515954768,
          0.310382373417535,
          0.2775425274793792,
          0.05051364278434228,
          0.28023997324920696,
          0.22512395194556795,
          0.08927951808086454,
          0.010137094118048168,
          0.10545014263252987,
          0.2642965838483136,
          0.26922096751109836,
          0.12617105218542485,
          0.35143467459383465,
          0.2391836853272124,
          0.19923699411870818,
          0.0800972458176028,
          0.16529629872682258
         ],
         "xaxis": "x",
         "y": [
          0.16932456337954968,
          0.11323422260546698,
          0.2887972866374049,
          0.15320955212713688,
          0.32275184439367594,
          0.12419110601957925,
          0.2566389515242131,
          0.2060696537342629,
          0.20858522161891996,
          0.5487532002213997,
          0.8693576856019232,
          0.16519778576729688,
          1.9856452856252997,
          0.40981547465602924,
          0.41435313801906837,
          0.1277275827248547,
          0.14004108559719536,
          0.07972056735155902,
          0.18413492645288937,
          0.19382540850764077,
          0.43032027939039974,
          0.6062203688315488,
          0.2810288605436937,
          0.19303947734838917,
          0.1153786001890928,
          0.05707500190006204,
          0.0682461259770091,
          0.07194033768136662,
          -0.04673938477940082,
          0.17132594286356007,
          -0.060331844345962324,
          0.12102814351902136,
          0.08926736753269435,
          0.25601350606533446,
          0.34838762232174536,
          0.2931593125216802,
          0.3000664893716634,
          0.1698419765837567,
          0.3965290452474044,
          0.09052650770554141,
          0.1252565438181817,
          0.010136746317528589,
          0.12284914953574752,
          0.2642962404030339,
          0.3140371389664043,
          0.3425984310801305,
          0.21895682753448828,
          0.11333844956455028,
          0.23146768366304854,
          0.07956243506272184,
          0.0954471893911768
         ],
         "yaxis": "y"
        },
        {
         "hovertemplate": "<b>OLS trendline</b><br>y_test = 1.13525 * predictions + 0.00836157<br>R<sup>2</sup>=0.361858<br><br>X-axis Label=%{x}<br>Y-axis Label=%{y} <b>(trend)</b><extra></extra>",
         "legendgroup": "",
         "marker": {
          "color": "#636efa",
          "symbol": "circle"
         },
         "mode": "lines",
         "name": "",
         "showlegend": false,
         "type": "scatter",
         "x": [
          -0.04673739834441168,
          -0.02756761300225319,
          0.010137094118048168,
          0.015989525026932017,
          0.03911762083712733,
          0.05051364278434228,
          0.05561627711032871,
          0.07124004269485805,
          0.07972079861573718,
          0.0800972458176028,
          0.08927951808086454,
          0.09658204573044658,
          0.10545014263252987,
          0.10892325635347853,
          0.11730063428432742,
          0.11943381842400337,
          0.12617105218542485,
          0.1359881943757325,
          0.13792300592724127,
          0.15046265967100336,
          0.15671692700720768,
          0.1567812168442111,
          0.16529629872682258,
          0.1720045600481834,
          0.1858511412956113,
          0.19303918015719385,
          0.19923699411870818,
          0.20674627579873492,
          0.2216693599361412,
          0.22226071515954768,
          0.22512395194556795,
          0.2391836853272124,
          0.25599743262216823,
          0.2571573555972104,
          0.2642965838483136,
          0.26922096751109836,
          0.2775425274793792,
          0.28023997324920696,
          0.28960274823926546,
          0.2896096567086933,
          0.310382373417535,
          0.320697321277261,
          0.3221750255610129,
          0.35143467459383465,
          0.40740589429852286,
          0.4146243116007048,
          0.44209513107799703,
          0.4520270302315045,
          0.513853872191115,
          0.6062203687467329,
          0.7431451658219859
         ],
         "xaxis": "x",
         "y": [
          -0.04469710644752562,
          -0.02293458978555321,
          0.019869714086112135,
          0.02651369172562837,
          0.05276988403270384,
          0.06570722856107734,
          0.07149999893159462,
          0.08923689336140914,
          0.09886467941847887,
          0.09929204145497161,
          0.10971622459303382,
          0.11800642590786238,
          0.128073941174564,
          0.132016796760685,
          0.14152722285829986,
          0.14394892213944194,
          0.15159737304129375,
          0.16274229285527153,
          0.16493878947095794,
          0.17917444306139402,
          0.18627460587924488,
          0.18634759097657436,
          0.19601434561366754,
          0.2036299055259593,
          0.21934924978203715,
          0.22750947759366905,
          0.23454555166532964,
          0.24307047068576482,
          0.2600119158502078,
          0.2606832524182926,
          0.2639337446460748,
          0.2798950700610246,
          0.2989828923357976,
          0.3002996959734182,
          0.30840451149404746,
          0.31399492263316514,
          0.3234419813367929,
          0.32650425915904596,
          0.33713335818580137,
          0.337141201032153,
          0.36072344702091785,
          0.37243350118469537,
          0.3741110663489695,
          0.40732811016217635,
          0.4708694894563611,
          0.479064204420974,
          0.5102504778153789,
          0.5215256755786992,
          0.5917146554909622,
          0.6965738067240723,
          0.8520178101180018
         ],
         "yaxis": "y"
        }
       ],
       "layout": {
        "height": 800,
        "legend": {
         "itemsizing": "constant",
         "title": {
          "text": "Legend Title"
         },
         "tracegroupgap": 0
        },
        "showlegend": true,
        "template": {
         "data": {
          "bar": [
           {
            "error_x": {
             "color": "#f2f5fa"
            },
            "error_y": {
             "color": "#f2f5fa"
            },
            "marker": {
             "line": {
              "color": "rgb(17,17,17)",
              "width": 0.5
             },
             "pattern": {
              "fillmode": "overlay",
              "size": 10,
              "solidity": 0.2
             }
            },
            "type": "bar"
           }
          ],
          "barpolar": [
           {
            "marker": {
             "line": {
              "color": "rgb(17,17,17)",
              "width": 0.5
             },
             "pattern": {
              "fillmode": "overlay",
              "size": 10,
              "solidity": 0.2
             }
            },
            "type": "barpolar"
           }
          ],
          "carpet": [
           {
            "aaxis": {
             "endlinecolor": "#A2B1C6",
             "gridcolor": "#506784",
             "linecolor": "#506784",
             "minorgridcolor": "#506784",
             "startlinecolor": "#A2B1C6"
            },
            "baxis": {
             "endlinecolor": "#A2B1C6",
             "gridcolor": "#506784",
             "linecolor": "#506784",
             "minorgridcolor": "#506784",
             "startlinecolor": "#A2B1C6"
            },
            "type": "carpet"
           }
          ],
          "choropleth": [
           {
            "colorbar": {
             "outlinewidth": 0,
             "ticks": ""
            },
            "type": "choropleth"
           }
          ],
          "contour": [
           {
            "colorbar": {
             "outlinewidth": 0,
             "ticks": ""
            },
            "colorscale": [
             [
              0,
              "#0d0887"
             ],
             [
              0.1111111111111111,
              "#46039f"
             ],
             [
              0.2222222222222222,
              "#7201a8"
             ],
             [
              0.3333333333333333,
              "#9c179e"
             ],
             [
              0.4444444444444444,
              "#bd3786"
             ],
             [
              0.5555555555555556,
              "#d8576b"
             ],
             [
              0.6666666666666666,
              "#ed7953"
             ],
             [
              0.7777777777777778,
              "#fb9f3a"
             ],
             [
              0.8888888888888888,
              "#fdca26"
             ],
             [
              1,
              "#f0f921"
             ]
            ],
            "type": "contour"
           }
          ],
          "contourcarpet": [
           {
            "colorbar": {
             "outlinewidth": 0,
             "ticks": ""
            },
            "type": "contourcarpet"
           }
          ],
          "heatmap": [
           {
            "colorbar": {
             "outlinewidth": 0,
             "ticks": ""
            },
            "colorscale": [
             [
              0,
              "#0d0887"
             ],
             [
              0.1111111111111111,
              "#46039f"
             ],
             [
              0.2222222222222222,
              "#7201a8"
             ],
             [
              0.3333333333333333,
              "#9c179e"
             ],
             [
              0.4444444444444444,
              "#bd3786"
             ],
             [
              0.5555555555555556,
              "#d8576b"
             ],
             [
              0.6666666666666666,
              "#ed7953"
             ],
             [
              0.7777777777777778,
              "#fb9f3a"
             ],
             [
              0.8888888888888888,
              "#fdca26"
             ],
             [
              1,
              "#f0f921"
             ]
            ],
            "type": "heatmap"
           }
          ],
          "heatmapgl": [
           {
            "colorbar": {
             "outlinewidth": 0,
             "ticks": ""
            },
            "colorscale": [
             [
              0,
              "#0d0887"
             ],
             [
              0.1111111111111111,
              "#46039f"
             ],
             [
              0.2222222222222222,
              "#7201a8"
             ],
             [
              0.3333333333333333,
              "#9c179e"
             ],
             [
              0.4444444444444444,
              "#bd3786"
             ],
             [
              0.5555555555555556,
              "#d8576b"
             ],
             [
              0.6666666666666666,
              "#ed7953"
             ],
             [
              0.7777777777777778,
              "#fb9f3a"
             ],
             [
              0.8888888888888888,
              "#fdca26"
             ],
             [
              1,
              "#f0f921"
             ]
            ],
            "type": "heatmapgl"
           }
          ],
          "histogram": [
           {
            "marker": {
             "pattern": {
              "fillmode": "overlay",
              "size": 10,
              "solidity": 0.2
             }
            },
            "type": "histogram"
           }
          ],
          "histogram2d": [
           {
            "colorbar": {
             "outlinewidth": 0,
             "ticks": ""
            },
            "colorscale": [
             [
              0,
              "#0d0887"
             ],
             [
              0.1111111111111111,
              "#46039f"
             ],
             [
              0.2222222222222222,
              "#7201a8"
             ],
             [
              0.3333333333333333,
              "#9c179e"
             ],
             [
              0.4444444444444444,
              "#bd3786"
             ],
             [
              0.5555555555555556,
              "#d8576b"
             ],
             [
              0.6666666666666666,
              "#ed7953"
             ],
             [
              0.7777777777777778,
              "#fb9f3a"
             ],
             [
              0.8888888888888888,
              "#fdca26"
             ],
             [
              1,
              "#f0f921"
             ]
            ],
            "type": "histogram2d"
           }
          ],
          "histogram2dcontour": [
           {
            "colorbar": {
             "outlinewidth": 0,
             "ticks": ""
            },
            "colorscale": [
             [
              0,
              "#0d0887"
             ],
             [
              0.1111111111111111,
              "#46039f"
             ],
             [
              0.2222222222222222,
              "#7201a8"
             ],
             [
              0.3333333333333333,
              "#9c179e"
             ],
             [
              0.4444444444444444,
              "#bd3786"
             ],
             [
              0.5555555555555556,
              "#d8576b"
             ],
             [
              0.6666666666666666,
              "#ed7953"
             ],
             [
              0.7777777777777778,
              "#fb9f3a"
             ],
             [
              0.8888888888888888,
              "#fdca26"
             ],
             [
              1,
              "#f0f921"
             ]
            ],
            "type": "histogram2dcontour"
           }
          ],
          "mesh3d": [
           {
            "colorbar": {
             "outlinewidth": 0,
             "ticks": ""
            },
            "type": "mesh3d"
           }
          ],
          "parcoords": [
           {
            "line": {
             "colorbar": {
              "outlinewidth": 0,
              "ticks": ""
             }
            },
            "type": "parcoords"
           }
          ],
          "pie": [
           {
            "automargin": true,
            "type": "pie"
           }
          ],
          "scatter": [
           {
            "marker": {
             "line": {
              "color": "#283442"
             }
            },
            "type": "scatter"
           }
          ],
          "scatter3d": [
           {
            "line": {
             "colorbar": {
              "outlinewidth": 0,
              "ticks": ""
             }
            },
            "marker": {
             "colorbar": {
              "outlinewidth": 0,
              "ticks": ""
             }
            },
            "type": "scatter3d"
           }
          ],
          "scattercarpet": [
           {
            "marker": {
             "colorbar": {
              "outlinewidth": 0,
              "ticks": ""
             }
            },
            "type": "scattercarpet"
           }
          ],
          "scattergeo": [
           {
            "marker": {
             "colorbar": {
              "outlinewidth": 0,
              "ticks": ""
             }
            },
            "type": "scattergeo"
           }
          ],
          "scattergl": [
           {
            "marker": {
             "line": {
              "color": "#283442"
             }
            },
            "type": "scattergl"
           }
          ],
          "scattermapbox": [
           {
            "marker": {
             "colorbar": {
              "outlinewidth": 0,
              "ticks": ""
             }
            },
            "type": "scattermapbox"
           }
          ],
          "scatterpolar": [
           {
            "marker": {
             "colorbar": {
              "outlinewidth": 0,
              "ticks": ""
             }
            },
            "type": "scatterpolar"
           }
          ],
          "scatterpolargl": [
           {
            "marker": {
             "colorbar": {
              "outlinewidth": 0,
              "ticks": ""
             }
            },
            "type": "scatterpolargl"
           }
          ],
          "scatterternary": [
           {
            "marker": {
             "colorbar": {
              "outlinewidth": 0,
              "ticks": ""
             }
            },
            "type": "scatterternary"
           }
          ],
          "surface": [
           {
            "colorbar": {
             "outlinewidth": 0,
             "ticks": ""
            },
            "colorscale": [
             [
              0,
              "#0d0887"
             ],
             [
              0.1111111111111111,
              "#46039f"
             ],
             [
              0.2222222222222222,
              "#7201a8"
             ],
             [
              0.3333333333333333,
              "#9c179e"
             ],
             [
              0.4444444444444444,
              "#bd3786"
             ],
             [
              0.5555555555555556,
              "#d8576b"
             ],
             [
              0.6666666666666666,
              "#ed7953"
             ],
             [
              0.7777777777777778,
              "#fb9f3a"
             ],
             [
              0.8888888888888888,
              "#fdca26"
             ],
             [
              1,
              "#f0f921"
             ]
            ],
            "type": "surface"
           }
          ],
          "table": [
           {
            "cells": {
             "fill": {
              "color": "#506784"
             },
             "line": {
              "color": "rgb(17,17,17)"
             }
            },
            "header": {
             "fill": {
              "color": "#2a3f5f"
             },
             "line": {
              "color": "rgb(17,17,17)"
             }
            },
            "type": "table"
           }
          ]
         },
         "layout": {
          "annotationdefaults": {
           "arrowcolor": "#f2f5fa",
           "arrowhead": 0,
           "arrowwidth": 1
          },
          "autotypenumbers": "strict",
          "coloraxis": {
           "colorbar": {
            "outlinewidth": 0,
            "ticks": ""
           }
          },
          "colorscale": {
           "diverging": [
            [
             0,
             "#8e0152"
            ],
            [
             0.1,
             "#c51b7d"
            ],
            [
             0.2,
             "#de77ae"
            ],
            [
             0.3,
             "#f1b6da"
            ],
            [
             0.4,
             "#fde0ef"
            ],
            [
             0.5,
             "#f7f7f7"
            ],
            [
             0.6,
             "#e6f5d0"
            ],
            [
             0.7,
             "#b8e186"
            ],
            [
             0.8,
             "#7fbc41"
            ],
            [
             0.9,
             "#4d9221"
            ],
            [
             1,
             "#276419"
            ]
           ],
           "sequential": [
            [
             0,
             "#0d0887"
            ],
            [
             0.1111111111111111,
             "#46039f"
            ],
            [
             0.2222222222222222,
             "#7201a8"
            ],
            [
             0.3333333333333333,
             "#9c179e"
            ],
            [
             0.4444444444444444,
             "#bd3786"
            ],
            [
             0.5555555555555556,
             "#d8576b"
            ],
            [
             0.6666666666666666,
             "#ed7953"
            ],
            [
             0.7777777777777778,
             "#fb9f3a"
            ],
            [
             0.8888888888888888,
             "#fdca26"
            ],
            [
             1,
             "#f0f921"
            ]
           ],
           "sequentialminus": [
            [
             0,
             "#0d0887"
            ],
            [
             0.1111111111111111,
             "#46039f"
            ],
            [
             0.2222222222222222,
             "#7201a8"
            ],
            [
             0.3333333333333333,
             "#9c179e"
            ],
            [
             0.4444444444444444,
             "#bd3786"
            ],
            [
             0.5555555555555556,
             "#d8576b"
            ],
            [
             0.6666666666666666,
             "#ed7953"
            ],
            [
             0.7777777777777778,
             "#fb9f3a"
            ],
            [
             0.8888888888888888,
             "#fdca26"
            ],
            [
             1,
             "#f0f921"
            ]
           ]
          },
          "colorway": [
           "#636efa",
           "#EF553B",
           "#00cc96",
           "#ab63fa",
           "#FFA15A",
           "#19d3f3",
           "#FF6692",
           "#B6E880",
           "#FF97FF",
           "#FECB52"
          ],
          "font": {
           "color": "#f2f5fa"
          },
          "geo": {
           "bgcolor": "rgb(17,17,17)",
           "lakecolor": "rgb(17,17,17)",
           "landcolor": "rgb(17,17,17)",
           "showlakes": true,
           "showland": true,
           "subunitcolor": "#506784"
          },
          "hoverlabel": {
           "align": "left"
          },
          "hovermode": "closest",
          "mapbox": {
           "style": "dark"
          },
          "paper_bgcolor": "rgb(17,17,17)",
          "plot_bgcolor": "rgb(17,17,17)",
          "polar": {
           "angularaxis": {
            "gridcolor": "#506784",
            "linecolor": "#506784",
            "ticks": ""
           },
           "bgcolor": "rgb(17,17,17)",
           "radialaxis": {
            "gridcolor": "#506784",
            "linecolor": "#506784",
            "ticks": ""
           }
          },
          "scene": {
           "xaxis": {
            "backgroundcolor": "rgb(17,17,17)",
            "gridcolor": "#506784",
            "gridwidth": 2,
            "linecolor": "#506784",
            "showbackground": true,
            "ticks": "",
            "zerolinecolor": "#C8D4E3"
           },
           "yaxis": {
            "backgroundcolor": "rgb(17,17,17)",
            "gridcolor": "#506784",
            "gridwidth": 2,
            "linecolor": "#506784",
            "showbackground": true,
            "ticks": "",
            "zerolinecolor": "#C8D4E3"
           },
           "zaxis": {
            "backgroundcolor": "rgb(17,17,17)",
            "gridcolor": "#506784",
            "gridwidth": 2,
            "linecolor": "#506784",
            "showbackground": true,
            "ticks": "",
            "zerolinecolor": "#C8D4E3"
           }
          },
          "shapedefaults": {
           "line": {
            "color": "#f2f5fa"
           }
          },
          "sliderdefaults": {
           "bgcolor": "#C8D4E3",
           "bordercolor": "rgb(17,17,17)",
           "borderwidth": 1,
           "tickwidth": 0
          },
          "ternary": {
           "aaxis": {
            "gridcolor": "#506784",
            "linecolor": "#506784",
            "ticks": ""
           },
           "baxis": {
            "gridcolor": "#506784",
            "linecolor": "#506784",
            "ticks": ""
           },
           "bgcolor": "rgb(17,17,17)",
           "caxis": {
            "gridcolor": "#506784",
            "linecolor": "#506784",
            "ticks": ""
           }
          },
          "title": {
           "x": 0.05
          },
          "updatemenudefaults": {
           "bgcolor": "#506784",
           "borderwidth": 0
          },
          "xaxis": {
           "automargin": true,
           "gridcolor": "#283442",
           "linecolor": "#506784",
           "ticks": "",
           "title": {
            "standoff": 15
           },
           "zerolinecolor": "#283442",
           "zerolinewidth": 2
          },
          "yaxis": {
           "automargin": true,
           "gridcolor": "#283442",
           "linecolor": "#506784",
           "ticks": "",
           "title": {
            "standoff": 15
           },
           "zerolinecolor": "#283442",
           "zerolinewidth": 2
          }
         }
        },
        "title": {
         "text": "Association Actuals vs Predictions"
        },
        "width": 1700,
        "xaxis": {
         "anchor": "y",
         "domain": [
          0,
          1
         ],
         "title": {
          "text": "Predicted"
         }
        },
        "yaxis": {
         "anchor": "x",
         "domain": [
          0,
          1
         ],
         "title": {
          "text": "Actual user revenue"
         }
        }
       }
      }
     },
     "metadata": {},
     "output_type": "display_data"
    }
   ],
   "source": [
    "pdf = pd.DataFrame({'y_test': agg_df_train['d7_28_increase_api'].values, 'predictions': predictions, 'installs': agg_df_train['te_installs']})\n",
    "\n",
    "fig = px.scatter(pdf, x='predictions', y='y_test', title='Association Actuals vs Predictions', trendline='ols',\n",
    "                 labels={'predictions': 'X-axis Label', 'y_test': 'Y-axis Label'},\n",
    "                 template='plotly_dark',\n",
    "                 hover_data=['predictions', 'y_test'],\n",
    "                 size='installs',  # Set size proportional to 'installs'\n",
    "                 )\n",
    "\n",
    "# Customize the layout\n",
    "fig.update_layout(\n",
    "    width=1700,\n",
    "    height=800,\n",
    "    xaxis=dict(title_text='Predicted'),\n",
    "    yaxis=dict(title_text='Actual user revenue'),\n",
    "    legend=dict(title='Legend Title'),\n",
    "    showlegend=True\n",
    ")\n",
    "\n",
    "# Show the plot\n",
    "fig.show()"
   ]
  },
  {
   "cell_type": "code",
   "execution_count": 37,
   "metadata": {},
   "outputs": [
    {
     "data": {
      "application/vnd.plotly.v1+json": {
       "config": {
        "plotlyServerURL": "https://plot.ly"
       },
       "data": [
        {
         "hovertemplate": "X-axis Label=%{x}<br>Y-axis Label=%{y}<extra></extra>",
         "legendgroup": "",
         "marker": {
          "color": "#636efa",
          "symbol": "circle"
         },
         "mode": "markers",
         "name": "",
         "orientation": "v",
         "showlegend": false,
         "type": "scatter",
         "x": [
          0.19165302489841685,
          0.23651770669110395,
          0.4910265347338485,
          0.23970362119383196,
          0.4763269331591211,
          0.27395243010399073,
          0.6221917029353394,
          0.025106459050652223,
          0.2910513094599429,
          1.0744885369650259,
          0.7325796907055111,
          0.41542816598831184,
          0.799338167513288,
          0.1910449844776346,
          0.7210921315722287,
          0.32822688076484346,
          0.2655747003252576,
          0.18541210825796953,
          0.23341143022425126,
          0.3552282405042787,
          0.3754456281036178,
          0.9354841458649292,
          0.6663868702921896,
          0.29630938171918947,
          0.5134561077556004,
          0.15336128125803966,
          0.15686881103666594,
          0.1876629637365385,
          0.12986143414058812,
          0.2900050018498298,
          0.09113166454504869,
          0.27284267946070695,
          0.5324408248873629,
          0.4422917586401881,
          0.37011343294560234,
          0.5023719075931824,
          0.4634697238246574,
          0.1583134048707876,
          0.4566174279152366,
          0.3767551507579414,
          0.19322366666951896,
          0.10942197780631814,
          0.19805768193416795,
          0.41811973451874873,
          0.46700186958960277,
          0.26429456726631617,
          0.516406308689461,
          0.42053554561529627,
          0.32329340934637774,
          0.1607743531779272,
          0.26400237683076844
         ],
         "xaxis": "x",
         "y": [
          0.252054331924488,
          0.23031811087256754,
          0.49021416466256007,
          0.25692497894523636,
          0.47690375199178414,
          0.22613897607538658,
          0.47142476016102974,
          0.2587437257871683,
          0.34285531423465176,
          0.8800965713644399,
          1.1499103460759297,
          0.3234685961583983,
          2.2711295809474725,
          0.5452441820233351,
          0.7208209579905923,
          0.27010332219408684,
          0.2676927799952117,
          0.18541187699379136,
          0.3002457223928132,
          0.3423073732131845,
          0.5840965475578763,
          0.9354841459497452,
          0.5053205997578862,
          0.2963096789103848,
          0.33923195970542763,
          0.17131866232097437,
          0.153874894318817,
          0.16302125568745854,
          0.12985944770559898,
          0.3046140177061822,
          0.014810295172154347,
          0.24340816330872497,
          0.30101087114279623,
          0.44230783208335434,
          0.49624034010780005,
          0.4851488466973276,
          0.4859936857169416,
          0.27764173867020203,
          0.572906499913434,
          0.2421577065179149,
          0.2292006924068361,
          0.10942163000579856,
          0.2154566888373856,
          0.418119391073469,
          0.5118180410449087,
          0.4807219461610218,
          0.3839284616301146,
          0.2946903098526341,
          0.35552409889071807,
          0.16023954242304625,
          0.19415326749512266
         ],
         "yaxis": "y"
        },
        {
         "hovertemplate": "<b>OLS trendline</b><br>y_test = 1.12325 * predictions + -0.00822688<br>R<sup>2</sup>=0.516263<br><br>X-axis Label=%{x}<br>Y-axis Label=%{y} <b>(trend)</b><extra></extra>",
         "legendgroup": "",
         "marker": {
          "color": "#636efa",
          "symbol": "circle"
         },
         "mode": "lines",
         "name": "",
         "showlegend": false,
         "type": "scatter",
         "x": [
          0.025106459050652223,
          0.09113166454504869,
          0.10942197780631814,
          0.12986143414058812,
          0.15336128125803966,
          0.15686881103666594,
          0.1583134048707876,
          0.1607743531779272,
          0.18541210825796953,
          0.1876629637365385,
          0.1910449844776346,
          0.19165302489841685,
          0.19322366666951896,
          0.19805768193416795,
          0.23341143022425126,
          0.23651770669110395,
          0.23970362119383196,
          0.26400237683076844,
          0.26429456726631617,
          0.2655747003252576,
          0.27284267946070695,
          0.27395243010399073,
          0.2900050018498298,
          0.2910513094599429,
          0.29630938171918947,
          0.32329340934637774,
          0.32822688076484346,
          0.3552282405042787,
          0.37011343294560234,
          0.3754456281036178,
          0.3767551507579414,
          0.41542816598831184,
          0.41811973451874873,
          0.42053554561529627,
          0.4422917586401881,
          0.4566174279152366,
          0.4634697238246574,
          0.46700186958960277,
          0.4763269331591211,
          0.4910265347338485,
          0.5023719075931824,
          0.5134561077556004,
          0.516406308689461,
          0.5324408248873629,
          0.6221917029353394,
          0.6663868702921896,
          0.7210921315722287,
          0.7325796907055111,
          0.799338167513288,
          0.9354841458649292,
          1.0744885369650259
         ],
         "xaxis": "x",
         "y": [
          0.019973911488719527,
          0.09413663201839922,
          0.11468120103016766,
          0.13763979201896367,
          0.1640359627118314,
          0.16797579067259205,
          0.1695984286938846,
          0.17236268546785063,
          0.20003700970202434,
          0.20256527999758558,
          0.20636413010595483,
          0.20704711066556927,
          0.2088113318573136,
          0.21424113280111823,
          0.253952181551078,
          0.2574413022857142,
          0.26101987633373175,
          0.28831341991344905,
          0.288641622415065,
          0.29007953009865617,
          0.29824327758572183,
          0.2994898034571555,
          0.31752083241427603,
          0.3186960959866625,
          0.32460221836170694,
          0.3549119899814282,
          0.3604535049121146,
          0.3907827448028868,
          0.40750251657474557,
          0.41349189739306313,
          0.4149628168989195,
          0.45840222763749605,
          0.46142552825753297,
          0.46413908472228277,
          0.48857672083817744,
          0.5046680089892792,
          0.5123648408690402,
          0.5163323187023044,
          0.5268066834278543,
          0.5433179905161248,
          0.5560616648503638,
          0.5685119773148998,
          0.5718257864234966,
          0.5898365345114301,
          0.690649083842009,
          0.7402912443003611,
          0.8017388531860157,
          0.8146422380553304,
          0.8896286045711067,
          1.0425543859924082,
          1.1986908755703118
         ],
         "yaxis": "y"
        }
       ],
       "layout": {
        "height": 800,
        "legend": {
         "title": {
          "text": "Legend Title"
         },
         "tracegroupgap": 0
        },
        "showlegend": true,
        "template": {
         "data": {
          "bar": [
           {
            "error_x": {
             "color": "#f2f5fa"
            },
            "error_y": {
             "color": "#f2f5fa"
            },
            "marker": {
             "line": {
              "color": "rgb(17,17,17)",
              "width": 0.5
             },
             "pattern": {
              "fillmode": "overlay",
              "size": 10,
              "solidity": 0.2
             }
            },
            "type": "bar"
           }
          ],
          "barpolar": [
           {
            "marker": {
             "line": {
              "color": "rgb(17,17,17)",
              "width": 0.5
             },
             "pattern": {
              "fillmode": "overlay",
              "size": 10,
              "solidity": 0.2
             }
            },
            "type": "barpolar"
           }
          ],
          "carpet": [
           {
            "aaxis": {
             "endlinecolor": "#A2B1C6",
             "gridcolor": "#506784",
             "linecolor": "#506784",
             "minorgridcolor": "#506784",
             "startlinecolor": "#A2B1C6"
            },
            "baxis": {
             "endlinecolor": "#A2B1C6",
             "gridcolor": "#506784",
             "linecolor": "#506784",
             "minorgridcolor": "#506784",
             "startlinecolor": "#A2B1C6"
            },
            "type": "carpet"
           }
          ],
          "choropleth": [
           {
            "colorbar": {
             "outlinewidth": 0,
             "ticks": ""
            },
            "type": "choropleth"
           }
          ],
          "contour": [
           {
            "colorbar": {
             "outlinewidth": 0,
             "ticks": ""
            },
            "colorscale": [
             [
              0,
              "#0d0887"
             ],
             [
              0.1111111111111111,
              "#46039f"
             ],
             [
              0.2222222222222222,
              "#7201a8"
             ],
             [
              0.3333333333333333,
              "#9c179e"
             ],
             [
              0.4444444444444444,
              "#bd3786"
             ],
             [
              0.5555555555555556,
              "#d8576b"
             ],
             [
              0.6666666666666666,
              "#ed7953"
             ],
             [
              0.7777777777777778,
              "#fb9f3a"
             ],
             [
              0.8888888888888888,
              "#fdca26"
             ],
             [
              1,
              "#f0f921"
             ]
            ],
            "type": "contour"
           }
          ],
          "contourcarpet": [
           {
            "colorbar": {
             "outlinewidth": 0,
             "ticks": ""
            },
            "type": "contourcarpet"
           }
          ],
          "heatmap": [
           {
            "colorbar": {
             "outlinewidth": 0,
             "ticks": ""
            },
            "colorscale": [
             [
              0,
              "#0d0887"
             ],
             [
              0.1111111111111111,
              "#46039f"
             ],
             [
              0.2222222222222222,
              "#7201a8"
             ],
             [
              0.3333333333333333,
              "#9c179e"
             ],
             [
              0.4444444444444444,
              "#bd3786"
             ],
             [
              0.5555555555555556,
              "#d8576b"
             ],
             [
              0.6666666666666666,
              "#ed7953"
             ],
             [
              0.7777777777777778,
              "#fb9f3a"
             ],
             [
              0.8888888888888888,
              "#fdca26"
             ],
             [
              1,
              "#f0f921"
             ]
            ],
            "type": "heatmap"
           }
          ],
          "heatmapgl": [
           {
            "colorbar": {
             "outlinewidth": 0,
             "ticks": ""
            },
            "colorscale": [
             [
              0,
              "#0d0887"
             ],
             [
              0.1111111111111111,
              "#46039f"
             ],
             [
              0.2222222222222222,
              "#7201a8"
             ],
             [
              0.3333333333333333,
              "#9c179e"
             ],
             [
              0.4444444444444444,
              "#bd3786"
             ],
             [
              0.5555555555555556,
              "#d8576b"
             ],
             [
              0.6666666666666666,
              "#ed7953"
             ],
             [
              0.7777777777777778,
              "#fb9f3a"
             ],
             [
              0.8888888888888888,
              "#fdca26"
             ],
             [
              1,
              "#f0f921"
             ]
            ],
            "type": "heatmapgl"
           }
          ],
          "histogram": [
           {
            "marker": {
             "pattern": {
              "fillmode": "overlay",
              "size": 10,
              "solidity": 0.2
             }
            },
            "type": "histogram"
           }
          ],
          "histogram2d": [
           {
            "colorbar": {
             "outlinewidth": 0,
             "ticks": ""
            },
            "colorscale": [
             [
              0,
              "#0d0887"
             ],
             [
              0.1111111111111111,
              "#46039f"
             ],
             [
              0.2222222222222222,
              "#7201a8"
             ],
             [
              0.3333333333333333,
              "#9c179e"
             ],
             [
              0.4444444444444444,
              "#bd3786"
             ],
             [
              0.5555555555555556,
              "#d8576b"
             ],
             [
              0.6666666666666666,
              "#ed7953"
             ],
             [
              0.7777777777777778,
              "#fb9f3a"
             ],
             [
              0.8888888888888888,
              "#fdca26"
             ],
             [
              1,
              "#f0f921"
             ]
            ],
            "type": "histogram2d"
           }
          ],
          "histogram2dcontour": [
           {
            "colorbar": {
             "outlinewidth": 0,
             "ticks": ""
            },
            "colorscale": [
             [
              0,
              "#0d0887"
             ],
             [
              0.1111111111111111,
              "#46039f"
             ],
             [
              0.2222222222222222,
              "#7201a8"
             ],
             [
              0.3333333333333333,
              "#9c179e"
             ],
             [
              0.4444444444444444,
              "#bd3786"
             ],
             [
              0.5555555555555556,
              "#d8576b"
             ],
             [
              0.6666666666666666,
              "#ed7953"
             ],
             [
              0.7777777777777778,
              "#fb9f3a"
             ],
             [
              0.8888888888888888,
              "#fdca26"
             ],
             [
              1,
              "#f0f921"
             ]
            ],
            "type": "histogram2dcontour"
           }
          ],
          "mesh3d": [
           {
            "colorbar": {
             "outlinewidth": 0,
             "ticks": ""
            },
            "type": "mesh3d"
           }
          ],
          "parcoords": [
           {
            "line": {
             "colorbar": {
              "outlinewidth": 0,
              "ticks": ""
             }
            },
            "type": "parcoords"
           }
          ],
          "pie": [
           {
            "automargin": true,
            "type": "pie"
           }
          ],
          "scatter": [
           {
            "marker": {
             "line": {
              "color": "#283442"
             }
            },
            "type": "scatter"
           }
          ],
          "scatter3d": [
           {
            "line": {
             "colorbar": {
              "outlinewidth": 0,
              "ticks": ""
             }
            },
            "marker": {
             "colorbar": {
              "outlinewidth": 0,
              "ticks": ""
             }
            },
            "type": "scatter3d"
           }
          ],
          "scattercarpet": [
           {
            "marker": {
             "colorbar": {
              "outlinewidth": 0,
              "ticks": ""
             }
            },
            "type": "scattercarpet"
           }
          ],
          "scattergeo": [
           {
            "marker": {
             "colorbar": {
              "outlinewidth": 0,
              "ticks": ""
             }
            },
            "type": "scattergeo"
           }
          ],
          "scattergl": [
           {
            "marker": {
             "line": {
              "color": "#283442"
             }
            },
            "type": "scattergl"
           }
          ],
          "scattermapbox": [
           {
            "marker": {
             "colorbar": {
              "outlinewidth": 0,
              "ticks": ""
             }
            },
            "type": "scattermapbox"
           }
          ],
          "scatterpolar": [
           {
            "marker": {
             "colorbar": {
              "outlinewidth": 0,
              "ticks": ""
             }
            },
            "type": "scatterpolar"
           }
          ],
          "scatterpolargl": [
           {
            "marker": {
             "colorbar": {
              "outlinewidth": 0,
              "ticks": ""
             }
            },
            "type": "scatterpolargl"
           }
          ],
          "scatterternary": [
           {
            "marker": {
             "colorbar": {
              "outlinewidth": 0,
              "ticks": ""
             }
            },
            "type": "scatterternary"
           }
          ],
          "surface": [
           {
            "colorbar": {
             "outlinewidth": 0,
             "ticks": ""
            },
            "colorscale": [
             [
              0,
              "#0d0887"
             ],
             [
              0.1111111111111111,
              "#46039f"
             ],
             [
              0.2222222222222222,
              "#7201a8"
             ],
             [
              0.3333333333333333,
              "#9c179e"
             ],
             [
              0.4444444444444444,
              "#bd3786"
             ],
             [
              0.5555555555555556,
              "#d8576b"
             ],
             [
              0.6666666666666666,
              "#ed7953"
             ],
             [
              0.7777777777777778,
              "#fb9f3a"
             ],
             [
              0.8888888888888888,
              "#fdca26"
             ],
             [
              1,
              "#f0f921"
             ]
            ],
            "type": "surface"
           }
          ],
          "table": [
           {
            "cells": {
             "fill": {
              "color": "#506784"
             },
             "line": {
              "color": "rgb(17,17,17)"
             }
            },
            "header": {
             "fill": {
              "color": "#2a3f5f"
             },
             "line": {
              "color": "rgb(17,17,17)"
             }
            },
            "type": "table"
           }
          ]
         },
         "layout": {
          "annotationdefaults": {
           "arrowcolor": "#f2f5fa",
           "arrowhead": 0,
           "arrowwidth": 1
          },
          "autotypenumbers": "strict",
          "coloraxis": {
           "colorbar": {
            "outlinewidth": 0,
            "ticks": ""
           }
          },
          "colorscale": {
           "diverging": [
            [
             0,
             "#8e0152"
            ],
            [
             0.1,
             "#c51b7d"
            ],
            [
             0.2,
             "#de77ae"
            ],
            [
             0.3,
             "#f1b6da"
            ],
            [
             0.4,
             "#fde0ef"
            ],
            [
             0.5,
             "#f7f7f7"
            ],
            [
             0.6,
             "#e6f5d0"
            ],
            [
             0.7,
             "#b8e186"
            ],
            [
             0.8,
             "#7fbc41"
            ],
            [
             0.9,
             "#4d9221"
            ],
            [
             1,
             "#276419"
            ]
           ],
           "sequential": [
            [
             0,
             "#0d0887"
            ],
            [
             0.1111111111111111,
             "#46039f"
            ],
            [
             0.2222222222222222,
             "#7201a8"
            ],
            [
             0.3333333333333333,
             "#9c179e"
            ],
            [
             0.4444444444444444,
             "#bd3786"
            ],
            [
             0.5555555555555556,
             "#d8576b"
            ],
            [
             0.6666666666666666,
             "#ed7953"
            ],
            [
             0.7777777777777778,
             "#fb9f3a"
            ],
            [
             0.8888888888888888,
             "#fdca26"
            ],
            [
             1,
             "#f0f921"
            ]
           ],
           "sequentialminus": [
            [
             0,
             "#0d0887"
            ],
            [
             0.1111111111111111,
             "#46039f"
            ],
            [
             0.2222222222222222,
             "#7201a8"
            ],
            [
             0.3333333333333333,
             "#9c179e"
            ],
            [
             0.4444444444444444,
             "#bd3786"
            ],
            [
             0.5555555555555556,
             "#d8576b"
            ],
            [
             0.6666666666666666,
             "#ed7953"
            ],
            [
             0.7777777777777778,
             "#fb9f3a"
            ],
            [
             0.8888888888888888,
             "#fdca26"
            ],
            [
             1,
             "#f0f921"
            ]
           ]
          },
          "colorway": [
           "#636efa",
           "#EF553B",
           "#00cc96",
           "#ab63fa",
           "#FFA15A",
           "#19d3f3",
           "#FF6692",
           "#B6E880",
           "#FF97FF",
           "#FECB52"
          ],
          "font": {
           "color": "#f2f5fa"
          },
          "geo": {
           "bgcolor": "rgb(17,17,17)",
           "lakecolor": "rgb(17,17,17)",
           "landcolor": "rgb(17,17,17)",
           "showlakes": true,
           "showland": true,
           "subunitcolor": "#506784"
          },
          "hoverlabel": {
           "align": "left"
          },
          "hovermode": "closest",
          "mapbox": {
           "style": "dark"
          },
          "paper_bgcolor": "rgb(17,17,17)",
          "plot_bgcolor": "rgb(17,17,17)",
          "polar": {
           "angularaxis": {
            "gridcolor": "#506784",
            "linecolor": "#506784",
            "ticks": ""
           },
           "bgcolor": "rgb(17,17,17)",
           "radialaxis": {
            "gridcolor": "#506784",
            "linecolor": "#506784",
            "ticks": ""
           }
          },
          "scene": {
           "xaxis": {
            "backgroundcolor": "rgb(17,17,17)",
            "gridcolor": "#506784",
            "gridwidth": 2,
            "linecolor": "#506784",
            "showbackground": true,
            "ticks": "",
            "zerolinecolor": "#C8D4E3"
           },
           "yaxis": {
            "backgroundcolor": "rgb(17,17,17)",
            "gridcolor": "#506784",
            "gridwidth": 2,
            "linecolor": "#506784",
            "showbackground": true,
            "ticks": "",
            "zerolinecolor": "#C8D4E3"
           },
           "zaxis": {
            "backgroundcolor": "rgb(17,17,17)",
            "gridcolor": "#506784",
            "gridwidth": 2,
            "linecolor": "#506784",
            "showbackground": true,
            "ticks": "",
            "zerolinecolor": "#C8D4E3"
           }
          },
          "shapedefaults": {
           "line": {
            "color": "#f2f5fa"
           }
          },
          "sliderdefaults": {
           "bgcolor": "#C8D4E3",
           "bordercolor": "rgb(17,17,17)",
           "borderwidth": 1,
           "tickwidth": 0
          },
          "ternary": {
           "aaxis": {
            "gridcolor": "#506784",
            "linecolor": "#506784",
            "ticks": ""
           },
           "baxis": {
            "gridcolor": "#506784",
            "linecolor": "#506784",
            "ticks": ""
           },
           "bgcolor": "rgb(17,17,17)",
           "caxis": {
            "gridcolor": "#506784",
            "linecolor": "#506784",
            "ticks": ""
           }
          },
          "title": {
           "x": 0.05
          },
          "updatemenudefaults": {
           "bgcolor": "#506784",
           "borderwidth": 0
          },
          "xaxis": {
           "automargin": true,
           "gridcolor": "#283442",
           "linecolor": "#506784",
           "ticks": "",
           "title": {
            "standoff": 15
           },
           "zerolinecolor": "#283442",
           "zerolinewidth": 2
          },
          "yaxis": {
           "automargin": true,
           "gridcolor": "#283442",
           "linecolor": "#506784",
           "ticks": "",
           "title": {
            "standoff": 15
           },
           "zerolinecolor": "#283442",
           "zerolinewidth": 2
          }
         }
        },
        "title": {
         "text": "Association Actuals vs Predictions"
        },
        "width": 1700,
        "xaxis": {
         "anchor": "y",
         "domain": [
          0,
          1
         ],
         "title": {
          "text": "Predicted"
         }
        },
        "yaxis": {
         "anchor": "x",
         "domain": [
          0,
          1
         ],
         "title": {
          "text": "Actual user revenue"
         }
        }
       }
      }
     },
     "metadata": {},
     "output_type": "display_data"
    }
   ],
   "source": [
    "pdf = pd.DataFrame({'y_test': ((agg_df_train['revenue_d7'].values - agg_df_train['withdraw_d7'].values)/agg_df_train['cost'].values + agg_df_train['d7_28_increase_api'].values), 'predictions': ((agg_df_train['revenue_d7'].values - agg_df_train['withdraw_d7'].values)/agg_df_train['cost'].values + predictions)})\n",
    "\n",
    "fig = px.scatter(pdf, x='predictions', y='y_test', title='Association Actuals vs Predictions', trendline='ols',\n",
    "                 labels={'predictions': 'X-axis Label', 'y_test': 'Y-axis Label'},\n",
    "                 template='plotly_dark',\n",
    "                 hover_data=['predictions', 'y_test']\n",
    "                )\n",
    "\n",
    "# Customize the layout\n",
    "fig.update_layout(\n",
    "    width=1700,\n",
    "    height=800,\n",
    "    xaxis=dict(title_text='Predicted'),\n",
    "    yaxis=dict(title_text='Actual user revenue'),\n",
    "    legend=dict(title='Legend Title'),\n",
    "    showlegend=True\n",
    ")\n",
    "\n",
    "# Show the plot\n",
    "fig.show()"
   ]
  },
  {
   "cell_type": "markdown",
   "metadata": {},
   "source": [
    "## Fit to dictionary based on availables"
   ]
  },
  {
   "cell_type": "code",
   "execution_count": 38,
   "metadata": {},
   "outputs": [],
   "source": [
    "dev_df = agg_df_train.copy(deep = True)\n",
    "\n",
    "columns_rule = ['revenue_d7','withdraw_d7','installs','payment_increase','rpi_increase','installs_difference','is_facebook','pred_roas','roas_d7','withdrawn_ratio']\n",
    "columns_rule = ['revenue_d7','withdraw_d7','payment_increase','rpi_increase','installs_difference']\n",
    "\n",
    "max_date = df['date'].max()\n",
    "dev_df['days_since_install'] = (max_date - dev_df['date']) # Needed? Yes\n"
   ]
  },
  {
   "cell_type": "code",
   "execution_count": 39,
   "metadata": {},
   "outputs": [
    {
     "name": "stderr",
     "output_type": "stream",
     "text": [
      "100%|██████████| 2/2 [00:00<00:00,  4.02it/s]\n"
     ]
    },
    {
     "data": {
      "text/html": [
       "<div>\n",
       "<style scoped>\n",
       "    .dataframe tbody tr th:only-of-type {\n",
       "        vertical-align: middle;\n",
       "    }\n",
       "\n",
       "    .dataframe tbody tr th {\n",
       "        vertical-align: top;\n",
       "    }\n",
       "\n",
       "    .dataframe thead th {\n",
       "        text-align: right;\n",
       "    }\n",
       "</style>\n",
       "<table border=\"1\" class=\"dataframe\">\n",
       "  <thead>\n",
       "    <tr style=\"text-align: right;\">\n",
       "      <th></th>\n",
       "      <th>Available day</th>\n",
       "      <th>Target day</th>\n",
       "      <th>Model</th>\n",
       "      <th>Columns</th>\n",
       "    </tr>\n",
       "  </thead>\n",
       "  <tbody>\n",
       "    <tr>\n",
       "      <th>0</th>\n",
       "      <td>7</td>\n",
       "      <td>14</td>\n",
       "      <td>(ColumnTransformer(remainder='passthrough',\\n ...</td>\n",
       "      <td>Index(['revenue_d7', 'withdraw_d7', 'payment_i...</td>\n",
       "    </tr>\n",
       "    <tr>\n",
       "      <th>1</th>\n",
       "      <td>8</td>\n",
       "      <td>14</td>\n",
       "      <td>(ColumnTransformer(remainder='passthrough',\\n ...</td>\n",
       "      <td>Index(['revenue_d7', 'withdraw_d7', 'payment_i...</td>\n",
       "    </tr>\n",
       "    <tr>\n",
       "      <th>2</th>\n",
       "      <td>9</td>\n",
       "      <td>14</td>\n",
       "      <td>(ColumnTransformer(remainder='passthrough',\\n ...</td>\n",
       "      <td>Index(['revenue_d7', 'withdraw_d7', 'payment_i...</td>\n",
       "    </tr>\n",
       "    <tr>\n",
       "      <th>3</th>\n",
       "      <td>10</td>\n",
       "      <td>14</td>\n",
       "      <td>(ColumnTransformer(remainder='passthrough',\\n ...</td>\n",
       "      <td>Index(['revenue_d7', 'withdraw_d7', 'payment_i...</td>\n",
       "    </tr>\n",
       "    <tr>\n",
       "      <th>4</th>\n",
       "      <td>11</td>\n",
       "      <td>14</td>\n",
       "      <td>(ColumnTransformer(remainder='passthrough',\\n ...</td>\n",
       "      <td>Index(['revenue_d7', 'withdraw_d7', 'payment_i...</td>\n",
       "    </tr>\n",
       "    <tr>\n",
       "      <th>5</th>\n",
       "      <td>12</td>\n",
       "      <td>14</td>\n",
       "      <td>(ColumnTransformer(remainder='passthrough',\\n ...</td>\n",
       "      <td>Index(['revenue_d7', 'withdraw_d7', 'payment_i...</td>\n",
       "    </tr>\n",
       "    <tr>\n",
       "      <th>6</th>\n",
       "      <td>13</td>\n",
       "      <td>14</td>\n",
       "      <td>(ColumnTransformer(remainder='passthrough',\\n ...</td>\n",
       "      <td>Index(['revenue_d7', 'withdraw_d7', 'payment_i...</td>\n",
       "    </tr>\n",
       "    <tr>\n",
       "      <th>7</th>\n",
       "      <td>7</td>\n",
       "      <td>28</td>\n",
       "      <td>(ColumnTransformer(remainder='passthrough',\\n ...</td>\n",
       "      <td>Index(['revenue_d7', 'withdraw_d7', 'payment_i...</td>\n",
       "    </tr>\n",
       "    <tr>\n",
       "      <th>8</th>\n",
       "      <td>8</td>\n",
       "      <td>28</td>\n",
       "      <td>(ColumnTransformer(remainder='passthrough',\\n ...</td>\n",
       "      <td>Index(['revenue_d7', 'withdraw_d7', 'payment_i...</td>\n",
       "    </tr>\n",
       "    <tr>\n",
       "      <th>9</th>\n",
       "      <td>9</td>\n",
       "      <td>28</td>\n",
       "      <td>(ColumnTransformer(remainder='passthrough',\\n ...</td>\n",
       "      <td>Index(['revenue_d7', 'withdraw_d7', 'payment_i...</td>\n",
       "    </tr>\n",
       "    <tr>\n",
       "      <th>10</th>\n",
       "      <td>10</td>\n",
       "      <td>28</td>\n",
       "      <td>(ColumnTransformer(remainder='passthrough',\\n ...</td>\n",
       "      <td>Index(['revenue_d7', 'withdraw_d7', 'payment_i...</td>\n",
       "    </tr>\n",
       "    <tr>\n",
       "      <th>11</th>\n",
       "      <td>11</td>\n",
       "      <td>28</td>\n",
       "      <td>(ColumnTransformer(remainder='passthrough',\\n ...</td>\n",
       "      <td>Index(['revenue_d7', 'withdraw_d7', 'payment_i...</td>\n",
       "    </tr>\n",
       "    <tr>\n",
       "      <th>12</th>\n",
       "      <td>12</td>\n",
       "      <td>28</td>\n",
       "      <td>(ColumnTransformer(remainder='passthrough',\\n ...</td>\n",
       "      <td>Index(['revenue_d7', 'withdraw_d7', 'payment_i...</td>\n",
       "    </tr>\n",
       "    <tr>\n",
       "      <th>13</th>\n",
       "      <td>13</td>\n",
       "      <td>28</td>\n",
       "      <td>(ColumnTransformer(remainder='passthrough',\\n ...</td>\n",
       "      <td>Index(['revenue_d7', 'withdraw_d7', 'payment_i...</td>\n",
       "    </tr>\n",
       "    <tr>\n",
       "      <th>14</th>\n",
       "      <td>14</td>\n",
       "      <td>28</td>\n",
       "      <td>(ColumnTransformer(remainder='passthrough',\\n ...</td>\n",
       "      <td>Index(['revenue_d7', 'withdraw_d7', 'payment_i...</td>\n",
       "    </tr>\n",
       "    <tr>\n",
       "      <th>15</th>\n",
       "      <td>15</td>\n",
       "      <td>28</td>\n",
       "      <td>(ColumnTransformer(remainder='passthrough',\\n ...</td>\n",
       "      <td>Index(['revenue_d7', 'withdraw_d7', 'payment_i...</td>\n",
       "    </tr>\n",
       "    <tr>\n",
       "      <th>16</th>\n",
       "      <td>16</td>\n",
       "      <td>28</td>\n",
       "      <td>(ColumnTransformer(remainder='passthrough',\\n ...</td>\n",
       "      <td>Index(['revenue_d7', 'withdraw_d7', 'payment_i...</td>\n",
       "    </tr>\n",
       "    <tr>\n",
       "      <th>17</th>\n",
       "      <td>17</td>\n",
       "      <td>28</td>\n",
       "      <td>(ColumnTransformer(remainder='passthrough',\\n ...</td>\n",
       "      <td>Index(['revenue_d7', 'withdraw_d7', 'payment_i...</td>\n",
       "    </tr>\n",
       "    <tr>\n",
       "      <th>18</th>\n",
       "      <td>18</td>\n",
       "      <td>28</td>\n",
       "      <td>(ColumnTransformer(remainder='passthrough',\\n ...</td>\n",
       "      <td>Index(['revenue_d7', 'withdraw_d7', 'payment_i...</td>\n",
       "    </tr>\n",
       "    <tr>\n",
       "      <th>19</th>\n",
       "      <td>19</td>\n",
       "      <td>28</td>\n",
       "      <td>(ColumnTransformer(remainder='passthrough',\\n ...</td>\n",
       "      <td>Index(['revenue_d7', 'withdraw_d7', 'payment_i...</td>\n",
       "    </tr>\n",
       "    <tr>\n",
       "      <th>20</th>\n",
       "      <td>20</td>\n",
       "      <td>28</td>\n",
       "      <td>(ColumnTransformer(remainder='passthrough',\\n ...</td>\n",
       "      <td>Index(['revenue_d7', 'withdraw_d7', 'payment_i...</td>\n",
       "    </tr>\n",
       "    <tr>\n",
       "      <th>21</th>\n",
       "      <td>21</td>\n",
       "      <td>28</td>\n",
       "      <td>(ColumnTransformer(remainder='passthrough',\\n ...</td>\n",
       "      <td>Index(['revenue_d7', 'withdraw_d7', 'payment_i...</td>\n",
       "    </tr>\n",
       "    <tr>\n",
       "      <th>22</th>\n",
       "      <td>22</td>\n",
       "      <td>28</td>\n",
       "      <td>(ColumnTransformer(remainder='passthrough',\\n ...</td>\n",
       "      <td>Index(['revenue_d7', 'withdraw_d7', 'payment_i...</td>\n",
       "    </tr>\n",
       "    <tr>\n",
       "      <th>23</th>\n",
       "      <td>23</td>\n",
       "      <td>28</td>\n",
       "      <td>(ColumnTransformer(remainder='passthrough',\\n ...</td>\n",
       "      <td>Index(['revenue_d7', 'withdraw_d7', 'payment_i...</td>\n",
       "    </tr>\n",
       "    <tr>\n",
       "      <th>24</th>\n",
       "      <td>24</td>\n",
       "      <td>28</td>\n",
       "      <td>(ColumnTransformer(remainder='passthrough',\\n ...</td>\n",
       "      <td>Index(['revenue_d7', 'withdraw_d7', 'payment_i...</td>\n",
       "    </tr>\n",
       "    <tr>\n",
       "      <th>25</th>\n",
       "      <td>25</td>\n",
       "      <td>28</td>\n",
       "      <td>(ColumnTransformer(remainder='passthrough',\\n ...</td>\n",
       "      <td>Index(['revenue_d7', 'withdraw_d7', 'payment_i...</td>\n",
       "    </tr>\n",
       "    <tr>\n",
       "      <th>26</th>\n",
       "      <td>26</td>\n",
       "      <td>28</td>\n",
       "      <td>(ColumnTransformer(remainder='passthrough',\\n ...</td>\n",
       "      <td>Index(['revenue_d7', 'withdraw_d7', 'payment_i...</td>\n",
       "    </tr>\n",
       "    <tr>\n",
       "      <th>27</th>\n",
       "      <td>27</td>\n",
       "      <td>28</td>\n",
       "      <td>(ColumnTransformer(remainder='passthrough',\\n ...</td>\n",
       "      <td>Index(['revenue_d7', 'withdraw_d7', 'payment_i...</td>\n",
       "    </tr>\n",
       "  </tbody>\n",
       "</table>\n",
       "</div>"
      ],
      "text/plain": [
       "   Available day Target day  \\\n",
       "0              7         14   \n",
       "1              8         14   \n",
       "2              9         14   \n",
       "3             10         14   \n",
       "4             11         14   \n",
       "5             12         14   \n",
       "6             13         14   \n",
       "7              7         28   \n",
       "8              8         28   \n",
       "9              9         28   \n",
       "10            10         28   \n",
       "11            11         28   \n",
       "12            12         28   \n",
       "13            13         28   \n",
       "14            14         28   \n",
       "15            15         28   \n",
       "16            16         28   \n",
       "17            17         28   \n",
       "18            18         28   \n",
       "19            19         28   \n",
       "20            20         28   \n",
       "21            21         28   \n",
       "22            22         28   \n",
       "23            23         28   \n",
       "24            24         28   \n",
       "25            25         28   \n",
       "26            26         28   \n",
       "27            27         28   \n",
       "\n",
       "                                                Model  \\\n",
       "0   (ColumnTransformer(remainder='passthrough',\\n ...   \n",
       "1   (ColumnTransformer(remainder='passthrough',\\n ...   \n",
       "2   (ColumnTransformer(remainder='passthrough',\\n ...   \n",
       "3   (ColumnTransformer(remainder='passthrough',\\n ...   \n",
       "4   (ColumnTransformer(remainder='passthrough',\\n ...   \n",
       "5   (ColumnTransformer(remainder='passthrough',\\n ...   \n",
       "6   (ColumnTransformer(remainder='passthrough',\\n ...   \n",
       "7   (ColumnTransformer(remainder='passthrough',\\n ...   \n",
       "8   (ColumnTransformer(remainder='passthrough',\\n ...   \n",
       "9   (ColumnTransformer(remainder='passthrough',\\n ...   \n",
       "10  (ColumnTransformer(remainder='passthrough',\\n ...   \n",
       "11  (ColumnTransformer(remainder='passthrough',\\n ...   \n",
       "12  (ColumnTransformer(remainder='passthrough',\\n ...   \n",
       "13  (ColumnTransformer(remainder='passthrough',\\n ...   \n",
       "14  (ColumnTransformer(remainder='passthrough',\\n ...   \n",
       "15  (ColumnTransformer(remainder='passthrough',\\n ...   \n",
       "16  (ColumnTransformer(remainder='passthrough',\\n ...   \n",
       "17  (ColumnTransformer(remainder='passthrough',\\n ...   \n",
       "18  (ColumnTransformer(remainder='passthrough',\\n ...   \n",
       "19  (ColumnTransformer(remainder='passthrough',\\n ...   \n",
       "20  (ColumnTransformer(remainder='passthrough',\\n ...   \n",
       "21  (ColumnTransformer(remainder='passthrough',\\n ...   \n",
       "22  (ColumnTransformer(remainder='passthrough',\\n ...   \n",
       "23  (ColumnTransformer(remainder='passthrough',\\n ...   \n",
       "24  (ColumnTransformer(remainder='passthrough',\\n ...   \n",
       "25  (ColumnTransformer(remainder='passthrough',\\n ...   \n",
       "26  (ColumnTransformer(remainder='passthrough',\\n ...   \n",
       "27  (ColumnTransformer(remainder='passthrough',\\n ...   \n",
       "\n",
       "                                              Columns  \n",
       "0   Index(['revenue_d7', 'withdraw_d7', 'payment_i...  \n",
       "1   Index(['revenue_d7', 'withdraw_d7', 'payment_i...  \n",
       "2   Index(['revenue_d7', 'withdraw_d7', 'payment_i...  \n",
       "3   Index(['revenue_d7', 'withdraw_d7', 'payment_i...  \n",
       "4   Index(['revenue_d7', 'withdraw_d7', 'payment_i...  \n",
       "5   Index(['revenue_d7', 'withdraw_d7', 'payment_i...  \n",
       "6   Index(['revenue_d7', 'withdraw_d7', 'payment_i...  \n",
       "7   Index(['revenue_d7', 'withdraw_d7', 'payment_i...  \n",
       "8   Index(['revenue_d7', 'withdraw_d7', 'payment_i...  \n",
       "9   Index(['revenue_d7', 'withdraw_d7', 'payment_i...  \n",
       "10  Index(['revenue_d7', 'withdraw_d7', 'payment_i...  \n",
       "11  Index(['revenue_d7', 'withdraw_d7', 'payment_i...  \n",
       "12  Index(['revenue_d7', 'withdraw_d7', 'payment_i...  \n",
       "13  Index(['revenue_d7', 'withdraw_d7', 'payment_i...  \n",
       "14  Index(['revenue_d7', 'withdraw_d7', 'payment_i...  \n",
       "15  Index(['revenue_d7', 'withdraw_d7', 'payment_i...  \n",
       "16  Index(['revenue_d7', 'withdraw_d7', 'payment_i...  \n",
       "17  Index(['revenue_d7', 'withdraw_d7', 'payment_i...  \n",
       "18  Index(['revenue_d7', 'withdraw_d7', 'payment_i...  \n",
       "19  Index(['revenue_d7', 'withdraw_d7', 'payment_i...  \n",
       "20  Index(['revenue_d7', 'withdraw_d7', 'payment_i...  \n",
       "21  Index(['revenue_d7', 'withdraw_d7', 'payment_i...  \n",
       "22  Index(['revenue_d7', 'withdraw_d7', 'payment_i...  \n",
       "23  Index(['revenue_d7', 'withdraw_d7', 'payment_i...  \n",
       "24  Index(['revenue_d7', 'withdraw_d7', 'payment_i...  \n",
       "25  Index(['revenue_d7', 'withdraw_d7', 'payment_i...  \n",
       "26  Index(['revenue_d7', 'withdraw_d7', 'payment_i...  \n",
       "27  Index(['revenue_d7', 'withdraw_d7', 'payment_i...  "
      ]
     },
     "execution_count": 39,
     "metadata": {},
     "output_type": "execute_result"
    }
   ],
   "source": [
    "payback_predictive_system = []\n",
    "\n",
    "from tqdm import tqdm, tqdm_notebook\n",
    "\n",
    "for y_day in tqdm(['14', '28']):\n",
    "  for x_day in predictors_days:\n",
    "    if int(y_day) > int(x_day):\n",
    "  \n",
    "      train = dev_df.copy()\n",
    "      train['y'] = train['Recovery on the 28th (rate)'] - (train[f'p{x_day}'] - train[f'w{x_day}'])/train['cost']\n",
    "      y = train[train['days_since_install'] <= (int(y_day) - 1)]['y'] # This is the regressors-based of d7_28_increment\n",
    "      del train['y']\n",
    "  \n",
    "      # Make the regressors\n",
    "      selected_columns = columns_rule + [f'pred_{x_day}_{y_day}']\n",
    "      \n",
    "      # Define X \n",
    "      X = train[train['days_since_install'] <= (int(y_day) - 1)]\n",
    "      weights_train = np.log1p(X['te_installs'])\n",
    "  \n",
    "      # Define observation importance 0.01 - 1.05 - 160 - 1 - 10\n",
    "      model = create_huber(0.0, 1.05, selected_columns, weights_train)\n",
    "      model.fit(X[[col for col in selected_columns if col != 'te_installs']], y)\n",
    "  \n",
    "      # Save the model into dictionary (Response, day, model)\n",
    "      payback = pd.DataFrame({\n",
    "              'Available day': [x_day]\n",
    "              , 'Target day': [y_day]\n",
    "              , 'Model': [model]\n",
    "              , 'Columns': [X[[col for col in selected_columns if col != 'te_installs']].columns]\n",
    "              })\n",
    "  \n",
    "      payback_predictive_system.append(payback)\n",
    "\n",
    "rules_dict = pd.concat(payback_predictive_system, ignore_index = True)\n",
    "rules_dict"
   ]
  },
  {
   "cell_type": "code",
   "execution_count": 40,
   "metadata": {},
   "outputs": [
    {
     "data": {
      "text/plain": [
       "Index(['revenue_d7', 'withdraw_d7', 'payment_increase', 'rpi_increase',\n",
       "       'installs_difference', 'pred_12_28'],\n",
       "      dtype='object')"
      ]
     },
     "execution_count": 40,
     "metadata": {},
     "output_type": "execute_result"
    }
   ],
   "source": [
    "rules_dict['Columns'][12]\n",
    "\n",
    "# 'Recovery on the 28th (rate)'\n",
    "#  d7_28_increase_api\n",
    "\n"
   ]
  },
  {
   "cell_type": "code",
   "execution_count": 41,
   "metadata": {},
   "outputs": [],
   "source": [
    "dev_df_check = dev_df.copy(deep = True)"
   ]
  },
  {
   "cell_type": "code",
   "execution_count": 42,
   "metadata": {},
   "outputs": [],
   "source": [
    "# Add predictions\n",
    "integers_list = list(range(7, 28))\n",
    "incremented_numbers = [str(number) for number in range(28, 36, 7)]\n",
    "predictors_days_input = predictors_days = [str(integer) for integer in integers_list] + incremented_numbers\n",
    "\n",
    "# Available dates as target (I am considering adding more values, above and below, maybe up to two on each side)\n",
    "response_days_input = response_days = [\"14\", \"28\", \"56\", \"63\", \"70\", \"77\", \"84\", \"91\", \"98\", \"100\", \"105\", \"112\", \"119\", \"126\", \"133\"]\n",
    "\n",
    "def add_predictions(data, model_dict, response_days, predictors_days):\n",
    "\n",
    "    for response in response_days:\n",
    "\n",
    "        data[f'actual_{response}'] = data[f'p{response}'] - data[f'w{response}']\n",
    "\n",
    "        for reg in predictors_days:\n",
    "\n",
    "            if int(response) > int(reg):\n",
    "                                \n",
    "                columns = list((model_dict[(model_dict['Available day'] == reg) & (model_dict['Target day'] == response)][['Columns']].reset_index(drop = True).values[0])[0]) #+ [f'p_last_diff_7_{reg}'] + [f'w_last_diff_7_{reg}']\n",
    "    \n",
    "                # Load the model\n",
    "                model = model_dict[(model_dict['Available day'] == reg) & (model_dict['Target day'] == response)]['Model'].reset_index(drop = True).values[0]\n",
    "    \n",
    "                # Make the prediction (Make sure is done only for those on which makese sense)\n",
    "                prediction = model.predict(data[columns])\n",
    "                data[f'pred_{reg}_{response}_agg'] = prediction + (data[f'p{reg}']- data[f'w{reg}'])/data[f'cost']\n",
    "                \n",
    "    return data\n",
    "\n",
    "dev_df_check = add_predictions(dev_df_check, rules_dict, ['28'], predictors_days_input)\n"
   ]
  },
  {
   "cell_type": "code",
   "execution_count": 43,
   "metadata": {},
   "outputs": [
    {
     "data": {
      "text/html": [
       "<div>\n",
       "<style scoped>\n",
       "    .dataframe tbody tr th:only-of-type {\n",
       "        vertical-align: middle;\n",
       "    }\n",
       "\n",
       "    .dataframe tbody tr th {\n",
       "        vertical-align: top;\n",
       "    }\n",
       "\n",
       "    .dataframe thead th {\n",
       "        text-align: right;\n",
       "    }\n",
       "</style>\n",
       "<table border=\"1\" class=\"dataframe\">\n",
       "  <thead>\n",
       "    <tr style=\"text-align: right;\">\n",
       "      <th></th>\n",
       "      <th>date</th>\n",
       "      <th>te_installs</th>\n",
       "      <th>cost</th>\n",
       "      <th>revenue_d7</th>\n",
       "      <th>withdraw_d7</th>\n",
       "      <th>payment_increase</th>\n",
       "      <th>rpi_increase</th>\n",
       "      <th>installs_difference</th>\n",
       "      <th>withdrawn_ratio</th>\n",
       "      <th>Recovery on the 28th (rate)</th>\n",
       "      <th>...</th>\n",
       "      <th>pred_18_28_agg</th>\n",
       "      <th>pred_19_28_agg</th>\n",
       "      <th>pred_20_28_agg</th>\n",
       "      <th>pred_21_28_agg</th>\n",
       "      <th>pred_22_28_agg</th>\n",
       "      <th>pred_23_28_agg</th>\n",
       "      <th>pred_24_28_agg</th>\n",
       "      <th>pred_25_28_agg</th>\n",
       "      <th>pred_26_28_agg</th>\n",
       "      <th>pred_27_28_agg</th>\n",
       "    </tr>\n",
       "  </thead>\n",
       "  <tbody>\n",
       "    <tr>\n",
       "      <th>39</th>\n",
       "      <td>20231207</td>\n",
       "      <td>1715</td>\n",
       "      <td>33283.19</td>\n",
       "      <td>6053.33</td>\n",
       "      <td>1006.56</td>\n",
       "      <td>0.041157</td>\n",
       "      <td>3.221290</td>\n",
       "      <td>-0.163848</td>\n",
       "      <td>0.166282</td>\n",
       "      <td>0.2724</td>\n",
       "      <td>...</td>\n",
       "      <td>0.272400</td>\n",
       "      <td>0.272400</td>\n",
       "      <td>0.272400</td>\n",
       "      <td>0.272400</td>\n",
       "      <td>0.272400</td>\n",
       "      <td>0.272400</td>\n",
       "      <td>0.273736</td>\n",
       "      <td>0.272403</td>\n",
       "      <td>0.272400</td>\n",
       "      <td>0.272400</td>\n",
       "    </tr>\n",
       "    <tr>\n",
       "      <th>41</th>\n",
       "      <td>20231209</td>\n",
       "      <td>1540</td>\n",
       "      <td>32042.34</td>\n",
       "      <td>5468.45</td>\n",
       "      <td>2287.13</td>\n",
       "      <td>-0.018952</td>\n",
       "      <td>3.322885</td>\n",
       "      <td>-0.178571</td>\n",
       "      <td>0.418241</td>\n",
       "      <td>0.1808</td>\n",
       "      <td>...</td>\n",
       "      <td>0.252603</td>\n",
       "      <td>0.291842</td>\n",
       "      <td>0.276049</td>\n",
       "      <td>0.281756</td>\n",
       "      <td>0.271522</td>\n",
       "      <td>0.250710</td>\n",
       "      <td>0.255863</td>\n",
       "      <td>0.207660</td>\n",
       "      <td>0.229772</td>\n",
       "      <td>0.221287</td>\n",
       "    </tr>\n",
       "    <tr>\n",
       "      <th>37</th>\n",
       "      <td>20231205</td>\n",
       "      <td>1779</td>\n",
       "      <td>31137.36</td>\n",
       "      <td>5105.22</td>\n",
       "      <td>1748.62</td>\n",
       "      <td>-0.041953</td>\n",
       "      <td>2.475303</td>\n",
       "      <td>-0.174255</td>\n",
       "      <td>0.342516</td>\n",
       "      <td>0.3338</td>\n",
       "      <td>...</td>\n",
       "      <td>0.333800</td>\n",
       "      <td>0.333800</td>\n",
       "      <td>0.333799</td>\n",
       "      <td>0.333800</td>\n",
       "      <td>0.333800</td>\n",
       "      <td>0.333800</td>\n",
       "      <td>0.308971</td>\n",
       "      <td>0.282451</td>\n",
       "      <td>0.303379</td>\n",
       "      <td>0.322564</td>\n",
       "    </tr>\n",
       "    <tr>\n",
       "      <th>43</th>\n",
       "      <td>20231211</td>\n",
       "      <td>1779</td>\n",
       "      <td>33640.84</td>\n",
       "      <td>5587.87</td>\n",
       "      <td>413.13</td>\n",
       "      <td>-0.198025</td>\n",
       "      <td>2.678650</td>\n",
       "      <td>-0.146150</td>\n",
       "      <td>0.073933</td>\n",
       "      <td>0.4304</td>\n",
       "      <td>...</td>\n",
       "      <td>0.497391</td>\n",
       "      <td>0.449189</td>\n",
       "      <td>0.494786</td>\n",
       "      <td>0.480884</td>\n",
       "      <td>0.463355</td>\n",
       "      <td>0.481865</td>\n",
       "      <td>0.470486</td>\n",
       "      <td>0.448001</td>\n",
       "      <td>0.432660</td>\n",
       "      <td>0.460108</td>\n",
       "    </tr>\n",
       "    <tr>\n",
       "      <th>24</th>\n",
       "      <td>20231122</td>\n",
       "      <td>1387</td>\n",
       "      <td>22116.13</td>\n",
       "      <td>6111.16</td>\n",
       "      <td>1160.39</td>\n",
       "      <td>-0.150268</td>\n",
       "      <td>4.259174</td>\n",
       "      <td>-0.162221</td>\n",
       "      <td>0.189880</td>\n",
       "      <td>0.3917</td>\n",
       "      <td>...</td>\n",
       "      <td>0.604481</td>\n",
       "      <td>0.526923</td>\n",
       "      <td>0.517442</td>\n",
       "      <td>0.464921</td>\n",
       "      <td>0.432818</td>\n",
       "      <td>0.431295</td>\n",
       "      <td>0.428623</td>\n",
       "      <td>0.429638</td>\n",
       "      <td>0.446416</td>\n",
       "      <td>0.446864</td>\n",
       "    </tr>\n",
       "    <tr>\n",
       "      <th>15</th>\n",
       "      <td>20231113</td>\n",
       "      <td>1232</td>\n",
       "      <td>18181.96</td>\n",
       "      <td>3223.16</td>\n",
       "      <td>634.49</td>\n",
       "      <td>-0.041920</td>\n",
       "      <td>2.055128</td>\n",
       "      <td>-0.143669</td>\n",
       "      <td>0.196853</td>\n",
       "      <td>0.3050</td>\n",
       "      <td>...</td>\n",
       "      <td>0.442651</td>\n",
       "      <td>0.388334</td>\n",
       "      <td>0.374727</td>\n",
       "      <td>0.382318</td>\n",
       "      <td>0.367991</td>\n",
       "      <td>0.372706</td>\n",
       "      <td>0.352368</td>\n",
       "      <td>0.325542</td>\n",
       "      <td>0.313045</td>\n",
       "      <td>0.287332</td>\n",
       "    </tr>\n",
       "  </tbody>\n",
       "</table>\n",
       "<p>6 rows × 451 columns</p>\n",
       "</div>"
      ],
      "text/plain": [
       "        date  te_installs      cost  revenue_d7  withdraw_d7  \\\n",
       "39  20231207         1715  33283.19     6053.33      1006.56   \n",
       "41  20231209         1540  32042.34     5468.45      2287.13   \n",
       "37  20231205         1779  31137.36     5105.22      1748.62   \n",
       "43  20231211         1779  33640.84     5587.87       413.13   \n",
       "24  20231122         1387  22116.13     6111.16      1160.39   \n",
       "15  20231113         1232  18181.96     3223.16       634.49   \n",
       "\n",
       "    payment_increase  rpi_increase  installs_difference  withdrawn_ratio  \\\n",
       "39          0.041157      3.221290            -0.163848         0.166282   \n",
       "41         -0.018952      3.322885            -0.178571         0.418241   \n",
       "37         -0.041953      2.475303            -0.174255         0.342516   \n",
       "43         -0.198025      2.678650            -0.146150         0.073933   \n",
       "24         -0.150268      4.259174            -0.162221         0.189880   \n",
       "15         -0.041920      2.055128            -0.143669         0.196853   \n",
       "\n",
       "    Recovery on the 28th (rate)  ...  pred_18_28_agg  pred_19_28_agg  \\\n",
       "39                       0.2724  ...        0.272400        0.272400   \n",
       "41                       0.1808  ...        0.252603        0.291842   \n",
       "37                       0.3338  ...        0.333800        0.333800   \n",
       "43                       0.4304  ...        0.497391        0.449189   \n",
       "24                       0.3917  ...        0.604481        0.526923   \n",
       "15                       0.3050  ...        0.442651        0.388334   \n",
       "\n",
       "    pred_20_28_agg  pred_21_28_agg  pred_22_28_agg  pred_23_28_agg  \\\n",
       "39        0.272400        0.272400        0.272400        0.272400   \n",
       "41        0.276049        0.281756        0.271522        0.250710   \n",
       "37        0.333799        0.333800        0.333800        0.333800   \n",
       "43        0.494786        0.480884        0.463355        0.481865   \n",
       "24        0.517442        0.464921        0.432818        0.431295   \n",
       "15        0.374727        0.382318        0.367991        0.372706   \n",
       "\n",
       "    pred_24_28_agg  pred_25_28_agg  pred_26_28_agg  pred_27_28_agg  \n",
       "39        0.273736        0.272403        0.272400        0.272400  \n",
       "41        0.255863        0.207660        0.229772        0.221287  \n",
       "37        0.308971        0.282451        0.303379        0.322564  \n",
       "43        0.470486        0.448001        0.432660        0.460108  \n",
       "24        0.428623        0.429638        0.446416        0.446864  \n",
       "15        0.352368        0.325542        0.313045        0.287332  \n",
       "\n",
       "[6 rows x 451 columns]"
      ]
     },
     "execution_count": 43,
     "metadata": {},
     "output_type": "execute_result"
    }
   ],
   "source": [
    "dev_df_check.sample(6)"
   ]
  },
  {
   "cell_type": "code",
   "execution_count": 44,
   "metadata": {},
   "outputs": [
    {
     "data": {
      "image/png": "[encoded data removed]",
      "text/plain": [
       "<Figure size 2200x600 with 1 Axes>"
      ]
     },
     "metadata": {},
     "output_type": "display_data"
    }
   ],
   "source": [
    "### Check the Joint results\n",
    "\n",
    "filtered_df = dev_df_check.copy()\n",
    "# filtered_df['date'] = pd.to_datetime(filtered_df['date'], format='%Y-%m-%d')\n",
    "filtered_df = filtered_df.sort_values(by = 'date')\n",
    "filtered_df['actual_28'] = filtered_df['actual_28']/filtered_df['cost']\n",
    "\n",
    "# Melt the DataFrame to long format for easier plotting\n",
    "df_long = pd.melt(filtered_df, id_vars=['date'], value_vars=['Recovery on the 28th (rate)', 'pred_7_28', 'pred_7_28_agg', 'actual_28'])\n",
    "# df_long['date'] = pd.to_datetime(df_long['date']).dt.date.apply(lambda x: int(x.strftime('%Y%m%d')))\n",
    "df_long['date'] = pd.to_datetime(df_long['date'], format='%Y%m%d')\n",
    "\n",
    "# Create the lineplot\n",
    "plt.figure(figsize=(22, 6))\n",
    "sns.lineplot(x='date', y='value', hue='variable', markers=True, data=df_long)\n",
    "\n",
    "# Set labels and title\n",
    "plt.xlabel('Date')\n",
    "plt.ylabel('ROAS day 28')\n",
    "plt.title(f'ROAS Over Time Unity: ')\n",
    "\n",
    "# Display the legend\n",
    "plt.legend(title='Media Source')\n",
    "\n",
    "# Rotate X-axis labels\n",
    "plt.xticks(rotation=45, ha='right')\n",
    "\n",
    "# Show the plot\n",
    "plt.show()"
   ]
  },
  {
   "cell_type": "code",
   "execution_count": 1,
   "metadata": {},
   "outputs": [
    {
     "ename": "NameError",
     "evalue": "name 'pickle' is not defined",
     "output_type": "error",
     "traceback": [
      "\u001b[1;31m---------------------------------------------------------------------------\u001b[0m",
      "\u001b[1;31mNameError\u001b[0m                                 Traceback (most recent call last)",
      "Cell \u001b[1;32mIn[1], line 3\u001b[0m\n\u001b[0;32m      1\u001b[0m \u001b[38;5;66;03m# Remove the last data points and remove the pred_ columns. This is too much\u001b[39;00m\n\u001b[0;32m      2\u001b[0m \u001b[38;5;28;01mwith\u001b[39;00m \u001b[38;5;28mopen\u001b[39m(\u001b[38;5;124m'\u001b[39m\u001b[38;5;124mpoker_party_ios_ptlv_dictionary_2024.pkl\u001b[39m\u001b[38;5;124m'\u001b[39m, \u001b[38;5;124m'\u001b[39m\u001b[38;5;124mwb\u001b[39m\u001b[38;5;124m'\u001b[39m) \u001b[38;5;28;01mas\u001b[39;00m file:\n\u001b[1;32m----> 3\u001b[0m     \u001b[43mpickle\u001b[49m\u001b[38;5;241m.\u001b[39mdump(rules_dict, file)\n",
      "\u001b[1;31mNameError\u001b[0m: name 'pickle' is not defined"
     ]
    }
   ],
   "source": [
    "# Remove the last data points and remove the pred_ columns. This is too much\n",
    "with open('poker_party_ios_ptlv_dictionary_2024.pkl', 'wb') as file:\n",
    "    pickle.dump(rules_dict, file)"
   ]
  },
  {
   "cell_type": "code",
   "execution_count": 107,
   "metadata": {},
   "outputs": [],
   "source": [
    "# dev_df['pred_roas'] = dev_df['pred_7_28'] / dev_df['cost']\n",
    "# dev_df['roas_d7'] = (dev_df['revenue_d7'] - dev_df['withdraw_d7']) / dev_df['cost']\n",
    "# dev_df['withdrawn_ratio'] = dev_df['withdraw_d7'] / dev_df['revenue_d7']\n",
    "# dev_df['d7_28_increment'] = dev_df['Recovery on the 28th (rate)'] - dev_df['roas_d7']"
   ]
  },
  {
   "cell_type": "code",
   "execution_count": 108,
   "metadata": {},
   "outputs": [
    {
     "data": {
      "text/plain": [
       "['pred_14',\n",
       " 'pred_28',\n",
       " 'pred_56',\n",
       " 'pred_63',\n",
       " 'pred_70',\n",
       " 'pred_77',\n",
       " 'pred_84',\n",
       " 'pred_91',\n",
       " 'pred_98',\n",
       " 'pred_100',\n",
       " 'pred_105',\n",
       " 'pred_112',\n",
       " 'pred_119',\n",
       " 'pred_126',\n",
       " 'pred_133']"
      ]
     },
     "execution_count": 108,
     "metadata": {},
     "output_type": "execute_result"
    }
   ],
   "source": [
    "# # Functions\n",
    "# # def gen_dates_and_df(source_df): \n",
    "# #     return result_df, unique_dates\n",
    "\n",
    "# def filter_to_source_include_k(source_df, today): \n",
    "#     source_df['date'] = source_df.register_time.dt.normalize()\n",
    "#     source_df['k'] = (today - source_df['date']).dt.days + 1 \n",
    "#     return source_df\n",
    "\n",
    "# today = pd.to_datetime((datetime.now() - timedelta(days = 1)).strftime('%Y-%m-%d'))\n",
    "# n_values = agg_df.columns[agg_df.columns.str.match(r'pred_\\d+_\\d+')].str.extract(r'pred_\\d+_(\\d+)').dropna()[0].unique() # These are the responses, after removing the availables.\n",
    "# available_k_values = [int(col.split('_')[1]) for col in agg_df.columns if col.startswith('pred_')] # What are the numbers after 'pred_'\n",
    "# pred_list = ['pred_14', 'pred_28', 'pred_56', 'pred_63', 'pred_70', 'pred_77', 'pred_84', 'pred_91', 'pred_98', 'pred_100', 'pred_105', 'pred_112', 'pred_119', 'pred_126', 'pred_133']\n",
    "# pred_list"
   ]
  },
  {
   "cell_type": "code",
   "execution_count": 109,
   "metadata": {},
   "outputs": [],
   "source": [
    "# new_datasets = {}\n",
    "# unique_values = agg_df['media_source'].unique()\n",
    "# for value in unique_values:\n",
    "#     new_datasets[value] = agg_df[agg_df['media_source'] == value].copy()"
   ]
  }
 ],
 "metadata": {
  "kernelspec": {
   "display_name": "Python 3",
   "language": "python",
   "name": "python3"
  },
  "language_info": {
   "codemirror_mode": {
    "name": "ipython",
    "version": 3
   },
   "file_extension": ".py",
   "mimetype": "text/x-python",
   "name": "python",
   "nbconvert_exporter": "python",
   "pygments_lexer": "ipython3",
   "version": "3.11.4"
  }
 },
 "nbformat": 4,
 "nbformat_minor": 2
}
