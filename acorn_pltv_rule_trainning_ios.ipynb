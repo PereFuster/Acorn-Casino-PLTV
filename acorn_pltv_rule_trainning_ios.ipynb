{
 "cells": [
  {
   "cell_type": "code",
   "execution_count": 129,
   "metadata": {},
   "outputs": [],
   "source": [
    "import warnings\n",
    "import matplotlib.pyplot as plt\n",
    "import seaborn as sns\n",
    "\n",
    "# Suppress all warnings\n",
    "warnings.filterwarnings(\"ignore\")"
   ]
  },
  {
   "cell_type": "code",
   "execution_count": 130,
   "metadata": {},
   "outputs": [],
   "source": [
    "# Configure load path\n",
    "import pickle\n",
    "import pandas as pd\n",
    "import os\n",
    "import requests\n",
    "from urllib.parse import urlencode\n",
    "from sklearn.preprocessing import LabelEncoder, OneHotEncoder, StandardScaler, MinMaxScaler\n",
    "from sklearn.model_selection import train_test_split, GridSearchCV, cross_val_score, RandomizedSearchCV\n",
    "from sklearn.metrics import accuracy_score, classification_report, mean_absolute_error, r2_score, d2_absolute_error_score, mean_absolute_percentage_error\n",
    "from sklearn.ensemble import RandomForestRegressor\n",
    "from sklearn.linear_model import HuberRegressor, LinearRegression\n",
    "from sklearn.feature_selection import SelectKBest\n",
    "from sklearn.pipeline import Pipeline\n",
    "import xgboost as xgb\n",
    "from dateutil.relativedelta import relativedelta\n",
    "from tqdm import tqdm, tqdm_notebook\n",
    "import numpy as np\n",
    "import random\n",
    "import json\n",
    "from datetime import datetime, timedelta\n",
    "import re\n",
    "from sklearn.model_selection import TimeSeriesSplit\n",
    "from sklearn.compose import ColumnTransformer\n",
    "from sklearn.metrics import r2_score\n",
    "from sklearn.tree    import DecisionTreeRegressor\n",
    "from sklearn.tree    import DecisionTreeClassifier\n",
    "import itertools\n",
    "\n",
    "os.chdir(\"C:/Users/Win11/Documents/Repos/Acorn-Casino-PLTV/\")\n",
    "\n",
    "bs_token = 'S7Fek4qridIxY1sUfYUyOl0rLak1Eedeg0TTCWHzUHqIFuUGN07xZtd41ZCp2UvE'  # Token Bingo Arena\n",
    "host = 'td.winnerstudio.vip'\n",
    "\n",
    "# Path Thinking Engine tables\n",
    "tables_path = 'pltv_lucky_accorn_ios_tables.py'\n",
    "start_date = (datetime.now() - timedelta(days = 65)).strftime('%Y-%m-%d')\n",
    "end_date = (datetime.now() - timedelta(days = 29)).strftime('%Y-%m-%d')\n",
    "client_name = 'ios'\n",
    "\n",
    "# Load queries from remote python script (This needs to be perfect).  Overall, you might want to have the lsit here\n",
    "exec(open(tables_path).read())\n",
    "tables = locals().get('tables')"
   ]
  },
  {
   "cell_type": "code",
   "execution_count": 131,
   "metadata": {},
   "outputs": [
    {
     "data": {
      "text/html": [
       "<div>\n",
       "<style scoped>\n",
       "    .dataframe tbody tr th:only-of-type {\n",
       "        vertical-align: middle;\n",
       "    }\n",
       "\n",
       "    .dataframe tbody tr th {\n",
       "        vertical-align: top;\n",
       "    }\n",
       "\n",
       "    .dataframe thead th {\n",
       "        text-align: right;\n",
       "    }\n",
       "</style>\n",
       "<table border=\"1\" class=\"dataframe\">\n",
       "  <thead>\n",
       "    <tr style=\"text-align: right;\">\n",
       "      <th></th>\n",
       "      <th>Available day</th>\n",
       "      <th>Target day</th>\n",
       "      <th>Model</th>\n",
       "      <th>Columns</th>\n",
       "    </tr>\n",
       "  </thead>\n",
       "  <tbody>\n",
       "    <tr>\n",
       "      <th>0</th>\n",
       "      <td>7</td>\n",
       "      <td>14</td>\n",
       "      <td>(ColumnTransformer(remainder='passthrough',\\n ...</td>\n",
       "      <td>Index(['p7_diff', 'p6_diff', 'p5_diff', 'p4_di...</td>\n",
       "    </tr>\n",
       "    <tr>\n",
       "      <th>1</th>\n",
       "      <td>8</td>\n",
       "      <td>14</td>\n",
       "      <td>(ColumnTransformer(remainder='passthrough',\\n ...</td>\n",
       "      <td>Index(['p7_diff', 'p6_diff', 'p5_diff', 'p4_di...</td>\n",
       "    </tr>\n",
       "    <tr>\n",
       "      <th>2</th>\n",
       "      <td>9</td>\n",
       "      <td>14</td>\n",
       "      <td>(ColumnTransformer(remainder='passthrough',\\n ...</td>\n",
       "      <td>Index(['p7_diff', 'p6_diff', 'p5_diff', 'p4_di...</td>\n",
       "    </tr>\n",
       "    <tr>\n",
       "      <th>3</th>\n",
       "      <td>10</td>\n",
       "      <td>14</td>\n",
       "      <td>(ColumnTransformer(remainder='passthrough',\\n ...</td>\n",
       "      <td>Index(['p7_diff', 'p6_diff', 'p5_diff', 'p4_di...</td>\n",
       "    </tr>\n",
       "    <tr>\n",
       "      <th>4</th>\n",
       "      <td>11</td>\n",
       "      <td>14</td>\n",
       "      <td>(ColumnTransformer(remainder='passthrough',\\n ...</td>\n",
       "      <td>Index(['p7_diff', 'p6_diff', 'p5_diff', 'p4_di...</td>\n",
       "    </tr>\n",
       "  </tbody>\n",
       "</table>\n",
       "</div>"
      ],
      "text/plain": [
       "  Available day Target day                                              Model  \\\n",
       "0             7         14  (ColumnTransformer(remainder='passthrough',\\n ...   \n",
       "1             8         14  (ColumnTransformer(remainder='passthrough',\\n ...   \n",
       "2             9         14  (ColumnTransformer(remainder='passthrough',\\n ...   \n",
       "3            10         14  (ColumnTransformer(remainder='passthrough',\\n ...   \n",
       "4            11         14  (ColumnTransformer(remainder='passthrough',\\n ...   \n",
       "\n",
       "                                             Columns  \n",
       "0  Index(['p7_diff', 'p6_diff', 'p5_diff', 'p4_di...  \n",
       "1  Index(['p7_diff', 'p6_diff', 'p5_diff', 'p4_di...  \n",
       "2  Index(['p7_diff', 'p6_diff', 'p5_diff', 'p4_di...  \n",
       "3  Index(['p7_diff', 'p6_diff', 'p5_diff', 'p4_di...  \n",
       "4  Index(['p7_diff', 'p6_diff', 'p5_diff', 'p4_di...  "
      ]
     },
     "execution_count": 131,
     "metadata": {},
     "output_type": "execute_result"
    }
   ],
   "source": [
    "with open('acorn_ios_ptlv_dictionary_2024_jan.pkl', 'rb') as file:\n",
    "    model_dict = pickle.load(file)\n",
    "model_dict.head()"
   ]
  },
  {
   "cell_type": "markdown",
   "metadata": {},
   "source": [
    "## 1. Load the data and incorporate the predictions \n",
    "\n",
    "This should be everything that you can get from the previous step, except the API data "
   ]
  },
  {
   "cell_type": "code",
   "execution_count": 132,
   "metadata": {},
   "outputs": [
    {
     "name": "stdout",
     "output_type": "stream",
     "text": [
      "Error parsing JSON: Expecting value: line 1 column 1 (char 0)\n",
      "       #account_id  cp1  cp3  cp7     p1     p10    p100    p105     p11  \\\n",
      "0         10044296    1    1    6  4.435  50.035  54.470  54.470  50.035   \n",
      "1         10044333    0    0    0  0.000   0.000   0.000   0.000   0.000   \n",
      "2         10045415    0    0    0  0.000   0.000   0.000   0.000   0.000   \n",
      "3         10045701    0    0    2  0.000   3.248   6.748   6.748   3.248   \n",
      "4         10046284    0    0    0  0.000   0.000   0.000   0.000   0.000   \n",
      "...            ...  ...  ...  ...    ...     ...     ...     ...     ...   \n",
      "155746    10197857    0    0    0  0.000   0.000   0.000   0.000   0.000   \n",
      "155747    10198003    0    0    0  0.000   0.000   0.000   0.000   0.000   \n",
      "155748    10198285    0    0    0  0.000   0.000   0.000   0.000   0.000   \n",
      "155749    10198440    0    0    0  0.000   0.000   0.000   0.000   0.000   \n",
      "155750    10198527    0    0    0  0.000   0.000   0.000   0.000   0.000   \n",
      "\n",
      "          p112  ...     p70     p77      p8     p84      p9     p91     p98  \\\n",
      "0       54.470  ...  54.470  54.470  50.035  54.470  50.035  54.470  54.470   \n",
      "1        0.000  ...   0.000   0.000   0.000   0.000   0.000   0.000   0.000   \n",
      "2        0.000  ...   0.000   0.000   0.000   0.000   0.000   0.000   0.000   \n",
      "3        6.748  ...   6.748   6.748   3.248   6.748   3.248   6.748   6.748   \n",
      "4        0.000  ...   0.000   0.000   0.000   0.000   0.000   0.000   0.000   \n",
      "...        ...  ...     ...     ...     ...     ...     ...     ...     ...   \n",
      "155746   0.000  ...   0.000   0.000   0.000   0.000   0.000   0.000   0.000   \n",
      "155747   0.000  ...   0.000   0.000   0.000   0.000   0.000   0.000   0.000   \n",
      "155748   0.000  ...   0.000   0.000   0.000   0.000   0.000   0.000   0.000   \n",
      "155749   0.000  ...   0.000   0.000   0.000   0.000   0.000   0.000   0.000   \n",
      "155750   0.000  ...   0.000   0.000   0.000   0.000   0.000   0.000   0.000   \n",
      "\n",
      "          ph1    ph6  register_time  \n",
      "0       4.435  4.435     2023-11-25  \n",
      "1       0.000  0.000     2023-11-25  \n",
      "2       0.000  0.000     2023-11-26  \n",
      "3       0.000  0.000     2023-11-26  \n",
      "4       0.000  0.000     2023-11-26  \n",
      "...       ...    ...            ...  \n",
      "155746  0.000  0.000     2023-12-31  \n",
      "155747  0.000  0.000     2023-12-31  \n",
      "155748  0.000  0.000     2023-12-31  \n",
      "155749  0.000  0.000     2023-12-31  \n",
      "155750  0.000  0.000     2023-12-31  \n",
      "\n",
      "[155751 rows x 51 columns]\n",
      "Error parsing JSON: Expecting value: line 1 column 1 (char 0)\n",
      "       #account_id   w1  w10  w100  w105  w11  w112  w119  w12  w126  ...  \\\n",
      "0         10044035  0.0  0.0   0.0   0.0  0.0   0.0   0.0  0.0   0.0  ...   \n",
      "1         10044599  0.0  0.0   0.0   0.0  0.0   0.0   0.0  0.0   0.0  ...   \n",
      "2         10047184  0.0  0.0   0.0   0.0  0.0   0.0   0.0  0.0   0.0  ...   \n",
      "3         10047287  0.0  0.0   0.0   0.0  0.0   0.0   0.0  0.0   0.0  ...   \n",
      "4         10047748  0.0  0.0   0.0   0.0  0.0   0.0   0.0  0.0   0.0  ...   \n",
      "...            ...  ...  ...   ...   ...  ...   ...   ...  ...   ...  ...   \n",
      "155746    10132315  0.0  0.0   0.0   0.0  0.0   0.0   0.0  0.0   0.0  ...   \n",
      "155747    10133372  0.0  0.0   0.0   0.0  0.0   0.0   0.0  0.0   0.0  ...   \n",
      "155748    10133837  0.0  0.0   0.0   0.0  0.0   0.0   0.0  0.0   0.0  ...   \n",
      "155749    10134099  0.0  0.0   0.0   0.0  0.0   0.0   0.0  0.0   0.0  ...   \n",
      "155750    10135105  0.0  0.0   0.0   0.0  0.0   0.0   0.0  0.0   0.0  ...   \n",
      "\n",
      "        w56  w63   w7  w70  w77   w8  w84   w9  w91  w98  \n",
      "0       0.0  0.0  0.0  0.0  0.0  0.0  0.0  0.0  0.0  0.0  \n",
      "1       0.0  0.0  0.0  0.0  0.0  0.0  0.0  0.0  0.0  0.0  \n",
      "2       0.0  0.0  0.0  0.0  0.0  0.0  0.0  0.0  0.0  0.0  \n",
      "3       0.0  0.0  0.0  0.0  0.0  0.0  0.0  0.0  0.0  0.0  \n",
      "4       0.0  0.0  0.0  0.0  0.0  0.0  0.0  0.0  0.0  0.0  \n",
      "...     ...  ...  ...  ...  ...  ...  ...  ...  ...  ...  \n",
      "155746  0.0  0.0  0.0  0.0  0.0  0.0  0.0  0.0  0.0  0.0  \n",
      "155747  0.0  0.0  0.0  0.0  0.0  0.0  0.0  0.0  0.0  0.0  \n",
      "155748  0.0  0.0  0.0  0.0  0.0  0.0  0.0  0.0  0.0  0.0  \n",
      "155749  0.0  0.0  0.0  0.0  0.0  0.0  0.0  0.0  0.0  0.0  \n",
      "155750  0.0  0.0  0.0  0.0  0.0  0.0  0.0  0.0  0.0  0.0  \n",
      "\n",
      "[155751 rows x 41 columns]\n",
      "Error parsing JSON: Expecting value: line 1 column 1 (char 0)\n",
      "       #account_id  ad1  ad10  ad100  ad105  ad11  ad112  ad119  ad12  ad126  \\\n",
      "0         10043858  0.0   0.0    0.0    0.0   0.0    0.0    0.0   0.0    0.0   \n",
      "1         10043901  0.0   0.0    0.0    0.0   0.0    0.0    0.0   0.0    0.0   \n",
      "2         10044493  0.0   0.0    0.0    0.0   0.0    0.0    0.0   0.0    0.0   \n",
      "3         10044979  0.0   0.0    0.0    0.0   0.0    0.0    0.0   0.0    0.0   \n",
      "4         10045023  0.0   0.0    0.0    0.0   0.0    0.0    0.0   0.0    0.0   \n",
      "...            ...  ...   ...    ...    ...   ...    ...    ...   ...    ...   \n",
      "155746    10198354  0.0   0.0    0.0    0.0   0.0    0.0    0.0   0.0    0.0   \n",
      "155747    10198423  0.0   0.0    0.0    0.0   0.0    0.0    0.0   0.0    0.0   \n",
      "155748    10198506  0.0   0.0    0.0    0.0   0.0    0.0    0.0   0.0    0.0   \n",
      "155749    10199277  0.0   0.0    0.0    0.0   0.0    0.0    0.0   0.0    0.0   \n",
      "155750    10199300  0.0   0.0    0.0    0.0   0.0    0.0    0.0   0.0    0.0   \n",
      "\n",
      "        ...  ad6  ad63  ad7  ad70  ad77  ad8  ad84  ad9  ad91  ad98  \n",
      "0       ...  0.0   0.0  0.0   0.0   0.0  0.0   0.0  0.0   0.0   0.0  \n",
      "1       ...  0.0   0.0  0.0   0.0   0.0  0.0   0.0  0.0   0.0   0.0  \n",
      "2       ...  0.0   0.0  0.0   0.0   0.0  0.0   0.0  0.0   0.0   0.0  \n",
      "3       ...  0.0   0.0  0.0   0.0   0.0  0.0   0.0  0.0   0.0   0.0  \n",
      "4       ...  0.0   0.0  0.0   0.0   0.0  0.0   0.0  0.0   0.0   0.0  \n",
      "...     ...  ...   ...  ...   ...   ...  ...   ...  ...   ...   ...  \n",
      "155746  ...  0.0   0.0  0.0   0.0   0.0  0.0   0.0  0.0   0.0   0.0  \n",
      "155747  ...  0.0   0.0  0.0   0.0   0.0  0.0   0.0  0.0   0.0   0.0  \n",
      "155748  ...  0.0   0.0  0.0   0.0   0.0  0.0   0.0  0.0   0.0   0.0  \n",
      "155749  ...  0.0   0.0  0.0   0.0   0.0  0.0   0.0  0.0   0.0   0.0  \n",
      "155750  ...  0.0   0.0  0.0   0.0   0.0  0.0   0.0  0.0   0.0   0.0  \n",
      "\n",
      "[155751 rows x 45 columns]\n"
     ]
    }
   ],
   "source": [
    "def load_data(tables, bs_token, host):\n",
    "    def pull_data(sql_script, bs_token, host):\n",
    "\n",
    "        data = {\n",
    "            'token':          bs_token,\n",
    "            'format':         'json_object',\n",
    "            'timeoutSeconds': 2000,\n",
    "            'sql':            sql_script\n",
    "        }\n",
    "\n",
    "        data = str(urlencode(data))\n",
    "        response = requests.post(f'http://{host}:8992/querySql?{data}', timeout = 1000000)\n",
    "\n",
    "        # Sample list of JSON strings\n",
    "        json_list = response.text.split('\\n')[1:]\n",
    "\n",
    "        # Convert JSON strings to dictionaries\n",
    "        dict_list = []\n",
    "        for json_str in json_list:\n",
    "            try:\n",
    "                dict_list.append(json.loads(json_str))\n",
    "            except json.JSONDecodeError as e:\n",
    "                print(f\"Error parsing JSON: {e}\")\n",
    "\n",
    "        # Create a pandas DataFrame\n",
    "        data = pd.DataFrame(dict_list).sort_index(axis = 1)\n",
    "        print(data)\n",
    "        # Display the DataFrame\n",
    "        return data\n",
    "\n",
    "    # Load the first data using USER_PAYMENT, and then iteatevely join the remaining data for trainning\n",
    "\n",
    "    df = pull_data(tables[0], bs_token, host)\n",
    "    for i in range(1, len(tables)):\n",
    "        new_data = pull_data(tables[i], bs_token, host)\n",
    "        df = df.merge(new_data, on = '#account_id', how = 'left')\n",
    "\n",
    "    return df\n",
    "\n",
    "# Load queries from remote python script (This needs to be perfect).  Overall, you might want to have the lsit here\n",
    "exec(open(tables_path).read())\n",
    "tables = locals().get('tables')\n",
    "training_columns = locals().get('training_columns')\n",
    "training_columns_feb = locals().get('training_columns_feb')\n",
    "\n",
    "# Create df by loading information and joining on account_id\n",
    "df = load_data(tables, bs_token, host)"
   ]
  },
  {
   "cell_type": "code",
   "execution_count": 133,
   "metadata": {},
   "outputs": [],
   "source": [
    "# Data preprocessing and transformations\n",
    "df['#account_id'] = df['#account_id'].astype(str)\n",
    "df['register_time'] = pd.to_datetime(df['register_time'], errors = 'coerce')\n",
    "df['date'] = df['register_time'].dt.strftime('%Y%m%d').astype(float)  # Change to float if needed\n",
    "\n",
    "df = df.fillna(0)"
   ]
  },
  {
   "cell_type": "code",
   "execution_count": 134,
   "metadata": {},
   "outputs": [],
   "source": [
    "# Calculate differences\n",
    "day_columns = ['p1', 'p2', 'p3', 'p4', 'p5', 'p6', 'p7']\n",
    "for i in range(len(day_columns) - 1, 0, -1):\n",
    "    df[f'{day_columns[i]}_diff'] = df[day_columns[i]] - df[day_columns[i - 1]]"
   ]
  },
  {
   "cell_type": "code",
   "execution_count": 135,
   "metadata": {},
   "outputs": [],
   "source": [
    "# Add predictions\n",
    "integers_list = list(range(7, 28))\n",
    "incremented_numbers = [str(number) for number in range(28, 36, 7)]\n",
    "predictors_days_input = predictors_days = [str(integer) for integer in integers_list] + incremented_numbers\n",
    "\n",
    "# Available dates as target (I am considering adding more values, above and below, maybe up to two on each side)\n",
    "response_days_input = response_days = [\"14\", \"28\", \"56\", \"63\", \"70\", \"77\", \"84\", \"91\", \"98\", \"100\", \"105\", \"112\", \"119\", \"126\", \"133\"]\n",
    "def add_predictions(data, model_dict, response_days, predictors_days):\n",
    "\n",
    "    for response in response_days:\n",
    "        data[f'actual_{response}'] = data[f'p{response}'] - data[f'w{response}'] + data[f'ad{response}']\n",
    "\n",
    "        for reg in predictors_days:\n",
    "\n",
    "            if int(response) > int(reg):\n",
    "                \n",
    "                data[f'p_last_diff_7_{reg}'] = data[f'p{reg}'] - data[f'p7']\n",
    "                data[f'w_last_diff_7_{reg}'] = data[f'w{reg}'] - data[f'w7']\n",
    "                columns = list((model_dict[(model_dict['Available day'] == reg) & (model_dict['Target day'] == response)][['Columns']].reset_index(drop=True).values[0])[0]) #+ [f'p_last_diff_7_{reg}'] + [f'w_last_diff_7_{reg}']\n",
    "                \n",
    "                # Load the model\n",
    "                model = model_dict[(model_dict['Available day'] == reg) & (model_dict['Target day'] == response)]['Model'].reset_index(drop=True).values[0]\n",
    "\n",
    "                # Make the prediction (Make sure is done only for those on which makese sense)\n",
    "                prediction = model.predict(data[columns])\n",
    "                data[f'pred_{reg}_{response}'] = prediction + data[f'p{reg}']- data[f'w{reg}'] + data[f'ad{reg}']\n",
    "                del data[f'p_last_diff_7_{reg}']\n",
    "                del data[f'w_last_diff_7_{reg}']\n",
    "\n",
    "    return data\n",
    "\n",
    "df = add_predictions(df, model_dict, response_days_input, predictors_days_input)"
   ]
  },
  {
   "cell_type": "markdown",
   "metadata": {},
   "source": [
    "## 2. Add media source \n",
    "\n",
    "Add the media source"
   ]
  },
  {
   "cell_type": "code",
   "execution_count": 60,
   "metadata": {},
   "outputs": [
    {
     "name": "stdout",
     "output_type": "stream",
     "text": [
      "Loaded (186, 7)\n"
     ]
    }
   ],
   "source": [
    "api_details = {'bundle_id': 'com.acorncasino.slots', 'start': start_date, 'end':  end_date}\n",
    "api_url = 'http://acorncasino-ios.twilightgift.club/server/media_source_cost'\n",
    "\n",
    "# Send a GET request to the API\n",
    "response = requests.post(api_url, api_details)\n",
    "if response.status_code == 200:\n",
    "    # Request was successful\n",
    "    api_df = response.json()  # Parse the JSON response if the API returns JSON data\n",
    "    api_df = pd.DataFrame(api_df['data'])\n",
    "    api_df['api_installs'] = api_df['user_ids'].apply(lambda x: len([int(item.strip()) for item in x.split(\",\") if item.strip()]))\n",
    "    print('Loaded', api_df.shape)\n",
    "else:\n",
    "    print(f\"Failed to retrieve data. Status code: {response.status_code}\")\n"
   ]
  },
  {
   "cell_type": "code",
   "execution_count": 61,
   "metadata": {},
   "outputs": [
    {
     "data": {
      "text/html": [
       "<div>\n",
       "<style scoped>\n",
       "    .dataframe tbody tr th:only-of-type {\n",
       "        vertical-align: middle;\n",
       "    }\n",
       "\n",
       "    .dataframe tbody tr th {\n",
       "        vertical-align: top;\n",
       "    }\n",
       "\n",
       "    .dataframe thead th {\n",
       "        text-align: right;\n",
       "    }\n",
       "</style>\n",
       "<table border=\"1\" class=\"dataframe\">\n",
       "  <thead>\n",
       "    <tr style=\"text-align: right;\">\n",
       "      <th></th>\n",
       "      <th>date</th>\n",
       "      <th>media_source</th>\n",
       "      <th>cost</th>\n",
       "      <th>revenue_d7</th>\n",
       "      <th>withdraw_d7</th>\n",
       "      <th>user_ids</th>\n",
       "      <th>api_installs</th>\n",
       "    </tr>\n",
       "  </thead>\n",
       "  <tbody>\n",
       "    <tr>\n",
       "      <th>0</th>\n",
       "      <td>20231228</td>\n",
       "      <td>applovin_int</td>\n",
       "      <td>13837.32</td>\n",
       "      <td>22647.39</td>\n",
       "      <td>18107.07</td>\n",
       "      <td>10175402,10175413,10175420,10175418,10175421,1...</td>\n",
       "      <td>1137</td>\n",
       "    </tr>\n",
       "    <tr>\n",
       "      <th>1</th>\n",
       "      <td>20231228</td>\n",
       "      <td>moloco_int</td>\n",
       "      <td>8471.50</td>\n",
       "      <td>13099.22</td>\n",
       "      <td>6852.62</td>\n",
       "      <td>10175403,10175407,10175416,10175425,10175439,1...</td>\n",
       "      <td>1047</td>\n",
       "    </tr>\n",
       "    <tr>\n",
       "      <th>2</th>\n",
       "      <td>20231228</td>\n",
       "      <td>FB_web</td>\n",
       "      <td>36884.39</td>\n",
       "      <td>22673.34</td>\n",
       "      <td>18664.39</td>\n",
       "      <td>10175405,10175411,10175408,10175410,10175412,1...</td>\n",
       "      <td>1872</td>\n",
       "    </tr>\n",
       "    <tr>\n",
       "      <th>3</th>\n",
       "      <td>20231228</td>\n",
       "      <td>unityads_int</td>\n",
       "      <td>989.09</td>\n",
       "      <td>471.33</td>\n",
       "      <td>345.00</td>\n",
       "      <td>10175406,10175507,10175513,10175617,10175624,1...</td>\n",
       "      <td>150</td>\n",
       "    </tr>\n",
       "    <tr>\n",
       "      <th>4</th>\n",
       "      <td>20231228</td>\n",
       "      <td>vungle_int</td>\n",
       "      <td>1229.49</td>\n",
       "      <td>61.03</td>\n",
       "      <td>39.90</td>\n",
       "      <td>10175430,10175636,10175732,10176070,10176143,1...</td>\n",
       "      <td>94</td>\n",
       "    </tr>\n",
       "    <tr>\n",
       "      <th>...</th>\n",
       "      <td>...</td>\n",
       "      <td>...</td>\n",
       "      <td>...</td>\n",
       "      <td>...</td>\n",
       "      <td>...</td>\n",
       "      <td>...</td>\n",
       "      <td>...</td>\n",
       "    </tr>\n",
       "    <tr>\n",
       "      <th>181</th>\n",
       "      <td>20231123</td>\n",
       "      <td>FB_web</td>\n",
       "      <td>4585.20</td>\n",
       "      <td>2189.89</td>\n",
       "      <td>1504.41</td>\n",
       "      <td>10040835,10084126,10048091,10040851,10040853,1...</td>\n",
       "      <td>295</td>\n",
       "    </tr>\n",
       "    <tr>\n",
       "      <th>182</th>\n",
       "      <td>20231123</td>\n",
       "      <td>applovin_int</td>\n",
       "      <td>2702.70</td>\n",
       "      <td>2321.14</td>\n",
       "      <td>846.69</td>\n",
       "      <td>10040895,10040925,10040930,10041076,10041168,1...</td>\n",
       "      <td>284</td>\n",
       "    </tr>\n",
       "    <tr>\n",
       "      <th>183</th>\n",
       "      <td>20231122</td>\n",
       "      <td>moloco_int</td>\n",
       "      <td>2934.24</td>\n",
       "      <td>2104.73</td>\n",
       "      <td>1851.85</td>\n",
       "      <td>10039497,10039498,10039501,10039504,10039506,1...</td>\n",
       "      <td>528</td>\n",
       "    </tr>\n",
       "    <tr>\n",
       "      <th>184</th>\n",
       "      <td>20231122</td>\n",
       "      <td>FB_web</td>\n",
       "      <td>3957.64</td>\n",
       "      <td>4239.07</td>\n",
       "      <td>1992.96</td>\n",
       "      <td>10039499,10039503,10039508,10039509,10039512,1...</td>\n",
       "      <td>323</td>\n",
       "    </tr>\n",
       "    <tr>\n",
       "      <th>185</th>\n",
       "      <td>20231122</td>\n",
       "      <td>applovin_int</td>\n",
       "      <td>2165.24</td>\n",
       "      <td>2328.89</td>\n",
       "      <td>1804.09</td>\n",
       "      <td>10039519,10039596,10039604,10039622,10039963,1...</td>\n",
       "      <td>205</td>\n",
       "    </tr>\n",
       "  </tbody>\n",
       "</table>\n",
       "<p>186 rows × 7 columns</p>\n",
       "</div>"
      ],
      "text/plain": [
       "         date  media_source      cost  revenue_d7  withdraw_d7  \\\n",
       "0    20231228  applovin_int  13837.32    22647.39     18107.07   \n",
       "1    20231228    moloco_int   8471.50    13099.22      6852.62   \n",
       "2    20231228        FB_web  36884.39    22673.34     18664.39   \n",
       "3    20231228  unityads_int    989.09      471.33       345.00   \n",
       "4    20231228    vungle_int   1229.49       61.03        39.90   \n",
       "..        ...           ...       ...         ...          ...   \n",
       "181  20231123        FB_web   4585.20     2189.89      1504.41   \n",
       "182  20231123  applovin_int   2702.70     2321.14       846.69   \n",
       "183  20231122    moloco_int   2934.24     2104.73      1851.85   \n",
       "184  20231122        FB_web   3957.64     4239.07      1992.96   \n",
       "185  20231122  applovin_int   2165.24     2328.89      1804.09   \n",
       "\n",
       "                                              user_ids  api_installs  \n",
       "0    10175402,10175413,10175420,10175418,10175421,1...          1137  \n",
       "1    10175403,10175407,10175416,10175425,10175439,1...          1047  \n",
       "2    10175405,10175411,10175408,10175410,10175412,1...          1872  \n",
       "3    10175406,10175507,10175513,10175617,10175624,1...           150  \n",
       "4    10175430,10175636,10175732,10176070,10176143,1...            94  \n",
       "..                                                 ...           ...  \n",
       "181  10040835,10084126,10048091,10040851,10040853,1...           295  \n",
       "182  10040895,10040925,10040930,10041076,10041168,1...           284  \n",
       "183  10039497,10039498,10039501,10039504,10039506,1...           528  \n",
       "184  10039499,10039503,10039508,10039509,10039512,1...           323  \n",
       "185  10039519,10039596,10039604,10039622,10039963,1...           205  \n",
       "\n",
       "[186 rows x 7 columns]"
      ]
     },
     "execution_count": 61,
     "metadata": {},
     "output_type": "execute_result"
    }
   ],
   "source": [
    "api_df"
   ]
  },
  {
   "cell_type": "code",
   "execution_count": 62,
   "metadata": {},
   "outputs": [
    {
     "data": {
      "text/html": [
       "<div>\n",
       "<style scoped>\n",
       "    .dataframe tbody tr th:only-of-type {\n",
       "        vertical-align: middle;\n",
       "    }\n",
       "\n",
       "    .dataframe tbody tr th {\n",
       "        vertical-align: top;\n",
       "    }\n",
       "\n",
       "    .dataframe thead th {\n",
       "        text-align: right;\n",
       "    }\n",
       "</style>\n",
       "<table border=\"1\" class=\"dataframe\">\n",
       "  <thead>\n",
       "    <tr style=\"text-align: right;\">\n",
       "      <th></th>\n",
       "      <th>date</th>\n",
       "      <th>cost</th>\n",
       "      <th>revenue_d7</th>\n",
       "      <th>withdraw_d7</th>\n",
       "      <th>api_installs</th>\n",
       "    </tr>\n",
       "  </thead>\n",
       "  <tbody>\n",
       "    <tr>\n",
       "      <th>0</th>\n",
       "      <td>20231122</td>\n",
       "      <td>9057.12</td>\n",
       "      <td>8672.69</td>\n",
       "      <td>5648.90</td>\n",
       "      <td>1056</td>\n",
       "    </tr>\n",
       "    <tr>\n",
       "      <th>1</th>\n",
       "      <td>20231123</td>\n",
       "      <td>10238.10</td>\n",
       "      <td>6325.87</td>\n",
       "      <td>4663.57</td>\n",
       "      <td>1106</td>\n",
       "    </tr>\n",
       "    <tr>\n",
       "      <th>2</th>\n",
       "      <td>20231124</td>\n",
       "      <td>11521.74</td>\n",
       "      <td>14968.13</td>\n",
       "      <td>10929.83</td>\n",
       "      <td>1245</td>\n",
       "    </tr>\n",
       "    <tr>\n",
       "      <th>3</th>\n",
       "      <td>20231125</td>\n",
       "      <td>11905.94</td>\n",
       "      <td>8963.85</td>\n",
       "      <td>3919.00</td>\n",
       "      <td>1298</td>\n",
       "    </tr>\n",
       "    <tr>\n",
       "      <th>4</th>\n",
       "      <td>20231126</td>\n",
       "      <td>10862.30</td>\n",
       "      <td>10654.07</td>\n",
       "      <td>9428.93</td>\n",
       "      <td>1368</td>\n",
       "    </tr>\n",
       "  </tbody>\n",
       "</table>\n",
       "</div>"
      ],
      "text/plain": [
       "       date      cost  revenue_d7  withdraw_d7  api_installs\n",
       "0  20231122   9057.12     8672.69      5648.90          1056\n",
       "1  20231123  10238.10     6325.87      4663.57          1106\n",
       "2  20231124  11521.74    14968.13     10929.83          1245\n",
       "3  20231125  11905.94     8963.85      3919.00          1298\n",
       "4  20231126  10862.30    10654.07      9428.93          1368"
      ]
     },
     "execution_count": 62,
     "metadata": {},
     "output_type": "execute_result"
    }
   ],
   "source": [
    "api_df = api_df.groupby('date')[['cost', 'revenue_d7', 'withdraw_d7', 'api_installs']].sum().reset_index(drop = False).sort_values(by = 'date')\n",
    "api_df.head()"
   ]
  },
  {
   "cell_type": "code",
   "execution_count": 63,
   "metadata": {},
   "outputs": [],
   "source": [
    "n_values = df.columns[df.columns.str.match(r'pred_\\d+_\\d+')].str.extract(r'pred_\\d+_(\\d+)').dropna()[0].unique() # These are the responses, after removing the availables.\n",
    "available_k_values = [int(col.split('_')[1]) for col in df.columns if col.startswith('pred_')] # What are the numbers after 'pred_'\n",
    "pred_list = ['pred_14', 'pred_28', 'pred_56', 'pred_63', 'pred_70', 'pred_77', 'pred_84', 'pred_91', 'pred_98', 'pred_100', 'pred_105', 'pred_112', 'pred_119', 'pred_126', 'pred_133']\n",
    "\n",
    "df['te_installs'] = 1\n",
    "agg_df = df.fillna(0).groupby('date')[[col for col in df.columns if col.startswith(\"p\") or col.startswith(\"w\") or col.startswith(\"ad\") or col.startswith(\"act\") or col.startswith(\"actual_\")] + ['te_installs']].sum().reset_index()\n",
    "agg_df = api_df[['date', 'api_installs', 'cost', 'revenue_d7', 'withdraw_d7']].merge(agg_df, on = 'date', how = 'inner')\n",
    "\n",
    "agg_df['payment_increase']    = (agg_df['revenue_d7'] - agg_df['p7']) / agg_df['p7']\n",
    "agg_df['rpi_increase']        = ((agg_df['revenue_d7'] / agg_df['api_installs'].astype(float)) - (agg_df['p7'] / agg_df['te_installs']) / (agg_df['p7'] / agg_df['te_installs']))\n",
    "agg_df['installs_difference'] = (agg_df['api_installs'] - agg_df['te_installs']) / agg_df['te_installs'] # ['Install', 'installs']'Install' is API\n",
    "agg_df['withdrawn_ratio']     = agg_df['withdraw_d7'] / agg_df['revenue_d7']\n",
    "agg_df['return_p_d7']         = agg_df['p7'] / agg_df['cost'] \n",
    "agg_df['return_ad_d7']        = agg_df['ad7'] / agg_df['cost'] \n",
    "today = pd.to_datetime((datetime.now() - timedelta(days = 1)).strftime('%Y-%m-%d'))\n"
   ]
  },
  {
   "cell_type": "code",
   "execution_count": 12,
   "metadata": {},
   "outputs": [],
   "source": [
    "# Generate pred roas cols by dividing pred_revenue by spending (Name does not change)\n",
    "agg_df[[col for col in df.columns if col.startswith(\"pred_\")]] = agg_df[[col for col in df.columns if col.startswith(\"pred_\")]].div(agg_df['cost'], axis = 0)"
   ]
  },
  {
   "cell_type": "code",
   "execution_count": 101,
   "metadata": {},
   "outputs": [
    {
     "data": {
      "text/html": [
       "<div>\n",
       "<style scoped>\n",
       "    .dataframe tbody tr th:only-of-type {\n",
       "        vertical-align: middle;\n",
       "    }\n",
       "\n",
       "    .dataframe tbody tr th {\n",
       "        vertical-align: top;\n",
       "    }\n",
       "\n",
       "    .dataframe thead th {\n",
       "        text-align: right;\n",
       "    }\n",
       "</style>\n",
       "<table border=\"1\" class=\"dataframe\">\n",
       "  <thead>\n",
       "    <tr style=\"text-align: right;\">\n",
       "      <th></th>\n",
       "      <th>date</th>\n",
       "      <th>cost</th>\n",
       "      <th>revenue_d7</th>\n",
       "      <th>withdraw_d7</th>\n",
       "      <th>payment_increase</th>\n",
       "      <th>rpi_increase</th>\n",
       "      <th>installs_difference</th>\n",
       "      <th>withdrawn_ratio</th>\n",
       "      <th>pred_7_14</th>\n",
       "      <th>pred_8_14</th>\n",
       "      <th>...</th>\n",
       "      <th>ad6</th>\n",
       "      <th>ad63</th>\n",
       "      <th>ad7</th>\n",
       "      <th>ad70</th>\n",
       "      <th>ad77</th>\n",
       "      <th>ad8</th>\n",
       "      <th>ad84</th>\n",
       "      <th>ad9</th>\n",
       "      <th>ad91</th>\n",
       "      <th>ad98</th>\n",
       "    </tr>\n",
       "  </thead>\n",
       "  <tbody>\n",
       "    <tr>\n",
       "      <th>7</th>\n",
       "      <td>20231129</td>\n",
       "      <td>15308.02</td>\n",
       "      <td>13385.63</td>\n",
       "      <td>8379.39</td>\n",
       "      <td>-0.106647</td>\n",
       "      <td>6.306567</td>\n",
       "      <td>-0.205206</td>\n",
       "      <td>0.625999</td>\n",
       "      <td>7478.303192</td>\n",
       "      <td>7734.058993</td>\n",
       "      <td>...</td>\n",
       "      <td>0.0</td>\n",
       "      <td>0.0</td>\n",
       "      <td>0.0</td>\n",
       "      <td>0.0</td>\n",
       "      <td>0.0</td>\n",
       "      <td>0.0</td>\n",
       "      <td>0.0</td>\n",
       "      <td>0.0</td>\n",
       "      <td>0.0</td>\n",
       "      <td>0.0</td>\n",
       "    </tr>\n",
       "    <tr>\n",
       "      <th>27</th>\n",
       "      <td>20231219</td>\n",
       "      <td>53784.51</td>\n",
       "      <td>60072.01</td>\n",
       "      <td>35709.23</td>\n",
       "      <td>-0.164743</td>\n",
       "      <td>12.417916</td>\n",
       "      <td>-0.192023</td>\n",
       "      <td>0.594440</td>\n",
       "      <td>40307.606401</td>\n",
       "      <td>42216.251575</td>\n",
       "      <td>...</td>\n",
       "      <td>0.0</td>\n",
       "      <td>0.0</td>\n",
       "      <td>0.0</td>\n",
       "      <td>0.0</td>\n",
       "      <td>0.0</td>\n",
       "      <td>0.0</td>\n",
       "      <td>0.0</td>\n",
       "      <td>0.0</td>\n",
       "      <td>0.0</td>\n",
       "      <td>0.0</td>\n",
       "    </tr>\n",
       "    <tr>\n",
       "      <th>11</th>\n",
       "      <td>20231203</td>\n",
       "      <td>18166.54</td>\n",
       "      <td>11883.85</td>\n",
       "      <td>7529.60</td>\n",
       "      <td>-0.108259</td>\n",
       "      <td>4.883094</td>\n",
       "      <td>-0.212783</td>\n",
       "      <td>0.633599</td>\n",
       "      <td>5836.135840</td>\n",
       "      <td>6916.163774</td>\n",
       "      <td>...</td>\n",
       "      <td>0.0</td>\n",
       "      <td>0.0</td>\n",
       "      <td>0.0</td>\n",
       "      <td>0.0</td>\n",
       "      <td>0.0</td>\n",
       "      <td>0.0</td>\n",
       "      <td>0.0</td>\n",
       "      <td>0.0</td>\n",
       "      <td>0.0</td>\n",
       "      <td>0.0</td>\n",
       "    </tr>\n",
       "    <tr>\n",
       "      <th>5</th>\n",
       "      <td>20231127</td>\n",
       "      <td>10936.95</td>\n",
       "      <td>10395.47</td>\n",
       "      <td>5285.58</td>\n",
       "      <td>-0.029832</td>\n",
       "      <td>6.917342</td>\n",
       "      <td>-0.208559</td>\n",
       "      <td>0.508450</td>\n",
       "      <td>5656.862862</td>\n",
       "      <td>6089.134418</td>\n",
       "      <td>...</td>\n",
       "      <td>0.0</td>\n",
       "      <td>0.0</td>\n",
       "      <td>0.0</td>\n",
       "      <td>0.0</td>\n",
       "      <td>0.0</td>\n",
       "      <td>0.0</td>\n",
       "      <td>0.0</td>\n",
       "      <td>0.0</td>\n",
       "      <td>0.0</td>\n",
       "      <td>0.0</td>\n",
       "    </tr>\n",
       "    <tr>\n",
       "      <th>3</th>\n",
       "      <td>20231125</td>\n",
       "      <td>11905.94</td>\n",
       "      <td>8963.85</td>\n",
       "      <td>3919.00</td>\n",
       "      <td>-0.040412</td>\n",
       "      <td>5.905894</td>\n",
       "      <td>-0.208054</td>\n",
       "      <td>0.437201</td>\n",
       "      <td>5594.906394</td>\n",
       "      <td>5353.301493</td>\n",
       "      <td>...</td>\n",
       "      <td>0.0</td>\n",
       "      <td>0.0</td>\n",
       "      <td>0.0</td>\n",
       "      <td>0.0</td>\n",
       "      <td>0.0</td>\n",
       "      <td>0.0</td>\n",
       "      <td>0.0</td>\n",
       "      <td>0.0</td>\n",
       "      <td>0.0</td>\n",
       "      <td>0.0</td>\n",
       "    </tr>\n",
       "    <tr>\n",
       "      <th>22</th>\n",
       "      <td>20231214</td>\n",
       "      <td>53020.23</td>\n",
       "      <td>29471.48</td>\n",
       "      <td>12752.80</td>\n",
       "      <td>-0.113603</td>\n",
       "      <td>5.978802</td>\n",
       "      <td>-0.207544</td>\n",
       "      <td>0.432717</td>\n",
       "      <td>23915.914232</td>\n",
       "      <td>27158.263073</td>\n",
       "      <td>...</td>\n",
       "      <td>0.0</td>\n",
       "      <td>0.0</td>\n",
       "      <td>0.0</td>\n",
       "      <td>0.0</td>\n",
       "      <td>0.0</td>\n",
       "      <td>0.0</td>\n",
       "      <td>0.0</td>\n",
       "      <td>0.0</td>\n",
       "      <td>0.0</td>\n",
       "      <td>0.0</td>\n",
       "    </tr>\n",
       "    <tr>\n",
       "      <th>31</th>\n",
       "      <td>20231223</td>\n",
       "      <td>59061.96</td>\n",
       "      <td>78702.36</td>\n",
       "      <td>67696.19</td>\n",
       "      <td>-0.183431</td>\n",
       "      <td>20.433105</td>\n",
       "      <td>-0.206569</td>\n",
       "      <td>0.860155</td>\n",
       "      <td>41870.282613</td>\n",
       "      <td>46212.228026</td>\n",
       "      <td>...</td>\n",
       "      <td>0.0</td>\n",
       "      <td>0.0</td>\n",
       "      <td>0.0</td>\n",
       "      <td>0.0</td>\n",
       "      <td>0.0</td>\n",
       "      <td>0.0</td>\n",
       "      <td>0.0</td>\n",
       "      <td>0.0</td>\n",
       "      <td>0.0</td>\n",
       "      <td>0.0</td>\n",
       "    </tr>\n",
       "    <tr>\n",
       "      <th>14</th>\n",
       "      <td>20231206</td>\n",
       "      <td>26021.99</td>\n",
       "      <td>14434.37</td>\n",
       "      <td>5826.37</td>\n",
       "      <td>-0.038602</td>\n",
       "      <td>4.766828</td>\n",
       "      <td>-0.221462</td>\n",
       "      <td>0.403646</td>\n",
       "      <td>7657.458287</td>\n",
       "      <td>8073.779728</td>\n",
       "      <td>...</td>\n",
       "      <td>0.0</td>\n",
       "      <td>0.0</td>\n",
       "      <td>0.0</td>\n",
       "      <td>0.0</td>\n",
       "      <td>0.0</td>\n",
       "      <td>0.0</td>\n",
       "      <td>0.0</td>\n",
       "      <td>0.0</td>\n",
       "      <td>0.0</td>\n",
       "      <td>0.0</td>\n",
       "    </tr>\n",
       "    <tr>\n",
       "      <th>6</th>\n",
       "      <td>20231128</td>\n",
       "      <td>12087.80</td>\n",
       "      <td>17641.92</td>\n",
       "      <td>8684.99</td>\n",
       "      <td>-0.054328</td>\n",
       "      <td>10.792727</td>\n",
       "      <td>-0.215933</td>\n",
       "      <td>0.492293</td>\n",
       "      <td>7402.592296</td>\n",
       "      <td>7764.724600</td>\n",
       "      <td>...</td>\n",
       "      <td>0.0</td>\n",
       "      <td>0.0</td>\n",
       "      <td>0.0</td>\n",
       "      <td>0.0</td>\n",
       "      <td>0.0</td>\n",
       "      <td>0.0</td>\n",
       "      <td>0.0</td>\n",
       "      <td>0.0</td>\n",
       "      <td>0.0</td>\n",
       "      <td>0.0</td>\n",
       "    </tr>\n",
       "    <tr>\n",
       "      <th>23</th>\n",
       "      <td>20231215</td>\n",
       "      <td>57079.90</td>\n",
       "      <td>37240.37</td>\n",
       "      <td>12764.53</td>\n",
       "      <td>-0.180179</td>\n",
       "      <td>7.374268</td>\n",
       "      <td>-0.188652</td>\n",
       "      <td>0.342761</td>\n",
       "      <td>35363.161822</td>\n",
       "      <td>33761.239079</td>\n",
       "      <td>...</td>\n",
       "      <td>0.0</td>\n",
       "      <td>0.0</td>\n",
       "      <td>0.0</td>\n",
       "      <td>0.0</td>\n",
       "      <td>0.0</td>\n",
       "      <td>0.0</td>\n",
       "      <td>0.0</td>\n",
       "      <td>0.0</td>\n",
       "      <td>0.0</td>\n",
       "      <td>0.0</td>\n",
       "    </tr>\n",
       "  </tbody>\n",
       "</table>\n",
       "<p>10 rows × 421 columns</p>\n",
       "</div>"
      ],
      "text/plain": [
       "        date      cost  revenue_d7  withdraw_d7  payment_increase  \\\n",
       "7   20231129  15308.02    13385.63      8379.39         -0.106647   \n",
       "27  20231219  53784.51    60072.01     35709.23         -0.164743   \n",
       "11  20231203  18166.54    11883.85      7529.60         -0.108259   \n",
       "5   20231127  10936.95    10395.47      5285.58         -0.029832   \n",
       "3   20231125  11905.94     8963.85      3919.00         -0.040412   \n",
       "22  20231214  53020.23    29471.48     12752.80         -0.113603   \n",
       "31  20231223  59061.96    78702.36     67696.19         -0.183431   \n",
       "14  20231206  26021.99    14434.37      5826.37         -0.038602   \n",
       "6   20231128  12087.80    17641.92      8684.99         -0.054328   \n",
       "23  20231215  57079.90    37240.37     12764.53         -0.180179   \n",
       "\n",
       "    rpi_increase  installs_difference  withdrawn_ratio     pred_7_14  \\\n",
       "7       6.306567            -0.205206         0.625999   7478.303192   \n",
       "27     12.417916            -0.192023         0.594440  40307.606401   \n",
       "11      4.883094            -0.212783         0.633599   5836.135840   \n",
       "5       6.917342            -0.208559         0.508450   5656.862862   \n",
       "3       5.905894            -0.208054         0.437201   5594.906394   \n",
       "22      5.978802            -0.207544         0.432717  23915.914232   \n",
       "31     20.433105            -0.206569         0.860155  41870.282613   \n",
       "14      4.766828            -0.221462         0.403646   7657.458287   \n",
       "6      10.792727            -0.215933         0.492293   7402.592296   \n",
       "23      7.374268            -0.188652         0.342761  35363.161822   \n",
       "\n",
       "       pred_8_14  ...  ad6  ad63  ad7  ad70  ad77  ad8  ad84  ad9  ad91  ad98  \n",
       "7    7734.058993  ...  0.0   0.0  0.0   0.0   0.0  0.0   0.0  0.0   0.0   0.0  \n",
       "27  42216.251575  ...  0.0   0.0  0.0   0.0   0.0  0.0   0.0  0.0   0.0   0.0  \n",
       "11   6916.163774  ...  0.0   0.0  0.0   0.0   0.0  0.0   0.0  0.0   0.0   0.0  \n",
       "5    6089.134418  ...  0.0   0.0  0.0   0.0   0.0  0.0   0.0  0.0   0.0   0.0  \n",
       "3    5353.301493  ...  0.0   0.0  0.0   0.0   0.0  0.0   0.0  0.0   0.0   0.0  \n",
       "22  27158.263073  ...  0.0   0.0  0.0   0.0   0.0  0.0   0.0  0.0   0.0   0.0  \n",
       "31  46212.228026  ...  0.0   0.0  0.0   0.0   0.0  0.0   0.0  0.0   0.0   0.0  \n",
       "14   8073.779728  ...  0.0   0.0  0.0   0.0   0.0  0.0   0.0  0.0   0.0   0.0  \n",
       "6    7764.724600  ...  0.0   0.0  0.0   0.0   0.0  0.0   0.0  0.0   0.0   0.0  \n",
       "23  33761.239079  ...  0.0   0.0  0.0   0.0   0.0  0.0   0.0  0.0   0.0   0.0  \n",
       "\n",
       "[10 rows x 421 columns]"
      ]
     },
     "execution_count": 101,
     "metadata": {},
     "output_type": "execute_result"
    }
   ],
   "source": [
    "agg_df_train = agg_df[['date'] + ['cost'] + ['revenue_d7'] + ['withdraw_d7'] + ['payment_increase'] + ['rpi_increase'] + ['installs_difference'] + ['withdrawn_ratio'] \n",
    "                        + [col for col in agg_df.columns if col.startswith(\"pred_\")] + [col for col in agg_df.columns if col.startswith(\"w\")] + [col for col in agg_df.columns if col.startswith(\"ad\")]]\n",
    "\n",
    "agg_df_train.sample(10)"
   ]
  },
  {
   "cell_type": "markdown",
   "metadata": {},
   "source": [
    "## Check numbers are pulled decently well\n"
   ]
  },
  {
   "cell_type": "code",
   "execution_count": 65,
   "metadata": {},
   "outputs": [
    {
     "data": {
      "image/png": "[encoded data removed]",
      "text/plain": [
       "<Figure size 2200x600 with 1 Axes>"
      ]
     },
     "metadata": {},
     "output_type": "display_data"
    }
   ],
   "source": [
    "\n",
    "# Set the seaborn style\n",
    "sns.set(style=\"whitegrid\")\n",
    "\n",
    "# Melt the DataFrame to long format for easier plotting\n",
    "df_long = pd.melt(agg_df, id_vars=['date'], value_vars=['api_installs', 'te_installs'])\n",
    "df_long['date'] = pd.to_datetime(df_long['date'], format='%Y%m%d')\n",
    "\n",
    "# Create the lineplot\n",
    "plt.figure(figsize=(22, 6))\n",
    "sns.lineplot(x='date', y='value', hue='variable', markers=True, data=df_long)\n",
    "\n",
    "# Set labels and title\n",
    "plt.xlabel('Date')\n",
    "plt.ylabel('Count')\n",
    "plt.title('Series Over Time All')\n",
    "\n",
    "# Display the legend\n",
    "# plt.legend(title='Media Source')\n",
    "\n",
    "# Set x-axis ticks at specific intervals\n",
    "plt.xticks(rotation=45, ha='right')  # Adjust rotation and alignment as needed\n",
    "\n",
    "# Show the plot\n",
    "plt.tight_layout()  # Optional for better layout\n",
    "plt.show()"
   ]
  },
  {
   "cell_type": "code",
   "execution_count": 66,
   "metadata": {},
   "outputs": [
    {
     "data": {
      "image/png": "[encoded data removed]",
      "text/plain": [
       "<Figure size 2200x600 with 1 Axes>"
      ]
     },
     "metadata": {},
     "output_type": "display_data"
    }
   ],
   "source": [
    "# Melt the DataFrame to long format for easier plotting\n",
    "df_long = pd.melt(agg_df, id_vars=['date'], value_vars=['revenue_d7', 'p7'])\n",
    "df_long['date'] = pd.to_datetime(df_long['date'], format='%Y%m%d')\n",
    "\n",
    "# Create the lineplot\n",
    "plt.figure(figsize=(22, 6))\n",
    "sns.lineplot(x='date', y='value', hue='variable', markers=True, data=df_long)\n",
    "\n",
    "# Set labels and title\n",
    "plt.xlabel('Date')\n",
    "plt.ylabel('Count')\n",
    "plt.title('Series Over Time by Media Source')\n",
    "\n",
    "# Display the legend\n",
    "# plt.legend(title='Media Source')\n",
    "\n",
    "# Set x-axis ticks at specific intervals\n",
    "plt.xticks(rotation=45, ha='right')  # Adjust rotation and alignment as needed\n",
    "\n",
    "# Show the plot\n",
    "plt.tight_layout()  # Optional for better layout\n",
    "plt.show()"
   ]
  },
  {
   "cell_type": "code",
   "execution_count": 67,
   "metadata": {},
   "outputs": [
    {
     "data": {
      "image/png": "[encoded data removed]",
      "text/plain": [
       "<Figure size 2200x600 with 1 Axes>"
      ]
     },
     "metadata": {},
     "output_type": "display_data"
    }
   ],
   "source": [
    "sns.set(style=\"whitegrid\")\n",
    "\n",
    "# Melt the DataFrame to long format for easier plotting\n",
    "df_long = pd.melt(agg_df, id_vars=['date'], value_vars=['withdraw_d7', 'w7'])\n",
    "df_long['date'] = pd.to_datetime(df_long['date'], format='%Y%m%d')\n",
    "\n",
    "# Create the lineplot\n",
    "plt.figure(figsize=(22, 6))\n",
    "sns.lineplot(x='date', y='value', hue='variable', markers=True, data=df_long)\n",
    "\n",
    "# Set labels and title\n",
    "plt.xlabel('Date')\n",
    "plt.ylabel('Count')\n",
    "plt.title('Series Over Time by Media Source')\n",
    "\n",
    "# Display the legend\n",
    "# plt.legend(title='Media Source')\n",
    "\n",
    "# Set x-axis ticks at specific intervals\n",
    "plt.xticks(rotation=45, ha='right')  # Adjust rotation and alignment as needed\n",
    "\n",
    "# Show the plot\n",
    "plt.tight_layout()  # Optional for better layout\n",
    "plt.show()"
   ]
  },
  {
   "cell_type": "markdown",
   "metadata": {},
   "source": [
    "## 3. Incorporate the responses from the BI tool "
   ]
  },
  {
   "cell_type": "code",
   "execution_count": 68,
   "metadata": {},
   "outputs": [],
   "source": [
    "file_path = (os.getcwd()).replace('\\\\', '/') + r'/roi_all_by_user_20240126191117.xlsx'.replace('\\\\', '/')\n",
    "bi_tool_actuals = pd.read_excel(file_path)\n",
    "\n",
    "bi_tool_actuals = bi_tool_actuals[bi_tool_actuals['date'] != '--']"
   ]
  },
  {
   "cell_type": "code",
   "execution_count": 69,
   "metadata": {},
   "outputs": [
    {
     "data": {
      "text/html": [
       "<div>\n",
       "<style scoped>\n",
       "    .dataframe tbody tr th:only-of-type {\n",
       "        vertical-align: middle;\n",
       "    }\n",
       "\n",
       "    .dataframe tbody tr th {\n",
       "        vertical-align: top;\n",
       "    }\n",
       "\n",
       "    .dataframe thead th {\n",
       "        text-align: right;\n",
       "    }\n",
       "</style>\n",
       "<table border=\"1\" class=\"dataframe\">\n",
       "  <thead>\n",
       "    <tr style=\"text-align: right;\">\n",
       "      <th></th>\n",
       "      <th>date</th>\n",
       "      <th>7-day recovery (rate)</th>\n",
       "      <th>14-day recycling (rate)</th>\n",
       "      <th>Recovery on the 28th (rate)</th>\n",
       "    </tr>\n",
       "  </thead>\n",
       "  <tbody>\n",
       "    <tr>\n",
       "      <th>201</th>\n",
       "      <td>20230701</td>\n",
       "      <td>5,434.91（26.98%）</td>\n",
       "      <td>6,812.31（33.82%）</td>\n",
       "      <td>8,463.36（42.02%）</td>\n",
       "    </tr>\n",
       "    <tr>\n",
       "      <th>200</th>\n",
       "      <td>20230702</td>\n",
       "      <td>6,285.81（32.1%）</td>\n",
       "      <td>7,729.50（39.47%）</td>\n",
       "      <td>9,391.31（47.96%）</td>\n",
       "    </tr>\n",
       "    <tr>\n",
       "      <th>199</th>\n",
       "      <td>20230703</td>\n",
       "      <td>6,571.92（32.45%）</td>\n",
       "      <td>8,410.40（41.53%）</td>\n",
       "      <td>11,210.71（55.36%）</td>\n",
       "    </tr>\n",
       "    <tr>\n",
       "      <th>198</th>\n",
       "      <td>20230704</td>\n",
       "      <td>6,919.64（35.8%）</td>\n",
       "      <td>8,616.98（44.59%）</td>\n",
       "      <td>11,055.64（57.2%）</td>\n",
       "    </tr>\n",
       "    <tr>\n",
       "      <th>197</th>\n",
       "      <td>20230705</td>\n",
       "      <td>5,869.21（35.32%）</td>\n",
       "      <td>7,294.75（43.9%）</td>\n",
       "      <td>8,419.84（50.67%）</td>\n",
       "    </tr>\n",
       "    <tr>\n",
       "      <th>196</th>\n",
       "      <td>20230706</td>\n",
       "      <td>5,429.40（35.01%）</td>\n",
       "      <td>7,254.33（46.77%）</td>\n",
       "      <td>9,238.93（59.57%）</td>\n",
       "    </tr>\n",
       "    <tr>\n",
       "      <th>195</th>\n",
       "      <td>20230707</td>\n",
       "      <td>5,111.15（36.23%）</td>\n",
       "      <td>6,314.18（44.76%）</td>\n",
       "      <td>7,951.88（56.37%）</td>\n",
       "    </tr>\n",
       "    <tr>\n",
       "      <th>194</th>\n",
       "      <td>20230708</td>\n",
       "      <td>4,443.10（33.02%）</td>\n",
       "      <td>5,826.80（43.3%）</td>\n",
       "      <td>7,444.19（55.32%）</td>\n",
       "    </tr>\n",
       "    <tr>\n",
       "      <th>193</th>\n",
       "      <td>20230709</td>\n",
       "      <td>7,599.36（57.2%）</td>\n",
       "      <td>9,683.39（72.89%）</td>\n",
       "      <td>11,869.33（89.35%）</td>\n",
       "    </tr>\n",
       "    <tr>\n",
       "      <th>192</th>\n",
       "      <td>20230710</td>\n",
       "      <td>5,924.59（43.15%）</td>\n",
       "      <td>7,611.38（55.43%）</td>\n",
       "      <td>9,553.12（69.57%）</td>\n",
       "    </tr>\n",
       "  </tbody>\n",
       "</table>\n",
       "</div>"
      ],
      "text/plain": [
       "         date 7-day recovery (rate) 14-day recycling (rate)  \\\n",
       "201  20230701      5,434.91（26.98%）        6,812.31（33.82%）   \n",
       "200  20230702       6,285.81（32.1%）        7,729.50（39.47%）   \n",
       "199  20230703      6,571.92（32.45%）        8,410.40（41.53%）   \n",
       "198  20230704       6,919.64（35.8%）        8,616.98（44.59%）   \n",
       "197  20230705      5,869.21（35.32%）         7,294.75（43.9%）   \n",
       "196  20230706      5,429.40（35.01%）        7,254.33（46.77%）   \n",
       "195  20230707      5,111.15（36.23%）        6,314.18（44.76%）   \n",
       "194  20230708      4,443.10（33.02%）         5,826.80（43.3%）   \n",
       "193  20230709       7,599.36（57.2%）        9,683.39（72.89%）   \n",
       "192  20230710      5,924.59（43.15%）        7,611.38（55.43%）   \n",
       "\n",
       "    Recovery on the 28th (rate)  \n",
       "201            8,463.36（42.02%）  \n",
       "200            9,391.31（47.96%）  \n",
       "199           11,210.71（55.36%）  \n",
       "198            11,055.64（57.2%）  \n",
       "197            8,419.84（50.67%）  \n",
       "196            9,238.93（59.57%）  \n",
       "195            7,951.88（56.37%）  \n",
       "194            7,444.19（55.32%）  \n",
       "193           11,869.33（89.35%）  \n",
       "192            9,553.12（69.57%）  "
      ]
     },
     "execution_count": 69,
     "metadata": {},
     "output_type": "execute_result"
    }
   ],
   "source": [
    "bi_tool_actuals[['date', '7-day recovery (rate)', '14-day recycling (rate)', 'Recovery on the 28th (rate)']].sort_values(by = 'date').head(10)"
   ]
  },
  {
   "cell_type": "code",
   "execution_count": 70,
   "metadata": {},
   "outputs": [
    {
     "data": {
      "text/html": [
       "<div>\n",
       "<style scoped>\n",
       "    .dataframe tbody tr th:only-of-type {\n",
       "        vertical-align: middle;\n",
       "    }\n",
       "\n",
       "    .dataframe tbody tr th {\n",
       "        vertical-align: top;\n",
       "    }\n",
       "\n",
       "    .dataframe thead th {\n",
       "        text-align: right;\n",
       "    }\n",
       "</style>\n",
       "<table border=\"1\" class=\"dataframe\">\n",
       "  <thead>\n",
       "    <tr style=\"text-align: right;\">\n",
       "      <th></th>\n",
       "      <th>date</th>\n",
       "      <th>7-day recovery (rate)</th>\n",
       "      <th>14-day recycling (rate)</th>\n",
       "      <th>Recovery on the 28th (rate)</th>\n",
       "    </tr>\n",
       "  </thead>\n",
       "  <tbody>\n",
       "    <tr>\n",
       "      <th>201</th>\n",
       "      <td>20230701</td>\n",
       "      <td>0.2698</td>\n",
       "      <td>0.3382</td>\n",
       "      <td>0.4202</td>\n",
       "    </tr>\n",
       "    <tr>\n",
       "      <th>200</th>\n",
       "      <td>20230702</td>\n",
       "      <td>0.3210</td>\n",
       "      <td>0.3947</td>\n",
       "      <td>0.4796</td>\n",
       "    </tr>\n",
       "    <tr>\n",
       "      <th>199</th>\n",
       "      <td>20230703</td>\n",
       "      <td>0.3245</td>\n",
       "      <td>0.4153</td>\n",
       "      <td>0.5536</td>\n",
       "    </tr>\n",
       "    <tr>\n",
       "      <th>198</th>\n",
       "      <td>20230704</td>\n",
       "      <td>0.3580</td>\n",
       "      <td>0.4459</td>\n",
       "      <td>0.5720</td>\n",
       "    </tr>\n",
       "    <tr>\n",
       "      <th>197</th>\n",
       "      <td>20230705</td>\n",
       "      <td>0.3532</td>\n",
       "      <td>0.4390</td>\n",
       "      <td>0.5067</td>\n",
       "    </tr>\n",
       "    <tr>\n",
       "      <th>196</th>\n",
       "      <td>20230706</td>\n",
       "      <td>0.3501</td>\n",
       "      <td>0.4677</td>\n",
       "      <td>0.5957</td>\n",
       "    </tr>\n",
       "    <tr>\n",
       "      <th>195</th>\n",
       "      <td>20230707</td>\n",
       "      <td>0.3623</td>\n",
       "      <td>0.4476</td>\n",
       "      <td>0.5637</td>\n",
       "    </tr>\n",
       "    <tr>\n",
       "      <th>194</th>\n",
       "      <td>20230708</td>\n",
       "      <td>0.3302</td>\n",
       "      <td>0.4330</td>\n",
       "      <td>0.5532</td>\n",
       "    </tr>\n",
       "    <tr>\n",
       "      <th>193</th>\n",
       "      <td>20230709</td>\n",
       "      <td>0.5720</td>\n",
       "      <td>0.7289</td>\n",
       "      <td>0.8935</td>\n",
       "    </tr>\n",
       "    <tr>\n",
       "      <th>192</th>\n",
       "      <td>20230710</td>\n",
       "      <td>0.4315</td>\n",
       "      <td>0.5543</td>\n",
       "      <td>0.6957</td>\n",
       "    </tr>\n",
       "  </tbody>\n",
       "</table>\n",
       "</div>"
      ],
      "text/plain": [
       "         date  7-day recovery (rate)  14-day recycling (rate)  \\\n",
       "201  20230701                 0.2698                   0.3382   \n",
       "200  20230702                 0.3210                   0.3947   \n",
       "199  20230703                 0.3245                   0.4153   \n",
       "198  20230704                 0.3580                   0.4459   \n",
       "197  20230705                 0.3532                   0.4390   \n",
       "196  20230706                 0.3501                   0.4677   \n",
       "195  20230707                 0.3623                   0.4476   \n",
       "194  20230708                 0.3302                   0.4330   \n",
       "193  20230709                 0.5720                   0.7289   \n",
       "192  20230710                 0.4315                   0.5543   \n",
       "\n",
       "     Recovery on the 28th (rate)  \n",
       "201                       0.4202  \n",
       "200                       0.4796  \n",
       "199                       0.5536  \n",
       "198                       0.5720  \n",
       "197                       0.5067  \n",
       "196                       0.5957  \n",
       "195                       0.5637  \n",
       "194                       0.5532  \n",
       "193                       0.8935  \n",
       "192                       0.6957  "
      ]
     },
     "execution_count": 70,
     "metadata": {},
     "output_type": "execute_result"
    }
   ],
   "source": [
    "# Convert percentage strings to floats\n",
    "def convert_percentage_string_to_float(percentage_string):\n",
    "    try:\n",
    "        return float(percentage_string.split(' ')[1][1:-2]) / 100\n",
    "    except (ValueError, IndexError):\n",
    "        return float(percentage_string.split('（')[1][0:-2]) / 100\n",
    "\n",
    "bi_columns = ['7-day recovery (rate)', '14-day recycling (rate)', 'Recovery on the 28th (rate)','90-day recovery (rate)', '120-day recovery (rate)']\n",
    "for col in bi_columns:\n",
    "    bi_tool_actuals[col] = bi_tool_actuals[col].apply(convert_percentage_string_to_float)\n",
    "\n",
    "bi_tool_actuals[['date', '7-day recovery (rate)', '14-day recycling (rate)', 'Recovery on the 28th (rate)']].sort_values(by = 'date').head(10)"
   ]
  },
  {
   "cell_type": "code",
   "execution_count": 71,
   "metadata": {},
   "outputs": [
    {
     "data": {
      "text/plain": [
       "20240118"
      ]
     },
     "execution_count": 71,
     "metadata": {},
     "output_type": "execute_result"
    }
   ],
   "source": [
    "bi_tool_actuals['date'].max()\n",
    "# bi_tool_actuals['date'].dtype"
   ]
  },
  {
   "cell_type": "code",
   "execution_count": 72,
   "metadata": {},
   "outputs": [
    {
     "data": {
      "text/html": [
       "<div>\n",
       "<style scoped>\n",
       "    .dataframe tbody tr th:only-of-type {\n",
       "        vertical-align: middle;\n",
       "    }\n",
       "\n",
       "    .dataframe tbody tr th {\n",
       "        vertical-align: top;\n",
       "    }\n",
       "\n",
       "    .dataframe thead th {\n",
       "        text-align: right;\n",
       "    }\n",
       "</style>\n",
       "<table border=\"1\" class=\"dataframe\">\n",
       "  <thead>\n",
       "    <tr style=\"text-align: right;\">\n",
       "      <th></th>\n",
       "      <th>date</th>\n",
       "      <th>api_installs</th>\n",
       "      <th>cost</th>\n",
       "      <th>revenue_d7</th>\n",
       "      <th>withdraw_d7</th>\n",
       "      <th>p1</th>\n",
       "      <th>p10</th>\n",
       "      <th>p100</th>\n",
       "      <th>p105</th>\n",
       "      <th>p11</th>\n",
       "      <th>...</th>\n",
       "      <th>pred_28_133</th>\n",
       "      <th>pred_35_133</th>\n",
       "      <th>te_installs</th>\n",
       "      <th>payment_increase</th>\n",
       "      <th>rpi_increase</th>\n",
       "      <th>installs_difference</th>\n",
       "      <th>withdrawn_ratio</th>\n",
       "      <th>return_p_d7</th>\n",
       "      <th>return_ad_d7</th>\n",
       "      <th>Recovery on the 28th (rate)</th>\n",
       "    </tr>\n",
       "  </thead>\n",
       "  <tbody>\n",
       "    <tr>\n",
       "      <th>18</th>\n",
       "      <td>20231210</td>\n",
       "      <td>3716</td>\n",
       "      <td>41000.42</td>\n",
       "      <td>21567.61</td>\n",
       "      <td>10966.57</td>\n",
       "      <td>10679.48383</td>\n",
       "      <td>26995.42119</td>\n",
       "      <td>144733.41014</td>\n",
       "      <td>144733.41014</td>\n",
       "      <td>28924.27119</td>\n",
       "      <td>...</td>\n",
       "      <td>108143.850905</td>\n",
       "      <td>98972.110029</td>\n",
       "      <td>4845</td>\n",
       "      <td>-0.013003</td>\n",
       "      <td>4.803985</td>\n",
       "      <td>-0.233024</td>\n",
       "      <td>0.508474</td>\n",
       "      <td>0.532964</td>\n",
       "      <td>0.0</td>\n",
       "      <td>0.6306</td>\n",
       "    </tr>\n",
       "    <tr>\n",
       "      <th>5</th>\n",
       "      <td>20231127</td>\n",
       "      <td>1313</td>\n",
       "      <td>10936.95</td>\n",
       "      <td>10395.47</td>\n",
       "      <td>5285.58</td>\n",
       "      <td>4043.63036</td>\n",
       "      <td>12527.82930</td>\n",
       "      <td>42857.66382</td>\n",
       "      <td>42857.66382</td>\n",
       "      <td>13302.87130</td>\n",
       "      <td>...</td>\n",
       "      <td>20588.907522</td>\n",
       "      <td>24055.807014</td>\n",
       "      <td>1659</td>\n",
       "      <td>-0.029832</td>\n",
       "      <td>6.917342</td>\n",
       "      <td>-0.208559</td>\n",
       "      <td>0.508450</td>\n",
       "      <td>0.979718</td>\n",
       "      <td>0.0</td>\n",
       "      <td>0.4672</td>\n",
       "    </tr>\n",
       "    <tr>\n",
       "      <th>8</th>\n",
       "      <td>20231130</td>\n",
       "      <td>1759</td>\n",
       "      <td>14595.90</td>\n",
       "      <td>13981.43</td>\n",
       "      <td>11817.97</td>\n",
       "      <td>5656.99773</td>\n",
       "      <td>20398.97851</td>\n",
       "      <td>82720.11033</td>\n",
       "      <td>82720.11033</td>\n",
       "      <td>21299.89914</td>\n",
       "      <td>...</td>\n",
       "      <td>48875.727543</td>\n",
       "      <td>52660.497669</td>\n",
       "      <td>2222</td>\n",
       "      <td>-0.101181</td>\n",
       "      <td>6.948511</td>\n",
       "      <td>-0.208371</td>\n",
       "      <td>0.845262</td>\n",
       "      <td>1.065733</td>\n",
       "      <td>0.0</td>\n",
       "      <td>0.7316</td>\n",
       "    </tr>\n",
       "    <tr>\n",
       "      <th>9</th>\n",
       "      <td>20231201</td>\n",
       "      <td>1795</td>\n",
       "      <td>16334.34</td>\n",
       "      <td>20415.13</td>\n",
       "      <td>6499.97</td>\n",
       "      <td>16475.38636</td>\n",
       "      <td>38835.38873</td>\n",
       "      <td>125815.33251</td>\n",
       "      <td>125815.33251</td>\n",
       "      <td>40798.01573</td>\n",
       "      <td>...</td>\n",
       "      <td>106492.498397</td>\n",
       "      <td>111222.180497</td>\n",
       "      <td>2232</td>\n",
       "      <td>-0.348275</td>\n",
       "      <td>10.373331</td>\n",
       "      <td>-0.195789</td>\n",
       "      <td>0.318390</td>\n",
       "      <td>1.917725</td>\n",
       "      <td>0.0</td>\n",
       "      <td>0.7835</td>\n",
       "    </tr>\n",
       "    <tr>\n",
       "      <th>33</th>\n",
       "      <td>20231225</td>\n",
       "      <td>3972</td>\n",
       "      <td>63913.80</td>\n",
       "      <td>39535.69</td>\n",
       "      <td>18089.01</td>\n",
       "      <td>17487.89519</td>\n",
       "      <td>60638.07373</td>\n",
       "      <td>139177.73647</td>\n",
       "      <td>139177.73647</td>\n",
       "      <td>64602.02673</td>\n",
       "      <td>...</td>\n",
       "      <td>112613.247404</td>\n",
       "      <td>114935.356753</td>\n",
       "      <td>4803</td>\n",
       "      <td>-0.229558</td>\n",
       "      <td>8.953598</td>\n",
       "      <td>-0.173017</td>\n",
       "      <td>0.457536</td>\n",
       "      <td>0.802888</td>\n",
       "      <td>0.0</td>\n",
       "      <td>0.4724</td>\n",
       "    </tr>\n",
       "    <tr>\n",
       "      <th>13</th>\n",
       "      <td>20231205</td>\n",
       "      <td>2176</td>\n",
       "      <td>20987.00</td>\n",
       "      <td>14117.10</td>\n",
       "      <td>6905.50</td>\n",
       "      <td>7708.67378</td>\n",
       "      <td>18070.40762</td>\n",
       "      <td>140183.47102</td>\n",
       "      <td>140183.47102</td>\n",
       "      <td>19590.43709</td>\n",
       "      <td>...</td>\n",
       "      <td>70705.869354</td>\n",
       "      <td>106205.508582</td>\n",
       "      <td>2791</td>\n",
       "      <td>-0.054096</td>\n",
       "      <td>5.487638</td>\n",
       "      <td>-0.220351</td>\n",
       "      <td>0.489159</td>\n",
       "      <td>0.711128</td>\n",
       "      <td>0.0</td>\n",
       "      <td>0.5552</td>\n",
       "    </tr>\n",
       "    <tr>\n",
       "      <th>11</th>\n",
       "      <td>20231203</td>\n",
       "      <td>2020</td>\n",
       "      <td>18166.54</td>\n",
       "      <td>11883.85</td>\n",
       "      <td>7529.60</td>\n",
       "      <td>5011.61584</td>\n",
       "      <td>17673.11789</td>\n",
       "      <td>62217.86225</td>\n",
       "      <td>62217.86225</td>\n",
       "      <td>19335.06889</td>\n",
       "      <td>...</td>\n",
       "      <td>51829.041094</td>\n",
       "      <td>39233.739483</td>\n",
       "      <td>2566</td>\n",
       "      <td>-0.108259</td>\n",
       "      <td>4.883094</td>\n",
       "      <td>-0.212783</td>\n",
       "      <td>0.633599</td>\n",
       "      <td>0.733578</td>\n",
       "      <td>0.0</td>\n",
       "      <td>0.8929</td>\n",
       "    </tr>\n",
       "    <tr>\n",
       "      <th>4</th>\n",
       "      <td>20231126</td>\n",
       "      <td>1368</td>\n",
       "      <td>10862.30</td>\n",
       "      <td>10654.07</td>\n",
       "      <td>9428.93</td>\n",
       "      <td>3227.22573</td>\n",
       "      <td>16902.27172</td>\n",
       "      <td>97786.72830</td>\n",
       "      <td>97786.72830</td>\n",
       "      <td>18761.90130</td>\n",
       "      <td>...</td>\n",
       "      <td>57211.587116</td>\n",
       "      <td>49399.423690</td>\n",
       "      <td>1688</td>\n",
       "      <td>-0.114049</td>\n",
       "      <td>6.788063</td>\n",
       "      <td>-0.189573</td>\n",
       "      <td>0.885007</td>\n",
       "      <td>1.107092</td>\n",
       "      <td>0.0</td>\n",
       "      <td>0.5742</td>\n",
       "    </tr>\n",
       "    <tr>\n",
       "      <th>36</th>\n",
       "      <td>20231228</td>\n",
       "      <td>4344</td>\n",
       "      <td>61411.79</td>\n",
       "      <td>59623.70</td>\n",
       "      <td>44515.84</td>\n",
       "      <td>21166.29835</td>\n",
       "      <td>94357.51468</td>\n",
       "      <td>219402.98121</td>\n",
       "      <td>219402.98121</td>\n",
       "      <td>109766.66131</td>\n",
       "      <td>...</td>\n",
       "      <td>236052.821776</td>\n",
       "      <td>169200.228338</td>\n",
       "      <td>5523</td>\n",
       "      <td>-0.133804</td>\n",
       "      <td>12.725529</td>\n",
       "      <td>-0.213471</td>\n",
       "      <td>0.746613</td>\n",
       "      <td>1.120860</td>\n",
       "      <td>0.0</td>\n",
       "      <td>0.6754</td>\n",
       "    </tr>\n",
       "    <tr>\n",
       "      <th>25</th>\n",
       "      <td>20231217</td>\n",
       "      <td>4459</td>\n",
       "      <td>55968.07</td>\n",
       "      <td>42076.22</td>\n",
       "      <td>21138.65</td>\n",
       "      <td>19800.53206</td>\n",
       "      <td>55335.78403</td>\n",
       "      <td>166025.44574</td>\n",
       "      <td>166025.44574</td>\n",
       "      <td>61478.14855</td>\n",
       "      <td>...</td>\n",
       "      <td>139997.424880</td>\n",
       "      <td>149953.873621</td>\n",
       "      <td>5498</td>\n",
       "      <td>-0.053676</td>\n",
       "      <td>8.436246</td>\n",
       "      <td>-0.188978</td>\n",
       "      <td>0.502389</td>\n",
       "      <td>0.794432</td>\n",
       "      <td>0.0</td>\n",
       "      <td>0.6733</td>\n",
       "    </tr>\n",
       "  </tbody>\n",
       "</table>\n",
       "<p>10 rows × 491 columns</p>\n",
       "</div>"
      ],
      "text/plain": [
       "        date  api_installs      cost  revenue_d7  withdraw_d7           p1  \\\n",
       "18  20231210          3716  41000.42    21567.61     10966.57  10679.48383   \n",
       "5   20231127          1313  10936.95    10395.47      5285.58   4043.63036   \n",
       "8   20231130          1759  14595.90    13981.43     11817.97   5656.99773   \n",
       "9   20231201          1795  16334.34    20415.13      6499.97  16475.38636   \n",
       "33  20231225          3972  63913.80    39535.69     18089.01  17487.89519   \n",
       "13  20231205          2176  20987.00    14117.10      6905.50   7708.67378   \n",
       "11  20231203          2020  18166.54    11883.85      7529.60   5011.61584   \n",
       "4   20231126          1368  10862.30    10654.07      9428.93   3227.22573   \n",
       "36  20231228          4344  61411.79    59623.70     44515.84  21166.29835   \n",
       "25  20231217          4459  55968.07    42076.22     21138.65  19800.53206   \n",
       "\n",
       "            p10          p100          p105           p11  ...    pred_28_133  \\\n",
       "18  26995.42119  144733.41014  144733.41014   28924.27119  ...  108143.850905   \n",
       "5   12527.82930   42857.66382   42857.66382   13302.87130  ...   20588.907522   \n",
       "8   20398.97851   82720.11033   82720.11033   21299.89914  ...   48875.727543   \n",
       "9   38835.38873  125815.33251  125815.33251   40798.01573  ...  106492.498397   \n",
       "33  60638.07373  139177.73647  139177.73647   64602.02673  ...  112613.247404   \n",
       "13  18070.40762  140183.47102  140183.47102   19590.43709  ...   70705.869354   \n",
       "11  17673.11789   62217.86225   62217.86225   19335.06889  ...   51829.041094   \n",
       "4   16902.27172   97786.72830   97786.72830   18761.90130  ...   57211.587116   \n",
       "36  94357.51468  219402.98121  219402.98121  109766.66131  ...  236052.821776   \n",
       "25  55335.78403  166025.44574  166025.44574   61478.14855  ...  139997.424880   \n",
       "\n",
       "      pred_35_133  te_installs  payment_increase  rpi_increase  \\\n",
       "18   98972.110029         4845         -0.013003      4.803985   \n",
       "5    24055.807014         1659         -0.029832      6.917342   \n",
       "8    52660.497669         2222         -0.101181      6.948511   \n",
       "9   111222.180497         2232         -0.348275     10.373331   \n",
       "33  114935.356753         4803         -0.229558      8.953598   \n",
       "13  106205.508582         2791         -0.054096      5.487638   \n",
       "11   39233.739483         2566         -0.108259      4.883094   \n",
       "4    49399.423690         1688         -0.114049      6.788063   \n",
       "36  169200.228338         5523         -0.133804     12.725529   \n",
       "25  149953.873621         5498         -0.053676      8.436246   \n",
       "\n",
       "    installs_difference  withdrawn_ratio  return_p_d7  return_ad_d7  \\\n",
       "18            -0.233024         0.508474     0.532964           0.0   \n",
       "5             -0.208559         0.508450     0.979718           0.0   \n",
       "8             -0.208371         0.845262     1.065733           0.0   \n",
       "9             -0.195789         0.318390     1.917725           0.0   \n",
       "33            -0.173017         0.457536     0.802888           0.0   \n",
       "13            -0.220351         0.489159     0.711128           0.0   \n",
       "11            -0.212783         0.633599     0.733578           0.0   \n",
       "4             -0.189573         0.885007     1.107092           0.0   \n",
       "36            -0.213471         0.746613     1.120860           0.0   \n",
       "25            -0.188978         0.502389     0.794432           0.0   \n",
       "\n",
       "    Recovery on the 28th (rate)  \n",
       "18                       0.6306  \n",
       "5                        0.4672  \n",
       "8                        0.7316  \n",
       "9                        0.7835  \n",
       "33                       0.4724  \n",
       "13                       0.5552  \n",
       "11                       0.8929  \n",
       "4                        0.5742  \n",
       "36                       0.6754  \n",
       "25                       0.6733  \n",
       "\n",
       "[10 rows x 491 columns]"
      ]
     },
     "execution_count": 72,
     "metadata": {},
     "output_type": "execute_result"
    }
   ],
   "source": [
    "# MERGE BI TOOL TO MY DATA (AGG DF INCLUDES BI DATA)\n",
    "\n",
    "bi_tool_wanted_cols = ['date', 'Recovery on the 28th (rate)']\n",
    "\n",
    "# agg_df['channel'] = agg_df['media_source']\n",
    "# bi_tool_actuals['date'] = pd.to_datetime(bi_tool_actuals['date']).dt.date.apply(lambda x: int(x.strftime('%Y%m%d')))\n",
    "agg_df = pd.merge(agg_df, bi_tool_actuals[bi_tool_wanted_cols], on = 'date')\n",
    "agg_df.sample(10)\n"
   ]
  },
  {
   "cell_type": "markdown",
   "metadata": {},
   "source": [
    "### Day 7 to 14 and\n",
    "\n",
    "### Day 28 to day 100 growth (Pull the data from the BI tool)"
   ]
  },
  {
   "cell_type": "code",
   "execution_count": 73,
   "metadata": {},
   "outputs": [],
   "source": [
    "bi_tool_actuals\n",
    "\n",
    "for col in []:\n",
    "    bi_tool_actuals[col] = bi_tool_actuals[col].apply(convert_percentage_string_to_float)"
   ]
  },
  {
   "cell_type": "code",
   "execution_count": 74,
   "metadata": {},
   "outputs": [
    {
     "data": {
      "image/png": "[encoded data removed]",
      "text/plain": [
       "<Figure size 640x480 with 1 Axes>"
      ]
     },
     "metadata": {},
     "output_type": "display_data"
    }
   ],
   "source": [
    "\n",
    "bi_tool_actuals['Register new'].plot(kind='line', marker='o', linestyle='-', color='blue')\n",
    "\n",
    "# Adding labels and title\n",
    "plt.xlabel('Index')\n",
    "plt.ylabel('Register New Values')\n",
    "plt.title('Line Plot of Register New against Index')\n",
    "\n",
    "# Display the plot\n",
    "plt.show()"
   ]
  },
  {
   "cell_type": "code",
   "execution_count": 75,
   "metadata": {},
   "outputs": [
    {
     "data": {
      "image/png": "[encoded data removed]",
      "text/plain": [
       "<Figure size 640x480 with 1 Axes>"
      ]
     },
     "metadata": {},
     "output_type": "display_data"
    }
   ],
   "source": [
    "bi_tool_actuals['Register new'].plot(kind='line', marker='o', linestyle='-', color='blue')\n",
    "\n",
    "# Adding labels and title\n",
    "plt.xlabel('Index')\n",
    "plt.ylabel('Register New Values')\n",
    "plt.title('Line Plot of Register New against Index')\n",
    "\n",
    "# Display the plot\n",
    "plt.show()"
   ]
  },
  {
   "cell_type": "code",
   "execution_count": 76,
   "metadata": {},
   "outputs": [
    {
     "name": "stdout",
     "output_type": "stream",
     "text": [
      "7-day recovery (rate)\n",
      "14-day recycling (rate)\n",
      "Recovery on the 28th (rate)\n",
      "90-day recovery (rate)\n",
      "120-day recovery (rate)\n"
     ]
    },
    {
     "data": {
      "text/html": [
       "<div>\n",
       "<style scoped>\n",
       "    .dataframe tbody tr th:only-of-type {\n",
       "        vertical-align: middle;\n",
       "    }\n",
       "\n",
       "    .dataframe tbody tr th {\n",
       "        vertical-align: top;\n",
       "    }\n",
       "\n",
       "    .dataframe thead th {\n",
       "        text-align: right;\n",
       "    }\n",
       "</style>\n",
       "<table border=\"1\" class=\"dataframe\">\n",
       "  <thead>\n",
       "    <tr style=\"text-align: right;\">\n",
       "      <th></th>\n",
       "      <th>index</th>\n",
       "      <th>0</th>\n",
       "    </tr>\n",
       "  </thead>\n",
       "  <tbody>\n",
       "    <tr>\n",
       "      <th>0</th>\n",
       "      <td>date</td>\n",
       "      <td>1348734080154008179702400722555897417740479093...</td>\n",
       "    </tr>\n",
       "    <tr>\n",
       "      <th>1</th>\n",
       "      <td>7-day recovery (rate)</td>\n",
       "      <td>1.0</td>\n",
       "    </tr>\n",
       "    <tr>\n",
       "      <th>2</th>\n",
       "      <td>14-day recycling (rate)</td>\n",
       "      <td>1.221852</td>\n",
       "    </tr>\n",
       "    <tr>\n",
       "      <th>3</th>\n",
       "      <td>Recovery on the 28th (rate)</td>\n",
       "      <td>1.47318</td>\n",
       "    </tr>\n",
       "    <tr>\n",
       "      <th>4</th>\n",
       "      <td>90-day recovery (rate)</td>\n",
       "      <td>1.847519</td>\n",
       "    </tr>\n",
       "    <tr>\n",
       "      <th>5</th>\n",
       "      <td>120-day recovery (rate)</td>\n",
       "      <td>1.874508</td>\n",
       "    </tr>\n",
       "  </tbody>\n",
       "</table>\n",
       "</div>"
      ],
      "text/plain": [
       "                         index  \\\n",
       "0                         date   \n",
       "1        7-day recovery (rate)   \n",
       "2      14-day recycling (rate)   \n",
       "3  Recovery on the 28th (rate)   \n",
       "4       90-day recovery (rate)   \n",
       "5      120-day recovery (rate)   \n",
       "\n",
       "                                                   0  \n",
       "0  1348734080154008179702400722555897417740479093...  \n",
       "1                                                1.0  \n",
       "2                                           1.221852  \n",
       "3                                            1.47318  \n",
       "4                                           1.847519  \n",
       "5                                           1.874508  "
      ]
     },
     "execution_count": 76,
     "metadata": {},
     "output_type": "execute_result"
    }
   ],
   "source": [
    "columns = ['7-day recovery (rate)', '14-day recycling (rate)', 'Recovery on the 28th (rate)','90-day recovery (rate)', '120-day recovery (rate)']\n",
    "used_num_bi = bi_tool_actuals[(bi_tool_actuals['date'] > 20231010) & (bi_tool_actuals['date'] <= 20231025)].groupby('date')[columns].sum().reset_index()\n",
    "used_num_bi['date'] = pd.to_datetime(used_num_bi['date'].astype(str), format='%Y%m%d').dt.strftime('%Y%m%d')\n",
    "\n",
    "\n",
    "denom = used_num_bi['7-day recovery (rate)'].values\n",
    "for col in columns:\n",
    "    print(col)\n",
    "    used_num_bi[col] = used_num_bi[col] / denom\n",
    "\n",
    "daily_growth = used_num_bi.mean().reset_index()\n",
    "daily_growth"
   ]
  },
  {
   "cell_type": "code",
   "execution_count": 77,
   "metadata": {},
   "outputs": [
    {
     "name": "stdout",
     "output_type": "stream",
     "text": [
      "1.2218518277171337 1.473180489144073 0.006806150959772336\n"
     ]
    }
   ],
   "source": [
    "mult_14 = daily_growth[daily_growth['index'] == '14-day recycling (rate)'][0].values[0]\n",
    "mult_28 = daily_growth[daily_growth['index'] == 'Recovery on the 28th (rate)'][0].values[0]\n",
    "linear_growth_rate = (daily_growth[daily_growth['index'] == '90-day recovery (rate)'][0].values[0] - mult_28) / (90 - 35)\n",
    "\n",
    "print(mult_14, mult_28, linear_growth_rate)"
   ]
  },
  {
   "cell_type": "markdown",
   "metadata": {},
   "source": [
    "### Check the Joint results"
   ]
  },
  {
   "cell_type": "code",
   "execution_count": 78,
   "metadata": {},
   "outputs": [
    {
     "data": {
      "image/png": "[encoded data removed]",
      "text/plain": [
       "<Figure size 2200x600 with 1 Axes>"
      ]
     },
     "metadata": {},
     "output_type": "display_data"
    }
   ],
   "source": [
    "filtered_df = agg_df.copy()#[agg_df['channel'] == sourcesito]\n",
    "# filtered_df['date'] = pd.to_datetime(filtered_df['date'], format='%Y-%m-%d')\n",
    "filtered_df = filtered_df.sort_values(by='date')\n",
    "filtered_df['actual_28'] = filtered_df['actual_28']/filtered_df['cost']\n",
    "\n",
    "# Melt the DataFrame to long format for easier plotting\n",
    "df_long = pd.melt(filtered_df, id_vars=['date'], value_vars=['Recovery on the 28th (rate)', 'pred_7_28', 'actual_28'])\n",
    "# df_long['date'] = pd.to_datetime(df_long['date']).dt.date.apply(lambda x: int(x.strftime('%Y%m%d')))\n",
    "df_long['date'] = pd.to_datetime(df_long['date'], format='%Y%m%d')\n",
    "\n",
    "# Create the lineplot\n",
    "plt.figure(figsize=(22, 6))\n",
    "sns.lineplot(x='date', y='value', hue='variable', markers=True, data=df_long)\n",
    "\n",
    "# Set labels and title\n",
    "plt.xlabel('Date')\n",
    "plt.ylabel('ROAS day 28')\n",
    "plt.title(f'ROAS Over Time Unity: ')\n",
    "\n",
    "# Display the legend\n",
    "plt.legend(title='Media Source')\n",
    "\n",
    "# Rotate X-axis labels\n",
    "plt.xticks(rotation=45, ha='right')\n",
    "\n",
    "# Show the plot\n",
    "plt.show()"
   ]
  },
  {
   "cell_type": "markdown",
   "metadata": {},
   "source": [
    "## Find the best configuration to train correction rule"
   ]
  },
  {
   "cell_type": "code",
   "execution_count": 79,
   "metadata": {},
   "outputs": [],
   "source": [
    "bias = 0.15 \n",
    "\n"
   ]
  },
  {
   "cell_type": "code",
   "execution_count": 102,
   "metadata": {},
   "outputs": [],
   "source": [
    "w_col_names = [col for col in agg_df.columns if re.match(r'^w\\d*$', col) is not None]\n",
    "p_col_names = [col for col in agg_df.columns if re.match(r'^p\\d*$', col) is not None]\n",
    "agg_df_train = agg_df[agg_df['api_installs'] > 50][['date'] + ['te_installs'] + ['cost'] + ['revenue_d7'] + ['withdraw_d7'] + ['payment_increase'] \n",
    "                        + ['rpi_increase'] + ['installs_difference'] + ['withdrawn_ratio'] + ['Recovery on the 28th (rate)']\n",
    "                         + [col for col in agg_df.columns if col.startswith(\"ad\") ]\n",
    "                        + [col for col in agg_df.columns if col.startswith(\"pred_\") ] + w_col_names + p_col_names]\n",
    "\n",
    "agg_df_train['d7_28_increase_api'] = agg_df_train['Recovery on the 28th (rate)'] - agg_df_train['revenue_d7']/agg_df_train['cost']\n",
    "agg_df_train['d7_28_increase_pred'] = agg_df_train['pred_7_28'] - (agg_df_train['p7']/agg_df_train['cost'] - agg_df_train['withdraw_d7']/agg_df_train['cost'])\n",
    "agg_df_train['d7_28_increase_pred'] = agg_df_train['pred_7_28'] - (agg_df_train['p7']/agg_df_train['cost'] - agg_df_train['withdraw_d7']/agg_df_train['cost'])\n"
   ]
  },
  {
   "cell_type": "code",
   "execution_count": 103,
   "metadata": {},
   "outputs": [],
   "source": [
    "# GET THE COLUMN GROUPS\n",
    "validation_sets = 3\n",
    "agg_df_train['validation_set_id'] = pd.qcut(agg_df_train['date'].astype(float).values, validation_sets)"
   ]
  },
  {
   "cell_type": "code",
   "execution_count": 104,
   "metadata": {},
   "outputs": [
    {
     "data": {
      "text/plain": [
       "validation_set_id\n",
       "(20231121.999, 20231204.0]    13\n",
       "(20231204.0, 20231216.0]      12\n",
       "(20231216.0, 20231228.0]      12\n",
       "dtype: int64"
      ]
     },
     "execution_count": 104,
     "metadata": {},
     "output_type": "execute_result"
    }
   ],
   "source": [
    "agg_df_train.groupby('validation_set_id').size()"
   ]
  },
  {
   "cell_type": "code",
   "execution_count": 105,
   "metadata": {},
   "outputs": [
    {
     "name": "stdout",
     "output_type": "stream",
     "text": [
      "Empty DataFrame\n",
      "Columns: [date, te_installs, cost, revenue_d7, withdraw_d7, payment_increase, rpi_increase, installs_difference, withdrawn_ratio, Recovery on the 28th (rate), ad1, ad10, ad100, ad105, ad11, ad112, ad119, ad12, ad126, ad13, ad133, ad14, ad15, ad16, ad17, ad18, ad19, ad2, ad20, ad21, ad22, ad23, ad24, ad25, ad26, ad27, ad28, ad3, ad35, ad4, ad42, ad49, ad5, ad56, ad6, ad63, ad7, ad70, ad77, ad8, ad84, ad9, ad91, ad98, pred_7_14, pred_8_14, pred_9_14, pred_10_14, pred_11_14, pred_12_14, pred_13_14, pred_7_28, pred_8_28, pred_9_28, pred_10_28, pred_11_28, pred_12_28, pred_13_28, pred_14_28, pred_15_28, pred_16_28, pred_17_28, pred_18_28, pred_19_28, pred_20_28, pred_21_28, pred_22_28, pred_23_28, pred_24_28, pred_25_28, pred_26_28, pred_27_28, pred_7_56, pred_8_56, pred_9_56, pred_10_56, pred_11_56, pred_12_56, pred_13_56, pred_14_56, pred_15_56, pred_16_56, pred_17_56, pred_18_56, pred_19_56, pred_20_56, pred_21_56, pred_22_56, pred_23_56, pred_24_56, ...]\n",
      "Index: []\n",
      "\n",
      "[0 rows x 468 columns]\n"
     ]
    },
    {
     "data": {
      "text/html": [
       "<div>\n",
       "<style scoped>\n",
       "    .dataframe tbody tr th:only-of-type {\n",
       "        vertical-align: middle;\n",
       "    }\n",
       "\n",
       "    .dataframe tbody tr th {\n",
       "        vertical-align: top;\n",
       "    }\n",
       "\n",
       "    .dataframe thead th {\n",
       "        text-align: right;\n",
       "    }\n",
       "</style>\n",
       "<table border=\"1\" class=\"dataframe\">\n",
       "  <thead>\n",
       "    <tr style=\"text-align: right;\">\n",
       "      <th></th>\n",
       "      <th>date</th>\n",
       "      <th>te_installs</th>\n",
       "      <th>cost</th>\n",
       "      <th>revenue_d7</th>\n",
       "      <th>withdraw_d7</th>\n",
       "      <th>payment_increase</th>\n",
       "      <th>rpi_increase</th>\n",
       "      <th>installs_difference</th>\n",
       "      <th>withdrawn_ratio</th>\n",
       "      <th>Recovery on the 28th (rate)</th>\n",
       "      <th>...</th>\n",
       "      <th>p70</th>\n",
       "      <th>p77</th>\n",
       "      <th>p8</th>\n",
       "      <th>p84</th>\n",
       "      <th>p9</th>\n",
       "      <th>p91</th>\n",
       "      <th>p98</th>\n",
       "      <th>d7_28_increase_api</th>\n",
       "      <th>d7_28_increase_pred</th>\n",
       "      <th>validation_set_id</th>\n",
       "    </tr>\n",
       "  </thead>\n",
       "  <tbody>\n",
       "  </tbody>\n",
       "</table>\n",
       "<p>0 rows × 468 columns</p>\n",
       "</div>"
      ],
      "text/plain": [
       "Empty DataFrame\n",
       "Columns: [date, te_installs, cost, revenue_d7, withdraw_d7, payment_increase, rpi_increase, installs_difference, withdrawn_ratio, Recovery on the 28th (rate), ad1, ad10, ad100, ad105, ad11, ad112, ad119, ad12, ad126, ad13, ad133, ad14, ad15, ad16, ad17, ad18, ad19, ad2, ad20, ad21, ad22, ad23, ad24, ad25, ad26, ad27, ad28, ad3, ad35, ad4, ad42, ad49, ad5, ad56, ad6, ad63, ad7, ad70, ad77, ad8, ad84, ad9, ad91, ad98, pred_7_14, pred_8_14, pred_9_14, pred_10_14, pred_11_14, pred_12_14, pred_13_14, pred_7_28, pred_8_28, pred_9_28, pred_10_28, pred_11_28, pred_12_28, pred_13_28, pred_14_28, pred_15_28, pred_16_28, pred_17_28, pred_18_28, pred_19_28, pred_20_28, pred_21_28, pred_22_28, pred_23_28, pred_24_28, pred_25_28, pred_26_28, pred_27_28, pred_7_56, pred_8_56, pred_9_56, pred_10_56, pred_11_56, pred_12_56, pred_13_56, pred_14_56, pred_15_56, pred_16_56, pred_17_56, pred_18_56, pred_19_56, pred_20_56, pred_21_56, pred_22_56, pred_23_56, pred_24_56, ...]\n",
       "Index: []\n",
       "\n",
       "[0 rows x 468 columns]"
      ]
     },
     "execution_count": 105,
     "metadata": {},
     "output_type": "execute_result"
    }
   ],
   "source": [
    "# Check for nulls, infinities and select the model_cols\n",
    "model_cols = agg_df_train[agg_df_train.columns[5:]].columns\n",
    "model_cols\n",
    "null_rows = agg_df_train[agg_df_train['payment_increase'].isnull()]\n",
    "print(null_rows)\n",
    "infinity_rows = agg_df_train[np.isinf(agg_df_train['payment_increase'])]\n",
    "infinity_rows"
   ]
  },
  {
   "cell_type": "markdown",
   "metadata": {},
   "source": [
    "### Modelling"
   ]
  },
  {
   "cell_type": "code",
   "execution_count": 106,
   "metadata": {},
   "outputs": [],
   "source": [
    "# Define predictive model and the polynomial transformation (This should be kept for the dictionary with the exception of the dynamic column. In this case: d7_28_increase_pred)\n",
    "\n",
    "## Addition\n",
    "agg_df_train['return_withdraw_d7'] = agg_df_train['withdraw_d7'] / agg_df_train['cost'] \n",
    "agg_df_train['return_p_d7'] = agg_df_train['p7'] / agg_df_train['cost'] \n",
    "\n",
    "## Definintion in list \n",
    "model_cols = ['return_withdraw_d7', 'return_p_d7', 'payment_increase', 'rpi_increase', 'installs_difference', 'withdrawn_ratio', 'd7_28_increase_api', 'd7_28_increase_pred', 'te_installs']\n",
    "\n",
    "## Algorithm \n",
    "def create_huber(alpha, epsi, cols, weights_train): \n",
    "    \n",
    "    columns = cols\n",
    "    preprocessor = ColumnTransformer(\n",
    "        transformers=[\n",
    "            ('scaler', StandardScaler(), columns)\n",
    "        ],\n",
    "        remainder='passthrough'\n",
    "    )\n",
    "\n",
    "\n",
    "    # Create the pipeline\n",
    "    pipe = Pipeline([\n",
    "        ('preprocessor', preprocessor),\n",
    "        ('regressor', HuberRegressor(fit_intercept = True, epsilon = epsi, alpha = alpha, warm_start = False, max_iter = 1000))\n",
    "    ])\n",
    "\n",
    "    pipe.named_steps['regressor'].sample_weight = weights_train\n",
    "\n",
    "    return pipe\n",
    "\n",
    "## Feat engineering\n",
    "def all_feature_enginerring(data, pred_col):\n",
    "\n",
    "    \"\"\"\n",
    "    This is better to create before and the just utilise it in whatever model\n",
    "        - Notice what you're doing with withdrawal day 100 (I am not so interested in withdrawal but it is fine)\n",
    "    \"\"\"\n",
    "    \n",
    "    # Inclusion of interpolation \n",
    "    column_list = ['withdrawn_ratio', pred_col, 'installs_difference']\n",
    "    column_combinations = list(itertools.combinations(column_list, 2))\n",
    "\n",
    "    for pair in column_combinations:\n",
    "        column1, column2 = pair\n",
    "        new_column_name = f\"{column1}_times_{column2}\"\n",
    "        data[new_column_name] = data[column1] * data[column2]  # Example: Multiply values of two columns\n",
    "\n",
    "    return data\n"
   ]
  },
  {
   "cell_type": "code",
   "execution_count": 34,
   "metadata": {},
   "outputs": [
    {
     "name": "stderr",
     "output_type": "stream",
     "text": [
      "  0%|          | 0/3 [00:00<?, ?it/s]"
     ]
    },
    {
     "name": "stdout",
     "output_type": "stream",
     "text": [
      "(20231121.999, 20231204.0]\n"
     ]
    },
    {
     "name": "stderr",
     "output_type": "stream",
     "text": [
      " 33%|███▎      | 1/3 [00:02<00:05,  2.57s/it]"
     ]
    },
    {
     "name": "stdout",
     "output_type": "stream",
     "text": [
      "(20231204.0, 20231216.0]\n"
     ]
    },
    {
     "name": "stderr",
     "output_type": "stream",
     "text": [
      " 67%|██████▋   | 2/3 [00:04<00:02,  2.13s/it]"
     ]
    },
    {
     "name": "stdout",
     "output_type": "stream",
     "text": [
      "(20231216.0, 20231228.0]\n"
     ]
    },
    {
     "name": "stderr",
     "output_type": "stream",
     "text": [
      "100%|██████████| 3/3 [00:06<00:00,  2.08s/it]\n"
     ]
    },
    {
     "data": {
      "text/plain": [
       "864"
      ]
     },
     "execution_count": 34,
     "metadata": {},
     "output_type": "execute_result"
    }
   ],
   "source": [
    "model_results = []\n",
    "all_model_results = []\n",
    "alphas = [0, 0.005, 0.01, 0.02, 0.05, 0.1, 0.15, 0.2] \n",
    "epsils = [1, 1.05, 1.1, 1.3, 1.5, 1.7, 2, 2.5, 3] \n",
    "\n",
    "# for train_index, test_index in splits:\n",
    "for date_group in tqdm(agg_df_train['validation_set_id'].unique()):\n",
    "    \n",
    "    print(date_group)\n",
    "\n",
    "    train_data =  agg_df_train[agg_df_train['validation_set_id'] != date_group][model_cols]\n",
    "    test_data =  agg_df_train[agg_df_train['validation_set_id'] == date_group][model_cols]\n",
    "\n",
    "    # Separate features (X) and target variable (y)\n",
    "    X_train, y_train = train_data.drop(columns = [f'd7_28_increase_api']), train_data[f'd7_28_increase_api'] \n",
    "    X_test, y_test = test_data.drop(columns = [f'd7_28_increase_api']), test_data[f'd7_28_increase_api']\n",
    "\n",
    "    old_cols = X_train[[col for col in X_train.columns if col != 'te_installs']].copy().columns\n",
    "    X_train = all_feature_enginerring(X_train, 'd7_28_increase_pred')\n",
    "    X_test = all_feature_enginerring(X_test, 'd7_28_increase_pred')\n",
    "\n",
    "    weights_train = np.log1p(X_train['te_installs'])\n",
    "\n",
    "    for alpha in alphas: \n",
    "        for epsi in epsils: \n",
    "            for cols in [old_cols, X_train.columns]:\n",
    "                \n",
    "                # Full trainning and testing \n",
    "                model = create_huber(alpha, epsi, old_cols, weights_train)\n",
    "                model.fit(X_train[[col for col in cols if col != 'te_installs']], y_train)\n",
    "                predictions = model.predict(X_test[[col for col in X_train.columns if col != 'te_installs']])\n",
    "                mae = mean_absolute_error(y_test, predictions)\n",
    "                r2 = r2_score(y_test, predictions)\n",
    "\n",
    "                # Save the model into dictionary (Response, day, mo...)\n",
    "                model_result = pd.DataFrame({\n",
    "                    'Iteration': [str(alpha) + ' - ' + str(epsi) + ' - ' + str(len([col for col in cols if col != 'te_installs']))]\n",
    "                    , 'Test at': [date_group]\n",
    "                    , 'Model': [model]\n",
    "                    , 'mae': [mae]\n",
    "                    , 'r2': [r2]\n",
    "                    , 'rel_mae': [(((y_test - y_test.mean()).abs()).mean() - mae) / (((y_test - y_test.mean()).abs()).mean())]\n",
    "                })\n",
    "\n",
    "                model_results.append(model_result)\n",
    "    all_model_results.extend(model_results)\n",
    "\n",
    "all_model_results = pd.concat(all_model_results, ignore_index = True)\n",
    "all_model_results.shape[0]\n"
   ]
  },
  {
   "cell_type": "code",
   "execution_count": 107,
   "metadata": {},
   "outputs": [
    {
     "data": {
      "text/html": [
       "<div>\n",
       "<style scoped>\n",
       "    .dataframe tbody tr th:only-of-type {\n",
       "        vertical-align: middle;\n",
       "    }\n",
       "\n",
       "    .dataframe tbody tr th {\n",
       "        vertical-align: top;\n",
       "    }\n",
       "\n",
       "    .dataframe thead th {\n",
       "        text-align: right;\n",
       "    }\n",
       "</style>\n",
       "<table border=\"1\" class=\"dataframe\">\n",
       "  <thead>\n",
       "    <tr style=\"text-align: right;\">\n",
       "      <th></th>\n",
       "      <th>Iteration</th>\n",
       "      <th>Test at</th>\n",
       "      <th>Model</th>\n",
       "      <th>mae</th>\n",
       "      <th>r2</th>\n",
       "      <th>rel_mae</th>\n",
       "    </tr>\n",
       "  </thead>\n",
       "  <tbody>\n",
       "    <tr>\n",
       "      <th>594</th>\n",
       "      <td>0.005 - 1 - 7</td>\n",
       "      <td>(20231204.0, 20231216.0]</td>\n",
       "      <td>(ColumnTransformer(remainder='passthrough',\\n ...</td>\n",
       "      <td>0.082137</td>\n",
       "      <td>0.780591</td>\n",
       "      <td>0.513890</td>\n",
       "    </tr>\n",
       "    <tr>\n",
       "      <th>306</th>\n",
       "      <td>0.005 - 1 - 7</td>\n",
       "      <td>(20231204.0, 20231216.0]</td>\n",
       "      <td>(ColumnTransformer(remainder='passthrough',\\n ...</td>\n",
       "      <td>0.082137</td>\n",
       "      <td>0.780591</td>\n",
       "      <td>0.513890</td>\n",
       "    </tr>\n",
       "    <tr>\n",
       "      <th>576</th>\n",
       "      <td>0 - 1 - 7</td>\n",
       "      <td>(20231204.0, 20231216.0]</td>\n",
       "      <td>(ColumnTransformer(remainder='passthrough',\\n ...</td>\n",
       "      <td>0.082303</td>\n",
       "      <td>0.780242</td>\n",
       "      <td>0.512909</td>\n",
       "    </tr>\n",
       "    <tr>\n",
       "      <th>288</th>\n",
       "      <td>0 - 1 - 7</td>\n",
       "      <td>(20231204.0, 20231216.0]</td>\n",
       "      <td>(ColumnTransformer(remainder='passthrough',\\n ...</td>\n",
       "      <td>0.082303</td>\n",
       "      <td>0.780242</td>\n",
       "      <td>0.512909</td>\n",
       "    </tr>\n",
       "    <tr>\n",
       "      <th>360</th>\n",
       "      <td>0.05 - 1 - 7</td>\n",
       "      <td>(20231204.0, 20231216.0]</td>\n",
       "      <td>(ColumnTransformer(remainder='passthrough',\\n ...</td>\n",
       "      <td>0.082374</td>\n",
       "      <td>0.779892</td>\n",
       "      <td>0.512490</td>\n",
       "    </tr>\n",
       "  </tbody>\n",
       "</table>\n",
       "</div>"
      ],
      "text/plain": [
       "         Iteration                   Test at  \\\n",
       "594  0.005 - 1 - 7  (20231204.0, 20231216.0]   \n",
       "306  0.005 - 1 - 7  (20231204.0, 20231216.0]   \n",
       "576      0 - 1 - 7  (20231204.0, 20231216.0]   \n",
       "288      0 - 1 - 7  (20231204.0, 20231216.0]   \n",
       "360   0.05 - 1 - 7  (20231204.0, 20231216.0]   \n",
       "\n",
       "                                                 Model       mae        r2  \\\n",
       "594  (ColumnTransformer(remainder='passthrough',\\n ...  0.082137  0.780591   \n",
       "306  (ColumnTransformer(remainder='passthrough',\\n ...  0.082137  0.780591   \n",
       "576  (ColumnTransformer(remainder='passthrough',\\n ...  0.082303  0.780242   \n",
       "288  (ColumnTransformer(remainder='passthrough',\\n ...  0.082303  0.780242   \n",
       "360  (ColumnTransformer(remainder='passthrough',\\n ...  0.082374  0.779892   \n",
       "\n",
       "      rel_mae  \n",
       "594  0.513890  \n",
       "306  0.513890  \n",
       "576  0.512909  \n",
       "288  0.512909  \n",
       "360  0.512490  "
      ]
     },
     "execution_count": 107,
     "metadata": {},
     "output_type": "execute_result"
    }
   ],
   "source": [
    "all_model_results.sort_values(by = 'mae').head(5)"
   ]
  },
  {
   "cell_type": "code",
   "execution_count": 108,
   "metadata": {},
   "outputs": [
    {
     "data": {
      "text/html": [
       "<div>\n",
       "<style scoped>\n",
       "    .dataframe tbody tr th:only-of-type {\n",
       "        vertical-align: middle;\n",
       "    }\n",
       "\n",
       "    .dataframe tbody tr th {\n",
       "        vertical-align: top;\n",
       "    }\n",
       "\n",
       "    .dataframe thead th {\n",
       "        text-align: right;\n",
       "    }\n",
       "</style>\n",
       "<table border=\"1\" class=\"dataframe\">\n",
       "  <thead>\n",
       "    <tr style=\"text-align: right;\">\n",
       "      <th></th>\n",
       "      <th>mae</th>\n",
       "      <th>r2</th>\n",
       "      <th>rel_mae</th>\n",
       "    </tr>\n",
       "    <tr>\n",
       "      <th>Iteration</th>\n",
       "      <th></th>\n",
       "      <th></th>\n",
       "      <th></th>\n",
       "    </tr>\n",
       "  </thead>\n",
       "  <tbody>\n",
       "    <tr>\n",
       "      <th>0 - 1 - 10</th>\n",
       "      <td>0.137036</td>\n",
       "      <td>0.626001</td>\n",
       "      <td>0.405777</td>\n",
       "    </tr>\n",
       "    <tr>\n",
       "      <th>0 - 1 - 7</th>\n",
       "      <td>0.140330</td>\n",
       "      <td>0.623126</td>\n",
       "      <td>0.390824</td>\n",
       "    </tr>\n",
       "    <tr>\n",
       "      <th>0.02 - 1 - 10</th>\n",
       "      <td>0.142506</td>\n",
       "      <td>0.608578</td>\n",
       "      <td>0.378235</td>\n",
       "    </tr>\n",
       "    <tr>\n",
       "      <th>0.05 - 1.05 - 10</th>\n",
       "      <td>0.143599</td>\n",
       "      <td>0.611223</td>\n",
       "      <td>0.370581</td>\n",
       "    </tr>\n",
       "    <tr>\n",
       "      <th>0.01 - 1 - 7</th>\n",
       "      <td>0.144272</td>\n",
       "      <td>0.574861</td>\n",
       "      <td>0.363252</td>\n",
       "    </tr>\n",
       "    <tr>\n",
       "      <th>0.05 - 1 - 7</th>\n",
       "      <td>0.144653</td>\n",
       "      <td>0.579849</td>\n",
       "      <td>0.366699</td>\n",
       "    </tr>\n",
       "    <tr>\n",
       "      <th>0.1 - 1 - 10</th>\n",
       "      <td>0.145851</td>\n",
       "      <td>0.583916</td>\n",
       "      <td>0.367339</td>\n",
       "    </tr>\n",
       "    <tr>\n",
       "      <th>0.2 - 1.7 - 7</th>\n",
       "      <td>0.146150</td>\n",
       "      <td>0.555806</td>\n",
       "      <td>0.357945</td>\n",
       "    </tr>\n",
       "    <tr>\n",
       "      <th>0.15 - 1.7 - 7</th>\n",
       "      <td>0.146327</td>\n",
       "      <td>0.554383</td>\n",
       "      <td>0.357291</td>\n",
       "    </tr>\n",
       "    <tr>\n",
       "      <th>0.1 - 1.7 - 7</th>\n",
       "      <td>0.146507</td>\n",
       "      <td>0.552914</td>\n",
       "      <td>0.356622</td>\n",
       "    </tr>\n",
       "  </tbody>\n",
       "</table>\n",
       "</div>"
      ],
      "text/plain": [
       "                       mae        r2   rel_mae\n",
       "Iteration                                     \n",
       "0 - 1 - 10        0.137036  0.626001  0.405777\n",
       "0 - 1 - 7         0.140330  0.623126  0.390824\n",
       "0.02 - 1 - 10     0.142506  0.608578  0.378235\n",
       "0.05 - 1.05 - 10  0.143599  0.611223  0.370581\n",
       "0.01 - 1 - 7      0.144272  0.574861  0.363252\n",
       "0.05 - 1 - 7      0.144653  0.579849  0.366699\n",
       "0.1 - 1 - 10      0.145851  0.583916  0.367339\n",
       "0.2 - 1.7 - 7     0.146150  0.555806  0.357945\n",
       "0.15 - 1.7 - 7    0.146327  0.554383  0.357291\n",
       "0.1 - 1.7 - 7     0.146507  0.552914  0.356622"
      ]
     },
     "execution_count": 108,
     "metadata": {},
     "output_type": "execute_result"
    }
   ],
   "source": [
    "all_model_results.groupby('Iteration')[['mae', 'r2', 'rel_mae']].mean().sort_values(by = 'mae', ascending = True).head(10)"
   ]
  },
  {
   "cell_type": "code",
   "execution_count": 111,
   "metadata": {},
   "outputs": [],
   "source": [
    "model_value = all_model_results.loc[all_model_results['Iteration'] == '0.2 - 1 - 10', 'Model'].iloc[0]\n",
    "reset_df_plus = all_feature_enginerring(agg_df_train, 'd7_28_increase_pred')\n",
    "cols_to_append = [\n",
    "    'roas_d7_times_installs_difference',\n",
    "    'withdrawn_ratio_times_installs_difference',\n",
    "    'withdrawn_ratio_times_pred_7_28',\n",
    "    'roas_d7_times_pred_7_28',\n",
    "    'roas_d7_times_withdrawn_ratio',\n",
    "    'pred_7_28_times_installs_difference'\n",
    "]\n",
    "cols_to_append = [\n",
    "    'withdrawn_ratio_times_d7_28_increase_pred',\n",
    "    'withdrawn_ratio_times_installs_difference',\n",
    "    'd7_28_increase_pred_times_installs_difference']\n",
    "\n",
    "subnormal = [col for col in old_cols if col != 'Installs']\n",
    "subnormal.extend(cols_to_append)\n",
    "\n",
    "predictions = model_value.predict(reset_df_plus[subnormal])"
   ]
  },
  {
   "cell_type": "code",
   "execution_count": 112,
   "metadata": {},
   "outputs": [
    {
     "data": {
      "application/vnd.plotly.v1+json": {
       "config": {
        "plotlyServerURL": "https://plot.ly"
       },
       "data": [
        {
         "hovertemplate": "ROAS D7=%{x}<br>Y-axis Label=%{y}<br>installs=%{marker.size}<extra></extra>",
         "legendgroup": "",
         "marker": {
          "color": "#636efa",
          "size": [
           1337,
           1375,
           1521,
           1639,
           1688,
           1659,
           1908,
           2305,
           2222,
           2232,
           2331,
           2566,
           2605,
           2791,
           3215,
           3458,
           3753,
           4469,
           4845,
           5231,
           5221,
           4955,
           5329,
           5481,
           5158,
           5498,
           6313,
           5541,
           5326,
           4948,
           4888,
           4628,
           4545,
           4803,
           4579,
           5523,
           5523
          ],
          "sizemode": "area",
          "sizeref": 15.7825,
          "symbol": "circle"
         },
         "mode": "markers",
         "name": "",
         "orientation": "v",
         "showlegend": false,
         "type": "scatter",
         "x": [
          0.9575549402017418,
          0.6178753870347038,
          1.299120618934293,
          0.7528888941150385,
          0.9808300267899064,
          0.9504907675357388,
          1.4594814606462712,
          0.8744194219761929,
          0.9579011914304703,
          1.249828888097101,
          0.7280656581738982,
          0.6541614418595946,
          0.6209619090372561,
          0.6726592652594463,
          0.5546989296360502,
          0.715743816633258,
          0.9133291388706409,
          0.7463948256525337,
          0.5260338796529401,
          0.7710349679690071,
          0.5748548478650961,
          1.0548049856360864,
          0.5558534921481857,
          0.652425284557261,
          1.0426464725497866,
          0.7517897258204544,
          0.90357117407024,
          1.1169016878651494,
          0.5561577452466451,
          0.9691974710409414,
          0.7263337585059855,
          1.3325389133716525,
          0.7716145435165325,
          0.6185783039030694,
          0.678057487815193,
          0.7482642049106465,
          0.9708836039464083
         ],
         "xaxis": "x",
         "y": [
          -0.43315494020174183,
          -0.0633753870347038,
          -0.9387206189342929,
          -0.1959888941150385,
          -0.40663002678990634,
          -0.4832907675357388,
          -1.014481460646271,
          0.08218057802380707,
          -0.22630119143047034,
          -0.46632888809710094,
          -0.08696565817389823,
          0.23873855814040545,
          -0.0495619090372561,
          -0.11745926525944628,
          0.08460107036394982,
          -0.12514381663325802,
          -0.1758291388706409,
          -0.14859482565253368,
          0.10456612034705992,
          -0.15693496796900708,
          -0.010154847865096128,
          -0.34340498563608635,
          0.33994650785181424,
          0.09827471544273891,
          -0.5016464725497866,
          -0.07848972582045444,
          -0.29337117407023994,
          -0.4609016878651495,
          0.16214225475335486,
          -0.22139747104094143,
          -0.11193375850598553,
          -0.6770389133716526,
          -0.1785145435165324,
          -0.1461783039030694,
          -0.012657487815192936,
          -0.016364204910646496,
          -0.29548360394640816
         ],
         "yaxis": "y"
        },
        {
         "hovertemplate": "<b>OLS trendline</b><br>y_test = -1.10994 * ROAS D7 + 0.73279<br>R<sup>2</sup>=0.824962<br><br>ROAS D7=%{x}<br>Y-axis Label=%{y} <b>(trend)</b><extra></extra>",
         "legendgroup": "",
         "marker": {
          "color": "#636efa",
          "symbol": "circle"
         },
         "mode": "lines",
         "name": "",
         "showlegend": false,
         "type": "scatter",
         "x": [
          0.5260338796529401,
          0.5546989296360502,
          0.5558534921481857,
          0.5561577452466451,
          0.5748548478650961,
          0.6178753870347038,
          0.6185783039030694,
          0.6209619090372561,
          0.652425284557261,
          0.6541614418595946,
          0.6726592652594463,
          0.678057487815193,
          0.715743816633258,
          0.7263337585059855,
          0.7280656581738982,
          0.7463948256525337,
          0.7482642049106465,
          0.7517897258204544,
          0.7528888941150385,
          0.7710349679690071,
          0.7716145435165325,
          0.8744194219761929,
          0.90357117407024,
          0.9133291388706409,
          0.9504907675357388,
          0.9575549402017418,
          0.9579011914304703,
          0.9691974710409414,
          0.9708836039464083,
          0.9808300267899064,
          1.0426464725497866,
          1.0548049856360864,
          1.1169016878651494,
          1.249828888097101,
          1.299120618934293,
          1.3325389133716525,
          1.4594814606462712
         ],
         "xaxis": "x",
         "y": [
          0.14892542520658014,
          0.11710900990559059,
          0.11582751762147792,
          0.1154898156833023,
          0.09473719944211767,
          0.04698708766839932,
          0.046206893842846264,
          0.04356124100402203,
          0.008638859117184094,
          0.006711832937517981,
          -0.013819595816341512,
          -0.019811285725202854,
          -0.061640757139057256,
          -0.07339493125822205,
          -0.07531723172957738,
          -0.0956614629437309,
          -0.09773635717437823,
          -0.10164946520959417,
          -0.10286947337168595,
          -0.12301048209696208,
          -0.12365377475925399,
          -0.2377607695130598,
          -0.2701173937618295,
          -0.28094812528907,
          -0.3221952123015319,
          -0.3300360027914102,
          -0.3304203200313309,
          -0.3429584849274194,
          -0.3448299871506706,
          -0.35586989533622937,
          -0.42448228958938117,
          -0.4379774797957183,
          -0.5069009412271781,
          -0.6544418319589065,
          -0.7091525748372465,
          -0.7462447946343955,
          -0.8871430943350602
         ],
         "yaxis": "y"
        }
       ],
       "layout": {
        "height": 800,
        "legend": {
         "itemsizing": "constant",
         "title": {
          "text": "Legend Title"
         },
         "tracegroupgap": 0
        },
        "showlegend": true,
        "template": {
         "data": {
          "bar": [
           {
            "error_x": {
             "color": "#f2f5fa"
            },
            "error_y": {
             "color": "#f2f5fa"
            },
            "marker": {
             "line": {
              "color": "rgb(17,17,17)",
              "width": 0.5
             },
             "pattern": {
              "fillmode": "overlay",
              "size": 10,
              "solidity": 0.2
             }
            },
            "type": "bar"
           }
          ],
          "barpolar": [
           {
            "marker": {
             "line": {
              "color": "rgb(17,17,17)",
              "width": 0.5
             },
             "pattern": {
              "fillmode": "overlay",
              "size": 10,
              "solidity": 0.2
             }
            },
            "type": "barpolar"
           }
          ],
          "carpet": [
           {
            "aaxis": {
             "endlinecolor": "#A2B1C6",
             "gridcolor": "#506784",
             "linecolor": "#506784",
             "minorgridcolor": "#506784",
             "startlinecolor": "#A2B1C6"
            },
            "baxis": {
             "endlinecolor": "#A2B1C6",
             "gridcolor": "#506784",
             "linecolor": "#506784",
             "minorgridcolor": "#506784",
             "startlinecolor": "#A2B1C6"
            },
            "type": "carpet"
           }
          ],
          "choropleth": [
           {
            "colorbar": {
             "outlinewidth": 0,
             "ticks": ""
            },
            "type": "choropleth"
           }
          ],
          "contour": [
           {
            "colorbar": {
             "outlinewidth": 0,
             "ticks": ""
            },
            "colorscale": [
             [
              0,
              "#0d0887"
             ],
             [
              0.1111111111111111,
              "#46039f"
             ],
             [
              0.2222222222222222,
              "#7201a8"
             ],
             [
              0.3333333333333333,
              "#9c179e"
             ],
             [
              0.4444444444444444,
              "#bd3786"
             ],
             [
              0.5555555555555556,
              "#d8576b"
             ],
             [
              0.6666666666666666,
              "#ed7953"
             ],
             [
              0.7777777777777778,
              "#fb9f3a"
             ],
             [
              0.8888888888888888,
              "#fdca26"
             ],
             [
              1,
              "#f0f921"
             ]
            ],
            "type": "contour"
           }
          ],
          "contourcarpet": [
           {
            "colorbar": {
             "outlinewidth": 0,
             "ticks": ""
            },
            "type": "contourcarpet"
           }
          ],
          "heatmap": [
           {
            "colorbar": {
             "outlinewidth": 0,
             "ticks": ""
            },
            "colorscale": [
             [
              0,
              "#0d0887"
             ],
             [
              0.1111111111111111,
              "#46039f"
             ],
             [
              0.2222222222222222,
              "#7201a8"
             ],
             [
              0.3333333333333333,
              "#9c179e"
             ],
             [
              0.4444444444444444,
              "#bd3786"
             ],
             [
              0.5555555555555556,
              "#d8576b"
             ],
             [
              0.6666666666666666,
              "#ed7953"
             ],
             [
              0.7777777777777778,
              "#fb9f3a"
             ],
             [
              0.8888888888888888,
              "#fdca26"
             ],
             [
              1,
              "#f0f921"
             ]
            ],
            "type": "heatmap"
           }
          ],
          "heatmapgl": [
           {
            "colorbar": {
             "outlinewidth": 0,
             "ticks": ""
            },
            "colorscale": [
             [
              0,
              "#0d0887"
             ],
             [
              0.1111111111111111,
              "#46039f"
             ],
             [
              0.2222222222222222,
              "#7201a8"
             ],
             [
              0.3333333333333333,
              "#9c179e"
             ],
             [
              0.4444444444444444,
              "#bd3786"
             ],
             [
              0.5555555555555556,
              "#d8576b"
             ],
             [
              0.6666666666666666,
              "#ed7953"
             ],
             [
              0.7777777777777778,
              "#fb9f3a"
             ],
             [
              0.8888888888888888,
              "#fdca26"
             ],
             [
              1,
              "#f0f921"
             ]
            ],
            "type": "heatmapgl"
           }
          ],
          "histogram": [
           {
            "marker": {
             "pattern": {
              "fillmode": "overlay",
              "size": 10,
              "solidity": 0.2
             }
            },
            "type": "histogram"
           }
          ],
          "histogram2d": [
           {
            "colorbar": {
             "outlinewidth": 0,
             "ticks": ""
            },
            "colorscale": [
             [
              0,
              "#0d0887"
             ],
             [
              0.1111111111111111,
              "#46039f"
             ],
             [
              0.2222222222222222,
              "#7201a8"
             ],
             [
              0.3333333333333333,
              "#9c179e"
             ],
             [
              0.4444444444444444,
              "#bd3786"
             ],
             [
              0.5555555555555556,
              "#d8576b"
             ],
             [
              0.6666666666666666,
              "#ed7953"
             ],
             [
              0.7777777777777778,
              "#fb9f3a"
             ],
             [
              0.8888888888888888,
              "#fdca26"
             ],
             [
              1,
              "#f0f921"
             ]
            ],
            "type": "histogram2d"
           }
          ],
          "histogram2dcontour": [
           {
            "colorbar": {
             "outlinewidth": 0,
             "ticks": ""
            },
            "colorscale": [
             [
              0,
              "#0d0887"
             ],
             [
              0.1111111111111111,
              "#46039f"
             ],
             [
              0.2222222222222222,
              "#7201a8"
             ],
             [
              0.3333333333333333,
              "#9c179e"
             ],
             [
              0.4444444444444444,
              "#bd3786"
             ],
             [
              0.5555555555555556,
              "#d8576b"
             ],
             [
              0.6666666666666666,
              "#ed7953"
             ],
             [
              0.7777777777777778,
              "#fb9f3a"
             ],
             [
              0.8888888888888888,
              "#fdca26"
             ],
             [
              1,
              "#f0f921"
             ]
            ],
            "type": "histogram2dcontour"
           }
          ],
          "mesh3d": [
           {
            "colorbar": {
             "outlinewidth": 0,
             "ticks": ""
            },
            "type": "mesh3d"
           }
          ],
          "parcoords": [
           {
            "line": {
             "colorbar": {
              "outlinewidth": 0,
              "ticks": ""
             }
            },
            "type": "parcoords"
           }
          ],
          "pie": [
           {
            "automargin": true,
            "type": "pie"
           }
          ],
          "scatter": [
           {
            "marker": {
             "line": {
              "color": "#283442"
             }
            },
            "type": "scatter"
           }
          ],
          "scatter3d": [
           {
            "line": {
             "colorbar": {
              "outlinewidth": 0,
              "ticks": ""
             }
            },
            "marker": {
             "colorbar": {
              "outlinewidth": 0,
              "ticks": ""
             }
            },
            "type": "scatter3d"
           }
          ],
          "scattercarpet": [
           {
            "marker": {
             "colorbar": {
              "outlinewidth": 0,
              "ticks": ""
             }
            },
            "type": "scattercarpet"
           }
          ],
          "scattergeo": [
           {
            "marker": {
             "colorbar": {
              "outlinewidth": 0,
              "ticks": ""
             }
            },
            "type": "scattergeo"
           }
          ],
          "scattergl": [
           {
            "marker": {
             "line": {
              "color": "#283442"
             }
            },
            "type": "scattergl"
           }
          ],
          "scattermapbox": [
           {
            "marker": {
             "colorbar": {
              "outlinewidth": 0,
              "ticks": ""
             }
            },
            "type": "scattermapbox"
           }
          ],
          "scatterpolar": [
           {
            "marker": {
             "colorbar": {
              "outlinewidth": 0,
              "ticks": ""
             }
            },
            "type": "scatterpolar"
           }
          ],
          "scatterpolargl": [
           {
            "marker": {
             "colorbar": {
              "outlinewidth": 0,
              "ticks": ""
             }
            },
            "type": "scatterpolargl"
           }
          ],
          "scatterternary": [
           {
            "marker": {
             "colorbar": {
              "outlinewidth": 0,
              "ticks": ""
             }
            },
            "type": "scatterternary"
           }
          ],
          "surface": [
           {
            "colorbar": {
             "outlinewidth": 0,
             "ticks": ""
            },
            "colorscale": [
             [
              0,
              "#0d0887"
             ],
             [
              0.1111111111111111,
              "#46039f"
             ],
             [
              0.2222222222222222,
              "#7201a8"
             ],
             [
              0.3333333333333333,
              "#9c179e"
             ],
             [
              0.4444444444444444,
              "#bd3786"
             ],
             [
              0.5555555555555556,
              "#d8576b"
             ],
             [
              0.6666666666666666,
              "#ed7953"
             ],
             [
              0.7777777777777778,
              "#fb9f3a"
             ],
             [
              0.8888888888888888,
              "#fdca26"
             ],
             [
              1,
              "#f0f921"
             ]
            ],
            "type": "surface"
           }
          ],
          "table": [
           {
            "cells": {
             "fill": {
              "color": "#506784"
             },
             "line": {
              "color": "rgb(17,17,17)"
             }
            },
            "header": {
             "fill": {
              "color": "#2a3f5f"
             },
             "line": {
              "color": "rgb(17,17,17)"
             }
            },
            "type": "table"
           }
          ]
         },
         "layout": {
          "annotationdefaults": {
           "arrowcolor": "#f2f5fa",
           "arrowhead": 0,
           "arrowwidth": 1
          },
          "autotypenumbers": "strict",
          "coloraxis": {
           "colorbar": {
            "outlinewidth": 0,
            "ticks": ""
           }
          },
          "colorscale": {
           "diverging": [
            [
             0,
             "#8e0152"
            ],
            [
             0.1,
             "#c51b7d"
            ],
            [
             0.2,
             "#de77ae"
            ],
            [
             0.3,
             "#f1b6da"
            ],
            [
             0.4,
             "#fde0ef"
            ],
            [
             0.5,
             "#f7f7f7"
            ],
            [
             0.6,
             "#e6f5d0"
            ],
            [
             0.7,
             "#b8e186"
            ],
            [
             0.8,
             "#7fbc41"
            ],
            [
             0.9,
             "#4d9221"
            ],
            [
             1,
             "#276419"
            ]
           ],
           "sequential": [
            [
             0,
             "#0d0887"
            ],
            [
             0.1111111111111111,
             "#46039f"
            ],
            [
             0.2222222222222222,
             "#7201a8"
            ],
            [
             0.3333333333333333,
             "#9c179e"
            ],
            [
             0.4444444444444444,
             "#bd3786"
            ],
            [
             0.5555555555555556,
             "#d8576b"
            ],
            [
             0.6666666666666666,
             "#ed7953"
            ],
            [
             0.7777777777777778,
             "#fb9f3a"
            ],
            [
             0.8888888888888888,
             "#fdca26"
            ],
            [
             1,
             "#f0f921"
            ]
           ],
           "sequentialminus": [
            [
             0,
             "#0d0887"
            ],
            [
             0.1111111111111111,
             "#46039f"
            ],
            [
             0.2222222222222222,
             "#7201a8"
            ],
            [
             0.3333333333333333,
             "#9c179e"
            ],
            [
             0.4444444444444444,
             "#bd3786"
            ],
            [
             0.5555555555555556,
             "#d8576b"
            ],
            [
             0.6666666666666666,
             "#ed7953"
            ],
            [
             0.7777777777777778,
             "#fb9f3a"
            ],
            [
             0.8888888888888888,
             "#fdca26"
            ],
            [
             1,
             "#f0f921"
            ]
           ]
          },
          "colorway": [
           "#636efa",
           "#EF553B",
           "#00cc96",
           "#ab63fa",
           "#FFA15A",
           "#19d3f3",
           "#FF6692",
           "#B6E880",
           "#FF97FF",
           "#FECB52"
          ],
          "font": {
           "color": "#f2f5fa"
          },
          "geo": {
           "bgcolor": "rgb(17,17,17)",
           "lakecolor": "rgb(17,17,17)",
           "landcolor": "rgb(17,17,17)",
           "showlakes": true,
           "showland": true,
           "subunitcolor": "#506784"
          },
          "hoverlabel": {
           "align": "left"
          },
          "hovermode": "closest",
          "mapbox": {
           "style": "dark"
          },
          "paper_bgcolor": "rgb(17,17,17)",
          "plot_bgcolor": "rgb(17,17,17)",
          "polar": {
           "angularaxis": {
            "gridcolor": "#506784",
            "linecolor": "#506784",
            "ticks": ""
           },
           "bgcolor": "rgb(17,17,17)",
           "radialaxis": {
            "gridcolor": "#506784",
            "linecolor": "#506784",
            "ticks": ""
           }
          },
          "scene": {
           "xaxis": {
            "backgroundcolor": "rgb(17,17,17)",
            "gridcolor": "#506784",
            "gridwidth": 2,
            "linecolor": "#506784",
            "showbackground": true,
            "ticks": "",
            "zerolinecolor": "#C8D4E3"
           },
           "yaxis": {
            "backgroundcolor": "rgb(17,17,17)",
            "gridcolor": "#506784",
            "gridwidth": 2,
            "linecolor": "#506784",
            "showbackground": true,
            "ticks": "",
            "zerolinecolor": "#C8D4E3"
           },
           "zaxis": {
            "backgroundcolor": "rgb(17,17,17)",
            "gridcolor": "#506784",
            "gridwidth": 2,
            "linecolor": "#506784",
            "showbackground": true,
            "ticks": "",
            "zerolinecolor": "#C8D4E3"
           }
          },
          "shapedefaults": {
           "line": {
            "color": "#f2f5fa"
           }
          },
          "sliderdefaults": {
           "bgcolor": "#C8D4E3",
           "bordercolor": "rgb(17,17,17)",
           "borderwidth": 1,
           "tickwidth": 0
          },
          "ternary": {
           "aaxis": {
            "gridcolor": "#506784",
            "linecolor": "#506784",
            "ticks": ""
           },
           "baxis": {
            "gridcolor": "#506784",
            "linecolor": "#506784",
            "ticks": ""
           },
           "bgcolor": "rgb(17,17,17)",
           "caxis": {
            "gridcolor": "#506784",
            "linecolor": "#506784",
            "ticks": ""
           }
          },
          "title": {
           "x": 0.05
          },
          "updatemenudefaults": {
           "bgcolor": "#506784",
           "borderwidth": 0
          },
          "xaxis": {
           "automargin": true,
           "gridcolor": "#283442",
           "linecolor": "#506784",
           "ticks": "",
           "title": {
            "standoff": 15
           },
           "zerolinecolor": "#283442",
           "zerolinewidth": 2
          },
          "yaxis": {
           "automargin": true,
           "gridcolor": "#283442",
           "linecolor": "#506784",
           "ticks": "",
           "title": {
            "standoff": 15
           },
           "zerolinecolor": "#283442",
           "zerolinewidth": 2
          }
         }
        },
        "title": {
         "text": "Association Actuals vs ROAS day 7"
        },
        "width": 1700,
        "xaxis": {
         "anchor": "y",
         "domain": [
          0,
          1
         ],
         "title": {
          "text": "ROAS D7"
         }
        },
        "yaxis": {
         "anchor": "x",
         "domain": [
          0,
          1
         ],
         "title": {
          "text": "Actual user revenue"
         }
        }
       }
      }
     },
     "metadata": {},
     "output_type": "display_data"
    }
   ],
   "source": [
    "import plotly.express as px\n",
    "\n",
    "# Assuming reset_df is your DataFrame\n",
    "pdf = pd.DataFrame({'y_test': agg_df_train['d7_28_increase_api'].values, 'ROAS D7': (agg_df_train['revenue_d7']/agg_df_train['cost']), 'installs': agg_df_train['te_installs']})\n",
    "\n",
    "# Create a scatter plot with size and color based on 'installs' and 'channel'\n",
    "fig = px.scatter(pdf, x='ROAS D7', y='y_test', title='Association Actuals vs ROAS day 7', trendline='ols',\n",
    "                 labels={'predictions': 'X-axis Label', 'y_test': 'Y-axis Label'},\n",
    "                 template='plotly_dark',\n",
    "                 hover_data=['ROAS D7', 'y_test'],\n",
    "                 size='installs'\n",
    "                 )\n",
    "\n",
    "# Customize the layout\n",
    "fig.update_layout(\n",
    "    width=1700,\n",
    "    height=800,\n",
    "    xaxis=dict(title_text='ROAS D7'),\n",
    "    yaxis=dict(title_text='Actual user revenue'),\n",
    "    legend=dict(title='Legend Title'),\n",
    "    showlegend=True\n",
    ")\n",
    "\n",
    "# Show the plot\n",
    "fig.show()"
   ]
  },
  {
   "cell_type": "code",
   "execution_count": 113,
   "metadata": {},
   "outputs": [
    {
     "data": {
      "application/vnd.plotly.v1+json": {
       "config": {
        "plotlyServerURL": "https://plot.ly"
       },
       "data": [
        {
         "hovertemplate": "X-axis Label=%{x}<br>Y-axis Label=%{y}<br>installs=%{marker.size}<extra></extra>",
         "legendgroup": "",
         "marker": {
          "color": "#636efa",
          "size": [
           1337,
           1375,
           1521,
           1639,
           1688,
           1659,
           1908,
           2305,
           2222,
           2232,
           2331,
           2566,
           2605,
           2791,
           3215,
           3458,
           3753,
           4469,
           4845,
           5231,
           5221,
           4955,
           5329,
           5481,
           5158,
           5498,
           6313,
           5541,
           5326,
           4948,
           4888,
           4628,
           4545,
           4803,
           4579,
           5523,
           5523
          ],
          "sizemode": "area",
          "sizeref": 15.7825,
          "symbol": "circle"
         },
         "mode": "markers",
         "name": "",
         "orientation": "v",
         "showlegend": false,
         "type": "scatter",
         "x": [
          -1691.5760807520944,
          -1502.615106276382,
          -2053.9325583238015,
          -2547.177867471935,
          -3160.394086408996,
          -2669.216969896076,
          -3662.847865243213,
          -3528.797366367799,
          -4067.3627496885438,
          -11633.209671383102,
          -3570.0171183263255,
          -2765.8550029692856,
          -4465.637128490148,
          -3427.7956646956245,
          -3311.7568273612173,
          -8387.28673961278,
          -11191.464429509284,
          -5721.408257473527,
          -5221.293313870458,
          -10291.14283486428,
          -7895.30847949713,
          -16199.421145725835,
          -10543.147605456381,
          -15493.493284195954,
          -17712.734035615766,
          -9237.219663888474,
          -16464.64887688622,
          -18519.931145648246,
          -9921.634952216713,
          -4861.248934496235,
          -12344.301168170976,
          -22040.924016786663,
          -17154.05948711969,
          -15364.749979285985,
          -11247.104486592356,
          -19243.88010971107,
          -13262.90564275221
         ],
         "xaxis": "x",
         "y": [
          -0.43315494020174183,
          -0.0633753870347038,
          -0.9387206189342929,
          -0.1959888941150385,
          -0.40663002678990634,
          -0.4832907675357388,
          -1.014481460646271,
          0.08218057802380707,
          -0.22630119143047034,
          -0.46632888809710094,
          -0.08696565817389823,
          0.23873855814040545,
          -0.0495619090372561,
          -0.11745926525944628,
          0.08460107036394982,
          -0.12514381663325802,
          -0.1758291388706409,
          -0.14859482565253368,
          0.10456612034705992,
          -0.15693496796900708,
          -0.010154847865096128,
          -0.34340498563608635,
          0.33994650785181424,
          0.09827471544273891,
          -0.5016464725497866,
          -0.07848972582045444,
          -0.29337117407023994,
          -0.4609016878651495,
          0.16214225475335486,
          -0.22139747104094143,
          -0.11193375850598553,
          -0.6770389133716526,
          -0.1785145435165324,
          -0.1461783039030694,
          -0.012657487815192936,
          -0.016364204910646496,
          -0.29548360394640816
         ],
         "yaxis": "y"
        },
        {
         "hovertemplate": "<b>OLS trendline</b><br>y_test = 2.83611e-06 * predictions + -0.172519<br>R<sup>2</sup>=0.003441<br><br>X-axis Label=%{x}<br>Y-axis Label=%{y} <b>(trend)</b><extra></extra>",
         "legendgroup": "",
         "marker": {
          "color": "#636efa",
          "symbol": "circle"
         },
         "mode": "lines",
         "name": "",
         "showlegend": false,
         "type": "scatter",
         "x": [
          -22040.924016786663,
          -19243.88010971107,
          -18519.931145648246,
          -17712.734035615766,
          -17154.05948711969,
          -16464.64887688622,
          -16199.421145725835,
          -15493.493284195954,
          -15364.749979285985,
          -13262.90564275221,
          -12344.301168170976,
          -11633.209671383102,
          -11247.104486592356,
          -11191.464429509284,
          -10543.147605456381,
          -10291.14283486428,
          -9921.634952216713,
          -9237.219663888474,
          -8387.28673961278,
          -7895.30847949713,
          -5721.408257473527,
          -5221.293313870458,
          -4861.248934496235,
          -4465.637128490148,
          -4067.3627496885438,
          -3662.847865243213,
          -3570.0171183263255,
          -3528.797366367799,
          -3427.7956646956245,
          -3311.7568273612173,
          -3160.394086408996,
          -2765.8550029692856,
          -2669.216969896076,
          -2547.177867471935,
          -2053.9325583238015,
          -1691.5760807520944,
          -1502.615106276382
         ],
         "xaxis": "x",
         "y": [
          -0.2350291713140642,
          -0.22709643893129527,
          -0.22504323791569247,
          -0.22275393575714073,
          -0.22116947164806022,
          -0.21921422530423662,
          -0.21846200950724398,
          -0.21645991837349704,
          -0.216094787822153,
          -0.2101337199283731,
          -0.2075284539030407,
          -0.2055117181165873,
          -0.20441668021074805,
          -0.20425887872558526,
          -0.2024201789999755,
          -0.20170546501238623,
          -0.2006574989297117,
          -0.198716419882919,
          -0.19630591412913817,
          -0.19491060822572884,
          -0.18874518170363128,
          -0.1873267992469988,
          -0.18630567272829426,
          -0.1851836729711323,
          -0.1840541218568454,
          -0.1829068719638301,
          -0.18264359348245862,
          -0.18252668961107354,
          -0.18224023737929315,
          -0.18191113813267318,
          -0.18148185630636401,
          -0.18036289891153984,
          -0.1800888225366829,
          -0.1797427058606754,
          -0.17834380646312564,
          -0.17731612257283427,
          -0.1767802079103897
         ],
         "yaxis": "y"
        }
       ],
       "layout": {
        "height": 800,
        "legend": {
         "itemsizing": "constant",
         "title": {
          "text": "Legend Title"
         },
         "tracegroupgap": 0
        },
        "showlegend": true,
        "template": {
         "data": {
          "bar": [
           {
            "error_x": {
             "color": "#f2f5fa"
            },
            "error_y": {
             "color": "#f2f5fa"
            },
            "marker": {
             "line": {
              "color": "rgb(17,17,17)",
              "width": 0.5
             },
             "pattern": {
              "fillmode": "overlay",
              "size": 10,
              "solidity": 0.2
             }
            },
            "type": "bar"
           }
          ],
          "barpolar": [
           {
            "marker": {
             "line": {
              "color": "rgb(17,17,17)",
              "width": 0.5
             },
             "pattern": {
              "fillmode": "overlay",
              "size": 10,
              "solidity": 0.2
             }
            },
            "type": "barpolar"
           }
          ],
          "carpet": [
           {
            "aaxis": {
             "endlinecolor": "#A2B1C6",
             "gridcolor": "#506784",
             "linecolor": "#506784",
             "minorgridcolor": "#506784",
             "startlinecolor": "#A2B1C6"
            },
            "baxis": {
             "endlinecolor": "#A2B1C6",
             "gridcolor": "#506784",
             "linecolor": "#506784",
             "minorgridcolor": "#506784",
             "startlinecolor": "#A2B1C6"
            },
            "type": "carpet"
           }
          ],
          "choropleth": [
           {
            "colorbar": {
             "outlinewidth": 0,
             "ticks": ""
            },
            "type": "choropleth"
           }
          ],
          "contour": [
           {
            "colorbar": {
             "outlinewidth": 0,
             "ticks": ""
            },
            "colorscale": [
             [
              0,
              "#0d0887"
             ],
             [
              0.1111111111111111,
              "#46039f"
             ],
             [
              0.2222222222222222,
              "#7201a8"
             ],
             [
              0.3333333333333333,
              "#9c179e"
             ],
             [
              0.4444444444444444,
              "#bd3786"
             ],
             [
              0.5555555555555556,
              "#d8576b"
             ],
             [
              0.6666666666666666,
              "#ed7953"
             ],
             [
              0.7777777777777778,
              "#fb9f3a"
             ],
             [
              0.8888888888888888,
              "#fdca26"
             ],
             [
              1,
              "#f0f921"
             ]
            ],
            "type": "contour"
           }
          ],
          "contourcarpet": [
           {
            "colorbar": {
             "outlinewidth": 0,
             "ticks": ""
            },
            "type": "contourcarpet"
           }
          ],
          "heatmap": [
           {
            "colorbar": {
             "outlinewidth": 0,
             "ticks": ""
            },
            "colorscale": [
             [
              0,
              "#0d0887"
             ],
             [
              0.1111111111111111,
              "#46039f"
             ],
             [
              0.2222222222222222,
              "#7201a8"
             ],
             [
              0.3333333333333333,
              "#9c179e"
             ],
             [
              0.4444444444444444,
              "#bd3786"
             ],
             [
              0.5555555555555556,
              "#d8576b"
             ],
             [
              0.6666666666666666,
              "#ed7953"
             ],
             [
              0.7777777777777778,
              "#fb9f3a"
             ],
             [
              0.8888888888888888,
              "#fdca26"
             ],
             [
              1,
              "#f0f921"
             ]
            ],
            "type": "heatmap"
           }
          ],
          "heatmapgl": [
           {
            "colorbar": {
             "outlinewidth": 0,
             "ticks": ""
            },
            "colorscale": [
             [
              0,
              "#0d0887"
             ],
             [
              0.1111111111111111,
              "#46039f"
             ],
             [
              0.2222222222222222,
              "#7201a8"
             ],
             [
              0.3333333333333333,
              "#9c179e"
             ],
             [
              0.4444444444444444,
              "#bd3786"
             ],
             [
              0.5555555555555556,
              "#d8576b"
             ],
             [
              0.6666666666666666,
              "#ed7953"
             ],
             [
              0.7777777777777778,
              "#fb9f3a"
             ],
             [
              0.8888888888888888,
              "#fdca26"
             ],
             [
              1,
              "#f0f921"
             ]
            ],
            "type": "heatmapgl"
           }
          ],
          "histogram": [
           {
            "marker": {
             "pattern": {
              "fillmode": "overlay",
              "size": 10,
              "solidity": 0.2
             }
            },
            "type": "histogram"
           }
          ],
          "histogram2d": [
           {
            "colorbar": {
             "outlinewidth": 0,
             "ticks": ""
            },
            "colorscale": [
             [
              0,
              "#0d0887"
             ],
             [
              0.1111111111111111,
              "#46039f"
             ],
             [
              0.2222222222222222,
              "#7201a8"
             ],
             [
              0.3333333333333333,
              "#9c179e"
             ],
             [
              0.4444444444444444,
              "#bd3786"
             ],
             [
              0.5555555555555556,
              "#d8576b"
             ],
             [
              0.6666666666666666,
              "#ed7953"
             ],
             [
              0.7777777777777778,
              "#fb9f3a"
             ],
             [
              0.8888888888888888,
              "#fdca26"
             ],
             [
              1,
              "#f0f921"
             ]
            ],
            "type": "histogram2d"
           }
          ],
          "histogram2dcontour": [
           {
            "colorbar": {
             "outlinewidth": 0,
             "ticks": ""
            },
            "colorscale": [
             [
              0,
              "#0d0887"
             ],
             [
              0.1111111111111111,
              "#46039f"
             ],
             [
              0.2222222222222222,
              "#7201a8"
             ],
             [
              0.3333333333333333,
              "#9c179e"
             ],
             [
              0.4444444444444444,
              "#bd3786"
             ],
             [
              0.5555555555555556,
              "#d8576b"
             ],
             [
              0.6666666666666666,
              "#ed7953"
             ],
             [
              0.7777777777777778,
              "#fb9f3a"
             ],
             [
              0.8888888888888888,
              "#fdca26"
             ],
             [
              1,
              "#f0f921"
             ]
            ],
            "type": "histogram2dcontour"
           }
          ],
          "mesh3d": [
           {
            "colorbar": {
             "outlinewidth": 0,
             "ticks": ""
            },
            "type": "mesh3d"
           }
          ],
          "parcoords": [
           {
            "line": {
             "colorbar": {
              "outlinewidth": 0,
              "ticks": ""
             }
            },
            "type": "parcoords"
           }
          ],
          "pie": [
           {
            "automargin": true,
            "type": "pie"
           }
          ],
          "scatter": [
           {
            "marker": {
             "line": {
              "color": "#283442"
             }
            },
            "type": "scatter"
           }
          ],
          "scatter3d": [
           {
            "line": {
             "colorbar": {
              "outlinewidth": 0,
              "ticks": ""
             }
            },
            "marker": {
             "colorbar": {
              "outlinewidth": 0,
              "ticks": ""
             }
            },
            "type": "scatter3d"
           }
          ],
          "scattercarpet": [
           {
            "marker": {
             "colorbar": {
              "outlinewidth": 0,
              "ticks": ""
             }
            },
            "type": "scattercarpet"
           }
          ],
          "scattergeo": [
           {
            "marker": {
             "colorbar": {
              "outlinewidth": 0,
              "ticks": ""
             }
            },
            "type": "scattergeo"
           }
          ],
          "scattergl": [
           {
            "marker": {
             "line": {
              "color": "#283442"
             }
            },
            "type": "scattergl"
           }
          ],
          "scattermapbox": [
           {
            "marker": {
             "colorbar": {
              "outlinewidth": 0,
              "ticks": ""
             }
            },
            "type": "scattermapbox"
           }
          ],
          "scatterpolar": [
           {
            "marker": {
             "colorbar": {
              "outlinewidth": 0,
              "ticks": ""
             }
            },
            "type": "scatterpolar"
           }
          ],
          "scatterpolargl": [
           {
            "marker": {
             "colorbar": {
              "outlinewidth": 0,
              "ticks": ""
             }
            },
            "type": "scatterpolargl"
           }
          ],
          "scatterternary": [
           {
            "marker": {
             "colorbar": {
              "outlinewidth": 0,
              "ticks": ""
             }
            },
            "type": "scatterternary"
           }
          ],
          "surface": [
           {
            "colorbar": {
             "outlinewidth": 0,
             "ticks": ""
            },
            "colorscale": [
             [
              0,
              "#0d0887"
             ],
             [
              0.1111111111111111,
              "#46039f"
             ],
             [
              0.2222222222222222,
              "#7201a8"
             ],
             [
              0.3333333333333333,
              "#9c179e"
             ],
             [
              0.4444444444444444,
              "#bd3786"
             ],
             [
              0.5555555555555556,
              "#d8576b"
             ],
             [
              0.6666666666666666,
              "#ed7953"
             ],
             [
              0.7777777777777778,
              "#fb9f3a"
             ],
             [
              0.8888888888888888,
              "#fdca26"
             ],
             [
              1,
              "#f0f921"
             ]
            ],
            "type": "surface"
           }
          ],
          "table": [
           {
            "cells": {
             "fill": {
              "color": "#506784"
             },
             "line": {
              "color": "rgb(17,17,17)"
             }
            },
            "header": {
             "fill": {
              "color": "#2a3f5f"
             },
             "line": {
              "color": "rgb(17,17,17)"
             }
            },
            "type": "table"
           }
          ]
         },
         "layout": {
          "annotationdefaults": {
           "arrowcolor": "#f2f5fa",
           "arrowhead": 0,
           "arrowwidth": 1
          },
          "autotypenumbers": "strict",
          "coloraxis": {
           "colorbar": {
            "outlinewidth": 0,
            "ticks": ""
           }
          },
          "colorscale": {
           "diverging": [
            [
             0,
             "#8e0152"
            ],
            [
             0.1,
             "#c51b7d"
            ],
            [
             0.2,
             "#de77ae"
            ],
            [
             0.3,
             "#f1b6da"
            ],
            [
             0.4,
             "#fde0ef"
            ],
            [
             0.5,
             "#f7f7f7"
            ],
            [
             0.6,
             "#e6f5d0"
            ],
            [
             0.7,
             "#b8e186"
            ],
            [
             0.8,
             "#7fbc41"
            ],
            [
             0.9,
             "#4d9221"
            ],
            [
             1,
             "#276419"
            ]
           ],
           "sequential": [
            [
             0,
             "#0d0887"
            ],
            [
             0.1111111111111111,
             "#46039f"
            ],
            [
             0.2222222222222222,
             "#7201a8"
            ],
            [
             0.3333333333333333,
             "#9c179e"
            ],
            [
             0.4444444444444444,
             "#bd3786"
            ],
            [
             0.5555555555555556,
             "#d8576b"
            ],
            [
             0.6666666666666666,
             "#ed7953"
            ],
            [
             0.7777777777777778,
             "#fb9f3a"
            ],
            [
             0.8888888888888888,
             "#fdca26"
            ],
            [
             1,
             "#f0f921"
            ]
           ],
           "sequentialminus": [
            [
             0,
             "#0d0887"
            ],
            [
             0.1111111111111111,
             "#46039f"
            ],
            [
             0.2222222222222222,
             "#7201a8"
            ],
            [
             0.3333333333333333,
             "#9c179e"
            ],
            [
             0.4444444444444444,
             "#bd3786"
            ],
            [
             0.5555555555555556,
             "#d8576b"
            ],
            [
             0.6666666666666666,
             "#ed7953"
            ],
            [
             0.7777777777777778,
             "#fb9f3a"
            ],
            [
             0.8888888888888888,
             "#fdca26"
            ],
            [
             1,
             "#f0f921"
            ]
           ]
          },
          "colorway": [
           "#636efa",
           "#EF553B",
           "#00cc96",
           "#ab63fa",
           "#FFA15A",
           "#19d3f3",
           "#FF6692",
           "#B6E880",
           "#FF97FF",
           "#FECB52"
          ],
          "font": {
           "color": "#f2f5fa"
          },
          "geo": {
           "bgcolor": "rgb(17,17,17)",
           "lakecolor": "rgb(17,17,17)",
           "landcolor": "rgb(17,17,17)",
           "showlakes": true,
           "showland": true,
           "subunitcolor": "#506784"
          },
          "hoverlabel": {
           "align": "left"
          },
          "hovermode": "closest",
          "mapbox": {
           "style": "dark"
          },
          "paper_bgcolor": "rgb(17,17,17)",
          "plot_bgcolor": "rgb(17,17,17)",
          "polar": {
           "angularaxis": {
            "gridcolor": "#506784",
            "linecolor": "#506784",
            "ticks": ""
           },
           "bgcolor": "rgb(17,17,17)",
           "radialaxis": {
            "gridcolor": "#506784",
            "linecolor": "#506784",
            "ticks": ""
           }
          },
          "scene": {
           "xaxis": {
            "backgroundcolor": "rgb(17,17,17)",
            "gridcolor": "#506784",
            "gridwidth": 2,
            "linecolor": "#506784",
            "showbackground": true,
            "ticks": "",
            "zerolinecolor": "#C8D4E3"
           },
           "yaxis": {
            "backgroundcolor": "rgb(17,17,17)",
            "gridcolor": "#506784",
            "gridwidth": 2,
            "linecolor": "#506784",
            "showbackground": true,
            "ticks": "",
            "zerolinecolor": "#C8D4E3"
           },
           "zaxis": {
            "backgroundcolor": "rgb(17,17,17)",
            "gridcolor": "#506784",
            "gridwidth": 2,
            "linecolor": "#506784",
            "showbackground": true,
            "ticks": "",
            "zerolinecolor": "#C8D4E3"
           }
          },
          "shapedefaults": {
           "line": {
            "color": "#f2f5fa"
           }
          },
          "sliderdefaults": {
           "bgcolor": "#C8D4E3",
           "bordercolor": "rgb(17,17,17)",
           "borderwidth": 1,
           "tickwidth": 0
          },
          "ternary": {
           "aaxis": {
            "gridcolor": "#506784",
            "linecolor": "#506784",
            "ticks": ""
           },
           "baxis": {
            "gridcolor": "#506784",
            "linecolor": "#506784",
            "ticks": ""
           },
           "bgcolor": "rgb(17,17,17)",
           "caxis": {
            "gridcolor": "#506784",
            "linecolor": "#506784",
            "ticks": ""
           }
          },
          "title": {
           "x": 0.05
          },
          "updatemenudefaults": {
           "bgcolor": "#506784",
           "borderwidth": 0
          },
          "xaxis": {
           "automargin": true,
           "gridcolor": "#283442",
           "linecolor": "#506784",
           "ticks": "",
           "title": {
            "standoff": 15
           },
           "zerolinecolor": "#283442",
           "zerolinewidth": 2
          },
          "yaxis": {
           "automargin": true,
           "gridcolor": "#283442",
           "linecolor": "#506784",
           "ticks": "",
           "title": {
            "standoff": 15
           },
           "zerolinecolor": "#283442",
           "zerolinewidth": 2
          }
         }
        },
        "title": {
         "text": "Association Actuals vs Predictions"
        },
        "width": 1700,
        "xaxis": {
         "anchor": "y",
         "domain": [
          0,
          1
         ],
         "title": {
          "text": "Predicted"
         }
        },
        "yaxis": {
         "anchor": "x",
         "domain": [
          0,
          1
         ],
         "title": {
          "text": "Actual user revenue"
         }
        }
       }
      }
     },
     "metadata": {},
     "output_type": "display_data"
    }
   ],
   "source": [
    "pdf = pd.DataFrame({'y_test': agg_df_train['d7_28_increase_api'].values, 'predictions': predictions, 'installs': agg_df_train['te_installs']})\n",
    "\n",
    "fig = px.scatter(pdf, x='predictions', y='y_test', title='Association Actuals vs Predictions', trendline='ols',\n",
    "                 labels={'predictions': 'X-axis Label', 'y_test': 'Y-axis Label'},\n",
    "                 template='plotly_dark',\n",
    "                 hover_data=['predictions', 'y_test'],\n",
    "                 size='installs',  # Set size proportional to 'installs'\n",
    "                 )\n",
    "\n",
    "# Customize the layout\n",
    "fig.update_layout(\n",
    "    width=1700,\n",
    "    height=800,\n",
    "    xaxis=dict(title_text='Predicted'),\n",
    "    yaxis=dict(title_text='Actual user revenue'),\n",
    "    legend=dict(title='Legend Title'),\n",
    "    showlegend=True\n",
    ")\n",
    "\n",
    "# Show the plot\n",
    "fig.show()"
   ]
  },
  {
   "cell_type": "code",
   "execution_count": 114,
   "metadata": {},
   "outputs": [
    {
     "data": {
      "application/vnd.plotly.v1+json": {
       "config": {
        "plotlyServerURL": "https://plot.ly"
       },
       "data": [
        {
         "hovertemplate": "X-axis Label=%{x}<br>Y-axis Label=%{y}<extra></extra>",
         "legendgroup": "",
         "marker": {
          "color": "#636efa",
          "symbol": "circle"
         },
         "mode": "markers",
         "name": "",
         "orientation": "v",
         "showlegend": false,
         "type": "scatter",
         "x": [
          -1691.242222969488,
          -1502.4527421658536,
          -2053.5820643879897,
          -2546.7541420038074,
          -3160.2812981413176,
          -2668.7497564590576,
          -3662.106875981313,
          -3528.470332564603,
          -4067.2145258722667,
          -11632.357775316288,
          -3569.7895995869076,
          -2765.615317811848,
          -4465.499376750688,
          -3427.452042453284,
          -3311.4260302161874,
          -8387.018959958345,
          -11191.126286114175,
          -5721.267878908535,
          -5221.034754567895,
          -10290.772816661625,
          -7894.9998747445,
          -16198.824423283108,
          -10542.832279023432,
          -15493.064484565963,
          -17712.22567368652,
          -9236.845565406966,
          -16464.228442016913,
          -18519.478175452925,
          -9921.365501311115,
          -4861.147418027312,
          -12344.075624643167,
          -22040.737667231042,
          -17153.720873235816,
          -15364.414422958556,
          -11246.981288793007,
          -19243.48448229416,
          -13262.659633638976
         ],
         "xaxis": "x",
         "y": [
          -0.09929715759535046,
          0.09898872349361693,
          -0.5882266831225145,
          0.22773657401263564,
          -0.29384175911179033,
          -0.01607733051719168,
          -0.27349219874584274,
          0.40921438121977893,
          -0.07807737515329666,
          0.3855671787167403,
          0.1405530812441501,
          0.4784237155782004,
          0.0881898304233841,
          0.22616297708105026,
          0.4153982153939802,
          0.14263583780264877,
          0.16231425623849216,
          -0.008216260660406843,
          0.363125422910302,
          0.21308323468599727,
          0.29844990476482464,
          0.25331745709241116,
          0.6552729408001436,
          0.527074345435083,
          0.006715456696287148,
          0.2956087556887347,
          0.1270636952358093,
          -0.007931492543113483,
          0.4315931603513965,
          -0.1198810021171537,
          0.11360976930403954,
          -0.49068935775243505,
          0.16009934036074847,
          0.1893780235254358,
          0.11054031153287949,
          0.3792632120013828,
          -0.04947449071261378
         ],
         "yaxis": "y"
        },
        {
         "hovertemplate": "<b>OLS trendline</b><br>y_test = -3.67757e-06 * predictions + 0.0986994<br>R<sup>2</sup>=0.006768<br><br>X-axis Label=%{x}<br>Y-axis Label=%{y} <b>(trend)</b><extra></extra>",
         "legendgroup": "",
         "marker": {
          "color": "#636efa",
          "symbol": "circle"
         },
         "mode": "lines",
         "name": "",
         "showlegend": false,
         "type": "scatter",
         "x": [
          -22040.737667231042,
          -19243.48448229416,
          -18519.478175452925,
          -17712.22567368652,
          -17153.720873235816,
          -16464.228442016913,
          -16198.824423283108,
          -15493.064484565963,
          -15364.414422958556,
          -13262.659633638976,
          -12344.075624643167,
          -11632.357775316288,
          -11246.981288793007,
          -11191.126286114175,
          -10542.832279023432,
          -10290.772816661625,
          -9921.365501311115,
          -9236.845565406966,
          -8387.018959958345,
          -7894.9998747445,
          -5721.267878908535,
          -5221.034754567895,
          -4861.147418027312,
          -4465.499376750688,
          -4067.2145258722667,
          -3662.106875981313,
          -3569.7895995869076,
          -3528.470332564603,
          -3427.452042453284,
          -3311.4260302161874,
          -3160.2812981413176,
          -2765.615317811848,
          -2668.7497564590576,
          -2546.7541420038074,
          -2053.5820643879897,
          -1691.242222969488,
          -1502.4527421658536
         ],
         "xaxis": "x",
         "y": [
          0.1797558170255964,
          0.1694687108367568,
          0.16680612391042055,
          0.1638373929240387,
          0.1617834500703307,
          0.159247790483081,
          0.15827174750693507,
          0.15567626295354953,
          0.1552031428040819,
          0.14747378358230642,
          0.1440956227154977,
          0.14147822750367192,
          0.14006097687334104,
          0.1398555659556489,
          0.13747141663071705,
          0.13654444925101014,
          0.13518592643283678,
          0.13266855356614632,
          0.12954325315378898,
          0.12773381645217532,
          0.11973975571156797,
          0.11790011127145152,
          0.11657659888188741,
          0.11512157384663632,
          0.11365685174838087,
          0.11216703830039529,
          0.11182753466502625,
          0.11167557999399669,
          0.11130407773492836,
          0.1108773834639278,
          0.11032153749434927,
          0.10887012406111607,
          0.10851389377025657,
          0.10806524584405813,
          0.1062515689273156,
          0.1049190372690476,
          0.10422474994217243
         ],
         "yaxis": "y"
        }
       ],
       "layout": {
        "height": 800,
        "legend": {
         "title": {
          "text": "Legend Title"
         },
         "tracegroupgap": 0
        },
        "showlegend": true,
        "template": {
         "data": {
          "bar": [
           {
            "error_x": {
             "color": "#f2f5fa"
            },
            "error_y": {
             "color": "#f2f5fa"
            },
            "marker": {
             "line": {
              "color": "rgb(17,17,17)",
              "width": 0.5
             },
             "pattern": {
              "fillmode": "overlay",
              "size": 10,
              "solidity": 0.2
             }
            },
            "type": "bar"
           }
          ],
          "barpolar": [
           {
            "marker": {
             "line": {
              "color": "rgb(17,17,17)",
              "width": 0.5
             },
             "pattern": {
              "fillmode": "overlay",
              "size": 10,
              "solidity": 0.2
             }
            },
            "type": "barpolar"
           }
          ],
          "carpet": [
           {
            "aaxis": {
             "endlinecolor": "#A2B1C6",
             "gridcolor": "#506784",
             "linecolor": "#506784",
             "minorgridcolor": "#506784",
             "startlinecolor": "#A2B1C6"
            },
            "baxis": {
             "endlinecolor": "#A2B1C6",
             "gridcolor": "#506784",
             "linecolor": "#506784",
             "minorgridcolor": "#506784",
             "startlinecolor": "#A2B1C6"
            },
            "type": "carpet"
           }
          ],
          "choropleth": [
           {
            "colorbar": {
             "outlinewidth": 0,
             "ticks": ""
            },
            "type": "choropleth"
           }
          ],
          "contour": [
           {
            "colorbar": {
             "outlinewidth": 0,
             "ticks": ""
            },
            "colorscale": [
             [
              0,
              "#0d0887"
             ],
             [
              0.1111111111111111,
              "#46039f"
             ],
             [
              0.2222222222222222,
              "#7201a8"
             ],
             [
              0.3333333333333333,
              "#9c179e"
             ],
             [
              0.4444444444444444,
              "#bd3786"
             ],
             [
              0.5555555555555556,
              "#d8576b"
             ],
             [
              0.6666666666666666,
              "#ed7953"
             ],
             [
              0.7777777777777778,
              "#fb9f3a"
             ],
             [
              0.8888888888888888,
              "#fdca26"
             ],
             [
              1,
              "#f0f921"
             ]
            ],
            "type": "contour"
           }
          ],
          "contourcarpet": [
           {
            "colorbar": {
             "outlinewidth": 0,
             "ticks": ""
            },
            "type": "contourcarpet"
           }
          ],
          "heatmap": [
           {
            "colorbar": {
             "outlinewidth": 0,
             "ticks": ""
            },
            "colorscale": [
             [
              0,
              "#0d0887"
             ],
             [
              0.1111111111111111,
              "#46039f"
             ],
             [
              0.2222222222222222,
              "#7201a8"
             ],
             [
              0.3333333333333333,
              "#9c179e"
             ],
             [
              0.4444444444444444,
              "#bd3786"
             ],
             [
              0.5555555555555556,
              "#d8576b"
             ],
             [
              0.6666666666666666,
              "#ed7953"
             ],
             [
              0.7777777777777778,
              "#fb9f3a"
             ],
             [
              0.8888888888888888,
              "#fdca26"
             ],
             [
              1,
              "#f0f921"
             ]
            ],
            "type": "heatmap"
           }
          ],
          "heatmapgl": [
           {
            "colorbar": {
             "outlinewidth": 0,
             "ticks": ""
            },
            "colorscale": [
             [
              0,
              "#0d0887"
             ],
             [
              0.1111111111111111,
              "#46039f"
             ],
             [
              0.2222222222222222,
              "#7201a8"
             ],
             [
              0.3333333333333333,
              "#9c179e"
             ],
             [
              0.4444444444444444,
              "#bd3786"
             ],
             [
              0.5555555555555556,
              "#d8576b"
             ],
             [
              0.6666666666666666,
              "#ed7953"
             ],
             [
              0.7777777777777778,
              "#fb9f3a"
             ],
             [
              0.8888888888888888,
              "#fdca26"
             ],
             [
              1,
              "#f0f921"
             ]
            ],
            "type": "heatmapgl"
           }
          ],
          "histogram": [
           {
            "marker": {
             "pattern": {
              "fillmode": "overlay",
              "size": 10,
              "solidity": 0.2
             }
            },
            "type": "histogram"
           }
          ],
          "histogram2d": [
           {
            "colorbar": {
             "outlinewidth": 0,
             "ticks": ""
            },
            "colorscale": [
             [
              0,
              "#0d0887"
             ],
             [
              0.1111111111111111,
              "#46039f"
             ],
             [
              0.2222222222222222,
              "#7201a8"
             ],
             [
              0.3333333333333333,
              "#9c179e"
             ],
             [
              0.4444444444444444,
              "#bd3786"
             ],
             [
              0.5555555555555556,
              "#d8576b"
             ],
             [
              0.6666666666666666,
              "#ed7953"
             ],
             [
              0.7777777777777778,
              "#fb9f3a"
             ],
             [
              0.8888888888888888,
              "#fdca26"
             ],
             [
              1,
              "#f0f921"
             ]
            ],
            "type": "histogram2d"
           }
          ],
          "histogram2dcontour": [
           {
            "colorbar": {
             "outlinewidth": 0,
             "ticks": ""
            },
            "colorscale": [
             [
              0,
              "#0d0887"
             ],
             [
              0.1111111111111111,
              "#46039f"
             ],
             [
              0.2222222222222222,
              "#7201a8"
             ],
             [
              0.3333333333333333,
              "#9c179e"
             ],
             [
              0.4444444444444444,
              "#bd3786"
             ],
             [
              0.5555555555555556,
              "#d8576b"
             ],
             [
              0.6666666666666666,
              "#ed7953"
             ],
             [
              0.7777777777777778,
              "#fb9f3a"
             ],
             [
              0.8888888888888888,
              "#fdca26"
             ],
             [
              1,
              "#f0f921"
             ]
            ],
            "type": "histogram2dcontour"
           }
          ],
          "mesh3d": [
           {
            "colorbar": {
             "outlinewidth": 0,
             "ticks": ""
            },
            "type": "mesh3d"
           }
          ],
          "parcoords": [
           {
            "line": {
             "colorbar": {
              "outlinewidth": 0,
              "ticks": ""
             }
            },
            "type": "parcoords"
           }
          ],
          "pie": [
           {
            "automargin": true,
            "type": "pie"
           }
          ],
          "scatter": [
           {
            "marker": {
             "line": {
              "color": "#283442"
             }
            },
            "type": "scatter"
           }
          ],
          "scatter3d": [
           {
            "line": {
             "colorbar": {
              "outlinewidth": 0,
              "ticks": ""
             }
            },
            "marker": {
             "colorbar": {
              "outlinewidth": 0,
              "ticks": ""
             }
            },
            "type": "scatter3d"
           }
          ],
          "scattercarpet": [
           {
            "marker": {
             "colorbar": {
              "outlinewidth": 0,
              "ticks": ""
             }
            },
            "type": "scattercarpet"
           }
          ],
          "scattergeo": [
           {
            "marker": {
             "colorbar": {
              "outlinewidth": 0,
              "ticks": ""
             }
            },
            "type": "scattergeo"
           }
          ],
          "scattergl": [
           {
            "marker": {
             "line": {
              "color": "#283442"
             }
            },
            "type": "scattergl"
           }
          ],
          "scattermapbox": [
           {
            "marker": {
             "colorbar": {
              "outlinewidth": 0,
              "ticks": ""
             }
            },
            "type": "scattermapbox"
           }
          ],
          "scatterpolar": [
           {
            "marker": {
             "colorbar": {
              "outlinewidth": 0,
              "ticks": ""
             }
            },
            "type": "scatterpolar"
           }
          ],
          "scatterpolargl": [
           {
            "marker": {
             "colorbar": {
              "outlinewidth": 0,
              "ticks": ""
             }
            },
            "type": "scatterpolargl"
           }
          ],
          "scatterternary": [
           {
            "marker": {
             "colorbar": {
              "outlinewidth": 0,
              "ticks": ""
             }
            },
            "type": "scatterternary"
           }
          ],
          "surface": [
           {
            "colorbar": {
             "outlinewidth": 0,
             "ticks": ""
            },
            "colorscale": [
             [
              0,
              "#0d0887"
             ],
             [
              0.1111111111111111,
              "#46039f"
             ],
             [
              0.2222222222222222,
              "#7201a8"
             ],
             [
              0.3333333333333333,
              "#9c179e"
             ],
             [
              0.4444444444444444,
              "#bd3786"
             ],
             [
              0.5555555555555556,
              "#d8576b"
             ],
             [
              0.6666666666666666,
              "#ed7953"
             ],
             [
              0.7777777777777778,
              "#fb9f3a"
             ],
             [
              0.8888888888888888,
              "#fdca26"
             ],
             [
              1,
              "#f0f921"
             ]
            ],
            "type": "surface"
           }
          ],
          "table": [
           {
            "cells": {
             "fill": {
              "color": "#506784"
             },
             "line": {
              "color": "rgb(17,17,17)"
             }
            },
            "header": {
             "fill": {
              "color": "#2a3f5f"
             },
             "line": {
              "color": "rgb(17,17,17)"
             }
            },
            "type": "table"
           }
          ]
         },
         "layout": {
          "annotationdefaults": {
           "arrowcolor": "#f2f5fa",
           "arrowhead": 0,
           "arrowwidth": 1
          },
          "autotypenumbers": "strict",
          "coloraxis": {
           "colorbar": {
            "outlinewidth": 0,
            "ticks": ""
           }
          },
          "colorscale": {
           "diverging": [
            [
             0,
             "#8e0152"
            ],
            [
             0.1,
             "#c51b7d"
            ],
            [
             0.2,
             "#de77ae"
            ],
            [
             0.3,
             "#f1b6da"
            ],
            [
             0.4,
             "#fde0ef"
            ],
            [
             0.5,
             "#f7f7f7"
            ],
            [
             0.6,
             "#e6f5d0"
            ],
            [
             0.7,
             "#b8e186"
            ],
            [
             0.8,
             "#7fbc41"
            ],
            [
             0.9,
             "#4d9221"
            ],
            [
             1,
             "#276419"
            ]
           ],
           "sequential": [
            [
             0,
             "#0d0887"
            ],
            [
             0.1111111111111111,
             "#46039f"
            ],
            [
             0.2222222222222222,
             "#7201a8"
            ],
            [
             0.3333333333333333,
             "#9c179e"
            ],
            [
             0.4444444444444444,
             "#bd3786"
            ],
            [
             0.5555555555555556,
             "#d8576b"
            ],
            [
             0.6666666666666666,
             "#ed7953"
            ],
            [
             0.7777777777777778,
             "#fb9f3a"
            ],
            [
             0.8888888888888888,
             "#fdca26"
            ],
            [
             1,
             "#f0f921"
            ]
           ],
           "sequentialminus": [
            [
             0,
             "#0d0887"
            ],
            [
             0.1111111111111111,
             "#46039f"
            ],
            [
             0.2222222222222222,
             "#7201a8"
            ],
            [
             0.3333333333333333,
             "#9c179e"
            ],
            [
             0.4444444444444444,
             "#bd3786"
            ],
            [
             0.5555555555555556,
             "#d8576b"
            ],
            [
             0.6666666666666666,
             "#ed7953"
            ],
            [
             0.7777777777777778,
             "#fb9f3a"
            ],
            [
             0.8888888888888888,
             "#fdca26"
            ],
            [
             1,
             "#f0f921"
            ]
           ]
          },
          "colorway": [
           "#636efa",
           "#EF553B",
           "#00cc96",
           "#ab63fa",
           "#FFA15A",
           "#19d3f3",
           "#FF6692",
           "#B6E880",
           "#FF97FF",
           "#FECB52"
          ],
          "font": {
           "color": "#f2f5fa"
          },
          "geo": {
           "bgcolor": "rgb(17,17,17)",
           "lakecolor": "rgb(17,17,17)",
           "landcolor": "rgb(17,17,17)",
           "showlakes": true,
           "showland": true,
           "subunitcolor": "#506784"
          },
          "hoverlabel": {
           "align": "left"
          },
          "hovermode": "closest",
          "mapbox": {
           "style": "dark"
          },
          "paper_bgcolor": "rgb(17,17,17)",
          "plot_bgcolor": "rgb(17,17,17)",
          "polar": {
           "angularaxis": {
            "gridcolor": "#506784",
            "linecolor": "#506784",
            "ticks": ""
           },
           "bgcolor": "rgb(17,17,17)",
           "radialaxis": {
            "gridcolor": "#506784",
            "linecolor": "#506784",
            "ticks": ""
           }
          },
          "scene": {
           "xaxis": {
            "backgroundcolor": "rgb(17,17,17)",
            "gridcolor": "#506784",
            "gridwidth": 2,
            "linecolor": "#506784",
            "showbackground": true,
            "ticks": "",
            "zerolinecolor": "#C8D4E3"
           },
           "yaxis": {
            "backgroundcolor": "rgb(17,17,17)",
            "gridcolor": "#506784",
            "gridwidth": 2,
            "linecolor": "#506784",
            "showbackground": true,
            "ticks": "",
            "zerolinecolor": "#C8D4E3"
           },
           "zaxis": {
            "backgroundcolor": "rgb(17,17,17)",
            "gridcolor": "#506784",
            "gridwidth": 2,
            "linecolor": "#506784",
            "showbackground": true,
            "ticks": "",
            "zerolinecolor": "#C8D4E3"
           }
          },
          "shapedefaults": {
           "line": {
            "color": "#f2f5fa"
           }
          },
          "sliderdefaults": {
           "bgcolor": "#C8D4E3",
           "bordercolor": "rgb(17,17,17)",
           "borderwidth": 1,
           "tickwidth": 0
          },
          "ternary": {
           "aaxis": {
            "gridcolor": "#506784",
            "linecolor": "#506784",
            "ticks": ""
           },
           "baxis": {
            "gridcolor": "#506784",
            "linecolor": "#506784",
            "ticks": ""
           },
           "bgcolor": "rgb(17,17,17)",
           "caxis": {
            "gridcolor": "#506784",
            "linecolor": "#506784",
            "ticks": ""
           }
          },
          "title": {
           "x": 0.05
          },
          "updatemenudefaults": {
           "bgcolor": "#506784",
           "borderwidth": 0
          },
          "xaxis": {
           "automargin": true,
           "gridcolor": "#283442",
           "linecolor": "#506784",
           "ticks": "",
           "title": {
            "standoff": 15
           },
           "zerolinecolor": "#283442",
           "zerolinewidth": 2
          },
          "yaxis": {
           "automargin": true,
           "gridcolor": "#283442",
           "linecolor": "#506784",
           "ticks": "",
           "title": {
            "standoff": 15
           },
           "zerolinecolor": "#283442",
           "zerolinewidth": 2
          }
         }
        },
        "title": {
         "text": "Association Actuals vs Predictions"
        },
        "width": 1700,
        "xaxis": {
         "anchor": "y",
         "domain": [
          0,
          1
         ],
         "title": {
          "text": "Predicted"
         }
        },
        "yaxis": {
         "anchor": "x",
         "domain": [
          0,
          1
         ],
         "title": {
          "text": "Actual user revenue"
         }
        }
       }
      }
     },
     "metadata": {},
     "output_type": "display_data"
    }
   ],
   "source": [
    "pdf = pd.DataFrame({'y_test': ((agg_df_train['revenue_d7'].values - agg_df_train['withdraw_d7'].values)/agg_df_train['cost'].values + agg_df_train['d7_28_increase_api'].values), 'predictions': ((agg_df_train['revenue_d7'].values - agg_df_train['withdraw_d7'].values)/agg_df_train['cost'].values + predictions)})\n",
    "\n",
    "fig = px.scatter(pdf, x='predictions', y='y_test', title='Association Actuals vs Predictions', trendline='ols',\n",
    "                 labels={'predictions': 'X-axis Label', 'y_test': 'Y-axis Label'},\n",
    "                 template='plotly_dark',\n",
    "                 hover_data=['predictions', 'y_test']\n",
    "                )\n",
    "\n",
    "# Customize the layout\n",
    "fig.update_layout(\n",
    "    width=1700,\n",
    "    height=800,\n",
    "    xaxis=dict(title_text='Predicted'),\n",
    "    yaxis=dict(title_text='Actual user revenue'),\n",
    "    legend=dict(title='Legend Title'),\n",
    "    showlegend=True\n",
    ")\n",
    "\n",
    "# Show the plot\n",
    "fig.show()"
   ]
  },
  {
   "cell_type": "markdown",
   "metadata": {},
   "source": [
    "## Fit to dictionary based on availables"
   ]
  },
  {
   "cell_type": "code",
   "execution_count": 115,
   "metadata": {},
   "outputs": [],
   "source": [
    "dev_df = agg_df_train.copy(deep = True)\n",
    "\n",
    "columns_rule = ['revenue_d7','withdraw_d7','installs','payment_increase','rpi_increase','installs_difference','is_facebook','pred_roas','roas_d7','withdrawn_ratio']\n",
    "columns_rule = ['revenue_d7','withdraw_d7','payment_increase','rpi_increase','installs_difference']\n",
    "\n",
    "max_date = df['date'].max()\n",
    "dev_df['days_since_install'] = (max_date - dev_df['date']) # Needed? Yes\n"
   ]
  },
  {
   "cell_type": "code",
   "execution_count": 116,
   "metadata": {},
   "outputs": [
    {
     "name": "stdout",
     "output_type": "stream",
     "text": [
      "0.0 1.0\n"
     ]
    }
   ],
   "source": [
    "amrgb = all_model_results.groupby('Iteration')[['mae', 'r2', 'rel_mae']].mean().sort_values(by = 'rel_mae', ascending = False).reset_index(drop = False)\n",
    "iteration_value = amrgb['Iteration'].values[0] #'0.05 - 1.5 - 11'\n",
    "a = float(iteration_value.split(' - ')[0])\n",
    "e = float(iteration_value.split(' - ')[1])\n",
    "print(a,e)"
   ]
  },
  {
   "cell_type": "code",
   "execution_count": 117,
   "metadata": {},
   "outputs": [
    {
     "name": "stderr",
     "output_type": "stream",
     "text": [
      "100%|██████████| 2/2 [00:00<00:00,  2.25it/s]\n"
     ]
    },
    {
     "data": {
      "text/html": [
       "<div>\n",
       "<style scoped>\n",
       "    .dataframe tbody tr th:only-of-type {\n",
       "        vertical-align: middle;\n",
       "    }\n",
       "\n",
       "    .dataframe tbody tr th {\n",
       "        vertical-align: top;\n",
       "    }\n",
       "\n",
       "    .dataframe thead th {\n",
       "        text-align: right;\n",
       "    }\n",
       "</style>\n",
       "<table border=\"1\" class=\"dataframe\">\n",
       "  <thead>\n",
       "    <tr style=\"text-align: right;\">\n",
       "      <th></th>\n",
       "      <th>Available day</th>\n",
       "      <th>Target day</th>\n",
       "      <th>Model</th>\n",
       "      <th>Columns</th>\n",
       "    </tr>\n",
       "  </thead>\n",
       "  <tbody>\n",
       "    <tr>\n",
       "      <th>0</th>\n",
       "      <td>7</td>\n",
       "      <td>14</td>\n",
       "      <td>(ColumnTransformer(remainder='passthrough',\\n ...</td>\n",
       "      <td>Index(['revenue_d7', 'withdraw_d7', 'payment_i...</td>\n",
       "    </tr>\n",
       "    <tr>\n",
       "      <th>1</th>\n",
       "      <td>8</td>\n",
       "      <td>14</td>\n",
       "      <td>(ColumnTransformer(remainder='passthrough',\\n ...</td>\n",
       "      <td>Index(['revenue_d7', 'withdraw_d7', 'payment_i...</td>\n",
       "    </tr>\n",
       "    <tr>\n",
       "      <th>2</th>\n",
       "      <td>9</td>\n",
       "      <td>14</td>\n",
       "      <td>(ColumnTransformer(remainder='passthrough',\\n ...</td>\n",
       "      <td>Index(['revenue_d7', 'withdraw_d7', 'payment_i...</td>\n",
       "    </tr>\n",
       "    <tr>\n",
       "      <th>3</th>\n",
       "      <td>10</td>\n",
       "      <td>14</td>\n",
       "      <td>(ColumnTransformer(remainder='passthrough',\\n ...</td>\n",
       "      <td>Index(['revenue_d7', 'withdraw_d7', 'payment_i...</td>\n",
       "    </tr>\n",
       "    <tr>\n",
       "      <th>4</th>\n",
       "      <td>11</td>\n",
       "      <td>14</td>\n",
       "      <td>(ColumnTransformer(remainder='passthrough',\\n ...</td>\n",
       "      <td>Index(['revenue_d7', 'withdraw_d7', 'payment_i...</td>\n",
       "    </tr>\n",
       "    <tr>\n",
       "      <th>5</th>\n",
       "      <td>12</td>\n",
       "      <td>14</td>\n",
       "      <td>(ColumnTransformer(remainder='passthrough',\\n ...</td>\n",
       "      <td>Index(['revenue_d7', 'withdraw_d7', 'payment_i...</td>\n",
       "    </tr>\n",
       "    <tr>\n",
       "      <th>6</th>\n",
       "      <td>13</td>\n",
       "      <td>14</td>\n",
       "      <td>(ColumnTransformer(remainder='passthrough',\\n ...</td>\n",
       "      <td>Index(['revenue_d7', 'withdraw_d7', 'payment_i...</td>\n",
       "    </tr>\n",
       "    <tr>\n",
       "      <th>7</th>\n",
       "      <td>7</td>\n",
       "      <td>28</td>\n",
       "      <td>(ColumnTransformer(remainder='passthrough',\\n ...</td>\n",
       "      <td>Index(['revenue_d7', 'withdraw_d7', 'payment_i...</td>\n",
       "    </tr>\n",
       "    <tr>\n",
       "      <th>8</th>\n",
       "      <td>8</td>\n",
       "      <td>28</td>\n",
       "      <td>(ColumnTransformer(remainder='passthrough',\\n ...</td>\n",
       "      <td>Index(['revenue_d7', 'withdraw_d7', 'payment_i...</td>\n",
       "    </tr>\n",
       "    <tr>\n",
       "      <th>9</th>\n",
       "      <td>9</td>\n",
       "      <td>28</td>\n",
       "      <td>(ColumnTransformer(remainder='passthrough',\\n ...</td>\n",
       "      <td>Index(['revenue_d7', 'withdraw_d7', 'payment_i...</td>\n",
       "    </tr>\n",
       "    <tr>\n",
       "      <th>10</th>\n",
       "      <td>10</td>\n",
       "      <td>28</td>\n",
       "      <td>(ColumnTransformer(remainder='passthrough',\\n ...</td>\n",
       "      <td>Index(['revenue_d7', 'withdraw_d7', 'payment_i...</td>\n",
       "    </tr>\n",
       "    <tr>\n",
       "      <th>11</th>\n",
       "      <td>11</td>\n",
       "      <td>28</td>\n",
       "      <td>(ColumnTransformer(remainder='passthrough',\\n ...</td>\n",
       "      <td>Index(['revenue_d7', 'withdraw_d7', 'payment_i...</td>\n",
       "    </tr>\n",
       "    <tr>\n",
       "      <th>12</th>\n",
       "      <td>12</td>\n",
       "      <td>28</td>\n",
       "      <td>(ColumnTransformer(remainder='passthrough',\\n ...</td>\n",
       "      <td>Index(['revenue_d7', 'withdraw_d7', 'payment_i...</td>\n",
       "    </tr>\n",
       "    <tr>\n",
       "      <th>13</th>\n",
       "      <td>13</td>\n",
       "      <td>28</td>\n",
       "      <td>(ColumnTransformer(remainder='passthrough',\\n ...</td>\n",
       "      <td>Index(['revenue_d7', 'withdraw_d7', 'payment_i...</td>\n",
       "    </tr>\n",
       "    <tr>\n",
       "      <th>14</th>\n",
       "      <td>14</td>\n",
       "      <td>28</td>\n",
       "      <td>(ColumnTransformer(remainder='passthrough',\\n ...</td>\n",
       "      <td>Index(['revenue_d7', 'withdraw_d7', 'payment_i...</td>\n",
       "    </tr>\n",
       "    <tr>\n",
       "      <th>15</th>\n",
       "      <td>15</td>\n",
       "      <td>28</td>\n",
       "      <td>(ColumnTransformer(remainder='passthrough',\\n ...</td>\n",
       "      <td>Index(['revenue_d7', 'withdraw_d7', 'payment_i...</td>\n",
       "    </tr>\n",
       "    <tr>\n",
       "      <th>16</th>\n",
       "      <td>16</td>\n",
       "      <td>28</td>\n",
       "      <td>(ColumnTransformer(remainder='passthrough',\\n ...</td>\n",
       "      <td>Index(['revenue_d7', 'withdraw_d7', 'payment_i...</td>\n",
       "    </tr>\n",
       "    <tr>\n",
       "      <th>17</th>\n",
       "      <td>17</td>\n",
       "      <td>28</td>\n",
       "      <td>(ColumnTransformer(remainder='passthrough',\\n ...</td>\n",
       "      <td>Index(['revenue_d7', 'withdraw_d7', 'payment_i...</td>\n",
       "    </tr>\n",
       "    <tr>\n",
       "      <th>18</th>\n",
       "      <td>18</td>\n",
       "      <td>28</td>\n",
       "      <td>(ColumnTransformer(remainder='passthrough',\\n ...</td>\n",
       "      <td>Index(['revenue_d7', 'withdraw_d7', 'payment_i...</td>\n",
       "    </tr>\n",
       "    <tr>\n",
       "      <th>19</th>\n",
       "      <td>19</td>\n",
       "      <td>28</td>\n",
       "      <td>(ColumnTransformer(remainder='passthrough',\\n ...</td>\n",
       "      <td>Index(['revenue_d7', 'withdraw_d7', 'payment_i...</td>\n",
       "    </tr>\n",
       "    <tr>\n",
       "      <th>20</th>\n",
       "      <td>20</td>\n",
       "      <td>28</td>\n",
       "      <td>(ColumnTransformer(remainder='passthrough',\\n ...</td>\n",
       "      <td>Index(['revenue_d7', 'withdraw_d7', 'payment_i...</td>\n",
       "    </tr>\n",
       "    <tr>\n",
       "      <th>21</th>\n",
       "      <td>21</td>\n",
       "      <td>28</td>\n",
       "      <td>(ColumnTransformer(remainder='passthrough',\\n ...</td>\n",
       "      <td>Index(['revenue_d7', 'withdraw_d7', 'payment_i...</td>\n",
       "    </tr>\n",
       "    <tr>\n",
       "      <th>22</th>\n",
       "      <td>22</td>\n",
       "      <td>28</td>\n",
       "      <td>(ColumnTransformer(remainder='passthrough',\\n ...</td>\n",
       "      <td>Index(['revenue_d7', 'withdraw_d7', 'payment_i...</td>\n",
       "    </tr>\n",
       "    <tr>\n",
       "      <th>23</th>\n",
       "      <td>23</td>\n",
       "      <td>28</td>\n",
       "      <td>(ColumnTransformer(remainder='passthrough',\\n ...</td>\n",
       "      <td>Index(['revenue_d7', 'withdraw_d7', 'payment_i...</td>\n",
       "    </tr>\n",
       "    <tr>\n",
       "      <th>24</th>\n",
       "      <td>24</td>\n",
       "      <td>28</td>\n",
       "      <td>(ColumnTransformer(remainder='passthrough',\\n ...</td>\n",
       "      <td>Index(['revenue_d7', 'withdraw_d7', 'payment_i...</td>\n",
       "    </tr>\n",
       "    <tr>\n",
       "      <th>25</th>\n",
       "      <td>25</td>\n",
       "      <td>28</td>\n",
       "      <td>(ColumnTransformer(remainder='passthrough',\\n ...</td>\n",
       "      <td>Index(['revenue_d7', 'withdraw_d7', 'payment_i...</td>\n",
       "    </tr>\n",
       "    <tr>\n",
       "      <th>26</th>\n",
       "      <td>26</td>\n",
       "      <td>28</td>\n",
       "      <td>(ColumnTransformer(remainder='passthrough',\\n ...</td>\n",
       "      <td>Index(['revenue_d7', 'withdraw_d7', 'payment_i...</td>\n",
       "    </tr>\n",
       "    <tr>\n",
       "      <th>27</th>\n",
       "      <td>27</td>\n",
       "      <td>28</td>\n",
       "      <td>(ColumnTransformer(remainder='passthrough',\\n ...</td>\n",
       "      <td>Index(['revenue_d7', 'withdraw_d7', 'payment_i...</td>\n",
       "    </tr>\n",
       "  </tbody>\n",
       "</table>\n",
       "</div>"
      ],
      "text/plain": [
       "   Available day Target day  \\\n",
       "0              7         14   \n",
       "1              8         14   \n",
       "2              9         14   \n",
       "3             10         14   \n",
       "4             11         14   \n",
       "5             12         14   \n",
       "6             13         14   \n",
       "7              7         28   \n",
       "8              8         28   \n",
       "9              9         28   \n",
       "10            10         28   \n",
       "11            11         28   \n",
       "12            12         28   \n",
       "13            13         28   \n",
       "14            14         28   \n",
       "15            15         28   \n",
       "16            16         28   \n",
       "17            17         28   \n",
       "18            18         28   \n",
       "19            19         28   \n",
       "20            20         28   \n",
       "21            21         28   \n",
       "22            22         28   \n",
       "23            23         28   \n",
       "24            24         28   \n",
       "25            25         28   \n",
       "26            26         28   \n",
       "27            27         28   \n",
       "\n",
       "                                                Model  \\\n",
       "0   (ColumnTransformer(remainder='passthrough',\\n ...   \n",
       "1   (ColumnTransformer(remainder='passthrough',\\n ...   \n",
       "2   (ColumnTransformer(remainder='passthrough',\\n ...   \n",
       "3   (ColumnTransformer(remainder='passthrough',\\n ...   \n",
       "4   (ColumnTransformer(remainder='passthrough',\\n ...   \n",
       "5   (ColumnTransformer(remainder='passthrough',\\n ...   \n",
       "6   (ColumnTransformer(remainder='passthrough',\\n ...   \n",
       "7   (ColumnTransformer(remainder='passthrough',\\n ...   \n",
       "8   (ColumnTransformer(remainder='passthrough',\\n ...   \n",
       "9   (ColumnTransformer(remainder='passthrough',\\n ...   \n",
       "10  (ColumnTransformer(remainder='passthrough',\\n ...   \n",
       "11  (ColumnTransformer(remainder='passthrough',\\n ...   \n",
       "12  (ColumnTransformer(remainder='passthrough',\\n ...   \n",
       "13  (ColumnTransformer(remainder='passthrough',\\n ...   \n",
       "14  (ColumnTransformer(remainder='passthrough',\\n ...   \n",
       "15  (ColumnTransformer(remainder='passthrough',\\n ...   \n",
       "16  (ColumnTransformer(remainder='passthrough',\\n ...   \n",
       "17  (ColumnTransformer(remainder='passthrough',\\n ...   \n",
       "18  (ColumnTransformer(remainder='passthrough',\\n ...   \n",
       "19  (ColumnTransformer(remainder='passthrough',\\n ...   \n",
       "20  (ColumnTransformer(remainder='passthrough',\\n ...   \n",
       "21  (ColumnTransformer(remainder='passthrough',\\n ...   \n",
       "22  (ColumnTransformer(remainder='passthrough',\\n ...   \n",
       "23  (ColumnTransformer(remainder='passthrough',\\n ...   \n",
       "24  (ColumnTransformer(remainder='passthrough',\\n ...   \n",
       "25  (ColumnTransformer(remainder='passthrough',\\n ...   \n",
       "26  (ColumnTransformer(remainder='passthrough',\\n ...   \n",
       "27  (ColumnTransformer(remainder='passthrough',\\n ...   \n",
       "\n",
       "                                              Columns  \n",
       "0   Index(['revenue_d7', 'withdraw_d7', 'payment_i...  \n",
       "1   Index(['revenue_d7', 'withdraw_d7', 'payment_i...  \n",
       "2   Index(['revenue_d7', 'withdraw_d7', 'payment_i...  \n",
       "3   Index(['revenue_d7', 'withdraw_d7', 'payment_i...  \n",
       "4   Index(['revenue_d7', 'withdraw_d7', 'payment_i...  \n",
       "5   Index(['revenue_d7', 'withdraw_d7', 'payment_i...  \n",
       "6   Index(['revenue_d7', 'withdraw_d7', 'payment_i...  \n",
       "7   Index(['revenue_d7', 'withdraw_d7', 'payment_i...  \n",
       "8   Index(['revenue_d7', 'withdraw_d7', 'payment_i...  \n",
       "9   Index(['revenue_d7', 'withdraw_d7', 'payment_i...  \n",
       "10  Index(['revenue_d7', 'withdraw_d7', 'payment_i...  \n",
       "11  Index(['revenue_d7', 'withdraw_d7', 'payment_i...  \n",
       "12  Index(['revenue_d7', 'withdraw_d7', 'payment_i...  \n",
       "13  Index(['revenue_d7', 'withdraw_d7', 'payment_i...  \n",
       "14  Index(['revenue_d7', 'withdraw_d7', 'payment_i...  \n",
       "15  Index(['revenue_d7', 'withdraw_d7', 'payment_i...  \n",
       "16  Index(['revenue_d7', 'withdraw_d7', 'payment_i...  \n",
       "17  Index(['revenue_d7', 'withdraw_d7', 'payment_i...  \n",
       "18  Index(['revenue_d7', 'withdraw_d7', 'payment_i...  \n",
       "19  Index(['revenue_d7', 'withdraw_d7', 'payment_i...  \n",
       "20  Index(['revenue_d7', 'withdraw_d7', 'payment_i...  \n",
       "21  Index(['revenue_d7', 'withdraw_d7', 'payment_i...  \n",
       "22  Index(['revenue_d7', 'withdraw_d7', 'payment_i...  \n",
       "23  Index(['revenue_d7', 'withdraw_d7', 'payment_i...  \n",
       "24  Index(['revenue_d7', 'withdraw_d7', 'payment_i...  \n",
       "25  Index(['revenue_d7', 'withdraw_d7', 'payment_i...  \n",
       "26  Index(['revenue_d7', 'withdraw_d7', 'payment_i...  \n",
       "27  Index(['revenue_d7', 'withdraw_d7', 'payment_i...  "
      ]
     },
     "execution_count": 117,
     "metadata": {},
     "output_type": "execute_result"
    }
   ],
   "source": [
    "payback_predictive_system = []\n",
    "\n",
    "from tqdm import tqdm, tqdm_notebook\n",
    "\n",
    "for y_day in tqdm(['14', '28']):\n",
    "  for x_day in predictors_days:\n",
    "    if int(y_day) > int(x_day):\n",
    "  \n",
    "      train = dev_df.copy()\n",
    "      train['y'] = train['Recovery on the 28th (rate)'] - (train[f'p{x_day}'] - train[f'w{x_day}'] + train[f'ad{x_day}'])/train['cost']\n",
    "      y = train[train['days_since_install'] <= (int(y_day) - 1)]['y'] # This is the regressors-based of d7_28_increment\n",
    "      del train['y']\n",
    "  \n",
    "      # Make the regressors\n",
    "      selected_columns = columns_rule + [f'pred_{x_day}_{y_day}']\n",
    "      \n",
    "      # Define X \n",
    "      X = train[train['days_since_install'] <= (int(y_day) - 1)]\n",
    "      weights_train = np.log1p(X['te_installs'])\n",
    "  \n",
    "      # Define observation importance 0.01 - 1.05 - 160 - 1 - 10\n",
    "      model = create_huber(0.0, 1.05, selected_columns, weights_train)\n",
    "      model.fit(X[[col for col in selected_columns if col != 'te_installs']], y)\n",
    "  \n",
    "      # Save the model into dictionary (Response, day, model)\n",
    "      payback = pd.DataFrame({\n",
    "              'Available day': [x_day]\n",
    "              , 'Target day': [y_day]\n",
    "              , 'Model': [model]\n",
    "              , 'Columns': [X[[col for col in selected_columns if col != 'te_installs']].columns]\n",
    "              })\n",
    "  \n",
    "      payback_predictive_system.append(payback)\n",
    "\n",
    "rules_dict = pd.concat(payback_predictive_system, ignore_index = True)\n",
    "rules_dict"
   ]
  },
  {
   "cell_type": "code",
   "execution_count": 118,
   "metadata": {},
   "outputs": [],
   "source": [
    "dev_df_check = dev_df.copy(deep = True)"
   ]
  },
  {
   "cell_type": "code",
   "execution_count": 119,
   "metadata": {},
   "outputs": [],
   "source": [
    "# Add predictions\n",
    "integers_list = list(range(7, 28))\n",
    "incremented_numbers = [str(number) for number in range(28, 36, 7)]\n",
    "predictors_days_input = predictors_days = [str(integer) for integer in integers_list] + incremented_numbers\n",
    "\n",
    "# Available dates as target (I am considering adding more values, above and below, maybe up to two on each side)\n",
    "response_days_input = response_days = [\"14\", \"28\", \"56\", \"63\", \"70\", \"77\", \"84\", \"91\", \"98\", \"100\", \"105\", \"112\", \"119\", \"126\", \"133\"]\n",
    "\n",
    "def add_predictions(data, model_dict, response_days, predictors_days):\n",
    "\n",
    "    for response in response_days:\n",
    "\n",
    "        data[f'actual_{response}'] = data[f'p{response}'] - data[f'w{response}'] + data[f'ad{response}'] \n",
    "\n",
    "        for reg in predictors_days:\n",
    "\n",
    "            if int(response) > int(reg):\n",
    "                                \n",
    "                columns = list((model_dict[(model_dict['Available day'] == reg) & (model_dict['Target day'] == response)][['Columns']].reset_index(drop = True).values[0])[0]) #+ [f'p_last_diff_7_{reg}'] + [f'w_last_diff_7_{reg}']\n",
    "    \n",
    "                # Load the model\n",
    "                model = model_dict[(model_dict['Available day'] == reg) & (model_dict['Target day'] == response)]['Model'].reset_index(drop = True).values[0]\n",
    "    \n",
    "                # Make the prediction (Make sure is done only for those on which makese sense)\n",
    "                prediction = model.predict(data[columns])\n",
    "                data[f'pred_{reg}_{response}_agg'] = prediction + (data[f'p{reg}']- data[f'w{reg}'] + data[f'ad{reg}'])/data[f'cost']\n",
    "                \n",
    "    return data\n",
    "\n",
    "dev_df_check = add_predictions(dev_df_check, rules_dict, ['28'], predictors_days_input)\n"
   ]
  },
  {
   "cell_type": "code",
   "execution_count": 120,
   "metadata": {},
   "outputs": [
    {
     "data": {
      "text/html": [
       "<div>\n",
       "<style scoped>\n",
       "    .dataframe tbody tr th:only-of-type {\n",
       "        vertical-align: middle;\n",
       "    }\n",
       "\n",
       "    .dataframe tbody tr th {\n",
       "        vertical-align: top;\n",
       "    }\n",
       "\n",
       "    .dataframe thead th {\n",
       "        text-align: right;\n",
       "    }\n",
       "</style>\n",
       "<table border=\"1\" class=\"dataframe\">\n",
       "  <thead>\n",
       "    <tr style=\"text-align: right;\">\n",
       "      <th></th>\n",
       "      <th>date</th>\n",
       "      <th>te_installs</th>\n",
       "      <th>cost</th>\n",
       "      <th>revenue_d7</th>\n",
       "      <th>withdraw_d7</th>\n",
       "      <th>payment_increase</th>\n",
       "      <th>rpi_increase</th>\n",
       "      <th>installs_difference</th>\n",
       "      <th>withdrawn_ratio</th>\n",
       "      <th>Recovery on the 28th (rate)</th>\n",
       "      <th>...</th>\n",
       "      <th>pred_18_28_agg</th>\n",
       "      <th>pred_19_28_agg</th>\n",
       "      <th>pred_20_28_agg</th>\n",
       "      <th>pred_21_28_agg</th>\n",
       "      <th>pred_22_28_agg</th>\n",
       "      <th>pred_23_28_agg</th>\n",
       "      <th>pred_24_28_agg</th>\n",
       "      <th>pred_25_28_agg</th>\n",
       "      <th>pred_26_28_agg</th>\n",
       "      <th>pred_27_28_agg</th>\n",
       "    </tr>\n",
       "  </thead>\n",
       "  <tbody>\n",
       "    <tr>\n",
       "      <th>1</th>\n",
       "      <td>20231123</td>\n",
       "      <td>1375</td>\n",
       "      <td>10238.10</td>\n",
       "      <td>6325.87</td>\n",
       "      <td>4663.57</td>\n",
       "      <td>-0.009124</td>\n",
       "      <td>4.719593</td>\n",
       "      <td>-0.195636</td>\n",
       "      <td>0.737222</td>\n",
       "      <td>0.5545</td>\n",
       "      <td>...</td>\n",
       "      <td>0.651879</td>\n",
       "      <td>0.705342</td>\n",
       "      <td>0.768750</td>\n",
       "      <td>0.799918</td>\n",
       "      <td>0.878796</td>\n",
       "      <td>0.830609</td>\n",
       "      <td>0.965108</td>\n",
       "      <td>0.931447</td>\n",
       "      <td>0.903428</td>\n",
       "      <td>0.951287</td>\n",
       "    </tr>\n",
       "    <tr>\n",
       "      <th>8</th>\n",
       "      <td>20231130</td>\n",
       "      <td>2222</td>\n",
       "      <td>14595.90</td>\n",
       "      <td>13981.43</td>\n",
       "      <td>11817.97</td>\n",
       "      <td>-0.101181</td>\n",
       "      <td>6.948511</td>\n",
       "      <td>-0.208371</td>\n",
       "      <td>0.845262</td>\n",
       "      <td>0.7316</td>\n",
       "      <td>...</td>\n",
       "      <td>0.969868</td>\n",
       "      <td>0.792125</td>\n",
       "      <td>0.950919</td>\n",
       "      <td>0.961577</td>\n",
       "      <td>0.966235</td>\n",
       "      <td>0.962485</td>\n",
       "      <td>0.989117</td>\n",
       "      <td>1.025184</td>\n",
       "      <td>1.006305</td>\n",
       "      <td>0.956075</td>\n",
       "    </tr>\n",
       "    <tr>\n",
       "      <th>3</th>\n",
       "      <td>20231125</td>\n",
       "      <td>1639</td>\n",
       "      <td>11905.94</td>\n",
       "      <td>8963.85</td>\n",
       "      <td>3919.00</td>\n",
       "      <td>-0.040412</td>\n",
       "      <td>5.905894</td>\n",
       "      <td>-0.208054</td>\n",
       "      <td>0.437201</td>\n",
       "      <td>0.5569</td>\n",
       "      <td>...</td>\n",
       "      <td>0.637849</td>\n",
       "      <td>0.678381</td>\n",
       "      <td>0.718675</td>\n",
       "      <td>0.690855</td>\n",
       "      <td>0.752437</td>\n",
       "      <td>0.679612</td>\n",
       "      <td>0.784724</td>\n",
       "      <td>0.678082</td>\n",
       "      <td>0.699318</td>\n",
       "      <td>0.728835</td>\n",
       "    </tr>\n",
       "    <tr>\n",
       "      <th>21</th>\n",
       "      <td>20231213</td>\n",
       "      <td>4955</td>\n",
       "      <td>44256.74</td>\n",
       "      <td>46682.23</td>\n",
       "      <td>20273.24</td>\n",
       "      <td>-0.154104</td>\n",
       "      <td>11.307469</td>\n",
       "      <td>-0.234511</td>\n",
       "      <td>0.434282</td>\n",
       "      <td>0.7114</td>\n",
       "      <td>...</td>\n",
       "      <td>0.703495</td>\n",
       "      <td>0.711397</td>\n",
       "      <td>0.711400</td>\n",
       "      <td>0.711400</td>\n",
       "      <td>0.711400</td>\n",
       "      <td>0.711400</td>\n",
       "      <td>0.711400</td>\n",
       "      <td>0.711400</td>\n",
       "      <td>0.711400</td>\n",
       "      <td>0.711400</td>\n",
       "    </tr>\n",
       "    <tr>\n",
       "      <th>11</th>\n",
       "      <td>20231203</td>\n",
       "      <td>2566</td>\n",
       "      <td>18166.54</td>\n",
       "      <td>11883.85</td>\n",
       "      <td>7529.60</td>\n",
       "      <td>-0.108259</td>\n",
       "      <td>4.883094</td>\n",
       "      <td>-0.212783</td>\n",
       "      <td>0.633599</td>\n",
       "      <td>0.8929</td>\n",
       "      <td>...</td>\n",
       "      <td>0.288285</td>\n",
       "      <td>0.298635</td>\n",
       "      <td>0.372730</td>\n",
       "      <td>0.471262</td>\n",
       "      <td>0.496347</td>\n",
       "      <td>0.483890</td>\n",
       "      <td>0.561014</td>\n",
       "      <td>0.505700</td>\n",
       "      <td>0.526539</td>\n",
       "      <td>0.500204</td>\n",
       "    </tr>\n",
       "    <tr>\n",
       "      <th>10</th>\n",
       "      <td>20231202</td>\n",
       "      <td>2331</td>\n",
       "      <td>18622.51</td>\n",
       "      <td>13558.41</td>\n",
       "      <td>9321.44</td>\n",
       "      <td>-0.151724</td>\n",
       "      <td>6.344751</td>\n",
       "      <td>-0.208065</td>\n",
       "      <td>0.687502</td>\n",
       "      <td>0.6411</td>\n",
       "      <td>...</td>\n",
       "      <td>0.789482</td>\n",
       "      <td>0.725708</td>\n",
       "      <td>0.718697</td>\n",
       "      <td>0.761006</td>\n",
       "      <td>0.796760</td>\n",
       "      <td>0.748419</td>\n",
       "      <td>0.860938</td>\n",
       "      <td>0.917977</td>\n",
       "      <td>0.905395</td>\n",
       "      <td>0.858705</td>\n",
       "    </tr>\n",
       "  </tbody>\n",
       "</table>\n",
       "<p>6 rows × 496 columns</p>\n",
       "</div>"
      ],
      "text/plain": [
       "        date  te_installs      cost  revenue_d7  withdraw_d7  \\\n",
       "1   20231123         1375  10238.10     6325.87      4663.57   \n",
       "8   20231130         2222  14595.90    13981.43     11817.97   \n",
       "3   20231125         1639  11905.94     8963.85      3919.00   \n",
       "21  20231213         4955  44256.74    46682.23     20273.24   \n",
       "11  20231203         2566  18166.54    11883.85      7529.60   \n",
       "10  20231202         2331  18622.51    13558.41      9321.44   \n",
       "\n",
       "    payment_increase  rpi_increase  installs_difference  withdrawn_ratio  \\\n",
       "1          -0.009124      4.719593            -0.195636         0.737222   \n",
       "8          -0.101181      6.948511            -0.208371         0.845262   \n",
       "3          -0.040412      5.905894            -0.208054         0.437201   \n",
       "21         -0.154104     11.307469            -0.234511         0.434282   \n",
       "11         -0.108259      4.883094            -0.212783         0.633599   \n",
       "10         -0.151724      6.344751            -0.208065         0.687502   \n",
       "\n",
       "    Recovery on the 28th (rate)  ...  pred_18_28_agg  pred_19_28_agg  \\\n",
       "1                        0.5545  ...        0.651879        0.705342   \n",
       "8                        0.7316  ...        0.969868        0.792125   \n",
       "3                        0.5569  ...        0.637849        0.678381   \n",
       "21                       0.7114  ...        0.703495        0.711397   \n",
       "11                       0.8929  ...        0.288285        0.298635   \n",
       "10                       0.6411  ...        0.789482        0.725708   \n",
       "\n",
       "    pred_20_28_agg  pred_21_28_agg  pred_22_28_agg  pred_23_28_agg  \\\n",
       "1         0.768750        0.799918        0.878796        0.830609   \n",
       "8         0.950919        0.961577        0.966235        0.962485   \n",
       "3         0.718675        0.690855        0.752437        0.679612   \n",
       "21        0.711400        0.711400        0.711400        0.711400   \n",
       "11        0.372730        0.471262        0.496347        0.483890   \n",
       "10        0.718697        0.761006        0.796760        0.748419   \n",
       "\n",
       "    pred_24_28_agg  pred_25_28_agg  pred_26_28_agg  pred_27_28_agg  \n",
       "1         0.965108        0.931447        0.903428        0.951287  \n",
       "8         0.989117        1.025184        1.006305        0.956075  \n",
       "3         0.784724        0.678082        0.699318        0.728835  \n",
       "21        0.711400        0.711400        0.711400        0.711400  \n",
       "11        0.561014        0.505700        0.526539        0.500204  \n",
       "10        0.860938        0.917977        0.905395        0.858705  \n",
       "\n",
       "[6 rows x 496 columns]"
      ]
     },
     "execution_count": 120,
     "metadata": {},
     "output_type": "execute_result"
    }
   ],
   "source": [
    "dev_df_check.sample(6)"
   ]
  },
  {
   "cell_type": "code",
   "execution_count": 127,
   "metadata": {},
   "outputs": [
    {
     "data": {
      "image/png": "[encoded data removed]",
      "text/plain": [
       "<Figure size 2200x600 with 1 Axes>"
      ]
     },
     "metadata": {},
     "output_type": "display_data"
    }
   ],
   "source": [
    "### Check the Joint results\n",
    "\n",
    "filtered_df = dev_df_check.copy()\n",
    "# filtered_df['date'] = pd.to_datetime(filtered_df['date'], format='%Y-%m-%d')\n",
    "filtered_df = filtered_df.sort_values(by = 'date')\n",
    "filtered_df['actual_28'] = filtered_df['actual_28']/filtered_df['cost']\n",
    "\n",
    "# Melt the DataFrame to long format for easier plotting\n",
    "df_long = pd.melt(filtered_df, id_vars=['date'], value_vars=['Recovery on the 28th (rate)',  'pred_27_28_agg'])\n",
    "# df_long['date'] = pd.to_datetime(df_long['date']).dt.date.apply(lambda x: int(x.strftime('%Y%m%d')))\n",
    "df_long['date'] = pd.to_datetime(df_long['date'], format='%Y%m%d')\n",
    "\n",
    "# Create the lineplot\n",
    "plt.figure(figsize=(22, 6))\n",
    "sns.lineplot(x='date', y='value', hue='variable', markers=True, data=df_long)\n",
    "\n",
    "# Set labels and title\n",
    "plt.xlabel('Date')\n",
    "plt.ylabel('ROAS day 28')\n",
    "plt.title(f'ROAS Over Time Unity: ')\n",
    "\n",
    "# Display the legend\n",
    "plt.legend(title='Media Source')\n",
    "\n",
    "# Rotate X-axis labels\n",
    "plt.xticks(rotation=45, ha='right')\n",
    "\n",
    "# Show the plot\n",
    "plt.show()"
   ]
  },
  {
   "cell_type": "code",
   "execution_count": 128,
   "metadata": {},
   "outputs": [],
   "source": [
    "# Remove the last data points and remove the pred_ columns. This is too much\n",
    "with open('acorn_games_ios_ptlv_dictionary_2024.pkl', 'wb') as file:\n",
    "    pickle.dump(rules_dict, file)"
   ]
  },
  {
   "cell_type": "code",
   "execution_count": null,
   "metadata": {},
   "outputs": [],
   "source": [
    "\n",
    "\n"
   ]
  }
 ],
 "metadata": {
  "kernelspec": {
   "display_name": "Python 3",
   "language": "python",
   "name": "python3"
  },
  "language_info": {
   "codemirror_mode": {
    "name": "ipython",
    "version": 3
   },
   "file_extension": ".py",
   "mimetype": "text/x-python",
   "name": "python",
   "nbconvert_exporter": "python",
   "pygments_lexer": "ipython3",
   "version": "3.11.4"
  }
 },
 "nbformat": 4,
 "nbformat_minor": 2
}
