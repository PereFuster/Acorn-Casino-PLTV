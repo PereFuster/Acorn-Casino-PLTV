{
 "cells": [
  {
   "cell_type": "code",
   "execution_count": 1,
   "metadata": {},
   "outputs": [],
   "source": [
    "import warnings\n",
    "import matplotlib.pyplot as plt\n",
    "import seaborn as sns\n",
    "\n",
    "# Suppress all warnings\n",
    "warnings.filterwarnings(\"ignore\")"
   ]
  },
  {
   "cell_type": "code",
   "execution_count": 2,
   "metadata": {},
   "outputs": [],
   "source": [
    "# Configure load path\n",
    "import pickle\n",
    "import pandas as pd\n",
    "import os\n",
    "import requests\n",
    "from urllib.parse import urlencode\n",
    "from sklearn.preprocessing import LabelEncoder, OneHotEncoder, StandardScaler, MinMaxScaler\n",
    "from sklearn.model_selection import train_test_split, GridSearchCV, cross_val_score, RandomizedSearchCV\n",
    "from sklearn.metrics import accuracy_score, classification_report, mean_absolute_error, r2_score, d2_absolute_error_score, mean_absolute_percentage_error\n",
    "from sklearn.ensemble import RandomForestRegressor\n",
    "from sklearn.linear_model import HuberRegressor, LinearRegression\n",
    "from sklearn.feature_selection import SelectKBest\n",
    "from sklearn.pipeline import Pipeline\n",
    "import xgboost as xgb\n",
    "from dateutil.relativedelta import relativedelta\n",
    "from tqdm import tqdm, tqdm_notebook\n",
    "import numpy as np\n",
    "import random\n",
    "import json\n",
    "from datetime import datetime, timedelta\n",
    "import re\n",
    "from sklearn.model_selection import TimeSeriesSplit\n",
    "from sklearn.compose import ColumnTransformer\n",
    "from sklearn.metrics import r2_score\n",
    "from sklearn.tree    import DecisionTreeRegressor\n",
    "from sklearn.tree    import DecisionTreeClassifier\n",
    "import itertools\n",
    "\n",
    "os.chdir(\"C:/Users/Win11/Documents/Repos/Acorn-Casino-PLTV/\")\n",
    "\n",
    "bs_token = 'S7Fek4qridIxY1sUfYUyOl0rLak1Eedeg0TTCWHzUHqIFuUGN07xZtd41ZCp2UvE'  # Token Bingo Arena\n",
    "host = 'td.winnerstudio.vip'\n",
    "\n",
    "# Path Thinking Engine tables\n",
    "tables_path = 'pltv_lucky_accorn_ios_tables.py'\n",
    "start_date = (datetime.now() - timedelta(days = 65)).strftime('%Y-%m-%d')\n",
    "end_date = (datetime.now() - timedelta(days = 29)).strftime('%Y-%m-%d')\n",
    "client_name = 'ios'\n",
    "\n",
    "# Load queries from remote python script (This needs to be perfect).  Overall, you might want to have the lsit here\n",
    "exec(open(tables_path).read())\n",
    "tables = locals().get('tables')"
   ]
  },
  {
   "cell_type": "code",
   "execution_count": 3,
   "metadata": {},
   "outputs": [
    {
     "data": {
      "text/html": [
       "<div>\n",
       "<style scoped>\n",
       "    .dataframe tbody tr th:only-of-type {\n",
       "        vertical-align: middle;\n",
       "    }\n",
       "\n",
       "    .dataframe tbody tr th {\n",
       "        vertical-align: top;\n",
       "    }\n",
       "\n",
       "    .dataframe thead th {\n",
       "        text-align: right;\n",
       "    }\n",
       "</style>\n",
       "<table border=\"1\" class=\"dataframe\">\n",
       "  <thead>\n",
       "    <tr style=\"text-align: right;\">\n",
       "      <th></th>\n",
       "      <th>Available day</th>\n",
       "      <th>Target day</th>\n",
       "      <th>Model</th>\n",
       "      <th>Columns</th>\n",
       "    </tr>\n",
       "  </thead>\n",
       "  <tbody>\n",
       "    <tr>\n",
       "      <th>0</th>\n",
       "      <td>7</td>\n",
       "      <td>14</td>\n",
       "      <td>(ColumnTransformer(remainder='passthrough',\\n ...</td>\n",
       "      <td>Index(['p7_diff', 'p6_diff', 'p5_diff', 'p4_di...</td>\n",
       "    </tr>\n",
       "    <tr>\n",
       "      <th>1</th>\n",
       "      <td>8</td>\n",
       "      <td>14</td>\n",
       "      <td>(ColumnTransformer(remainder='passthrough',\\n ...</td>\n",
       "      <td>Index(['p7_diff', 'p6_diff', 'p5_diff', 'p4_di...</td>\n",
       "    </tr>\n",
       "    <tr>\n",
       "      <th>2</th>\n",
       "      <td>9</td>\n",
       "      <td>14</td>\n",
       "      <td>(ColumnTransformer(remainder='passthrough',\\n ...</td>\n",
       "      <td>Index(['p7_diff', 'p6_diff', 'p5_diff', 'p4_di...</td>\n",
       "    </tr>\n",
       "    <tr>\n",
       "      <th>3</th>\n",
       "      <td>10</td>\n",
       "      <td>14</td>\n",
       "      <td>(ColumnTransformer(remainder='passthrough',\\n ...</td>\n",
       "      <td>Index(['p7_diff', 'p6_diff', 'p5_diff', 'p4_di...</td>\n",
       "    </tr>\n",
       "    <tr>\n",
       "      <th>4</th>\n",
       "      <td>11</td>\n",
       "      <td>14</td>\n",
       "      <td>(ColumnTransformer(remainder='passthrough',\\n ...</td>\n",
       "      <td>Index(['p7_diff', 'p6_diff', 'p5_diff', 'p4_di...</td>\n",
       "    </tr>\n",
       "  </tbody>\n",
       "</table>\n",
       "</div>"
      ],
      "text/plain": [
       "  Available day Target day                                              Model  \\\n",
       "0             7         14  (ColumnTransformer(remainder='passthrough',\\n ...   \n",
       "1             8         14  (ColumnTransformer(remainder='passthrough',\\n ...   \n",
       "2             9         14  (ColumnTransformer(remainder='passthrough',\\n ...   \n",
       "3            10         14  (ColumnTransformer(remainder='passthrough',\\n ...   \n",
       "4            11         14  (ColumnTransformer(remainder='passthrough',\\n ...   \n",
       "\n",
       "                                             Columns  \n",
       "0  Index(['p7_diff', 'p6_diff', 'p5_diff', 'p4_di...  \n",
       "1  Index(['p7_diff', 'p6_diff', 'p5_diff', 'p4_di...  \n",
       "2  Index(['p7_diff', 'p6_diff', 'p5_diff', 'p4_di...  \n",
       "3  Index(['p7_diff', 'p6_diff', 'p5_diff', 'p4_di...  \n",
       "4  Index(['p7_diff', 'p6_diff', 'p5_diff', 'p4_di...  "
      ]
     },
     "execution_count": 3,
     "metadata": {},
     "output_type": "execute_result"
    }
   ],
   "source": [
    "with open('acorn_ios_ptlv_dictionary_2024_jan.pkl', 'rb') as file:\n",
    "    model_dict = pickle.load(file)\n",
    "model_dict.head()"
   ]
  },
  {
   "cell_type": "markdown",
   "metadata": {},
   "source": [
    "## 1. Load the data and incorporate the predictions \n",
    "\n",
    "This should be everything that you can get from the previous step, except the API data "
   ]
  },
  {
   "cell_type": "code",
   "execution_count": 4,
   "metadata": {},
   "outputs": [],
   "source": [
    "def load_data(tables, bs_token, host):\n",
    "    def pull_data(sql_script, bs_token, host):\n",
    "\n",
    "        data = {\n",
    "            'token':          bs_token,\n",
    "            'format':         'json_object',\n",
    "            'timeoutSeconds': 2000,\n",
    "            'sql':            sql_script\n",
    "        }\n",
    "\n",
    "        data = str(urlencode(data))\n",
    "        response = requests.post(f'http://{host}:8992/querySql?{data}', timeout = 1000000)\n",
    "\n",
    "        # Sample list of JSON strings\n",
    "        json_list = response.text.split('\\n')[1:]\n",
    "\n",
    "        # Convert JSON strings to dictionaries\n",
    "        dict_list = []\n",
    "        for json_str in json_list:\n",
    "            try:\n",
    "                dict_list.append(json.loads(json_str))\n",
    "            except json.JSONDecodeError as e:\n",
    "                print(f\"Error parsing JSON: {e}\")\n",
    "\n",
    "        # Create a pandas DataFrame\n",
    "        data = pd.DataFrame(dict_list).sort_index(axis = 1)\n",
    "        print(data)\n",
    "        # Display the DataFrame\n",
    "        return data\n",
    "\n",
    "    # Load the first data using USER_PAYMENT, and then iteatevely join the remaining data for trainning\n",
    "\n",
    "    df = pull_data(tables[0], bs_token, host)\n",
    "    for i in range(1, len(tables)):\n",
    "        new_data = pull_data(tables[i], bs_token, host)\n",
    "        df = df.merge(new_data, on = '#account_id', how = 'left')\n",
    "\n",
    "    return df\n",
    "\n",
    "# Load queries from remote python script (This needs to be perfect).  Overall, you might want to have the lsit here\n",
    "exec(open(tables_path).read())\n",
    "tables = locals().get('tables')\n",
    "training_columns = locals().get('training_columns')\n",
    "training_columns_feb = locals().get('training_columns_feb')\n",
    "\n",
    "# Create df by loading information and joining on account_id\n",
    "df = load_data(tables, bs_token, host)"
   ]
  },
  {
   "cell_type": "code",
   "execution_count": null,
   "metadata": {},
   "outputs": [],
   "source": [
    "# Data preprocessing and transformations\n",
    "df['#account_id'] = df['#account_id'].astype(str)\n",
    "df['register_time'] = pd.to_datetime(df['register_time'], errors = 'coerce')\n",
    "df['date'] = df['register_time'].dt.strftime('%Y%m%d').astype(float)  # Change to float if needed\n",
    "\n",
    "df = df.fillna(0)"
   ]
  },
  {
   "cell_type": "code",
   "execution_count": null,
   "metadata": {},
   "outputs": [],
   "source": [
    "# Calculate differences\n",
    "day_columns = ['p1', 'p2', 'p3', 'p4', 'p5', 'p6', 'p7']\n",
    "for i in range(len(day_columns) - 1, 0, -1):\n",
    "    df[f'{day_columns[i]}_diff'] = df[day_columns[i]] - df[day_columns[i - 1]]"
   ]
  },
  {
   "cell_type": "code",
   "execution_count": null,
   "metadata": {},
   "outputs": [],
   "source": [
    "# Add predictions\n",
    "integers_list = list(range(7, 28))\n",
    "incremented_numbers = [str(number) for number in range(28, 36, 7)]\n",
    "predictors_days_input = predictors_days = [str(integer) for integer in integers_list] + incremented_numbers\n",
    "\n",
    "# Available dates as target (I am considering adding more values, above and below, maybe up to two on each side)\n",
    "response_days_input = response_days = [\"14\", \"28\", \"56\", \"63\", \"70\", \"77\", \"84\", \"91\", \"98\", \"100\", \"105\", \"112\", \"119\", \"126\", \"133\"]\n",
    "def add_predictions(data, model_dict, response_days, predictors_days):\n",
    "\n",
    "    for response in response_days:\n",
    "        data[f'actual_{response}'] = data[f'p{response}'] - data[f'w{response}'] + data[f'ad{response}']\n",
    "\n",
    "        for reg in predictors_days:\n",
    "\n",
    "            if int(response) > int(reg):\n",
    "                \n",
    "                data[f'p_last_diff_7_{reg}'] = data[f'p{reg}'] - data[f'p7']\n",
    "                data[f'w_last_diff_7_{reg}'] = data[f'w{reg}'] - data[f'w7']\n",
    "                columns = list((model_dict[(model_dict['Available day'] == reg) & (model_dict['Target day'] == response)][['Columns']].reset_index(drop=True).values[0])[0]) #+ [f'p_last_diff_7_{reg}'] + [f'w_last_diff_7_{reg}']\n",
    "                \n",
    "                # Load the model\n",
    "                model = model_dict[(model_dict['Available day'] == reg) & (model_dict['Target day'] == response)]['Model'].reset_index(drop=True).values[0]\n",
    "\n",
    "                # Make the prediction (Make sure is done only for those on which makese sense)\n",
    "                prediction = model.predict(data[columns])\n",
    "                data[f'pred_{reg}_{response}'] = prediction + data[f'p{reg}']- data[f'w{reg}'] + data[f'ad{reg}']\n",
    "                del data[f'p_last_diff_7_{reg}']\n",
    "                del data[f'w_last_diff_7_{reg}']\n",
    "\n",
    "    return data\n",
    "\n",
    "df = add_predictions(df, model_dict, response_days_input, predictors_days_input)"
   ]
  },
  {
   "cell_type": "markdown",
   "metadata": {},
   "source": [
    "## 2. Add media source \n",
    "\n",
    "Add the media source"
   ]
  },
  {
   "cell_type": "code",
   "execution_count": null,
   "metadata": {},
   "outputs": [
    {
     "name": "stdout",
     "output_type": "stream",
     "text": [
      "Loaded (186, 7)\n"
     ]
    }
   ],
   "source": [
    "api_details = {'bundle_id': 'com.acorncasino.slots', 'start': start_date, 'end':  end_date}\n",
    "api_url = 'http://acorncasino-ios.twilightgift.club/server/media_source_cost'\n",
    "\n",
    "# Send a GET request to the API\n",
    "response = requests.post(api_url, api_details)\n",
    "if response.status_code == 200:\n",
    "    # Request was successful\n",
    "    api_df = response.json()  # Parse the JSON response if the API returns JSON data\n",
    "    api_df = pd.DataFrame(api_df['data'])\n",
    "    api_df['api_installs'] = api_df['user_ids'].apply(lambda x: len([int(item.strip()) for item in x.split(\",\") if item.strip()]))\n",
    "    print('Loaded', api_df.shape)\n",
    "else:\n",
    "    print(f\"Failed to retrieve data. Status code: {response.status_code}\")\n"
   ]
  },
  {
   "cell_type": "code",
   "execution_count": null,
   "metadata": {},
   "outputs": [
    {
     "data": {
      "text/html": [
       "<div>\n",
       "<style scoped>\n",
       "    .dataframe tbody tr th:only-of-type {\n",
       "        vertical-align: middle;\n",
       "    }\n",
       "\n",
       "    .dataframe tbody tr th {\n",
       "        vertical-align: top;\n",
       "    }\n",
       "\n",
       "    .dataframe thead th {\n",
       "        text-align: right;\n",
       "    }\n",
       "</style>\n",
       "<table border=\"1\" class=\"dataframe\">\n",
       "  <thead>\n",
       "    <tr style=\"text-align: right;\">\n",
       "      <th></th>\n",
       "      <th>date</th>\n",
       "      <th>cost</th>\n",
       "      <th>revenue_d7</th>\n",
       "      <th>withdraw_d7</th>\n",
       "      <th>api_installs</th>\n",
       "    </tr>\n",
       "  </thead>\n",
       "  <tbody>\n",
       "    <tr>\n",
       "      <th>0</th>\n",
       "      <td>20231122</td>\n",
       "      <td>9057.12</td>\n",
       "      <td>8672.69</td>\n",
       "      <td>5648.90</td>\n",
       "      <td>1056</td>\n",
       "    </tr>\n",
       "    <tr>\n",
       "      <th>1</th>\n",
       "      <td>20231123</td>\n",
       "      <td>10238.10</td>\n",
       "      <td>6325.87</td>\n",
       "      <td>4663.57</td>\n",
       "      <td>1106</td>\n",
       "    </tr>\n",
       "    <tr>\n",
       "      <th>2</th>\n",
       "      <td>20231124</td>\n",
       "      <td>11521.74</td>\n",
       "      <td>14968.13</td>\n",
       "      <td>10929.83</td>\n",
       "      <td>1245</td>\n",
       "    </tr>\n",
       "    <tr>\n",
       "      <th>3</th>\n",
       "      <td>20231125</td>\n",
       "      <td>11905.94</td>\n",
       "      <td>8963.85</td>\n",
       "      <td>3919.00</td>\n",
       "      <td>1298</td>\n",
       "    </tr>\n",
       "    <tr>\n",
       "      <th>4</th>\n",
       "      <td>20231126</td>\n",
       "      <td>10862.30</td>\n",
       "      <td>10654.07</td>\n",
       "      <td>9428.93</td>\n",
       "      <td>1368</td>\n",
       "    </tr>\n",
       "  </tbody>\n",
       "</table>\n",
       "</div>"
      ],
      "text/plain": [
       "       date      cost  revenue_d7  withdraw_d7  api_installs\n",
       "0  20231122   9057.12     8672.69      5648.90          1056\n",
       "1  20231123  10238.10     6325.87      4663.57          1106\n",
       "2  20231124  11521.74    14968.13     10929.83          1245\n",
       "3  20231125  11905.94     8963.85      3919.00          1298\n",
       "4  20231126  10862.30    10654.07      9428.93          1368"
      ]
     },
     "execution_count": 13,
     "metadata": {},
     "output_type": "execute_result"
    }
   ],
   "source": [
    "api_df = api_df.groupby('date')[['cost', 'revenue_d7', 'withdraw_d7', 'api_installs']].sum().reset_index(drop = False).sort_values(by = 'date')\n",
    "api_df.head()"
   ]
  },
  {
   "cell_type": "code",
   "execution_count": null,
   "metadata": {},
   "outputs": [],
   "source": [
    "n_values = df.columns[df.columns.str.match(r'pred_\\d+_\\d+')].str.extract(r'pred_\\d+_(\\d+)').dropna()[0].unique() # These are the responses, after removing the availables.\n",
    "available_k_values = [int(col.split('_')[1]) for col in df.columns if col.startswith('pred_')] # What are the numbers after 'pred_'\n",
    "pred_list = ['pred_14', 'pred_28', 'pred_56', 'pred_63', 'pred_70', 'pred_77', 'pred_84', 'pred_91', 'pred_98', 'pred_100', 'pred_105', 'pred_112', 'pred_119', 'pred_126', 'pred_133']\n",
    "\n",
    "df['te_installs'] = 1\n",
    "agg_df = df.fillna(0).groupby('date')[[col for col in df.columns if col.startswith(\"p\") or col.startswith(\"w\") or col.startswith(\"ad\") or col.startswith(\"act\") or col.startswith(\"actual_\")] + ['te_installs']].sum().reset_index()\n",
    "agg_df = api_df[['date', 'api_installs', 'cost', 'revenue_d7', 'withdraw_d7']].merge(agg_df, on = 'date', how = 'inner')\n",
    "\n",
    "agg_df['payment_increase']    = (agg_df['revenue_d7'] - agg_df['p7']) / agg_df['p7']\n",
    "agg_df['rpi_increase']        = ((agg_df['revenue_d7'] / agg_df['api_installs'].astype(float)) - (agg_df['p7'] / agg_df['te_installs']) / (agg_df['p7'] / agg_df['te_installs']))\n",
    "agg_df['installs_difference'] = (agg_df['api_installs'] - agg_df['te_installs']) / agg_df['te_installs'] # ['Install', 'installs']'Install' is API\n",
    "agg_df['withdrawn_ratio']     = agg_df['withdraw_d7'] / agg_df['revenue_d7']\n",
    "agg_df['return_p_d7']         = agg_df['p7'] / agg_df['cost'] \n",
    "agg_df['return_ad_d7']        = agg_df['ad7'] / agg_df['cost'] \n",
    "today = pd.to_datetime((datetime.now() - timedelta(days = 1)).strftime('%Y-%m-%d'))\n"
   ]
  },
  {
   "cell_type": "code",
   "execution_count": null,
   "metadata": {},
   "outputs": [],
   "source": [
    "# Generate pred roas cols by dividing pred_revenue by spending (Name does not change)\n",
    "agg_df[[col for col in df.columns if col.startswith(\"pred_\")]] = agg_df[[col for col in df.columns if col.startswith(\"pred_\")]].div(agg_df['cost'], axis = 0)"
   ]
  },
  {
   "cell_type": "code",
   "execution_count": null,
   "metadata": {},
   "outputs": [
    {
     "data": {
      "text/html": [
       "<div>\n",
       "<style scoped>\n",
       "    .dataframe tbody tr th:only-of-type {\n",
       "        vertical-align: middle;\n",
       "    }\n",
       "\n",
       "    .dataframe tbody tr th {\n",
       "        vertical-align: top;\n",
       "    }\n",
       "\n",
       "    .dataframe thead th {\n",
       "        text-align: right;\n",
       "    }\n",
       "</style>\n",
       "<table border=\"1\" class=\"dataframe\">\n",
       "  <thead>\n",
       "    <tr style=\"text-align: right;\">\n",
       "      <th></th>\n",
       "      <th>date</th>\n",
       "      <th>cost</th>\n",
       "      <th>revenue_d7</th>\n",
       "      <th>withdraw_d7</th>\n",
       "      <th>payment_increase</th>\n",
       "      <th>rpi_increase</th>\n",
       "      <th>installs_difference</th>\n",
       "      <th>withdrawn_ratio</th>\n",
       "      <th>pred_7_14</th>\n",
       "      <th>pred_8_14</th>\n",
       "      <th>...</th>\n",
       "      <th>w63</th>\n",
       "      <th>w7</th>\n",
       "      <th>w70</th>\n",
       "      <th>w77</th>\n",
       "      <th>w8</th>\n",
       "      <th>w84</th>\n",
       "      <th>w9</th>\n",
       "      <th>w91</th>\n",
       "      <th>w98</th>\n",
       "      <th>withdrawn_ratio</th>\n",
       "    </tr>\n",
       "  </thead>\n",
       "  <tbody>\n",
       "    <tr>\n",
       "      <th>15</th>\n",
       "      <td>20231207</td>\n",
       "      <td>31059.94</td>\n",
       "      <td>22230.96</td>\n",
       "      <td>13913.74</td>\n",
       "      <td>-0.182290</td>\n",
       "      <td>7.086926</td>\n",
       "      <td>-0.205032</td>\n",
       "      <td>0.625872</td>\n",
       "      <td>0.578227</td>\n",
       "      <td>0.549977</td>\n",
       "      <td>...</td>\n",
       "      <td>123426.6900</td>\n",
       "      <td>14005.06</td>\n",
       "      <td>123426.6900</td>\n",
       "      <td>123426.6900</td>\n",
       "      <td>16763.81</td>\n",
       "      <td>123426.6900</td>\n",
       "      <td>18566.24</td>\n",
       "      <td>123426.6900</td>\n",
       "      <td>123426.6900</td>\n",
       "      <td>0.625872</td>\n",
       "    </tr>\n",
       "    <tr>\n",
       "      <th>16</th>\n",
       "      <td>20231208</td>\n",
       "      <td>32423.70</td>\n",
       "      <td>29613.51</td>\n",
       "      <td>18649.65</td>\n",
       "      <td>-0.149415</td>\n",
       "      <td>9.138141</td>\n",
       "      <td>-0.221689</td>\n",
       "      <td>0.629768</td>\n",
       "      <td>0.785177</td>\n",
       "      <td>0.850874</td>\n",
       "      <td>...</td>\n",
       "      <td>137252.2100</td>\n",
       "      <td>14302.74</td>\n",
       "      <td>137252.2100</td>\n",
       "      <td>137252.2100</td>\n",
       "      <td>16133.18</td>\n",
       "      <td>137252.2100</td>\n",
       "      <td>16835.33</td>\n",
       "      <td>137252.2100</td>\n",
       "      <td>137252.2100</td>\n",
       "      <td>0.629768</td>\n",
       "    </tr>\n",
       "    <tr>\n",
       "      <th>2</th>\n",
       "      <td>20231124</td>\n",
       "      <td>11521.74</td>\n",
       "      <td>14968.13</td>\n",
       "      <td>10929.83</td>\n",
       "      <td>-0.087016</td>\n",
       "      <td>11.022594</td>\n",
       "      <td>-0.181460</td>\n",
       "      <td>0.730207</td>\n",
       "      <td>0.302229</td>\n",
       "      <td>0.613459</td>\n",
       "      <td>...</td>\n",
       "      <td>45552.9200</td>\n",
       "      <td>14485.12</td>\n",
       "      <td>45552.9200</td>\n",
       "      <td>45552.9200</td>\n",
       "      <td>14930.12</td>\n",
       "      <td>45552.9200</td>\n",
       "      <td>16956.12</td>\n",
       "      <td>45552.9200</td>\n",
       "      <td>45552.9200</td>\n",
       "      <td>0.730207</td>\n",
       "    </tr>\n",
       "    <tr>\n",
       "      <th>33</th>\n",
       "      <td>20231225</td>\n",
       "      <td>63913.80</td>\n",
       "      <td>39535.69</td>\n",
       "      <td>18089.01</td>\n",
       "      <td>-0.229558</td>\n",
       "      <td>8.953598</td>\n",
       "      <td>-0.173017</td>\n",
       "      <td>0.457536</td>\n",
       "      <td>0.513744</td>\n",
       "      <td>0.507690</td>\n",
       "      <td>...</td>\n",
       "      <td>92813.5601</td>\n",
       "      <td>27400.39</td>\n",
       "      <td>92813.5601</td>\n",
       "      <td>92813.5601</td>\n",
       "      <td>29290.06</td>\n",
       "      <td>92813.5601</td>\n",
       "      <td>30601.51</td>\n",
       "      <td>92813.5601</td>\n",
       "      <td>92813.5601</td>\n",
       "      <td>0.457536</td>\n",
       "    </tr>\n",
       "    <tr>\n",
       "      <th>10</th>\n",
       "      <td>20231202</td>\n",
       "      <td>18622.51</td>\n",
       "      <td>13558.41</td>\n",
       "      <td>9321.44</td>\n",
       "      <td>-0.151724</td>\n",
       "      <td>6.344751</td>\n",
       "      <td>-0.208065</td>\n",
       "      <td>0.687502</td>\n",
       "      <td>0.393813</td>\n",
       "      <td>0.428191</td>\n",
       "      <td>...</td>\n",
       "      <td>40006.6800</td>\n",
       "      <td>10825.81</td>\n",
       "      <td>40006.6800</td>\n",
       "      <td>40006.6800</td>\n",
       "      <td>11445.06</td>\n",
       "      <td>40006.6800</td>\n",
       "      <td>11846.22</td>\n",
       "      <td>40006.6800</td>\n",
       "      <td>40006.6800</td>\n",
       "      <td>0.687502</td>\n",
       "    </tr>\n",
       "    <tr>\n",
       "      <th>13</th>\n",
       "      <td>20231205</td>\n",
       "      <td>20987.00</td>\n",
       "      <td>14117.10</td>\n",
       "      <td>6905.50</td>\n",
       "      <td>-0.054096</td>\n",
       "      <td>5.487638</td>\n",
       "      <td>-0.220351</td>\n",
       "      <td>0.489159</td>\n",
       "      <td>0.363694</td>\n",
       "      <td>0.337419</td>\n",
       "      <td>...</td>\n",
       "      <td>54893.6400</td>\n",
       "      <td>8792.53</td>\n",
       "      <td>54893.6400</td>\n",
       "      <td>54893.6400</td>\n",
       "      <td>10093.41</td>\n",
       "      <td>54893.6400</td>\n",
       "      <td>11310.41</td>\n",
       "      <td>54893.6400</td>\n",
       "      <td>54893.6400</td>\n",
       "      <td>0.489159</td>\n",
       "    </tr>\n",
       "    <tr>\n",
       "      <th>8</th>\n",
       "      <td>20231130</td>\n",
       "      <td>14595.90</td>\n",
       "      <td>13981.43</td>\n",
       "      <td>11817.97</td>\n",
       "      <td>-0.101181</td>\n",
       "      <td>6.948511</td>\n",
       "      <td>-0.208371</td>\n",
       "      <td>0.845262</td>\n",
       "      <td>0.608924</td>\n",
       "      <td>0.732655</td>\n",
       "      <td>...</td>\n",
       "      <td>29261.8200</td>\n",
       "      <td>9089.10</td>\n",
       "      <td>29261.8200</td>\n",
       "      <td>29261.8200</td>\n",
       "      <td>9612.23</td>\n",
       "      <td>29261.8200</td>\n",
       "      <td>10466.71</td>\n",
       "      <td>29261.8200</td>\n",
       "      <td>29261.8200</td>\n",
       "      <td>0.845262</td>\n",
       "    </tr>\n",
       "    <tr>\n",
       "      <th>26</th>\n",
       "      <td>20231218</td>\n",
       "      <td>63990.72</td>\n",
       "      <td>57820.17</td>\n",
       "      <td>30916.24</td>\n",
       "      <td>-0.054747</td>\n",
       "      <td>10.136396</td>\n",
       "      <td>-0.177570</td>\n",
       "      <td>0.534696</td>\n",
       "      <td>0.564089</td>\n",
       "      <td>0.586136</td>\n",
       "      <td>...</td>\n",
       "      <td>167465.3400</td>\n",
       "      <td>34816.10</td>\n",
       "      <td>167465.3400</td>\n",
       "      <td>167465.3400</td>\n",
       "      <td>36078.17</td>\n",
       "      <td>167465.3400</td>\n",
       "      <td>40288.73</td>\n",
       "      <td>167465.3400</td>\n",
       "      <td>167465.3400</td>\n",
       "      <td>0.534696</td>\n",
       "    </tr>\n",
       "    <tr>\n",
       "      <th>11</th>\n",
       "      <td>20231203</td>\n",
       "      <td>18166.54</td>\n",
       "      <td>11883.85</td>\n",
       "      <td>7529.60</td>\n",
       "      <td>-0.108259</td>\n",
       "      <td>4.883094</td>\n",
       "      <td>-0.212783</td>\n",
       "      <td>0.633599</td>\n",
       "      <td>0.321257</td>\n",
       "      <td>0.380709</td>\n",
       "      <td>...</td>\n",
       "      <td>44163.0800</td>\n",
       "      <td>9109.51</td>\n",
       "      <td>44163.0800</td>\n",
       "      <td>44163.0800</td>\n",
       "      <td>9871.12</td>\n",
       "      <td>44163.0800</td>\n",
       "      <td>10934.77</td>\n",
       "      <td>44163.0800</td>\n",
       "      <td>44163.0800</td>\n",
       "      <td>0.633599</td>\n",
       "    </tr>\n",
       "    <tr>\n",
       "      <th>6</th>\n",
       "      <td>20231128</td>\n",
       "      <td>12087.80</td>\n",
       "      <td>17641.92</td>\n",
       "      <td>8684.99</td>\n",
       "      <td>-0.054328</td>\n",
       "      <td>10.792727</td>\n",
       "      <td>-0.215933</td>\n",
       "      <td>0.492293</td>\n",
       "      <td>0.612402</td>\n",
       "      <td>0.642360</td>\n",
       "      <td>...</td>\n",
       "      <td>47430.1400</td>\n",
       "      <td>13504.75</td>\n",
       "      <td>47430.1400</td>\n",
       "      <td>47430.1400</td>\n",
       "      <td>14051.58</td>\n",
       "      <td>47430.1400</td>\n",
       "      <td>15083.06</td>\n",
       "      <td>47430.1400</td>\n",
       "      <td>47430.1400</td>\n",
       "      <td>0.492293</td>\n",
       "    </tr>\n",
       "  </tbody>\n",
       "</table>\n",
       "<p>10 rows × 377 columns</p>\n",
       "</div>"
      ],
      "text/plain": [
       "        date      cost  revenue_d7  withdraw_d7  payment_increase  \\\n",
       "15  20231207  31059.94    22230.96     13913.74         -0.182290   \n",
       "16  20231208  32423.70    29613.51     18649.65         -0.149415   \n",
       "2   20231124  11521.74    14968.13     10929.83         -0.087016   \n",
       "33  20231225  63913.80    39535.69     18089.01         -0.229558   \n",
       "10  20231202  18622.51    13558.41      9321.44         -0.151724   \n",
       "13  20231205  20987.00    14117.10      6905.50         -0.054096   \n",
       "8   20231130  14595.90    13981.43     11817.97         -0.101181   \n",
       "26  20231218  63990.72    57820.17     30916.24         -0.054747   \n",
       "11  20231203  18166.54    11883.85      7529.60         -0.108259   \n",
       "6   20231128  12087.80    17641.92      8684.99         -0.054328   \n",
       "\n",
       "    rpi_increase  installs_difference  withdrawn_ratio  pred_7_14  pred_8_14  \\\n",
       "15      7.086926            -0.205032         0.625872   0.578227   0.549977   \n",
       "16      9.138141            -0.221689         0.629768   0.785177   0.850874   \n",
       "2      11.022594            -0.181460         0.730207   0.302229   0.613459   \n",
       "33      8.953598            -0.173017         0.457536   0.513744   0.507690   \n",
       "10      6.344751            -0.208065         0.687502   0.393813   0.428191   \n",
       "13      5.487638            -0.220351         0.489159   0.363694   0.337419   \n",
       "8       6.948511            -0.208371         0.845262   0.608924   0.732655   \n",
       "26     10.136396            -0.177570         0.534696   0.564089   0.586136   \n",
       "11      4.883094            -0.212783         0.633599   0.321257   0.380709   \n",
       "6      10.792727            -0.215933         0.492293   0.612402   0.642360   \n",
       "\n",
       "    ...          w63        w7          w70          w77        w8  \\\n",
       "15  ...  123426.6900  14005.06  123426.6900  123426.6900  16763.81   \n",
       "16  ...  137252.2100  14302.74  137252.2100  137252.2100  16133.18   \n",
       "2   ...   45552.9200  14485.12   45552.9200   45552.9200  14930.12   \n",
       "33  ...   92813.5601  27400.39   92813.5601   92813.5601  29290.06   \n",
       "10  ...   40006.6800  10825.81   40006.6800   40006.6800  11445.06   \n",
       "13  ...   54893.6400   8792.53   54893.6400   54893.6400  10093.41   \n",
       "8   ...   29261.8200   9089.10   29261.8200   29261.8200   9612.23   \n",
       "26  ...  167465.3400  34816.10  167465.3400  167465.3400  36078.17   \n",
       "11  ...   44163.0800   9109.51   44163.0800   44163.0800   9871.12   \n",
       "6   ...   47430.1400  13504.75   47430.1400   47430.1400  14051.58   \n",
       "\n",
       "            w84        w9          w91          w98  withdrawn_ratio  \n",
       "15  123426.6900  18566.24  123426.6900  123426.6900         0.625872  \n",
       "16  137252.2100  16835.33  137252.2100  137252.2100         0.629768  \n",
       "2    45552.9200  16956.12   45552.9200   45552.9200         0.730207  \n",
       "33   92813.5601  30601.51   92813.5601   92813.5601         0.457536  \n",
       "10   40006.6800  11846.22   40006.6800   40006.6800         0.687502  \n",
       "13   54893.6400  11310.41   54893.6400   54893.6400         0.489159  \n",
       "8    29261.8200  10466.71   29261.8200   29261.8200         0.845262  \n",
       "26  167465.3400  40288.73  167465.3400  167465.3400         0.534696  \n",
       "11   44163.0800  10934.77   44163.0800   44163.0800         0.633599  \n",
       "6    47430.1400  15083.06   47430.1400   47430.1400         0.492293  \n",
       "\n",
       "[10 rows x 377 columns]"
      ]
     },
     "execution_count": 16,
     "metadata": {},
     "output_type": "execute_result"
    }
   ],
   "source": [
    "agg_df_train = agg_df[['date'] + ['cost'] + ['revenue_d7'] + ['withdraw_d7'] + ['payment_increase'] + ['rpi_increase'] + ['installs_difference'] + ['withdrawn_ratio'] \n",
    "                        + [col for col in agg_df.columns if col.startswith(\"pred_\")] + [col for col in agg_df.columns if col.startswith(\"w\")]]\n",
    "\n",
    "agg_df_train.sample(10)"
   ]
  },
  {
   "cell_type": "markdown",
   "metadata": {},
   "source": [
    "## Check numbers are pulled decently well\n"
   ]
  },
  {
   "cell_type": "code",
   "execution_count": null,
   "metadata": {},
   "outputs": [
    {
     "data": {
      "image/png": "[encoded data removed]",
      "text/plain": [
       "<Figure size 2200x600 with 1 Axes>"
      ]
     },
     "metadata": {},
     "output_type": "display_data"
    }
   ],
   "source": [
    "\n",
    "# Set the seaborn style\n",
    "sns.set(style=\"whitegrid\")\n",
    "\n",
    "# Melt the DataFrame to long format for easier plotting\n",
    "df_long = pd.melt(agg_df, id_vars=['date'], value_vars=['api_installs', 'te_installs'])\n",
    "df_long['date'] = pd.to_datetime(df_long['date'], format='%Y%m%d')\n",
    "\n",
    "# Create the lineplot\n",
    "plt.figure(figsize=(22, 6))\n",
    "sns.lineplot(x='date', y='value', hue='variable', markers=True, data=df_long)\n",
    "\n",
    "# Set labels and title\n",
    "plt.xlabel('Date')\n",
    "plt.ylabel('Count')\n",
    "plt.title('Series Over Time All')\n",
    "\n",
    "# Display the legend\n",
    "# plt.legend(title='Media Source')\n",
    "\n",
    "# Set x-axis ticks at specific intervals\n",
    "plt.xticks(rotation=45, ha='right')  # Adjust rotation and alignment as needed\n",
    "\n",
    "# Show the plot\n",
    "plt.tight_layout()  # Optional for better layout\n",
    "plt.show()"
   ]
  },
  {
   "cell_type": "code",
   "execution_count": null,
   "metadata": {},
   "outputs": [
    {
     "data": {
      "image/png": "[encoded data removed]",
      "text/plain": [
       "<Figure size 2200x600 with 1 Axes>"
      ]
     },
     "metadata": {},
     "output_type": "display_data"
    }
   ],
   "source": [
    "# Melt the DataFrame to long format for easier plotting\n",
    "df_long = pd.melt(agg_df, id_vars=['date'], value_vars=['revenue_d7', 'p7'])\n",
    "df_long['date'] = pd.to_datetime(df_long['date'], format='%Y%m%d')\n",
    "\n",
    "# Create the lineplot\n",
    "plt.figure(figsize=(22, 6))\n",
    "sns.lineplot(x='date', y='value', hue='variable', markers=True, data=df_long)\n",
    "\n",
    "# Set labels and title\n",
    "plt.xlabel('Date')\n",
    "plt.ylabel('Count')\n",
    "plt.title('Series Over Time by Media Source')\n",
    "\n",
    "# Display the legend\n",
    "# plt.legend(title='Media Source')\n",
    "\n",
    "# Set x-axis ticks at specific intervals\n",
    "plt.xticks(rotation=45, ha='right')  # Adjust rotation and alignment as needed\n",
    "\n",
    "# Show the plot\n",
    "plt.tight_layout()  # Optional for better layout\n",
    "plt.show()"
   ]
  },
  {
   "cell_type": "code",
   "execution_count": null,
   "metadata": {},
   "outputs": [
    {
     "data": {
      "image/png": "[encoded data removed]",
      "text/plain": [
       "<Figure size 2200x600 with 1 Axes>"
      ]
     },
     "metadata": {},
     "output_type": "display_data"
    }
   ],
   "source": [
    "sns.set(style=\"whitegrid\")\n",
    "\n",
    "# Melt the DataFrame to long format for easier plotting\n",
    "df_long = pd.melt(agg_df, id_vars=['date'], value_vars=['withdraw_d7', 'w7'])\n",
    "df_long['date'] = pd.to_datetime(df_long['date'], format='%Y%m%d')\n",
    "\n",
    "# Create the lineplot\n",
    "plt.figure(figsize=(22, 6))\n",
    "sns.lineplot(x='date', y='value', hue='variable', markers=True, data=df_long)\n",
    "\n",
    "# Set labels and title\n",
    "plt.xlabel('Date')\n",
    "plt.ylabel('Count')\n",
    "plt.title('Series Over Time by Media Source')\n",
    "\n",
    "# Display the legend\n",
    "# plt.legend(title='Media Source')\n",
    "\n",
    "# Set x-axis ticks at specific intervals\n",
    "plt.xticks(rotation=45, ha='right')  # Adjust rotation and alignment as needed\n",
    "\n",
    "# Show the plot\n",
    "plt.tight_layout()  # Optional for better layout\n",
    "plt.show()"
   ]
  },
  {
   "cell_type": "markdown",
   "metadata": {},
   "source": [
    "## 3. Incorporate the responses from the BI tool "
   ]
  },
  {
   "cell_type": "code",
   "execution_count": null,
   "metadata": {},
   "outputs": [],
   "source": [
    "file_path = (os.getcwd()).replace('\\\\', '/') + r'/roi_all_by_user_20240126191117.xlsx'.replace('\\\\', '/')\n",
    "bi_tool_actuals = pd.read_excel(file_path)\n",
    "\n",
    "bi_tool_actuals = bi_tool_actuals[bi_tool_actuals['date'] != '--']"
   ]
  },
  {
   "cell_type": "code",
   "execution_count": null,
   "metadata": {},
   "outputs": [
    {
     "data": {
      "text/html": [
       "<div>\n",
       "<style scoped>\n",
       "    .dataframe tbody tr th:only-of-type {\n",
       "        vertical-align: middle;\n",
       "    }\n",
       "\n",
       "    .dataframe tbody tr th {\n",
       "        vertical-align: top;\n",
       "    }\n",
       "\n",
       "    .dataframe thead th {\n",
       "        text-align: right;\n",
       "    }\n",
       "</style>\n",
       "<table border=\"1\" class=\"dataframe\">\n",
       "  <thead>\n",
       "    <tr style=\"text-align: right;\">\n",
       "      <th></th>\n",
       "      <th>date</th>\n",
       "      <th>7-day recovery (rate)</th>\n",
       "      <th>14-day recycling (rate)</th>\n",
       "      <th>Recovery on the 28th (rate)</th>\n",
       "    </tr>\n",
       "  </thead>\n",
       "  <tbody>\n",
       "    <tr>\n",
       "      <th>201</th>\n",
       "      <td>20230701</td>\n",
       "      <td>5,434.91（26.98%）</td>\n",
       "      <td>6,812.31（33.82%）</td>\n",
       "      <td>8,463.36（42.02%）</td>\n",
       "    </tr>\n",
       "    <tr>\n",
       "      <th>200</th>\n",
       "      <td>20230702</td>\n",
       "      <td>6,285.81（32.1%）</td>\n",
       "      <td>7,729.50（39.47%）</td>\n",
       "      <td>9,391.31（47.96%）</td>\n",
       "    </tr>\n",
       "    <tr>\n",
       "      <th>199</th>\n",
       "      <td>20230703</td>\n",
       "      <td>6,571.92（32.45%）</td>\n",
       "      <td>8,410.40（41.53%）</td>\n",
       "      <td>11,210.71（55.36%）</td>\n",
       "    </tr>\n",
       "    <tr>\n",
       "      <th>198</th>\n",
       "      <td>20230704</td>\n",
       "      <td>6,919.64（35.8%）</td>\n",
       "      <td>8,616.98（44.59%）</td>\n",
       "      <td>11,055.64（57.2%）</td>\n",
       "    </tr>\n",
       "    <tr>\n",
       "      <th>197</th>\n",
       "      <td>20230705</td>\n",
       "      <td>5,869.21（35.32%）</td>\n",
       "      <td>7,294.75（43.9%）</td>\n",
       "      <td>8,419.84（50.67%）</td>\n",
       "    </tr>\n",
       "    <tr>\n",
       "      <th>196</th>\n",
       "      <td>20230706</td>\n",
       "      <td>5,429.40（35.01%）</td>\n",
       "      <td>7,254.33（46.77%）</td>\n",
       "      <td>9,238.93（59.57%）</td>\n",
       "    </tr>\n",
       "    <tr>\n",
       "      <th>195</th>\n",
       "      <td>20230707</td>\n",
       "      <td>5,111.15（36.23%）</td>\n",
       "      <td>6,314.18（44.76%）</td>\n",
       "      <td>7,951.88（56.37%）</td>\n",
       "    </tr>\n",
       "    <tr>\n",
       "      <th>194</th>\n",
       "      <td>20230708</td>\n",
       "      <td>4,443.10（33.02%）</td>\n",
       "      <td>5,826.80（43.3%）</td>\n",
       "      <td>7,444.19（55.32%）</td>\n",
       "    </tr>\n",
       "    <tr>\n",
       "      <th>193</th>\n",
       "      <td>20230709</td>\n",
       "      <td>7,599.36（57.2%）</td>\n",
       "      <td>9,683.39（72.89%）</td>\n",
       "      <td>11,869.33（89.35%）</td>\n",
       "    </tr>\n",
       "    <tr>\n",
       "      <th>192</th>\n",
       "      <td>20230710</td>\n",
       "      <td>5,924.59（43.15%）</td>\n",
       "      <td>7,611.38（55.43%）</td>\n",
       "      <td>9,553.12（69.57%）</td>\n",
       "    </tr>\n",
       "  </tbody>\n",
       "</table>\n",
       "</div>"
      ],
      "text/plain": [
       "         date 7-day recovery (rate) 14-day recycling (rate)  \\\n",
       "201  20230701      5,434.91（26.98%）        6,812.31（33.82%）   \n",
       "200  20230702       6,285.81（32.1%）        7,729.50（39.47%）   \n",
       "199  20230703      6,571.92（32.45%）        8,410.40（41.53%）   \n",
       "198  20230704       6,919.64（35.8%）        8,616.98（44.59%）   \n",
       "197  20230705      5,869.21（35.32%）         7,294.75（43.9%）   \n",
       "196  20230706      5,429.40（35.01%）        7,254.33（46.77%）   \n",
       "195  20230707      5,111.15（36.23%）        6,314.18（44.76%）   \n",
       "194  20230708      4,443.10（33.02%）         5,826.80（43.3%）   \n",
       "193  20230709       7,599.36（57.2%）        9,683.39（72.89%）   \n",
       "192  20230710      5,924.59（43.15%）        7,611.38（55.43%）   \n",
       "\n",
       "    Recovery on the 28th (rate)  \n",
       "201            8,463.36（42.02%）  \n",
       "200            9,391.31（47.96%）  \n",
       "199           11,210.71（55.36%）  \n",
       "198            11,055.64（57.2%）  \n",
       "197            8,419.84（50.67%）  \n",
       "196            9,238.93（59.57%）  \n",
       "195            7,951.88（56.37%）  \n",
       "194            7,444.19（55.32%）  \n",
       "193           11,869.33（89.35%）  \n",
       "192            9,553.12（69.57%）  "
      ]
     },
     "execution_count": 37,
     "metadata": {},
     "output_type": "execute_result"
    }
   ],
   "source": [
    "bi_tool_actuals[['date', '7-day recovery (rate)', '14-day recycling (rate)', 'Recovery on the 28th (rate)']].sort_values(by = 'date').head(10)"
   ]
  },
  {
   "cell_type": "code",
   "execution_count": null,
   "metadata": {},
   "outputs": [
    {
     "data": {
      "text/html": [
       "<div>\n",
       "<style scoped>\n",
       "    .dataframe tbody tr th:only-of-type {\n",
       "        vertical-align: middle;\n",
       "    }\n",
       "\n",
       "    .dataframe tbody tr th {\n",
       "        vertical-align: top;\n",
       "    }\n",
       "\n",
       "    .dataframe thead th {\n",
       "        text-align: right;\n",
       "    }\n",
       "</style>\n",
       "<table border=\"1\" class=\"dataframe\">\n",
       "  <thead>\n",
       "    <tr style=\"text-align: right;\">\n",
       "      <th></th>\n",
       "      <th>date</th>\n",
       "      <th>7-day recovery (rate)</th>\n",
       "      <th>14-day recycling (rate)</th>\n",
       "      <th>Recovery on the 28th (rate)</th>\n",
       "    </tr>\n",
       "  </thead>\n",
       "  <tbody>\n",
       "    <tr>\n",
       "      <th>201</th>\n",
       "      <td>20230701</td>\n",
       "      <td>0.2698</td>\n",
       "      <td>0.3382</td>\n",
       "      <td>0.4202</td>\n",
       "    </tr>\n",
       "    <tr>\n",
       "      <th>200</th>\n",
       "      <td>20230702</td>\n",
       "      <td>0.3210</td>\n",
       "      <td>0.3947</td>\n",
       "      <td>0.4796</td>\n",
       "    </tr>\n",
       "    <tr>\n",
       "      <th>199</th>\n",
       "      <td>20230703</td>\n",
       "      <td>0.3245</td>\n",
       "      <td>0.4153</td>\n",
       "      <td>0.5536</td>\n",
       "    </tr>\n",
       "    <tr>\n",
       "      <th>198</th>\n",
       "      <td>20230704</td>\n",
       "      <td>0.3580</td>\n",
       "      <td>0.4459</td>\n",
       "      <td>0.5720</td>\n",
       "    </tr>\n",
       "    <tr>\n",
       "      <th>197</th>\n",
       "      <td>20230705</td>\n",
       "      <td>0.3532</td>\n",
       "      <td>0.4390</td>\n",
       "      <td>0.5067</td>\n",
       "    </tr>\n",
       "    <tr>\n",
       "      <th>196</th>\n",
       "      <td>20230706</td>\n",
       "      <td>0.3501</td>\n",
       "      <td>0.4677</td>\n",
       "      <td>0.5957</td>\n",
       "    </tr>\n",
       "    <tr>\n",
       "      <th>195</th>\n",
       "      <td>20230707</td>\n",
       "      <td>0.3623</td>\n",
       "      <td>0.4476</td>\n",
       "      <td>0.5637</td>\n",
       "    </tr>\n",
       "    <tr>\n",
       "      <th>194</th>\n",
       "      <td>20230708</td>\n",
       "      <td>0.3302</td>\n",
       "      <td>0.4330</td>\n",
       "      <td>0.5532</td>\n",
       "    </tr>\n",
       "    <tr>\n",
       "      <th>193</th>\n",
       "      <td>20230709</td>\n",
       "      <td>0.5720</td>\n",
       "      <td>0.7289</td>\n",
       "      <td>0.8935</td>\n",
       "    </tr>\n",
       "    <tr>\n",
       "      <th>192</th>\n",
       "      <td>20230710</td>\n",
       "      <td>0.4315</td>\n",
       "      <td>0.5543</td>\n",
       "      <td>0.6957</td>\n",
       "    </tr>\n",
       "  </tbody>\n",
       "</table>\n",
       "</div>"
      ],
      "text/plain": [
       "         date  7-day recovery (rate)  14-day recycling (rate)  \\\n",
       "201  20230701                 0.2698                   0.3382   \n",
       "200  20230702                 0.3210                   0.3947   \n",
       "199  20230703                 0.3245                   0.4153   \n",
       "198  20230704                 0.3580                   0.4459   \n",
       "197  20230705                 0.3532                   0.4390   \n",
       "196  20230706                 0.3501                   0.4677   \n",
       "195  20230707                 0.3623                   0.4476   \n",
       "194  20230708                 0.3302                   0.4330   \n",
       "193  20230709                 0.5720                   0.7289   \n",
       "192  20230710                 0.4315                   0.5543   \n",
       "\n",
       "     Recovery on the 28th (rate)  \n",
       "201                       0.4202  \n",
       "200                       0.4796  \n",
       "199                       0.5536  \n",
       "198                       0.5720  \n",
       "197                       0.5067  \n",
       "196                       0.5957  \n",
       "195                       0.5637  \n",
       "194                       0.5532  \n",
       "193                       0.8935  \n",
       "192                       0.6957  "
      ]
     },
     "execution_count": 38,
     "metadata": {},
     "output_type": "execute_result"
    }
   ],
   "source": [
    "# Convert percentage strings to floats\n",
    "def convert_percentage_string_to_float(percentage_string):\n",
    "    try:\n",
    "        return float(percentage_string.split(' ')[1][1:-2]) / 100\n",
    "    except (ValueError, IndexError):\n",
    "        return float(percentage_string.split('（')[1][0:-2]) / 100\n",
    "\n",
    "bi_columns = ['7-day recovery (rate)', '14-day recycling (rate)', 'Recovery on the 28th (rate)','90-day recovery (rate)', '120-day recovery (rate)']\n",
    "for col in bi_columns:\n",
    "    bi_tool_actuals[col] = bi_tool_actuals[col].apply(convert_percentage_string_to_float)\n",
    "\n",
    "bi_tool_actuals[['date', '7-day recovery (rate)', '14-day recycling (rate)', 'Recovery on the 28th (rate)']].sort_values(by = 'date').head(10)"
   ]
  },
  {
   "cell_type": "code",
   "execution_count": null,
   "metadata": {},
   "outputs": [
    {
     "data": {
      "text/plain": [
       "20240118"
      ]
     },
     "execution_count": 39,
     "metadata": {},
     "output_type": "execute_result"
    }
   ],
   "source": [
    "bi_tool_actuals['date'].max()\n",
    "# bi_tool_actuals['date'].dtype"
   ]
  },
  {
   "cell_type": "code",
   "execution_count": null,
   "metadata": {},
   "outputs": [
    {
     "data": {
      "text/html": [
       "<div>\n",
       "<style scoped>\n",
       "    .dataframe tbody tr th:only-of-type {\n",
       "        vertical-align: middle;\n",
       "    }\n",
       "\n",
       "    .dataframe tbody tr th {\n",
       "        vertical-align: top;\n",
       "    }\n",
       "\n",
       "    .dataframe thead th {\n",
       "        text-align: right;\n",
       "    }\n",
       "</style>\n",
       "<table border=\"1\" class=\"dataframe\">\n",
       "  <thead>\n",
       "    <tr style=\"text-align: right;\">\n",
       "      <th></th>\n",
       "      <th>date</th>\n",
       "      <th>api_installs</th>\n",
       "      <th>cost</th>\n",
       "      <th>revenue_d7</th>\n",
       "      <th>withdraw_d7</th>\n",
       "      <th>p1</th>\n",
       "      <th>p10</th>\n",
       "      <th>p100</th>\n",
       "      <th>p105</th>\n",
       "      <th>p11</th>\n",
       "      <th>...</th>\n",
       "      <th>pred_35_133</th>\n",
       "      <th>te_installs</th>\n",
       "      <th>payment_increase</th>\n",
       "      <th>rpi_increase</th>\n",
       "      <th>installs_difference</th>\n",
       "      <th>withdrawn_ratio</th>\n",
       "      <th>return_p_d7</th>\n",
       "      <th>return_ad_d7</th>\n",
       "      <th>Recovery on the 28th (rate)_x</th>\n",
       "      <th>Recovery on the 28th (rate)_y</th>\n",
       "    </tr>\n",
       "  </thead>\n",
       "  <tbody>\n",
       "    <tr>\n",
       "      <th>3</th>\n",
       "      <td>20231125</td>\n",
       "      <td>1298</td>\n",
       "      <td>11905.94</td>\n",
       "      <td>8963.85</td>\n",
       "      <td>3919.00</td>\n",
       "      <td>4522.55930</td>\n",
       "      <td>10616.36592</td>\n",
       "      <td>54352.08575</td>\n",
       "      <td>54352.08575</td>\n",
       "      <td>11125.72592</td>\n",
       "      <td>...</td>\n",
       "      <td>2.835279</td>\n",
       "      <td>1639</td>\n",
       "      <td>-0.040412</td>\n",
       "      <td>5.905894</td>\n",
       "      <td>-0.208054</td>\n",
       "      <td>0.437201</td>\n",
       "      <td>0.784596</td>\n",
       "      <td>0.0</td>\n",
       "      <td>0.5569</td>\n",
       "      <td>0.5569</td>\n",
       "    </tr>\n",
       "    <tr>\n",
       "      <th>8</th>\n",
       "      <td>20231130</td>\n",
       "      <td>1759</td>\n",
       "      <td>14595.90</td>\n",
       "      <td>13981.43</td>\n",
       "      <td>11817.97</td>\n",
       "      <td>5656.99773</td>\n",
       "      <td>20398.97851</td>\n",
       "      <td>82720.11033</td>\n",
       "      <td>82720.11033</td>\n",
       "      <td>21299.89914</td>\n",
       "      <td>...</td>\n",
       "      <td>3.607897</td>\n",
       "      <td>2222</td>\n",
       "      <td>-0.101181</td>\n",
       "      <td>6.948511</td>\n",
       "      <td>-0.208371</td>\n",
       "      <td>0.845262</td>\n",
       "      <td>1.065733</td>\n",
       "      <td>0.0</td>\n",
       "      <td>0.7316</td>\n",
       "      <td>0.7316</td>\n",
       "    </tr>\n",
       "    <tr>\n",
       "      <th>27</th>\n",
       "      <td>20231219</td>\n",
       "      <td>4477</td>\n",
       "      <td>53784.51</td>\n",
       "      <td>60072.01</td>\n",
       "      <td>35709.23</td>\n",
       "      <td>23245.32055</td>\n",
       "      <td>99849.93292</td>\n",
       "      <td>231992.43366</td>\n",
       "      <td>231992.43366</td>\n",
       "      <td>109667.43355</td>\n",
       "      <td>...</td>\n",
       "      <td>3.442633</td>\n",
       "      <td>5541</td>\n",
       "      <td>-0.164743</td>\n",
       "      <td>12.417916</td>\n",
       "      <td>-0.192023</td>\n",
       "      <td>0.594440</td>\n",
       "      <td>1.337195</td>\n",
       "      <td>0.0</td>\n",
       "      <td>0.6560</td>\n",
       "      <td>0.6560</td>\n",
       "    </tr>\n",
       "    <tr>\n",
       "      <th>20</th>\n",
       "      <td>20231212</td>\n",
       "      <td>4093</td>\n",
       "      <td>43707.59</td>\n",
       "      <td>25125.52</td>\n",
       "      <td>11637.15</td>\n",
       "      <td>10294.14720</td>\n",
       "      <td>38247.63186</td>\n",
       "      <td>163929.30853</td>\n",
       "      <td>163929.30853</td>\n",
       "      <td>41559.16470</td>\n",
       "      <td>...</td>\n",
       "      <td>2.951800</td>\n",
       "      <td>5221</td>\n",
       "      <td>-0.131335</td>\n",
       "      <td>5.138656</td>\n",
       "      <td>-0.216051</td>\n",
       "      <td>0.463161</td>\n",
       "      <td>0.661768</td>\n",
       "      <td>0.0</td>\n",
       "      <td>0.5647</td>\n",
       "      <td>0.5647</td>\n",
       "    </tr>\n",
       "    <tr>\n",
       "      <th>26</th>\n",
       "      <td>20231218</td>\n",
       "      <td>5192</td>\n",
       "      <td>63990.72</td>\n",
       "      <td>57820.17</td>\n",
       "      <td>30916.24</td>\n",
       "      <td>21717.25698</td>\n",
       "      <td>76795.65041</td>\n",
       "      <td>285572.12783</td>\n",
       "      <td>285572.12783</td>\n",
       "      <td>83041.77462</td>\n",
       "      <td>...</td>\n",
       "      <td>3.929244</td>\n",
       "      <td>6313</td>\n",
       "      <td>-0.054747</td>\n",
       "      <td>10.136396</td>\n",
       "      <td>-0.177570</td>\n",
       "      <td>0.534696</td>\n",
       "      <td>0.955904</td>\n",
       "      <td>0.0</td>\n",
       "      <td>0.6102</td>\n",
       "      <td>0.6102</td>\n",
       "    </tr>\n",
       "    <tr>\n",
       "      <th>11</th>\n",
       "      <td>20231203</td>\n",
       "      <td>2020</td>\n",
       "      <td>18166.54</td>\n",
       "      <td>11883.85</td>\n",
       "      <td>7529.60</td>\n",
       "      <td>5011.61584</td>\n",
       "      <td>17673.11789</td>\n",
       "      <td>62217.86225</td>\n",
       "      <td>62217.86225</td>\n",
       "      <td>19335.06889</td>\n",
       "      <td>...</td>\n",
       "      <td>2.159670</td>\n",
       "      <td>2566</td>\n",
       "      <td>-0.108259</td>\n",
       "      <td>4.883094</td>\n",
       "      <td>-0.212783</td>\n",
       "      <td>0.633599</td>\n",
       "      <td>0.733578</td>\n",
       "      <td>0.0</td>\n",
       "      <td>0.8929</td>\n",
       "      <td>0.8929</td>\n",
       "    </tr>\n",
       "    <tr>\n",
       "      <th>12</th>\n",
       "      <td>20231204</td>\n",
       "      <td>2009</td>\n",
       "      <td>17130.31</td>\n",
       "      <td>10637.27</td>\n",
       "      <td>8277.54</td>\n",
       "      <td>5691.47489</td>\n",
       "      <td>19885.73963</td>\n",
       "      <td>101055.82771</td>\n",
       "      <td>101055.82771</td>\n",
       "      <td>21640.13242</td>\n",
       "      <td>...</td>\n",
       "      <td>3.496607</td>\n",
       "      <td>2605</td>\n",
       "      <td>-0.291781</td>\n",
       "      <td>4.294808</td>\n",
       "      <td>-0.228791</td>\n",
       "      <td>0.778164</td>\n",
       "      <td>0.876794</td>\n",
       "      <td>0.0</td>\n",
       "      <td>0.5714</td>\n",
       "      <td>0.5714</td>\n",
       "    </tr>\n",
       "    <tr>\n",
       "      <th>22</th>\n",
       "      <td>20231214</td>\n",
       "      <td>4223</td>\n",
       "      <td>53020.23</td>\n",
       "      <td>29471.48</td>\n",
       "      <td>12752.80</td>\n",
       "      <td>14964.95020</td>\n",
       "      <td>43176.55818</td>\n",
       "      <td>108057.91574</td>\n",
       "      <td>108057.91574</td>\n",
       "      <td>46641.10181</td>\n",
       "      <td>...</td>\n",
       "      <td>1.813690</td>\n",
       "      <td>5329</td>\n",
       "      <td>-0.113603</td>\n",
       "      <td>5.978802</td>\n",
       "      <td>-0.207544</td>\n",
       "      <td>0.432717</td>\n",
       "      <td>0.627093</td>\n",
       "      <td>0.0</td>\n",
       "      <td>0.8958</td>\n",
       "      <td>0.8958</td>\n",
       "    </tr>\n",
       "    <tr>\n",
       "      <th>17</th>\n",
       "      <td>20231209</td>\n",
       "      <td>3492</td>\n",
       "      <td>39196.44</td>\n",
       "      <td>29256.02</td>\n",
       "      <td>23753.68</td>\n",
       "      <td>13693.63257</td>\n",
       "      <td>46216.84472</td>\n",
       "      <td>338326.63855</td>\n",
       "      <td>338326.63855</td>\n",
       "      <td>55050.03935</td>\n",
       "      <td>...</td>\n",
       "      <td>5.575907</td>\n",
       "      <td>4469</td>\n",
       "      <td>-0.099177</td>\n",
       "      <td>7.378013</td>\n",
       "      <td>-0.218617</td>\n",
       "      <td>0.811925</td>\n",
       "      <td>0.828570</td>\n",
       "      <td>0.0</td>\n",
       "      <td>0.5978</td>\n",
       "      <td>0.5978</td>\n",
       "    </tr>\n",
       "    <tr>\n",
       "      <th>6</th>\n",
       "      <td>20231128</td>\n",
       "      <td>1496</td>\n",
       "      <td>12087.80</td>\n",
       "      <td>17641.92</td>\n",
       "      <td>8684.99</td>\n",
       "      <td>6898.65841</td>\n",
       "      <td>22934.63403</td>\n",
       "      <td>97373.45224</td>\n",
       "      <td>97373.45224</td>\n",
       "      <td>25289.40503</td>\n",
       "      <td>...</td>\n",
       "      <td>5.159078</td>\n",
       "      <td>1908</td>\n",
       "      <td>-0.054328</td>\n",
       "      <td>10.792727</td>\n",
       "      <td>-0.215933</td>\n",
       "      <td>0.492293</td>\n",
       "      <td>1.543328</td>\n",
       "      <td>0.0</td>\n",
       "      <td>0.4450</td>\n",
       "      <td>0.4450</td>\n",
       "    </tr>\n",
       "  </tbody>\n",
       "</table>\n",
       "<p>10 rows × 492 columns</p>\n",
       "</div>"
      ],
      "text/plain": [
       "        date  api_installs      cost  revenue_d7  withdraw_d7           p1  \\\n",
       "3   20231125          1298  11905.94     8963.85      3919.00   4522.55930   \n",
       "8   20231130          1759  14595.90    13981.43     11817.97   5656.99773   \n",
       "27  20231219          4477  53784.51    60072.01     35709.23  23245.32055   \n",
       "20  20231212          4093  43707.59    25125.52     11637.15  10294.14720   \n",
       "26  20231218          5192  63990.72    57820.17     30916.24  21717.25698   \n",
       "11  20231203          2020  18166.54    11883.85      7529.60   5011.61584   \n",
       "12  20231204          2009  17130.31    10637.27      8277.54   5691.47489   \n",
       "22  20231214          4223  53020.23    29471.48     12752.80  14964.95020   \n",
       "17  20231209          3492  39196.44    29256.02     23753.68  13693.63257   \n",
       "6   20231128          1496  12087.80    17641.92      8684.99   6898.65841   \n",
       "\n",
       "            p10          p100          p105           p11  ...  pred_35_133  \\\n",
       "3   10616.36592   54352.08575   54352.08575   11125.72592  ...     2.835279   \n",
       "8   20398.97851   82720.11033   82720.11033   21299.89914  ...     3.607897   \n",
       "27  99849.93292  231992.43366  231992.43366  109667.43355  ...     3.442633   \n",
       "20  38247.63186  163929.30853  163929.30853   41559.16470  ...     2.951800   \n",
       "26  76795.65041  285572.12783  285572.12783   83041.77462  ...     3.929244   \n",
       "11  17673.11789   62217.86225   62217.86225   19335.06889  ...     2.159670   \n",
       "12  19885.73963  101055.82771  101055.82771   21640.13242  ...     3.496607   \n",
       "22  43176.55818  108057.91574  108057.91574   46641.10181  ...     1.813690   \n",
       "17  46216.84472  338326.63855  338326.63855   55050.03935  ...     5.575907   \n",
       "6   22934.63403   97373.45224   97373.45224   25289.40503  ...     5.159078   \n",
       "\n",
       "    te_installs  payment_increase  rpi_increase  installs_difference  \\\n",
       "3          1639         -0.040412      5.905894            -0.208054   \n",
       "8          2222         -0.101181      6.948511            -0.208371   \n",
       "27         5541         -0.164743     12.417916            -0.192023   \n",
       "20         5221         -0.131335      5.138656            -0.216051   \n",
       "26         6313         -0.054747     10.136396            -0.177570   \n",
       "11         2566         -0.108259      4.883094            -0.212783   \n",
       "12         2605         -0.291781      4.294808            -0.228791   \n",
       "22         5329         -0.113603      5.978802            -0.207544   \n",
       "17         4469         -0.099177      7.378013            -0.218617   \n",
       "6          1908         -0.054328     10.792727            -0.215933   \n",
       "\n",
       "    withdrawn_ratio  return_p_d7  return_ad_d7  Recovery on the 28th (rate)_x  \\\n",
       "3          0.437201     0.784596           0.0                         0.5569   \n",
       "8          0.845262     1.065733           0.0                         0.7316   \n",
       "27         0.594440     1.337195           0.0                         0.6560   \n",
       "20         0.463161     0.661768           0.0                         0.5647   \n",
       "26         0.534696     0.955904           0.0                         0.6102   \n",
       "11         0.633599     0.733578           0.0                         0.8929   \n",
       "12         0.778164     0.876794           0.0                         0.5714   \n",
       "22         0.432717     0.627093           0.0                         0.8958   \n",
       "17         0.811925     0.828570           0.0                         0.5978   \n",
       "6          0.492293     1.543328           0.0                         0.4450   \n",
       "\n",
       "    Recovery on the 28th (rate)_y  \n",
       "3                          0.5569  \n",
       "8                          0.7316  \n",
       "27                         0.6560  \n",
       "20                         0.5647  \n",
       "26                         0.6102  \n",
       "11                         0.8929  \n",
       "12                         0.5714  \n",
       "22                         0.8958  \n",
       "17                         0.5978  \n",
       "6                          0.4450  \n",
       "\n",
       "[10 rows x 492 columns]"
      ]
     },
     "execution_count": 40,
     "metadata": {},
     "output_type": "execute_result"
    }
   ],
   "source": [
    "# MERGE BI TOOL TO MY DATA (AGG DF INCLUDES BI DATA)\n",
    "\n",
    "bi_tool_wanted_cols = ['date', 'Recovery on the 28th (rate)']\n",
    "\n",
    "# agg_df['channel'] = agg_df['media_source']\n",
    "# bi_tool_actuals['date'] = pd.to_datetime(bi_tool_actuals['date']).dt.date.apply(lambda x: int(x.strftime('%Y%m%d')))\n",
    "agg_df = pd.merge(agg_df, bi_tool_actuals[bi_tool_wanted_cols], on = 'date')\n",
    "agg_df.sample(10)\n"
   ]
  },
  {
   "cell_type": "markdown",
   "metadata": {},
   "source": [
    "### Day 7 to 14 and 28\n",
    "\n",
    "### Day 28 to day 100 growth (Pull the data from the BI tool)"
   ]
  },
  {
   "cell_type": "code",
   "execution_count": null,
   "metadata": {},
   "outputs": [],
   "source": [
    "bi_tool_actuals\n",
    "\n",
    "for col in []:\n",
    "    bi_tool_actuals[col] = bi_tool_actuals[col].apply(convert_percentage_string_to_float)"
   ]
  },
  {
   "cell_type": "code",
   "execution_count": null,
   "metadata": {},
   "outputs": [
    {
     "data": {
      "image/png": "[encoded data removed]",
      "text/plain": [
       "<Figure size 640x480 with 1 Axes>"
      ]
     },
     "metadata": {},
     "output_type": "display_data"
    }
   ],
   "source": [
    "\n",
    "bi_tool_actuals['Register new'].plot(kind='line', marker='o', linestyle='-', color='blue')\n",
    "\n",
    "# Adding labels and title\n",
    "plt.xlabel('Index')\n",
    "plt.ylabel('Register New Values')\n",
    "plt.title('Line Plot of Register New against Index')\n",
    "\n",
    "# Display the plot\n",
    "plt.show()"
   ]
  },
  {
   "cell_type": "code",
   "execution_count": null,
   "metadata": {},
   "outputs": [
    {
     "data": {
      "text/html": [
       "<div>\n",
       "<style scoped>\n",
       "    .dataframe tbody tr th:only-of-type {\n",
       "        vertical-align: middle;\n",
       "    }\n",
       "\n",
       "    .dataframe tbody tr th {\n",
       "        vertical-align: top;\n",
       "    }\n",
       "\n",
       "    .dataframe thead th {\n",
       "        text-align: right;\n",
       "    }\n",
       "</style>\n",
       "<table border=\"1\" class=\"dataframe\">\n",
       "  <thead>\n",
       "    <tr style=\"text-align: right;\">\n",
       "      <th></th>\n",
       "      <th>date</th>\n",
       "      <th>Register new</th>\n",
       "      <th>7-day recovery (rate)</th>\n",
       "      <th>14-day recycling (rate)</th>\n",
       "      <th>Recovery on the 28th (rate)</th>\n",
       "      <th>90-day recovery (rate)</th>\n",
       "      <th>120-day recovery (rate)</th>\n",
       "    </tr>\n",
       "  </thead>\n",
       "  <tbody>\n",
       "    <tr>\n",
       "      <th>0</th>\n",
       "      <td>20231011</td>\n",
       "      <td>1338</td>\n",
       "      <td>0.7321</td>\n",
       "      <td>0.9146</td>\n",
       "      <td>1.0811</td>\n",
       "      <td>1.3473</td>\n",
       "      <td>1.3944</td>\n",
       "    </tr>\n",
       "    <tr>\n",
       "      <th>1</th>\n",
       "      <td>20231012</td>\n",
       "      <td>1372</td>\n",
       "      <td>0.9006</td>\n",
       "      <td>1.1509</td>\n",
       "      <td>1.3569</td>\n",
       "      <td>1.6422</td>\n",
       "      <td>1.6523</td>\n",
       "    </tr>\n",
       "    <tr>\n",
       "      <th>2</th>\n",
       "      <td>20231013</td>\n",
       "      <td>1325</td>\n",
       "      <td>0.6486</td>\n",
       "      <td>0.8962</td>\n",
       "      <td>1.0003</td>\n",
       "      <td>1.2059</td>\n",
       "      <td>1.2365</td>\n",
       "    </tr>\n",
       "    <tr>\n",
       "      <th>3</th>\n",
       "      <td>20231014</td>\n",
       "      <td>1418</td>\n",
       "      <td>0.6050</td>\n",
       "      <td>0.6401</td>\n",
       "      <td>0.7765</td>\n",
       "      <td>0.9580</td>\n",
       "      <td>0.9690</td>\n",
       "    </tr>\n",
       "    <tr>\n",
       "      <th>4</th>\n",
       "      <td>20231015</td>\n",
       "      <td>1488</td>\n",
       "      <td>0.8876</td>\n",
       "      <td>1.2617</td>\n",
       "      <td>1.4177</td>\n",
       "      <td>1.7487</td>\n",
       "      <td>1.7602</td>\n",
       "    </tr>\n",
       "    <tr>\n",
       "      <th>...</th>\n",
       "      <td>...</td>\n",
       "      <td>...</td>\n",
       "      <td>...</td>\n",
       "      <td>...</td>\n",
       "      <td>...</td>\n",
       "      <td>...</td>\n",
       "      <td>...</td>\n",
       "    </tr>\n",
       "    <tr>\n",
       "      <th>95</th>\n",
       "      <td>20240114</td>\n",
       "      <td>3695</td>\n",
       "      <td>0.3827</td>\n",
       "      <td>0.4290</td>\n",
       "      <td>0.4290</td>\n",
       "      <td>0.4290</td>\n",
       "      <td>0.4290</td>\n",
       "    </tr>\n",
       "    <tr>\n",
       "      <th>96</th>\n",
       "      <td>20240115</td>\n",
       "      <td>3887</td>\n",
       "      <td>0.4212</td>\n",
       "      <td>0.5019</td>\n",
       "      <td>0.5019</td>\n",
       "      <td>0.5019</td>\n",
       "      <td>0.5019</td>\n",
       "    </tr>\n",
       "    <tr>\n",
       "      <th>97</th>\n",
       "      <td>20240116</td>\n",
       "      <td>3775</td>\n",
       "      <td>0.3834</td>\n",
       "      <td>0.4187</td>\n",
       "      <td>0.4187</td>\n",
       "      <td>0.4187</td>\n",
       "      <td>0.4187</td>\n",
       "    </tr>\n",
       "    <tr>\n",
       "      <th>98</th>\n",
       "      <td>20240117</td>\n",
       "      <td>3474</td>\n",
       "      <td>0.3498</td>\n",
       "      <td>0.3807</td>\n",
       "      <td>0.3807</td>\n",
       "      <td>0.3807</td>\n",
       "      <td>0.3807</td>\n",
       "    </tr>\n",
       "    <tr>\n",
       "      <th>99</th>\n",
       "      <td>20240118</td>\n",
       "      <td>3295</td>\n",
       "      <td>0.3386</td>\n",
       "      <td>0.3562</td>\n",
       "      <td>0.3563</td>\n",
       "      <td>0.3565</td>\n",
       "      <td>0.3565</td>\n",
       "    </tr>\n",
       "  </tbody>\n",
       "</table>\n",
       "<p>100 rows × 7 columns</p>\n",
       "</div>"
      ],
      "text/plain": [
       "        date  Register new  7-day recovery (rate)  14-day recycling (rate)  \\\n",
       "0   20231011          1338                 0.7321                   0.9146   \n",
       "1   20231012          1372                 0.9006                   1.1509   \n",
       "2   20231013          1325                 0.6486                   0.8962   \n",
       "3   20231014          1418                 0.6050                   0.6401   \n",
       "4   20231015          1488                 0.8876                   1.2617   \n",
       "..       ...           ...                    ...                      ...   \n",
       "95  20240114          3695                 0.3827                   0.4290   \n",
       "96  20240115          3887                 0.4212                   0.5019   \n",
       "97  20240116          3775                 0.3834                   0.4187   \n",
       "98  20240117          3474                 0.3498                   0.3807   \n",
       "99  20240118          3295                 0.3386                   0.3562   \n",
       "\n",
       "    Recovery on the 28th (rate)  90-day recovery (rate)  \\\n",
       "0                        1.0811                  1.3473   \n",
       "1                        1.3569                  1.6422   \n",
       "2                        1.0003                  1.2059   \n",
       "3                        0.7765                  0.9580   \n",
       "4                        1.4177                  1.7487   \n",
       "..                          ...                     ...   \n",
       "95                       0.4290                  0.4290   \n",
       "96                       0.5019                  0.5019   \n",
       "97                       0.4187                  0.4187   \n",
       "98                       0.3807                  0.3807   \n",
       "99                       0.3563                  0.3565   \n",
       "\n",
       "    120-day recovery (rate)  \n",
       "0                    1.3944  \n",
       "1                    1.6523  \n",
       "2                    1.2365  \n",
       "3                    0.9690  \n",
       "4                    1.7602  \n",
       "..                      ...  \n",
       "95                   0.4290  \n",
       "96                   0.5019  \n",
       "97                   0.4187  \n",
       "98                   0.3807  \n",
       "99                   0.3565  \n",
       "\n",
       "[100 rows x 7 columns]"
      ]
     },
     "execution_count": 134,
     "metadata": {},
     "output_type": "execute_result"
    }
   ],
   "source": [
    "used_num_bi = bi_tool_actuals[(bi_tool_actuals['date'] > 20231010)].groupby('date')[['Register new'] + columns].sum().reset_index()\n",
    "used_num_bi['date'] = used_num_bi['date'].astype(str)\n",
    "\n",
    "used_num_bi['date'] = pd.to_datetime((used_num_bi['date'].astype(str)), format='%Y%m%d').dt.strftime('%Y%m%d')\n",
    "# used_num_bi['date'].dtype\n",
    "used_num_bi\n"
   ]
  },
  {
   "cell_type": "code",
   "execution_count": null,
   "metadata": {},
   "outputs": [
    {
     "data": {
      "image/png": "[encoded data removed]",
      "text/plain": [
       "<Figure size 640x480 with 1 Axes>"
      ]
     },
     "metadata": {},
     "output_type": "display_data"
    }
   ],
   "source": [
    "\n",
    "used_num_bi['Register new'].plot(kind='line', marker='o', linestyle='-', color='blue')\n",
    "\n",
    "# Adding labels and title\n",
    "plt.xlabel('Index')\n",
    "plt.ylabel('Register New Values')\n",
    "plt.title('Line Plot of Register New against Index')\n",
    "\n",
    "# Display the plot\n",
    "plt.show()"
   ]
  },
  {
   "cell_type": "code",
   "execution_count": null,
   "metadata": {},
   "outputs": [
    {
     "name": "stdout",
     "output_type": "stream",
     "text": [
      "7-day recovery (rate)\n",
      "14-day recycling (rate)\n",
      "Recovery on the 28th (rate)\n",
      "90-day recovery (rate)\n",
      "120-day recovery (rate)\n"
     ]
    },
    {
     "data": {
      "text/html": [
       "<div>\n",
       "<style scoped>\n",
       "    .dataframe tbody tr th:only-of-type {\n",
       "        vertical-align: middle;\n",
       "    }\n",
       "\n",
       "    .dataframe tbody tr th {\n",
       "        vertical-align: top;\n",
       "    }\n",
       "\n",
       "    .dataframe thead th {\n",
       "        text-align: right;\n",
       "    }\n",
       "</style>\n",
       "<table border=\"1\" class=\"dataframe\">\n",
       "  <thead>\n",
       "    <tr style=\"text-align: right;\">\n",
       "      <th></th>\n",
       "      <th>index</th>\n",
       "      <th>0</th>\n",
       "    </tr>\n",
       "  </thead>\n",
       "  <tbody>\n",
       "    <tr>\n",
       "      <th>0</th>\n",
       "      <td>date</td>\n",
       "      <td>1348734080154008179702400722555897417740479093...</td>\n",
       "    </tr>\n",
       "    <tr>\n",
       "      <th>1</th>\n",
       "      <td>7-day recovery (rate)</td>\n",
       "      <td>1.0</td>\n",
       "    </tr>\n",
       "    <tr>\n",
       "      <th>2</th>\n",
       "      <td>14-day recycling (rate)</td>\n",
       "      <td>1.221852</td>\n",
       "    </tr>\n",
       "    <tr>\n",
       "      <th>3</th>\n",
       "      <td>Recovery on the 28th (rate)</td>\n",
       "      <td>1.47318</td>\n",
       "    </tr>\n",
       "    <tr>\n",
       "      <th>4</th>\n",
       "      <td>90-day recovery (rate)</td>\n",
       "      <td>1.847519</td>\n",
       "    </tr>\n",
       "    <tr>\n",
       "      <th>5</th>\n",
       "      <td>120-day recovery (rate)</td>\n",
       "      <td>1.874508</td>\n",
       "    </tr>\n",
       "  </tbody>\n",
       "</table>\n",
       "</div>"
      ],
      "text/plain": [
       "                         index  \\\n",
       "0                         date   \n",
       "1        7-day recovery (rate)   \n",
       "2      14-day recycling (rate)   \n",
       "3  Recovery on the 28th (rate)   \n",
       "4       90-day recovery (rate)   \n",
       "5      120-day recovery (rate)   \n",
       "\n",
       "                                                   0  \n",
       "0  1348734080154008179702400722555897417740479093...  \n",
       "1                                                1.0  \n",
       "2                                           1.221852  \n",
       "3                                            1.47318  \n",
       "4                                           1.847519  \n",
       "5                                           1.874508  "
      ]
     },
     "execution_count": 146,
     "metadata": {},
     "output_type": "execute_result"
    }
   ],
   "source": [
    "columns = ['7-day recovery (rate)', '14-day recycling (rate)', 'Recovery on the 28th (rate)','90-day recovery (rate)', '120-day recovery (rate)']\n",
    "used_num_bi = bi_tool_actuals[(bi_tool_actuals['date'] > 20231010) & (bi_tool_actuals['date'] <= 20231025)].groupby('date')[columns].sum().reset_index()\n",
    "used_num_bi['date'] = pd.to_datetime(used_num_bi['date'].astype(str), format='%Y%m%d').dt.strftime('%Y%m%d')\n",
    "\n",
    "\n",
    "denom = used_num_bi['7-day recovery (rate)'].values\n",
    "for col in columns:\n",
    "    print(col)\n",
    "    used_num_bi[col] = used_num_bi[col] / denom\n",
    "\n",
    "daily_growth = used_num_bi.mean().reset_index()\n",
    "daily_growth"
   ]
  },
  {
   "cell_type": "code",
   "execution_count": null,
   "metadata": {},
   "outputs": [
    {
     "name": "stdout",
     "output_type": "stream",
     "text": [
      "1.2218518277171337 1.473180489144073 0.006806150959772336\n"
     ]
    }
   ],
   "source": [
    "mult_14 = daily_growth[daily_growth['index'] == '14-day recycling (rate)'][0].values[0]\n",
    "mult_28 = daily_growth[daily_growth['index'] == 'Recovery on the 28th (rate)'][0].values[0]\n",
    "linear_growth_rate = (daily_growth[daily_growth['index'] == '90-day recovery (rate)'][0].values[0] - mult_28) / (90 - 35)\n",
    "\n",
    "print(mult_14, mult_28, linear_growth_rate)"
   ]
  },
  {
   "cell_type": "code",
   "execution_count": null,
   "metadata": {},
   "outputs": [],
   "source": []
  },
  {
   "cell_type": "markdown",
   "metadata": {},
   "source": [
    "### Check the Joint results"
   ]
  },
  {
   "cell_type": "code",
   "execution_count": null,
   "metadata": {},
   "outputs": [
    {
     "ename": "KeyError",
     "evalue": "\"The following 'value_vars' are not present in the DataFrame: ['Recovery on the 28th (rate)']\"",
     "output_type": "error",
     "traceback": [
      "\u001b[1;31m---------------------------------------------------------------------------\u001b[0m",
      "\u001b[1;31mKeyError\u001b[0m                                  Traceback (most recent call last)",
      "Cell \u001b[1;32mIn[160], line 7\u001b[0m\n\u001b[0;32m      4\u001b[0m filtered_df[\u001b[38;5;124m'\u001b[39m\u001b[38;5;124mactual_28\u001b[39m\u001b[38;5;124m'\u001b[39m] \u001b[38;5;241m=\u001b[39m filtered_df[\u001b[38;5;124m'\u001b[39m\u001b[38;5;124mactual_28\u001b[39m\u001b[38;5;124m'\u001b[39m]\u001b[38;5;241m/\u001b[39mfiltered_df[\u001b[38;5;124m'\u001b[39m\u001b[38;5;124mcost\u001b[39m\u001b[38;5;124m'\u001b[39m]\n\u001b[0;32m      6\u001b[0m \u001b[38;5;66;03m# Melt the DataFrame to long format for easier plotting\u001b[39;00m\n\u001b[1;32m----> 7\u001b[0m df_long \u001b[38;5;241m=\u001b[39m \u001b[43mpd\u001b[49m\u001b[38;5;241;43m.\u001b[39;49m\u001b[43mmelt\u001b[49m\u001b[43m(\u001b[49m\u001b[43mfiltered_df\u001b[49m\u001b[43m,\u001b[49m\u001b[43m \u001b[49m\u001b[43mid_vars\u001b[49m\u001b[38;5;241;43m=\u001b[39;49m\u001b[43m[\u001b[49m\u001b[38;5;124;43m'\u001b[39;49m\u001b[38;5;124;43mdate\u001b[39;49m\u001b[38;5;124;43m'\u001b[39;49m\u001b[43m]\u001b[49m\u001b[43m,\u001b[49m\u001b[43m \u001b[49m\u001b[43mvalue_vars\u001b[49m\u001b[38;5;241;43m=\u001b[39;49m\u001b[43m[\u001b[49m\u001b[38;5;124;43m'\u001b[39;49m\u001b[38;5;124;43mRecovery on the 28th (rate)\u001b[39;49m\u001b[38;5;124;43m'\u001b[39;49m\u001b[43m,\u001b[49m\u001b[43m \u001b[49m\u001b[38;5;124;43m'\u001b[39;49m\u001b[38;5;124;43mpred_7_28\u001b[39;49m\u001b[38;5;124;43m'\u001b[39;49m\u001b[43m,\u001b[49m\u001b[43m \u001b[49m\u001b[38;5;124;43m'\u001b[39;49m\u001b[38;5;124;43mactual_28\u001b[39;49m\u001b[38;5;124;43m'\u001b[39;49m\u001b[43m]\u001b[49m\u001b[43m)\u001b[49m\n\u001b[0;32m      8\u001b[0m \u001b[38;5;66;03m# df_long['date'] = pd.to_datetime(df_long['date']).dt.date.apply(lambda x: int(x.strftime('%Y%m%d')))\u001b[39;00m\n\u001b[0;32m      9\u001b[0m df_long[\u001b[38;5;124m'\u001b[39m\u001b[38;5;124mdate\u001b[39m\u001b[38;5;124m'\u001b[39m] \u001b[38;5;241m=\u001b[39m pd\u001b[38;5;241m.\u001b[39mto_datetime(df_long[\u001b[38;5;124m'\u001b[39m\u001b[38;5;124mdate\u001b[39m\u001b[38;5;124m'\u001b[39m], \u001b[38;5;28mformat\u001b[39m\u001b[38;5;241m=\u001b[39m\u001b[38;5;124m'\u001b[39m\u001b[38;5;124m%\u001b[39m\u001b[38;5;124mY\u001b[39m\u001b[38;5;124m%\u001b[39m\u001b[38;5;124mm\u001b[39m\u001b[38;5;132;01m%d\u001b[39;00m\u001b[38;5;124m'\u001b[39m)\n",
      "File \u001b[1;32mc:\\Users\\Win11\\AppData\\Local\\Programs\\Python\\Python311\\Lib\\site-packages\\pandas\\core\\reshape\\melt.py:92\u001b[0m, in \u001b[0;36mmelt\u001b[1;34m(frame, id_vars, value_vars, var_name, value_name, col_level, ignore_index)\u001b[0m\n\u001b[0;32m     90\u001b[0m     missing \u001b[38;5;241m=\u001b[39m Index(com\u001b[38;5;241m.\u001b[39mflatten(value_vars))\u001b[38;5;241m.\u001b[39mdifference(cols)\n\u001b[0;32m     91\u001b[0m     \u001b[38;5;28;01mif\u001b[39;00m \u001b[38;5;129;01mnot\u001b[39;00m missing\u001b[38;5;241m.\u001b[39mempty:\n\u001b[1;32m---> 92\u001b[0m         \u001b[38;5;28;01mraise\u001b[39;00m \u001b[38;5;167;01mKeyError\u001b[39;00m(\n\u001b[0;32m     93\u001b[0m             \u001b[38;5;124m\"\u001b[39m\u001b[38;5;124mThe following \u001b[39m\u001b[38;5;124m'\u001b[39m\u001b[38;5;124mvalue_vars\u001b[39m\u001b[38;5;124m'\u001b[39m\u001b[38;5;124m are not present in \u001b[39m\u001b[38;5;124m\"\u001b[39m\n\u001b[0;32m     94\u001b[0m             \u001b[38;5;124mf\u001b[39m\u001b[38;5;124m\"\u001b[39m\u001b[38;5;124mthe DataFrame: \u001b[39m\u001b[38;5;132;01m{\u001b[39;00m\u001b[38;5;28mlist\u001b[39m(missing)\u001b[38;5;132;01m}\u001b[39;00m\u001b[38;5;124m\"\u001b[39m\n\u001b[0;32m     95\u001b[0m         )\n\u001b[0;32m     96\u001b[0m \u001b[38;5;28;01mif\u001b[39;00m col_level \u001b[38;5;129;01mis\u001b[39;00m \u001b[38;5;129;01mnot\u001b[39;00m \u001b[38;5;28;01mNone\u001b[39;00m:\n\u001b[0;32m     97\u001b[0m     idx \u001b[38;5;241m=\u001b[39m frame\u001b[38;5;241m.\u001b[39mcolumns\u001b[38;5;241m.\u001b[39mget_level_values(col_level)\u001b[38;5;241m.\u001b[39mget_indexer(\n\u001b[0;32m     98\u001b[0m         id_vars \u001b[38;5;241m+\u001b[39m value_vars\n\u001b[0;32m     99\u001b[0m     )\n",
      "\u001b[1;31mKeyError\u001b[0m: \"The following 'value_vars' are not present in the DataFrame: ['Recovery on the 28th (rate)']\""
     ]
    }
   ],
   "source": [
    "filtered_df = agg_df.copy()#[agg_df['channel'] == sourcesito]\n",
    "# filtered_df['date'] = pd.to_datetime(filtered_df['date'], format='%Y-%m-%d')\n",
    "filtered_df = filtered_df.sort_values(by='date')\n",
    "filtered_df['actual_28'] = filtered_df['actual_28']/filtered_df['cost']\n",
    "\n",
    "# Melt the DataFrame to long format for easier plotting\n",
    "df_long = pd.melt(filtered_df, id_vars=['date'], value_vars=['Recovery on the 28th (rate)', 'pred_7_28', 'actual_28'])\n",
    "# df_long['date'] = pd.to_datetime(df_long['date']).dt.date.apply(lambda x: int(x.strftime('%Y%m%d')))\n",
    "df_long['date'] = pd.to_datetime(df_long['date'], format='%Y%m%d')\n",
    "\n",
    "# Create the lineplot\n",
    "plt.figure(figsize=(22, 6))\n",
    "sns.lineplot(x='date', y='value', hue='variable', markers=True, data=df_long)\n",
    "\n",
    "# Set labels and title\n",
    "plt.xlabel('Date')\n",
    "plt.ylabel('ROAS day 28')\n",
    "plt.title(f'ROAS Over Time Unity: ')\n",
    "\n",
    "# Display the legend\n",
    "plt.legend(title='Media Source')\n",
    "\n",
    "# Rotate X-axis labels\n",
    "plt.xticks(rotation=45, ha='right')\n",
    "\n",
    "# Show the plot\n",
    "plt.show()"
   ]
  },
  {
   "cell_type": "markdown",
   "metadata": {},
   "source": [
    "## Find the best configuration to train correction rule"
   ]
  },
  {
   "cell_type": "code",
   "execution_count": null,
   "metadata": {},
   "outputs": [],
   "source": [
    "bias = 0.15 \n",
    "\n"
   ]
  },
  {
   "cell_type": "code",
   "execution_count": null,
   "metadata": {},
   "outputs": [],
   "source": [
    "w_col_names = [col for col in agg_df.columns if re.match(r'^w\\d*$', col) is not None]\n",
    "p_col_names = [col for col in agg_df.columns if re.match(r'^p\\d*$', col) is not None]\n",
    "agg_df_train = agg_df[agg_df['api_installs'] > 50][['date'] + ['te_installs'] + ['cost'] + ['revenue_d7'] + ['withdraw_d7'] + ['payment_increase'] \n",
    "                        + ['rpi_increase'] + ['installs_difference'] + ['withdrawn_ratio'] + ['Recovery on the 28th (rate)']\n",
    "                        + [col for col in agg_df.columns if col.startswith(\"pred_\") ] + w_col_names + p_col_names]\n",
    "\n",
    "agg_df_train['d7_28_increase_api'] = agg_df_train['Recovery on the 28th (rate)'] - agg_df_train['revenue_d7']/agg_df_train['cost']\n",
    "agg_df_train['d7_28_increase_pred'] = agg_df_train['pred_7_28'] - (agg_df_train['p7']/agg_df_train['cost'] - agg_df_train['withdraw_d7']/agg_df_train['cost'])\n",
    "agg_df_train['d7_28_increase_pred'] = agg_df_train['pred_7_28'] - (agg_df_train['p7']/agg_df_train['cost'] - agg_df_train['withdraw_d7']/agg_df_train['cost'])\n"
   ]
  },
  {
   "cell_type": "code",
   "execution_count": null,
   "metadata": {},
   "outputs": [],
   "source": [
    "# GET THE COLUMN GROUPS\n",
    "validation_sets = 3\n",
    "agg_df_train['validation_set_id'] = pd.qcut(agg_df_train['date'].astype(float).values, validation_sets)"
   ]
  },
  {
   "cell_type": "code",
   "execution_count": null,
   "metadata": {},
   "outputs": [
    {
     "data": {
      "text/plain": [
       "validation_set_id\n",
       "(20231107.999, 20231124.667]    17\n",
       "(20231124.667, 20231211.333]    17\n",
       "(20231211.333, 20231228.0]      17\n",
       "dtype: int64"
      ]
     },
     "execution_count": 23,
     "metadata": {},
     "output_type": "execute_result"
    }
   ],
   "source": [
    "agg_df_train.groupby('validation_set_id').size()"
   ]
  },
  {
   "cell_type": "code",
   "execution_count": null,
   "metadata": {},
   "outputs": [
    {
     "name": "stdout",
     "output_type": "stream",
     "text": [
      "Empty DataFrame\n",
      "Columns: [date, te_installs, cost, revenue_d7, withdraw_d7, payment_increase, rpi_increase, installs_difference, withdrawn_ratio, Recovery on the 28th (rate), pred_7_14, pred_8_14, pred_9_14, pred_10_14, pred_11_14, pred_12_14, pred_13_14, pred_7_28, pred_8_28, pred_9_28, pred_10_28, pred_11_28, pred_12_28, pred_13_28, pred_14_28, pred_15_28, pred_16_28, pred_17_28, pred_18_28, pred_19_28, pred_20_28, pred_21_28, pred_22_28, pred_23_28, pred_24_28, pred_25_28, pred_26_28, pred_27_28, pred_7_56, pred_8_56, pred_9_56, pred_10_56, pred_11_56, pred_12_56, pred_13_56, pred_14_56, pred_15_56, pred_16_56, pred_17_56, pred_18_56, pred_19_56, pred_20_56, pred_21_56, pred_22_56, pred_23_56, pred_24_56, pred_25_56, pred_26_56, pred_27_56, pred_28_56, pred_35_56, pred_7_63, pred_8_63, pred_9_63, pred_10_63, pred_11_63, pred_12_63, pred_13_63, pred_14_63, pred_15_63, pred_16_63, pred_17_63, pred_18_63, pred_19_63, pred_20_63, pred_21_63, pred_22_63, pred_23_63, pred_24_63, pred_25_63, pred_26_63, pred_27_63, pred_28_63, pred_35_63, pred_7_70, pred_8_70, pred_9_70, pred_10_70, pred_11_70, pred_12_70, pred_13_70, pred_14_70, pred_15_70, pred_16_70, pred_17_70, pred_18_70, pred_19_70, pred_20_70, pred_21_70, pred_22_70, ...]\n",
      "Index: []\n",
      "\n",
      "[0 rows x 424 columns]\n"
     ]
    },
    {
     "data": {
      "text/html": [
       "<div>\n",
       "<style scoped>\n",
       "    .dataframe tbody tr th:only-of-type {\n",
       "        vertical-align: middle;\n",
       "    }\n",
       "\n",
       "    .dataframe tbody tr th {\n",
       "        vertical-align: top;\n",
       "    }\n",
       "\n",
       "    .dataframe thead th {\n",
       "        text-align: right;\n",
       "    }\n",
       "</style>\n",
       "<table border=\"1\" class=\"dataframe\">\n",
       "  <thead>\n",
       "    <tr style=\"text-align: right;\">\n",
       "      <th></th>\n",
       "      <th>date</th>\n",
       "      <th>te_installs</th>\n",
       "      <th>cost</th>\n",
       "      <th>revenue_d7</th>\n",
       "      <th>withdraw_d7</th>\n",
       "      <th>payment_increase</th>\n",
       "      <th>rpi_increase</th>\n",
       "      <th>installs_difference</th>\n",
       "      <th>withdrawn_ratio</th>\n",
       "      <th>Recovery on the 28th (rate)</th>\n",
       "      <th>...</th>\n",
       "      <th>p70</th>\n",
       "      <th>p77</th>\n",
       "      <th>p8</th>\n",
       "      <th>p84</th>\n",
       "      <th>p9</th>\n",
       "      <th>p91</th>\n",
       "      <th>p98</th>\n",
       "      <th>d7_28_increase_api</th>\n",
       "      <th>d7_28_increase_pred</th>\n",
       "      <th>validation_set_id</th>\n",
       "    </tr>\n",
       "  </thead>\n",
       "  <tbody>\n",
       "  </tbody>\n",
       "</table>\n",
       "<p>0 rows × 424 columns</p>\n",
       "</div>"
      ],
      "text/plain": [
       "Empty DataFrame\n",
       "Columns: [date, te_installs, cost, revenue_d7, withdraw_d7, payment_increase, rpi_increase, installs_difference, withdrawn_ratio, Recovery on the 28th (rate), pred_7_14, pred_8_14, pred_9_14, pred_10_14, pred_11_14, pred_12_14, pred_13_14, pred_7_28, pred_8_28, pred_9_28, pred_10_28, pred_11_28, pred_12_28, pred_13_28, pred_14_28, pred_15_28, pred_16_28, pred_17_28, pred_18_28, pred_19_28, pred_20_28, pred_21_28, pred_22_28, pred_23_28, pred_24_28, pred_25_28, pred_26_28, pred_27_28, pred_7_56, pred_8_56, pred_9_56, pred_10_56, pred_11_56, pred_12_56, pred_13_56, pred_14_56, pred_15_56, pred_16_56, pred_17_56, pred_18_56, pred_19_56, pred_20_56, pred_21_56, pred_22_56, pred_23_56, pred_24_56, pred_25_56, pred_26_56, pred_27_56, pred_28_56, pred_35_56, pred_7_63, pred_8_63, pred_9_63, pred_10_63, pred_11_63, pred_12_63, pred_13_63, pred_14_63, pred_15_63, pred_16_63, pred_17_63, pred_18_63, pred_19_63, pred_20_63, pred_21_63, pred_22_63, pred_23_63, pred_24_63, pred_25_63, pred_26_63, pred_27_63, pred_28_63, pred_35_63, pred_7_70, pred_8_70, pred_9_70, pred_10_70, pred_11_70, pred_12_70, pred_13_70, pred_14_70, pred_15_70, pred_16_70, pred_17_70, pred_18_70, pred_19_70, pred_20_70, pred_21_70, pred_22_70, ...]\n",
       "Index: []\n",
       "\n",
       "[0 rows x 424 columns]"
      ]
     },
     "execution_count": 24,
     "metadata": {},
     "output_type": "execute_result"
    }
   ],
   "source": [
    "# Check for nulls, infinities and select the model_cols\n",
    "model_cols = agg_df_train[agg_df_train.columns[5:]].columns\n",
    "model_cols\n",
    "null_rows = agg_df_train[agg_df_train['payment_increase'].isnull()]\n",
    "print(null_rows)\n",
    "infinity_rows = agg_df_train[np.isinf(agg_df_train['payment_increase'])]\n",
    "infinity_rows"
   ]
  },
  {
   "cell_type": "markdown",
   "metadata": {},
   "source": [
    "### Modelling"
   ]
  },
  {
   "cell_type": "code",
   "execution_count": null,
   "metadata": {},
   "outputs": [],
   "source": [
    "# Define predictive model and the polynomial transformation (This should be kept for the dictionary with the exception of the dynamic column. In this case: d7_28_increase_pred)\n",
    "\n",
    "## Addition\n",
    "agg_df_train['return_withdraw_d7'] = agg_df_train['withdraw_d7'] / agg_df_train['cost'] \n",
    "agg_df_train['return_p_d7'] = agg_df_train['p7'] / agg_df_train['cost'] \n",
    "\n",
    "## Definintion in list \n",
    "model_cols = ['return_withdraw_d7', 'return_p_d7', 'payment_increase', 'rpi_increase', 'installs_difference', 'withdrawn_ratio', 'd7_28_increase_api', 'd7_28_increase_pred', 'te_installs']\n",
    "\n",
    "## Algorithm \n",
    "def create_huber(alpha, epsi, cols, weights_train): \n",
    "    \n",
    "    columns = cols\n",
    "    preprocessor = ColumnTransformer(\n",
    "        transformers=[\n",
    "            ('scaler', StandardScaler(), columns)\n",
    "        ],\n",
    "        remainder='passthrough'\n",
    "    )\n",
    "\n",
    "\n",
    "    # Create the pipeline\n",
    "    pipe = Pipeline([\n",
    "        ('preprocessor', preprocessor),\n",
    "        ('regressor', HuberRegressor(fit_intercept = True, epsilon = epsi, alpha = alpha, warm_start = False, max_iter = 1000))\n",
    "    ])\n",
    "\n",
    "    pipe.named_steps['regressor'].sample_weight = weights_train\n",
    "\n",
    "    return pipe\n",
    "\n",
    "## Feat engineering\n",
    "def all_feature_enginerring(data, pred_col):\n",
    "\n",
    "    \"\"\"\n",
    "    This is better to create before and the just utilise it in whatever model\n",
    "        - Notice what you're doing with withdrawal day 100 (I am not so interested in withdrawal but it is fine)\n",
    "    \"\"\"\n",
    "    \n",
    "    # Inclusion of interpolation \n",
    "    column_list = ['withdrawn_ratio', pred_col, 'installs_difference']\n",
    "    column_combinations = list(itertools.combinations(column_list, 2))\n",
    "\n",
    "    for pair in column_combinations:\n",
    "        column1, column2 = pair\n",
    "        new_column_name = f\"{column1}_times_{column2}\"\n",
    "        data[new_column_name] = data[column1] * data[column2]  # Example: Multiply values of two columns\n",
    "\n",
    "    return data\n"
   ]
  },
  {
   "cell_type": "code",
   "execution_count": null,
   "metadata": {},
   "outputs": [
    {
     "name": "stderr",
     "output_type": "stream",
     "text": [
      "  0%|          | 0/3 [00:00<?, ?it/s]"
     ]
    },
    {
     "name": "stdout",
     "output_type": "stream",
     "text": [
      "(20231107.999, 20231124.667]\n"
     ]
    },
    {
     "name": "stderr",
     "output_type": "stream",
     "text": [
      " 33%|███▎      | 1/3 [00:02<00:05,  2.73s/it]"
     ]
    },
    {
     "name": "stdout",
     "output_type": "stream",
     "text": [
      "(20231124.667, 20231211.333]\n"
     ]
    },
    {
     "name": "stderr",
     "output_type": "stream",
     "text": [
      " 67%|██████▋   | 2/3 [00:07<00:03,  3.73s/it]"
     ]
    },
    {
     "name": "stdout",
     "output_type": "stream",
     "text": [
      "(20231211.333, 20231228.0]\n"
     ]
    },
    {
     "name": "stderr",
     "output_type": "stream",
     "text": [
      "100%|██████████| 3/3 [00:09<00:00,  3.17s/it]\n"
     ]
    },
    {
     "data": {
      "text/plain": [
       "864"
      ]
     },
     "execution_count": 26,
     "metadata": {},
     "output_type": "execute_result"
    }
   ],
   "source": [
    "model_results = []\n",
    "all_model_results = []\n",
    "alphas = [0, 0.005, 0.01, 0.02, 0.05, 0.1, 0.15, 0.2] \n",
    "epsils = [1, 1.05, 1.1, 1.3, 1.5, 1.7, 2, 2.5, 3] \n",
    "\n",
    "# for train_index, test_index in splits:\n",
    "for date_group in tqdm(agg_df_train['validation_set_id'].unique()):\n",
    "    \n",
    "    print(date_group)\n",
    "\n",
    "    train_data =  agg_df_train[agg_df_train['validation_set_id'] != date_group][model_cols]\n",
    "    test_data =  agg_df_train[agg_df_train['validation_set_id'] == date_group][model_cols]\n",
    "\n",
    "    # Separate features (X) and target variable (y)\n",
    "    X_train, y_train = train_data.drop(columns = [f'd7_28_increase_api']), train_data[f'd7_28_increase_api'] \n",
    "    X_test, y_test = test_data.drop(columns = [f'd7_28_increase_api']), test_data[f'd7_28_increase_api']\n",
    "\n",
    "    old_cols = X_train[[col for col in X_train.columns if col != 'te_installs']].copy().columns\n",
    "    X_train = all_feature_enginerring(X_train, 'd7_28_increase_pred')\n",
    "    X_test = all_feature_enginerring(X_test, 'd7_28_increase_pred')\n",
    "\n",
    "    weights_train = np.log1p(X_train['te_installs'])\n",
    "\n",
    "    for alpha in alphas: \n",
    "        for epsi in epsils: \n",
    "            for cols in [old_cols, X_train.columns]:\n",
    "                \n",
    "                # Full trainning and testing \n",
    "                model = create_huber(alpha, epsi, old_cols, weights_train)\n",
    "                model.fit(X_train[[col for col in cols if col != 'te_installs']], y_train)\n",
    "                predictions = model.predict(X_test[[col for col in X_train.columns if col != 'te_installs']])\n",
    "                mae = mean_absolute_error(y_test, predictions)\n",
    "                r2 = r2_score(y_test, predictions)\n",
    "\n",
    "                # Save the model into dictionary (Response, day, mo...)\n",
    "                model_result = pd.DataFrame({\n",
    "                    'Iteration': [str(alpha) + ' - ' + str(epsi) + ' - ' + str(len([col for col in cols if col != 'te_installs']))]\n",
    "                    , 'Test at': [date_group]\n",
    "                    , 'Model': [model]\n",
    "                    , 'mae': [mae]\n",
    "                    , 'r2': [r2]\n",
    "                    , 'rel_mae': [(((y_test - y_test.mean()).abs()).mean() - mae) / (((y_test - y_test.mean()).abs()).mean())]\n",
    "                })\n",
    "\n",
    "                model_results.append(model_result)\n",
    "    all_model_results.extend(model_results)\n",
    "\n",
    "all_model_results = pd.concat(all_model_results, ignore_index = True)\n",
    "all_model_results.shape[0]\n"
   ]
  },
  {
   "cell_type": "code",
   "execution_count": null,
   "metadata": {},
   "outputs": [
    {
     "data": {
      "text/html": [
       "<div>\n",
       "<style scoped>\n",
       "    .dataframe tbody tr th:only-of-type {\n",
       "        vertical-align: middle;\n",
       "    }\n",
       "\n",
       "    .dataframe tbody tr th {\n",
       "        vertical-align: top;\n",
       "    }\n",
       "\n",
       "    .dataframe thead th {\n",
       "        text-align: right;\n",
       "    }\n",
       "</style>\n",
       "<table border=\"1\" class=\"dataframe\">\n",
       "  <thead>\n",
       "    <tr style=\"text-align: right;\">\n",
       "      <th></th>\n",
       "      <th>Iteration</th>\n",
       "      <th>Test at</th>\n",
       "      <th>Model</th>\n",
       "      <th>mae</th>\n",
       "      <th>r2</th>\n",
       "      <th>rel_mae</th>\n",
       "    </tr>\n",
       "  </thead>\n",
       "  <tbody>\n",
       "    <tr>\n",
       "      <th>424</th>\n",
       "      <td>0.2 - 1.7 - 7</td>\n",
       "      <td>(20231124.667, 20231211.333]</td>\n",
       "      <td>(ColumnTransformer(remainder='passthrough',\\n ...</td>\n",
       "      <td>0.148505</td>\n",
       "      <td>0.525185</td>\n",
       "      <td>0.376754</td>\n",
       "    </tr>\n",
       "    <tr>\n",
       "      <th>712</th>\n",
       "      <td>0.2 - 1.7 - 7</td>\n",
       "      <td>(20231124.667, 20231211.333]</td>\n",
       "      <td>(ColumnTransformer(remainder='passthrough',\\n ...</td>\n",
       "      <td>0.148505</td>\n",
       "      <td>0.525185</td>\n",
       "      <td>0.376754</td>\n",
       "    </tr>\n",
       "    <tr>\n",
       "      <th>694</th>\n",
       "      <td>0.15 - 1.7 - 7</td>\n",
       "      <td>(20231124.667, 20231211.333]</td>\n",
       "      <td>(ColumnTransformer(remainder='passthrough',\\n ...</td>\n",
       "      <td>0.148772</td>\n",
       "      <td>0.525233</td>\n",
       "      <td>0.375630</td>\n",
       "    </tr>\n",
       "    <tr>\n",
       "      <th>406</th>\n",
       "      <td>0.15 - 1.7 - 7</td>\n",
       "      <td>(20231124.667, 20231211.333]</td>\n",
       "      <td>(ColumnTransformer(remainder='passthrough',\\n ...</td>\n",
       "      <td>0.148772</td>\n",
       "      <td>0.525233</td>\n",
       "      <td>0.375630</td>\n",
       "    </tr>\n",
       "    <tr>\n",
       "      <th>388</th>\n",
       "      <td>0.1 - 1.7 - 7</td>\n",
       "      <td>(20231124.667, 20231211.333]</td>\n",
       "      <td>(ColumnTransformer(remainder='passthrough',\\n ...</td>\n",
       "      <td>0.149044</td>\n",
       "      <td>0.525272</td>\n",
       "      <td>0.374490</td>\n",
       "    </tr>\n",
       "  </tbody>\n",
       "</table>\n",
       "</div>"
      ],
      "text/plain": [
       "          Iteration                       Test at  \\\n",
       "424   0.2 - 1.7 - 7  (20231124.667, 20231211.333]   \n",
       "712   0.2 - 1.7 - 7  (20231124.667, 20231211.333]   \n",
       "694  0.15 - 1.7 - 7  (20231124.667, 20231211.333]   \n",
       "406  0.15 - 1.7 - 7  (20231124.667, 20231211.333]   \n",
       "388   0.1 - 1.7 - 7  (20231124.667, 20231211.333]   \n",
       "\n",
       "                                                 Model       mae        r2  \\\n",
       "424  (ColumnTransformer(remainder='passthrough',\\n ...  0.148505  0.525185   \n",
       "712  (ColumnTransformer(remainder='passthrough',\\n ...  0.148505  0.525185   \n",
       "694  (ColumnTransformer(remainder='passthrough',\\n ...  0.148772  0.525233   \n",
       "406  (ColumnTransformer(remainder='passthrough',\\n ...  0.148772  0.525233   \n",
       "388  (ColumnTransformer(remainder='passthrough',\\n ...  0.149044  0.525272   \n",
       "\n",
       "      rel_mae  \n",
       "424  0.376754  \n",
       "712  0.376754  \n",
       "694  0.375630  \n",
       "406  0.375630  \n",
       "388  0.374490  "
      ]
     },
     "execution_count": 27,
     "metadata": {},
     "output_type": "execute_result"
    }
   ],
   "source": [
    "all_model_results.sort_values(by = 'mae').head(5)"
   ]
  },
  {
   "cell_type": "code",
   "execution_count": null,
   "metadata": {},
   "outputs": [
    {
     "data": {
      "text/html": [
       "<div>\n",
       "<style scoped>\n",
       "    .dataframe tbody tr th:only-of-type {\n",
       "        vertical-align: middle;\n",
       "    }\n",
       "\n",
       "    .dataframe tbody tr th {\n",
       "        vertical-align: top;\n",
       "    }\n",
       "\n",
       "    .dataframe thead th {\n",
       "        text-align: right;\n",
       "    }\n",
       "</style>\n",
       "<table border=\"1\" class=\"dataframe\">\n",
       "  <thead>\n",
       "    <tr style=\"text-align: right;\">\n",
       "      <th></th>\n",
       "      <th>mae</th>\n",
       "      <th>r2</th>\n",
       "      <th>rel_mae</th>\n",
       "    </tr>\n",
       "    <tr>\n",
       "      <th>Iteration</th>\n",
       "      <th></th>\n",
       "      <th></th>\n",
       "      <th></th>\n",
       "    </tr>\n",
       "  </thead>\n",
       "  <tbody>\n",
       "    <tr>\n",
       "      <th>0.2 - 3 - 7</th>\n",
       "      <td>0.313248</td>\n",
       "      <td>-0.099427</td>\n",
       "      <td>-0.030224</td>\n",
       "    </tr>\n",
       "    <tr>\n",
       "      <th>0.15 - 3 - 7</th>\n",
       "      <td>0.313457</td>\n",
       "      <td>-0.097744</td>\n",
       "      <td>-0.030841</td>\n",
       "    </tr>\n",
       "    <tr>\n",
       "      <th>0.1 - 3 - 7</th>\n",
       "      <td>0.313672</td>\n",
       "      <td>-0.096013</td>\n",
       "      <td>-0.031481</td>\n",
       "    </tr>\n",
       "    <tr>\n",
       "      <th>0.05 - 3 - 7</th>\n",
       "      <td>0.313881</td>\n",
       "      <td>-0.094160</td>\n",
       "      <td>-0.032101</td>\n",
       "    </tr>\n",
       "    <tr>\n",
       "      <th>0.02 - 3 - 7</th>\n",
       "      <td>0.314008</td>\n",
       "      <td>-0.093015</td>\n",
       "      <td>-0.032478</td>\n",
       "    </tr>\n",
       "    <tr>\n",
       "      <th>0.01 - 3 - 7</th>\n",
       "      <td>0.314049</td>\n",
       "      <td>-0.092615</td>\n",
       "      <td>-0.032600</td>\n",
       "    </tr>\n",
       "    <tr>\n",
       "      <th>0.005 - 3 - 7</th>\n",
       "      <td>0.314070</td>\n",
       "      <td>-0.092417</td>\n",
       "      <td>-0.032662</td>\n",
       "    </tr>\n",
       "    <tr>\n",
       "      <th>0 - 3 - 7</th>\n",
       "      <td>0.314090</td>\n",
       "      <td>-0.092217</td>\n",
       "      <td>-0.032724</td>\n",
       "    </tr>\n",
       "    <tr>\n",
       "      <th>0.2 - 3 - 10</th>\n",
       "      <td>0.328564</td>\n",
       "      <td>-0.245279</td>\n",
       "      <td>-0.095513</td>\n",
       "    </tr>\n",
       "    <tr>\n",
       "      <th>0.2 - 2.5 - 7</th>\n",
       "      <td>0.330039</td>\n",
       "      <td>-0.190855</td>\n",
       "      <td>-0.072561</td>\n",
       "    </tr>\n",
       "  </tbody>\n",
       "</table>\n",
       "</div>"
      ],
      "text/plain": [
       "                    mae        r2   rel_mae\n",
       "Iteration                                  \n",
       "0.2 - 3 - 7    0.313248 -0.099427 -0.030224\n",
       "0.15 - 3 - 7   0.313457 -0.097744 -0.030841\n",
       "0.1 - 3 - 7    0.313672 -0.096013 -0.031481\n",
       "0.05 - 3 - 7   0.313881 -0.094160 -0.032101\n",
       "0.02 - 3 - 7   0.314008 -0.093015 -0.032478\n",
       "0.01 - 3 - 7   0.314049 -0.092615 -0.032600\n",
       "0.005 - 3 - 7  0.314070 -0.092417 -0.032662\n",
       "0 - 3 - 7      0.314090 -0.092217 -0.032724\n",
       "0.2 - 3 - 10   0.328564 -0.245279 -0.095513\n",
       "0.2 - 2.5 - 7  0.330039 -0.190855 -0.072561"
      ]
     },
     "execution_count": 28,
     "metadata": {},
     "output_type": "execute_result"
    }
   ],
   "source": [
    "all_model_results.groupby('Iteration')[['mae', 'r2', 'rel_mae']].mean().sort_values(by = 'mae', ascending = True).head(10)"
   ]
  },
  {
   "cell_type": "code",
   "execution_count": null,
   "metadata": {},
   "outputs": [],
   "source": [
    "model_value = all_model_results.loc[all_model_results['Iteration'] == '0.2 - 1 - 10', 'Model'].iloc[0]\n",
    "reset_df_plus = all_feature_enginerring(agg_df_train, 'd7_28_increase_pred')\n",
    "cols_to_append = [\n",
    "    'roas_d7_times_installs_difference',\n",
    "    'withdrawn_ratio_times_installs_difference',\n",
    "    'withdrawn_ratio_times_pred_7_28',\n",
    "    'roas_d7_times_pred_7_28',\n",
    "    'roas_d7_times_withdrawn_ratio',\n",
    "    'pred_7_28_times_installs_difference'\n",
    "]\n",
    "cols_to_append = [\n",
    "    'withdrawn_ratio_times_d7_28_increase_pred',\n",
    "    'withdrawn_ratio_times_installs_difference',\n",
    "    'd7_28_increase_pred_times_installs_difference']\n",
    "\n",
    "subnormal = [col for col in old_cols if col != 'Installs']\n",
    "subnormal.extend(cols_to_append)\n",
    "\n",
    "predictions = model_value.predict(reset_df_plus[subnormal])"
   ]
  },
  {
   "cell_type": "code",
   "execution_count": 1,
   "metadata": {},
   "outputs": [
    {
     "ename": "NameError",
     "evalue": "name 'pd' is not defined",
     "output_type": "error",
     "traceback": [
      "\u001b[1;31m---------------------------------------------------------------------------\u001b[0m",
      "\u001b[1;31mNameError\u001b[0m                                 Traceback (most recent call last)",
      "Cell \u001b[1;32mIn[1], line 4\u001b[0m\n\u001b[0;32m      1\u001b[0m \u001b[38;5;28;01mimport\u001b[39;00m \u001b[38;5;21;01mplotly\u001b[39;00m\u001b[38;5;21;01m.\u001b[39;00m\u001b[38;5;21;01mexpress\u001b[39;00m \u001b[38;5;28;01mas\u001b[39;00m \u001b[38;5;21;01mpx\u001b[39;00m\n\u001b[0;32m      3\u001b[0m \u001b[38;5;66;03m# Assuming reset_df is your DataFrame\u001b[39;00m\n\u001b[1;32m----> 4\u001b[0m pdf \u001b[38;5;241m=\u001b[39m \u001b[43mpd\u001b[49m\u001b[38;5;241m.\u001b[39mDataFrame({\u001b[38;5;124m'\u001b[39m\u001b[38;5;124my_test\u001b[39m\u001b[38;5;124m'\u001b[39m: agg_df_train[\u001b[38;5;124m'\u001b[39m\u001b[38;5;124md7_28_increase_api\u001b[39m\u001b[38;5;124m'\u001b[39m]\u001b[38;5;241m.\u001b[39mvalues, \u001b[38;5;124m'\u001b[39m\u001b[38;5;124mROAS D7\u001b[39m\u001b[38;5;124m'\u001b[39m: (agg_df_train[\u001b[38;5;124m'\u001b[39m\u001b[38;5;124mrevenue_d7\u001b[39m\u001b[38;5;124m'\u001b[39m]\u001b[38;5;241m/\u001b[39magg_df_train[\u001b[38;5;124m'\u001b[39m\u001b[38;5;124mcost\u001b[39m\u001b[38;5;124m'\u001b[39m]), \u001b[38;5;124m'\u001b[39m\u001b[38;5;124minstalls\u001b[39m\u001b[38;5;124m'\u001b[39m: agg_df_train[\u001b[38;5;124m'\u001b[39m\u001b[38;5;124mte_installs\u001b[39m\u001b[38;5;124m'\u001b[39m]})\n\u001b[0;32m      6\u001b[0m \u001b[38;5;66;03m# Create a scatter plot with size and color based on 'installs' and 'channel'\u001b[39;00m\n\u001b[0;32m      7\u001b[0m fig \u001b[38;5;241m=\u001b[39m px\u001b[38;5;241m.\u001b[39mscatter(pdf, x\u001b[38;5;241m=\u001b[39m\u001b[38;5;124m'\u001b[39m\u001b[38;5;124mpredictions\u001b[39m\u001b[38;5;124m'\u001b[39m, y\u001b[38;5;241m=\u001b[39m\u001b[38;5;124m'\u001b[39m\u001b[38;5;124my_test\u001b[39m\u001b[38;5;124m'\u001b[39m, title\u001b[38;5;241m=\u001b[39m\u001b[38;5;124m'\u001b[39m\u001b[38;5;124mAssociation Actuals vs ROAS day 7\u001b[39m\u001b[38;5;124m'\u001b[39m, trendline\u001b[38;5;241m=\u001b[39m\u001b[38;5;124m'\u001b[39m\u001b[38;5;124mols\u001b[39m\u001b[38;5;124m'\u001b[39m,\n\u001b[0;32m      8\u001b[0m                  labels\u001b[38;5;241m=\u001b[39m{\u001b[38;5;124m'\u001b[39m\u001b[38;5;124mpredictions\u001b[39m\u001b[38;5;124m'\u001b[39m: \u001b[38;5;124m'\u001b[39m\u001b[38;5;124mX-axis Label\u001b[39m\u001b[38;5;124m'\u001b[39m, \u001b[38;5;124m'\u001b[39m\u001b[38;5;124my_test\u001b[39m\u001b[38;5;124m'\u001b[39m: \u001b[38;5;124m'\u001b[39m\u001b[38;5;124mY-axis Label\u001b[39m\u001b[38;5;124m'\u001b[39m},\n\u001b[0;32m      9\u001b[0m                  template\u001b[38;5;241m=\u001b[39m\u001b[38;5;124m'\u001b[39m\u001b[38;5;124mplotly_dark\u001b[39m\u001b[38;5;124m'\u001b[39m,\n\u001b[0;32m     10\u001b[0m                  hover_data\u001b[38;5;241m=\u001b[39m[\u001b[38;5;124m'\u001b[39m\u001b[38;5;124mpredictions\u001b[39m\u001b[38;5;124m'\u001b[39m, \u001b[38;5;124m'\u001b[39m\u001b[38;5;124my_test\u001b[39m\u001b[38;5;124m'\u001b[39m],\n\u001b[0;32m     11\u001b[0m                  size\u001b[38;5;241m=\u001b[39m\u001b[38;5;124m'\u001b[39m\u001b[38;5;124minstalls\u001b[39m\u001b[38;5;124m'\u001b[39m\n\u001b[0;32m     12\u001b[0m                  )\n",
      "\u001b[1;31mNameError\u001b[0m: name 'pd' is not defined"
     ]
    }
   ],
   "source": [
    "import plotly.express as px\n",
    "\n",
    "# Assuming reset_df is your DataFrame\n",
    "pdf = pd.DataFrame({'y_test': agg_df_train['d7_28_increase_api'].values, 'ROAS D7': (agg_df_train['revenue_d7']/agg_df_train['cost']), 'installs': agg_df_train['te_installs']})\n",
    "\n",
    "# Create a scatter plot with size and color based on 'installs' and 'channel'\n",
    "fig = px.scatter(pdf, x='predictions', y='y_test', title='Association Actuals vs ROAS day 7', trendline='ols',\n",
    "                 labels={'predictions': 'X-axis Label', 'y_test': 'Y-axis Label'},\n",
    "                 template='plotly_dark',\n",
    "                 hover_data=['predictions', 'y_test'],\n",
    "                 size='installs'\n",
    "                 )\n",
    "\n",
    "# Customize the layout\n",
    "fig.update_layout(\n",
    "    width=1700,\n",
    "    height=800,\n",
    "    xaxis=dict(title_text='Predicted'),\n",
    "    yaxis=dict(title_text='Actual user revenue'),\n",
    "    legend=dict(title='Legend Title'),\n",
    "    showlegend=True\n",
    ")\n",
    "\n",
    "# Show the plot\n",
    "fig.show()"
   ]
  },
  {
   "cell_type": "code",
   "execution_count": null,
   "metadata": {},
   "outputs": [
    {
     "data": {
      "application/vnd.plotly.v1+json": {
       "config": {
        "plotlyServerURL": "https://plot.ly"
       },
       "data": [
        {
         "hovertemplate": "X-axis Label=%{x}<br>Y-axis Label=%{y}<br>installs=%{marker.size}<extra></extra>",
         "legendgroup": "",
         "marker": {
          "color": "#636efa",
          "size": [
           2417,
           2605,
           2696,
           2695,
           2730,
           2811,
           2626,
           2363,
           1255,
           1142,
           1131,
           1112,
           1349,
           1411,
           1379,
           1415,
           1571,
           1678,
           1725,
           1696,
           1941,
           2329,
           2267,
           2257,
           2365,
           2591,
           2630,
           2813,
           3230,
           3478,
           3776,
           4486,
           4873,
           5257,
           5237,
           4973,
           5357,
           5498,
           5193,
           5522,
           6341,
           5566,
           5346,
           4981,
           4910,
           4642,
           4568,
           4819,
           4592,
           5543,
           5555
          ],
          "sizemode": "area",
          "sizeref": 15.8525,
          "symbol": "circle"
         },
         "mode": "markers",
         "name": "",
         "orientation": "v",
         "showlegend": false,
         "type": "scatter",
         "x": [
          0.7520204713167139,
          1.8780197854802498,
          1.020983191391644,
          2.0702864184664906,
          0.9570799891483724,
          1.64773496534109,
          2.3320767323658274,
          1.4225092951557414,
          -0.18465498587570045,
          -0.07087872834467951,
          -0.45530491937407935,
          -0.5470849317510015,
          -0.2936924414301499,
          -0.5302181685470727,
          -0.6538510025116775,
          -0.37264010671527836,
          -1.2111364505494004,
          -0.37077566998054834,
          -0.7482872942500971,
          -0.5710057569659049,
          -1.0937050831293724,
          -0.5960468781395267,
          -0.6272594386568443,
          -0.8487065621640257,
          -0.4064614872131867,
          -0.3524226021408865,
          -0.11507283921255873,
          -0.33886101684960124,
          -0.2440304061724657,
          -0.3192637918775191,
          -0.41505313659935966,
          -0.4634736266992121,
          -0.15797623013162992,
          -0.3526317406541563,
          -0.21295788140611088,
          -0.5010013045525482,
          -0.19838216446672402,
          -0.30797927922677426,
          -0.7232076506489721,
          -0.5681897258024292,
          -0.6870291361379242,
          -0.8094336097676482,
          -0.24938972750839028,
          -0.8369443933711003,
          -0.4903743400217985,
          -1.0271430560450157,
          -0.3604433733477484,
          -0.3583225729152003,
          -0.34435687169278995,
          -0.2844857124851027,
          -0.6544572479985313
         ],
         "xaxis": "x",
         "y": [
          -0.16170425665490495,
          -0.4461166115808118,
          1.5025328880708164,
          0.1413744345747434,
          -0.044987354443341676,
          -0.2039893081540029,
          -0.13171303561613285,
          -0.4828615709699703,
          -0.6826097672962819,
          -0.23261439508939807,
          -0.5199317383030521,
          0.23066330919701716,
          -0.4166258036183489,
          -0.7486315386242589,
          -0.5677549402017419,
          -0.3699753870347038,
          -1.1083206189342931,
          -0.5506888941150385,
          -0.6756300267899065,
          -0.6079907675357388,
          -1.3524814606462712,
          -0.603119421976193,
          -0.6270011914304703,
          -0.7448288880971009,
          -0.2102656581738982,
          -0.14436144185959465,
          -0.11526190903725608,
          -0.33885926525944626,
          0.03990107036394985,
          -0.44334381663325806,
          -0.6424291388706409,
          -0.5655948256525337,
          -0.28353387965294014,
          -0.34063496796900705,
          -0.0073548478650961036,
          -0.49740498563608637,
          -0.1676534921481857,
          -0.307925284557261,
          -0.6830464725497866,
          -0.5681897258204545,
          -0.68997117407024,
          -0.8162016878651495,
          -0.42365774524664507,
          -0.0997974710409415,
          -0.44833375850598545,
          -1.0271389133716524,
          -0.20401454351653248,
          -0.3899783039030694,
          -0.34435748781519304,
          -0.4156642049106465,
          -0.6981836039464082
         ],
         "yaxis": "y"
        },
        {
         "hovertemplate": "<b>OLS trendline</b><br>y_test = 0.2591 * predictions + -0.351746<br>R<sup>2</sup>=0.258085<br><br>X-axis Label=%{x}<br>Y-axis Label=%{y} <b>(trend)</b><extra></extra>",
         "legendgroup": "",
         "marker": {
          "color": "#636efa",
          "symbol": "circle"
         },
         "mode": "lines",
         "name": "",
         "showlegend": false,
         "type": "scatter",
         "x": [
          -1.2111364505494004,
          -1.0937050831293724,
          -1.0271430560450157,
          -0.8487065621640257,
          -0.8369443933711003,
          -0.8094336097676482,
          -0.7482872942500971,
          -0.7232076506489721,
          -0.6870291361379242,
          -0.6544572479985313,
          -0.6538510025116775,
          -0.6272594386568443,
          -0.5960468781395267,
          -0.5710057569659049,
          -0.5681897258024292,
          -0.5470849317510015,
          -0.5302181685470727,
          -0.5010013045525482,
          -0.4903743400217985,
          -0.4634736266992121,
          -0.45530491937407935,
          -0.41505313659935966,
          -0.4064614872131867,
          -0.37264010671527836,
          -0.37077566998054834,
          -0.3604433733477484,
          -0.3583225729152003,
          -0.3526317406541563,
          -0.3524226021408865,
          -0.34435687169278995,
          -0.33886101684960124,
          -0.3192637918775191,
          -0.30797927922677426,
          -0.2936924414301499,
          -0.2844857124851027,
          -0.24938972750839028,
          -0.2440304061724657,
          -0.21295788140611088,
          -0.19838216446672402,
          -0.18465498587570045,
          -0.15797623013162992,
          -0.11507283921255873,
          -0.07087872834467951,
          0.7520204713167139,
          0.9570799891483724,
          1.020983191391644,
          1.4225092951557414,
          1.64773496534109,
          1.8780197854802498,
          2.0702864184664906,
          2.3320767323658274
         ],
         "xaxis": "x",
         "y": [
          -0.6655517290401971,
          -0.6351252193741028,
          -0.6178789741419146,
          -0.5716460142000044,
          -0.5685984320221344,
          -0.5614703780649811,
          -0.5456273456536638,
          -0.5391292009482341,
          -0.5297553347857288,
          -0.5213159468173387,
          -0.5211588683929702,
          -0.5142689846043254,
          -0.5061817989132411,
          -0.4996936353826758,
          -0.49896400069223534,
          -0.49349574093920123,
          -0.48912555650777534,
          -0.48155545650576564,
          -0.47880200616179097,
          -0.47183202163451454,
          -0.4697155066194194,
          -0.4592862551802196,
          -0.4570601557245174,
          -0.44829702383523695,
          -0.4478139476046062,
          -0.44513684581930224,
          -0.4445873456620745,
          -0.44311284897006675,
          -0.4430586611058243,
          -0.44096882743672183,
          -0.4395448494640255,
          -0.4344672014033593,
          -0.4315433801042599,
          -0.4278416552766669,
          -0.4254561884853485,
          -0.41636280611575077,
          -0.41497420402404595,
          -0.406923301646559,
          -0.40314672812885277,
          -0.39959001120334803,
          -0.3926775359647442,
          -0.38156125189868045,
          -0.3701105418282072,
          -0.15689706230562858,
          -0.10376606725289228,
          -0.08720872449629535,
          0.016826833853882006,
          0.07518288625712,
          0.13484976623865969,
          0.1846661202124576,
          0.2524960849939926
         ],
         "yaxis": "y"
        }
       ],
       "layout": {
        "height": 800,
        "legend": {
         "itemsizing": "constant",
         "title": {
          "text": "Legend Title"
         },
         "tracegroupgap": 0
        },
        "showlegend": true,
        "template": {
         "data": {
          "bar": [
           {
            "error_x": {
             "color": "#f2f5fa"
            },
            "error_y": {
             "color": "#f2f5fa"
            },
            "marker": {
             "line": {
              "color": "rgb(17,17,17)",
              "width": 0.5
             },
             "pattern": {
              "fillmode": "overlay",
              "size": 10,
              "solidity": 0.2
             }
            },
            "type": "bar"
           }
          ],
          "barpolar": [
           {
            "marker": {
             "line": {
              "color": "rgb(17,17,17)",
              "width": 0.5
             },
             "pattern": {
              "fillmode": "overlay",
              "size": 10,
              "solidity": 0.2
             }
            },
            "type": "barpolar"
           }
          ],
          "carpet": [
           {
            "aaxis": {
             "endlinecolor": "#A2B1C6",
             "gridcolor": "#506784",
             "linecolor": "#506784",
             "minorgridcolor": "#506784",
             "startlinecolor": "#A2B1C6"
            },
            "baxis": {
             "endlinecolor": "#A2B1C6",
             "gridcolor": "#506784",
             "linecolor": "#506784",
             "minorgridcolor": "#506784",
             "startlinecolor": "#A2B1C6"
            },
            "type": "carpet"
           }
          ],
          "choropleth": [
           {
            "colorbar": {
             "outlinewidth": 0,
             "ticks": ""
            },
            "type": "choropleth"
           }
          ],
          "contour": [
           {
            "colorbar": {
             "outlinewidth": 0,
             "ticks": ""
            },
            "colorscale": [
             [
              0,
              "#0d0887"
             ],
             [
              0.1111111111111111,
              "#46039f"
             ],
             [
              0.2222222222222222,
              "#7201a8"
             ],
             [
              0.3333333333333333,
              "#9c179e"
             ],
             [
              0.4444444444444444,
              "#bd3786"
             ],
             [
              0.5555555555555556,
              "#d8576b"
             ],
             [
              0.6666666666666666,
              "#ed7953"
             ],
             [
              0.7777777777777778,
              "#fb9f3a"
             ],
             [
              0.8888888888888888,
              "#fdca26"
             ],
             [
              1,
              "#f0f921"
             ]
            ],
            "type": "contour"
           }
          ],
          "contourcarpet": [
           {
            "colorbar": {
             "outlinewidth": 0,
             "ticks": ""
            },
            "type": "contourcarpet"
           }
          ],
          "heatmap": [
           {
            "colorbar": {
             "outlinewidth": 0,
             "ticks": ""
            },
            "colorscale": [
             [
              0,
              "#0d0887"
             ],
             [
              0.1111111111111111,
              "#46039f"
             ],
             [
              0.2222222222222222,
              "#7201a8"
             ],
             [
              0.3333333333333333,
              "#9c179e"
             ],
             [
              0.4444444444444444,
              "#bd3786"
             ],
             [
              0.5555555555555556,
              "#d8576b"
             ],
             [
              0.6666666666666666,
              "#ed7953"
             ],
             [
              0.7777777777777778,
              "#fb9f3a"
             ],
             [
              0.8888888888888888,
              "#fdca26"
             ],
             [
              1,
              "#f0f921"
             ]
            ],
            "type": "heatmap"
           }
          ],
          "heatmapgl": [
           {
            "colorbar": {
             "outlinewidth": 0,
             "ticks": ""
            },
            "colorscale": [
             [
              0,
              "#0d0887"
             ],
             [
              0.1111111111111111,
              "#46039f"
             ],
             [
              0.2222222222222222,
              "#7201a8"
             ],
             [
              0.3333333333333333,
              "#9c179e"
             ],
             [
              0.4444444444444444,
              "#bd3786"
             ],
             [
              0.5555555555555556,
              "#d8576b"
             ],
             [
              0.6666666666666666,
              "#ed7953"
             ],
             [
              0.7777777777777778,
              "#fb9f3a"
             ],
             [
              0.8888888888888888,
              "#fdca26"
             ],
             [
              1,
              "#f0f921"
             ]
            ],
            "type": "heatmapgl"
           }
          ],
          "histogram": [
           {
            "marker": {
             "pattern": {
              "fillmode": "overlay",
              "size": 10,
              "solidity": 0.2
             }
            },
            "type": "histogram"
           }
          ],
          "histogram2d": [
           {
            "colorbar": {
             "outlinewidth": 0,
             "ticks": ""
            },
            "colorscale": [
             [
              0,
              "#0d0887"
             ],
             [
              0.1111111111111111,
              "#46039f"
             ],
             [
              0.2222222222222222,
              "#7201a8"
             ],
             [
              0.3333333333333333,
              "#9c179e"
             ],
             [
              0.4444444444444444,
              "#bd3786"
             ],
             [
              0.5555555555555556,
              "#d8576b"
             ],
             [
              0.6666666666666666,
              "#ed7953"
             ],
             [
              0.7777777777777778,
              "#fb9f3a"
             ],
             [
              0.8888888888888888,
              "#fdca26"
             ],
             [
              1,
              "#f0f921"
             ]
            ],
            "type": "histogram2d"
           }
          ],
          "histogram2dcontour": [
           {
            "colorbar": {
             "outlinewidth": 0,
             "ticks": ""
            },
            "colorscale": [
             [
              0,
              "#0d0887"
             ],
             [
              0.1111111111111111,
              "#46039f"
             ],
             [
              0.2222222222222222,
              "#7201a8"
             ],
             [
              0.3333333333333333,
              "#9c179e"
             ],
             [
              0.4444444444444444,
              "#bd3786"
             ],
             [
              0.5555555555555556,
              "#d8576b"
             ],
             [
              0.6666666666666666,
              "#ed7953"
             ],
             [
              0.7777777777777778,
              "#fb9f3a"
             ],
             [
              0.8888888888888888,
              "#fdca26"
             ],
             [
              1,
              "#f0f921"
             ]
            ],
            "type": "histogram2dcontour"
           }
          ],
          "mesh3d": [
           {
            "colorbar": {
             "outlinewidth": 0,
             "ticks": ""
            },
            "type": "mesh3d"
           }
          ],
          "parcoords": [
           {
            "line": {
             "colorbar": {
              "outlinewidth": 0,
              "ticks": ""
             }
            },
            "type": "parcoords"
           }
          ],
          "pie": [
           {
            "automargin": true,
            "type": "pie"
           }
          ],
          "scatter": [
           {
            "marker": {
             "line": {
              "color": "#283442"
             }
            },
            "type": "scatter"
           }
          ],
          "scatter3d": [
           {
            "line": {
             "colorbar": {
              "outlinewidth": 0,
              "ticks": ""
             }
            },
            "marker": {
             "colorbar": {
              "outlinewidth": 0,
              "ticks": ""
             }
            },
            "type": "scatter3d"
           }
          ],
          "scattercarpet": [
           {
            "marker": {
             "colorbar": {
              "outlinewidth": 0,
              "ticks": ""
             }
            },
            "type": "scattercarpet"
           }
          ],
          "scattergeo": [
           {
            "marker": {
             "colorbar": {
              "outlinewidth": 0,
              "ticks": ""
             }
            },
            "type": "scattergeo"
           }
          ],
          "scattergl": [
           {
            "marker": {
             "line": {
              "color": "#283442"
             }
            },
            "type": "scattergl"
           }
          ],
          "scattermapbox": [
           {
            "marker": {
             "colorbar": {
              "outlinewidth": 0,
              "ticks": ""
             }
            },
            "type": "scattermapbox"
           }
          ],
          "scatterpolar": [
           {
            "marker": {
             "colorbar": {
              "outlinewidth": 0,
              "ticks": ""
             }
            },
            "type": "scatterpolar"
           }
          ],
          "scatterpolargl": [
           {
            "marker": {
             "colorbar": {
              "outlinewidth": 0,
              "ticks": ""
             }
            },
            "type": "scatterpolargl"
           }
          ],
          "scatterternary": [
           {
            "marker": {
             "colorbar": {
              "outlinewidth": 0,
              "ticks": ""
             }
            },
            "type": "scatterternary"
           }
          ],
          "surface": [
           {
            "colorbar": {
             "outlinewidth": 0,
             "ticks": ""
            },
            "colorscale": [
             [
              0,
              "#0d0887"
             ],
             [
              0.1111111111111111,
              "#46039f"
             ],
             [
              0.2222222222222222,
              "#7201a8"
             ],
             [
              0.3333333333333333,
              "#9c179e"
             ],
             [
              0.4444444444444444,
              "#bd3786"
             ],
             [
              0.5555555555555556,
              "#d8576b"
             ],
             [
              0.6666666666666666,
              "#ed7953"
             ],
             [
              0.7777777777777778,
              "#fb9f3a"
             ],
             [
              0.8888888888888888,
              "#fdca26"
             ],
             [
              1,
              "#f0f921"
             ]
            ],
            "type": "surface"
           }
          ],
          "table": [
           {
            "cells": {
             "fill": {
              "color": "#506784"
             },
             "line": {
              "color": "rgb(17,17,17)"
             }
            },
            "header": {
             "fill": {
              "color": "#2a3f5f"
             },
             "line": {
              "color": "rgb(17,17,17)"
             }
            },
            "type": "table"
           }
          ]
         },
         "layout": {
          "annotationdefaults": {
           "arrowcolor": "#f2f5fa",
           "arrowhead": 0,
           "arrowwidth": 1
          },
          "autotypenumbers": "strict",
          "coloraxis": {
           "colorbar": {
            "outlinewidth": 0,
            "ticks": ""
           }
          },
          "colorscale": {
           "diverging": [
            [
             0,
             "#8e0152"
            ],
            [
             0.1,
             "#c51b7d"
            ],
            [
             0.2,
             "#de77ae"
            ],
            [
             0.3,
             "#f1b6da"
            ],
            [
             0.4,
             "#fde0ef"
            ],
            [
             0.5,
             "#f7f7f7"
            ],
            [
             0.6,
             "#e6f5d0"
            ],
            [
             0.7,
             "#b8e186"
            ],
            [
             0.8,
             "#7fbc41"
            ],
            [
             0.9,
             "#4d9221"
            ],
            [
             1,
             "#276419"
            ]
           ],
           "sequential": [
            [
             0,
             "#0d0887"
            ],
            [
             0.1111111111111111,
             "#46039f"
            ],
            [
             0.2222222222222222,
             "#7201a8"
            ],
            [
             0.3333333333333333,
             "#9c179e"
            ],
            [
             0.4444444444444444,
             "#bd3786"
            ],
            [
             0.5555555555555556,
             "#d8576b"
            ],
            [
             0.6666666666666666,
             "#ed7953"
            ],
            [
             0.7777777777777778,
             "#fb9f3a"
            ],
            [
             0.8888888888888888,
             "#fdca26"
            ],
            [
             1,
             "#f0f921"
            ]
           ],
           "sequentialminus": [
            [
             0,
             "#0d0887"
            ],
            [
             0.1111111111111111,
             "#46039f"
            ],
            [
             0.2222222222222222,
             "#7201a8"
            ],
            [
             0.3333333333333333,
             "#9c179e"
            ],
            [
             0.4444444444444444,
             "#bd3786"
            ],
            [
             0.5555555555555556,
             "#d8576b"
            ],
            [
             0.6666666666666666,
             "#ed7953"
            ],
            [
             0.7777777777777778,
             "#fb9f3a"
            ],
            [
             0.8888888888888888,
             "#fdca26"
            ],
            [
             1,
             "#f0f921"
            ]
           ]
          },
          "colorway": [
           "#636efa",
           "#EF553B",
           "#00cc96",
           "#ab63fa",
           "#FFA15A",
           "#19d3f3",
           "#FF6692",
           "#B6E880",
           "#FF97FF",
           "#FECB52"
          ],
          "font": {
           "color": "#f2f5fa"
          },
          "geo": {
           "bgcolor": "rgb(17,17,17)",
           "lakecolor": "rgb(17,17,17)",
           "landcolor": "rgb(17,17,17)",
           "showlakes": true,
           "showland": true,
           "subunitcolor": "#506784"
          },
          "hoverlabel": {
           "align": "left"
          },
          "hovermode": "closest",
          "mapbox": {
           "style": "dark"
          },
          "paper_bgcolor": "rgb(17,17,17)",
          "plot_bgcolor": "rgb(17,17,17)",
          "polar": {
           "angularaxis": {
            "gridcolor": "#506784",
            "linecolor": "#506784",
            "ticks": ""
           },
           "bgcolor": "rgb(17,17,17)",
           "radialaxis": {
            "gridcolor": "#506784",
            "linecolor": "#506784",
            "ticks": ""
           }
          },
          "scene": {
           "xaxis": {
            "backgroundcolor": "rgb(17,17,17)",
            "gridcolor": "#506784",
            "gridwidth": 2,
            "linecolor": "#506784",
            "showbackground": true,
            "ticks": "",
            "zerolinecolor": "#C8D4E3"
           },
           "yaxis": {
            "backgroundcolor": "rgb(17,17,17)",
            "gridcolor": "#506784",
            "gridwidth": 2,
            "linecolor": "#506784",
            "showbackground": true,
            "ticks": "",
            "zerolinecolor": "#C8D4E3"
           },
           "zaxis": {
            "backgroundcolor": "rgb(17,17,17)",
            "gridcolor": "#506784",
            "gridwidth": 2,
            "linecolor": "#506784",
            "showbackground": true,
            "ticks": "",
            "zerolinecolor": "#C8D4E3"
           }
          },
          "shapedefaults": {
           "line": {
            "color": "#f2f5fa"
           }
          },
          "sliderdefaults": {
           "bgcolor": "#C8D4E3",
           "bordercolor": "rgb(17,17,17)",
           "borderwidth": 1,
           "tickwidth": 0
          },
          "ternary": {
           "aaxis": {
            "gridcolor": "#506784",
            "linecolor": "#506784",
            "ticks": ""
           },
           "baxis": {
            "gridcolor": "#506784",
            "linecolor": "#506784",
            "ticks": ""
           },
           "bgcolor": "rgb(17,17,17)",
           "caxis": {
            "gridcolor": "#506784",
            "linecolor": "#506784",
            "ticks": ""
           }
          },
          "title": {
           "x": 0.05
          },
          "updatemenudefaults": {
           "bgcolor": "#506784",
           "borderwidth": 0
          },
          "xaxis": {
           "automargin": true,
           "gridcolor": "#283442",
           "linecolor": "#506784",
           "ticks": "",
           "title": {
            "standoff": 15
           },
           "zerolinecolor": "#283442",
           "zerolinewidth": 2
          },
          "yaxis": {
           "automargin": true,
           "gridcolor": "#283442",
           "linecolor": "#506784",
           "ticks": "",
           "title": {
            "standoff": 15
           },
           "zerolinecolor": "#283442",
           "zerolinewidth": 2
          }
         }
        },
        "title": {
         "text": "Association Actuals vs Predictions"
        },
        "width": 1700,
        "xaxis": {
         "anchor": "y",
         "domain": [
          0,
          1
         ],
         "title": {
          "text": "Predicted"
         }
        },
        "yaxis": {
         "anchor": "x",
         "domain": [
          0,
          1
         ],
         "title": {
          "text": "Actual user revenue"
         }
        }
       }
      }
     },
     "metadata": {},
     "output_type": "display_data"
    }
   ],
   "source": [
    "pdf = pd.DataFrame({'y_test': agg_df_train['d7_28_increase_api'].values, 'predictions': predictions, 'installs': agg_df_train['te_installs']})\n",
    "\n",
    "fig = px.scatter(pdf, x='predictions', y='y_test', title='Association Actuals vs Predictions', trendline='ols',\n",
    "                 labels={'predictions': 'X-axis Label', 'y_test': 'Y-axis Label'},\n",
    "                 template='plotly_dark',\n",
    "                 hover_data=['predictions', 'y_test'],\n",
    "                 size='installs',  # Set size proportional to 'installs'\n",
    "                 )\n",
    "\n",
    "# Customize the layout\n",
    "fig.update_layout(\n",
    "    width=1700,\n",
    "    height=800,\n",
    "    xaxis=dict(title_text='Predicted'),\n",
    "    yaxis=dict(title_text='Actual user revenue'),\n",
    "    legend=dict(title='Legend Title'),\n",
    "    showlegend=True\n",
    ")\n",
    "\n",
    "# Show the plot\n",
    "fig.show()"
   ]
  },
  {
   "cell_type": "code",
   "execution_count": null,
   "metadata": {},
   "outputs": [
    {
     "data": {
      "application/vnd.plotly.v1+json": {
       "config": {
        "plotlyServerURL": "https://plot.ly"
       },
       "data": [
        {
         "hovertemplate": "X-axis Label=%{x}<br>Y-axis Label=%{y}<extra></extra>",
         "legendgroup": "",
         "marker": {
          "color": "#636efa",
          "symbol": "circle"
         },
         "mode": "markers",
         "name": "",
         "orientation": "v",
         "showlegend": false,
         "type": "scatter",
         "x": [
          1.162501128531608,
          2.3450184889844405,
          1.4041634748073815,
          2.387987144973246,
          1.256888561399371,
          2.056014080724119,
          2.5607034679652316,
          1.9089904530579243,
          0.33439533900679247,
          0.39439656578543447,
          0.10275988825485005,
          -0.33710186319665875,
          0.17855191677306093,
          -0.10561102950476758,
          -0.3199932199052861,
          -0.21027599618695764,
          -0.860642514737622,
          0.052949798147125804,
          -0.6354990265719811,
          -0.10379231994735783,
          -0.35271582122894407,
          -0.26901307494355486,
          -0.4790356223796706,
          0.003189504649815489,
          -0.17894274779513836,
          -0.11273744470309152,
          0.022678900248081474,
          0.0047612254908953044,
          0.08676673885756467,
          -0.05148413744161229,
          -0.07690974149022661,
          -0.32309506170708524,
          0.10058307243161213,
          0.017386462000848035,
          0.09564687122380988,
          0.0957211381759493,
          0.11694426848160533,
          0.12082035076556985,
          -0.21484572140289837,
          -0.1940912442932401,
          -0.2665942668318749,
          -0.3564634144456122,
          0.020061178089651355,
          -0.7354279244473125,
          -0.26483081221177346,
          -0.8407935004257981,
          -0.021829489470467534,
          -0.02276624548669509,
          -0.22115907234471752,
          0.11114170442692661,
          -0.40844813476473696
         ],
         "xaxis": "x",
         "y": [
          0.24877640055998917,
          0.020882091923378976,
          1.8857131714865538,
          0.4590751610814988,
          0.2548212178076568,
          0.20428980722902612,
          0.09691369998327132,
          0.003619586932212482,
          -0.16355944241378895,
          0.2326608990407159,
          0.038133069325877345,
          0.4406463777513599,
          0.05561855458486192,
          -0.3240243995819538,
          -0.2338971575953505,
          -0.20761127650638306,
          -0.7578266831225147,
          -0.12696342598736438,
          -0.5628417591117905,
          -0.14077733051719166,
          -0.6114921987458428,
          -0.2760856187802211,
          -0.4787773751532966,
          0.10706717871674032,
          0.017253081244150148,
          0.09532371557820032,
          0.022489830423384122,
          0.004762977081050279,
          0.37069821539398023,
          -0.17556416219735127,
          -0.30428574376150785,
          -0.42521626066040685,
          -0.02497457708969808,
          0.029383234685997295,
          0.30124990476482466,
          0.09931745709241113,
          0.14767294080014365,
          0.12087434543508313,
          -0.17468454330371286,
          -0.19409124431126534,
          -0.26953630476419077,
          -0.36323149254311343,
          -0.15420683964860343,
          0.0017189978828462266,
          -0.22279023069596038,
          -0.8407893577524349,
          0.1345993403607484,
          -0.054421976474564204,
          -0.2211596884671206,
          -0.02003678799861719,
          -0.45217449071261384
         ],
         "yaxis": "y"
        },
        {
         "hovertemplate": "<b>OLS trendline</b><br>y_test = 0.25972 * predictions + -0.0925284<br>R<sup>2</sup>=0.284975<br><br>X-axis Label=%{x}<br>Y-axis Label=%{y} <b>(trend)</b><extra></extra>",
         "legendgroup": "",
         "marker": {
          "color": "#636efa",
          "symbol": "circle"
         },
         "mode": "lines",
         "name": "",
         "showlegend": false,
         "type": "scatter",
         "x": [
          -0.860642514737622,
          -0.8407935004257981,
          -0.7354279244473125,
          -0.6354990265719811,
          -0.4790356223796706,
          -0.40844813476473696,
          -0.3564634144456122,
          -0.35271582122894407,
          -0.33710186319665875,
          -0.32309506170708524,
          -0.3199932199052861,
          -0.26901307494355486,
          -0.2665942668318749,
          -0.26483081221177346,
          -0.22115907234471752,
          -0.21484572140289837,
          -0.21027599618695764,
          -0.1940912442932401,
          -0.17894274779513836,
          -0.11273744470309152,
          -0.10561102950476758,
          -0.10379231994735783,
          -0.07690974149022661,
          -0.05148413744161229,
          -0.02276624548669509,
          -0.021829489470467534,
          0.003189504649815489,
          0.0047612254908953044,
          0.017386462000848035,
          0.020061178089651355,
          0.022678900248081474,
          0.052949798147125804,
          0.08676673885756467,
          0.09564687122380988,
          0.0957211381759493,
          0.10058307243161213,
          0.10275988825485005,
          0.11114170442692661,
          0.11694426848160533,
          0.12082035076556985,
          0.17855191677306093,
          0.33439533900679247,
          0.39439656578543447,
          1.162501128531608,
          1.256888561399371,
          1.4041634748073815,
          1.9089904530579243,
          2.056014080724119,
          2.3450184889844405,
          2.387987144973246,
          2.5607034679652316
         ],
         "xaxis": "x",
         "y": [
          -0.3160545049474381,
          -0.31089931721665487,
          -0.2835337606203441,
          -0.2575802185358522,
          -0.21694352953269622,
          -0.1986105410838666,
          -0.1851090649819671,
          -0.18413573974439976,
          -0.18008048120045014,
          -0.17644263349415107,
          -0.1756370228704568,
          -0.1623964551681244,
          -0.16176824211408758,
          -0.1613102375261255,
          -0.14996780943333637,
          -0.14832810537528612,
          -0.14714125594305838,
          -0.1429377507675615,
          -0.13900338193392586,
          -0.12180853483214327,
          -0.11995766165437632,
          -0.1194853062492703,
          -0.11250336062431968,
          -0.10589982052000879,
          -0.09844120711310736,
          -0.09819791275875157,
          -0.09169997742054234,
          -0.0912917699464148,
          -0.08801274241729592,
          -0.08731806492108828,
          -0.08663818989345531,
          -0.07877622964709755,
          -0.06999329085203451,
          -0.06768694209823627,
          -0.06766765347893976,
          -0.06640491148939233,
          -0.06583954869364654,
          -0.06366262266532331,
          -0.06215558022221597,
          -0.061148883792867474,
          -0.046154836426826044,
          -0.005679169192104608,
          0.00990435466766415,
          0.20939653879435588,
          0.2339108511030616,
          0.27216110447714853,
          0.40327481136259874,
          0.4414598007818727,
          0.5165200509383945,
          0.5276798740249136,
          0.5725377725183358
         ],
         "yaxis": "y"
        }
       ],
       "layout": {
        "height": 800,
        "legend": {
         "title": {
          "text": "Legend Title"
         },
         "tracegroupgap": 0
        },
        "showlegend": true,
        "template": {
         "data": {
          "bar": [
           {
            "error_x": {
             "color": "#f2f5fa"
            },
            "error_y": {
             "color": "#f2f5fa"
            },
            "marker": {
             "line": {
              "color": "rgb(17,17,17)",
              "width": 0.5
             },
             "pattern": {
              "fillmode": "overlay",
              "size": 10,
              "solidity": 0.2
             }
            },
            "type": "bar"
           }
          ],
          "barpolar": [
           {
            "marker": {
             "line": {
              "color": "rgb(17,17,17)",
              "width": 0.5
             },
             "pattern": {
              "fillmode": "overlay",
              "size": 10,
              "solidity": 0.2
             }
            },
            "type": "barpolar"
           }
          ],
          "carpet": [
           {
            "aaxis": {
             "endlinecolor": "#A2B1C6",
             "gridcolor": "#506784",
             "linecolor": "#506784",
             "minorgridcolor": "#506784",
             "startlinecolor": "#A2B1C6"
            },
            "baxis": {
             "endlinecolor": "#A2B1C6",
             "gridcolor": "#506784",
             "linecolor": "#506784",
             "minorgridcolor": "#506784",
             "startlinecolor": "#A2B1C6"
            },
            "type": "carpet"
           }
          ],
          "choropleth": [
           {
            "colorbar": {
             "outlinewidth": 0,
             "ticks": ""
            },
            "type": "choropleth"
           }
          ],
          "contour": [
           {
            "colorbar": {
             "outlinewidth": 0,
             "ticks": ""
            },
            "colorscale": [
             [
              0,
              "#0d0887"
             ],
             [
              0.1111111111111111,
              "#46039f"
             ],
             [
              0.2222222222222222,
              "#7201a8"
             ],
             [
              0.3333333333333333,
              "#9c179e"
             ],
             [
              0.4444444444444444,
              "#bd3786"
             ],
             [
              0.5555555555555556,
              "#d8576b"
             ],
             [
              0.6666666666666666,
              "#ed7953"
             ],
             [
              0.7777777777777778,
              "#fb9f3a"
             ],
             [
              0.8888888888888888,
              "#fdca26"
             ],
             [
              1,
              "#f0f921"
             ]
            ],
            "type": "contour"
           }
          ],
          "contourcarpet": [
           {
            "colorbar": {
             "outlinewidth": 0,
             "ticks": ""
            },
            "type": "contourcarpet"
           }
          ],
          "heatmap": [
           {
            "colorbar": {
             "outlinewidth": 0,
             "ticks": ""
            },
            "colorscale": [
             [
              0,
              "#0d0887"
             ],
             [
              0.1111111111111111,
              "#46039f"
             ],
             [
              0.2222222222222222,
              "#7201a8"
             ],
             [
              0.3333333333333333,
              "#9c179e"
             ],
             [
              0.4444444444444444,
              "#bd3786"
             ],
             [
              0.5555555555555556,
              "#d8576b"
             ],
             [
              0.6666666666666666,
              "#ed7953"
             ],
             [
              0.7777777777777778,
              "#fb9f3a"
             ],
             [
              0.8888888888888888,
              "#fdca26"
             ],
             [
              1,
              "#f0f921"
             ]
            ],
            "type": "heatmap"
           }
          ],
          "heatmapgl": [
           {
            "colorbar": {
             "outlinewidth": 0,
             "ticks": ""
            },
            "colorscale": [
             [
              0,
              "#0d0887"
             ],
             [
              0.1111111111111111,
              "#46039f"
             ],
             [
              0.2222222222222222,
              "#7201a8"
             ],
             [
              0.3333333333333333,
              "#9c179e"
             ],
             [
              0.4444444444444444,
              "#bd3786"
             ],
             [
              0.5555555555555556,
              "#d8576b"
             ],
             [
              0.6666666666666666,
              "#ed7953"
             ],
             [
              0.7777777777777778,
              "#fb9f3a"
             ],
             [
              0.8888888888888888,
              "#fdca26"
             ],
             [
              1,
              "#f0f921"
             ]
            ],
            "type": "heatmapgl"
           }
          ],
          "histogram": [
           {
            "marker": {
             "pattern": {
              "fillmode": "overlay",
              "size": 10,
              "solidity": 0.2
             }
            },
            "type": "histogram"
           }
          ],
          "histogram2d": [
           {
            "colorbar": {
             "outlinewidth": 0,
             "ticks": ""
            },
            "colorscale": [
             [
              0,
              "#0d0887"
             ],
             [
              0.1111111111111111,
              "#46039f"
             ],
             [
              0.2222222222222222,
              "#7201a8"
             ],
             [
              0.3333333333333333,
              "#9c179e"
             ],
             [
              0.4444444444444444,
              "#bd3786"
             ],
             [
              0.5555555555555556,
              "#d8576b"
             ],
             [
              0.6666666666666666,
              "#ed7953"
             ],
             [
              0.7777777777777778,
              "#fb9f3a"
             ],
             [
              0.8888888888888888,
              "#fdca26"
             ],
             [
              1,
              "#f0f921"
             ]
            ],
            "type": "histogram2d"
           }
          ],
          "histogram2dcontour": [
           {
            "colorbar": {
             "outlinewidth": 0,
             "ticks": ""
            },
            "colorscale": [
             [
              0,
              "#0d0887"
             ],
             [
              0.1111111111111111,
              "#46039f"
             ],
             [
              0.2222222222222222,
              "#7201a8"
             ],
             [
              0.3333333333333333,
              "#9c179e"
             ],
             [
              0.4444444444444444,
              "#bd3786"
             ],
             [
              0.5555555555555556,
              "#d8576b"
             ],
             [
              0.6666666666666666,
              "#ed7953"
             ],
             [
              0.7777777777777778,
              "#fb9f3a"
             ],
             [
              0.8888888888888888,
              "#fdca26"
             ],
             [
              1,
              "#f0f921"
             ]
            ],
            "type": "histogram2dcontour"
           }
          ],
          "mesh3d": [
           {
            "colorbar": {
             "outlinewidth": 0,
             "ticks": ""
            },
            "type": "mesh3d"
           }
          ],
          "parcoords": [
           {
            "line": {
             "colorbar": {
              "outlinewidth": 0,
              "ticks": ""
             }
            },
            "type": "parcoords"
           }
          ],
          "pie": [
           {
            "automargin": true,
            "type": "pie"
           }
          ],
          "scatter": [
           {
            "marker": {
             "line": {
              "color": "#283442"
             }
            },
            "type": "scatter"
           }
          ],
          "scatter3d": [
           {
            "line": {
             "colorbar": {
              "outlinewidth": 0,
              "ticks": ""
             }
            },
            "marker": {
             "colorbar": {
              "outlinewidth": 0,
              "ticks": ""
             }
            },
            "type": "scatter3d"
           }
          ],
          "scattercarpet": [
           {
            "marker": {
             "colorbar": {
              "outlinewidth": 0,
              "ticks": ""
             }
            },
            "type": "scattercarpet"
           }
          ],
          "scattergeo": [
           {
            "marker": {
             "colorbar": {
              "outlinewidth": 0,
              "ticks": ""
             }
            },
            "type": "scattergeo"
           }
          ],
          "scattergl": [
           {
            "marker": {
             "line": {
              "color": "#283442"
             }
            },
            "type": "scattergl"
           }
          ],
          "scattermapbox": [
           {
            "marker": {
             "colorbar": {
              "outlinewidth": 0,
              "ticks": ""
             }
            },
            "type": "scattermapbox"
           }
          ],
          "scatterpolar": [
           {
            "marker": {
             "colorbar": {
              "outlinewidth": 0,
              "ticks": ""
             }
            },
            "type": "scatterpolar"
           }
          ],
          "scatterpolargl": [
           {
            "marker": {
             "colorbar": {
              "outlinewidth": 0,
              "ticks": ""
             }
            },
            "type": "scatterpolargl"
           }
          ],
          "scatterternary": [
           {
            "marker": {
             "colorbar": {
              "outlinewidth": 0,
              "ticks": ""
             }
            },
            "type": "scatterternary"
           }
          ],
          "surface": [
           {
            "colorbar": {
             "outlinewidth": 0,
             "ticks": ""
            },
            "colorscale": [
             [
              0,
              "#0d0887"
             ],
             [
              0.1111111111111111,
              "#46039f"
             ],
             [
              0.2222222222222222,
              "#7201a8"
             ],
             [
              0.3333333333333333,
              "#9c179e"
             ],
             [
              0.4444444444444444,
              "#bd3786"
             ],
             [
              0.5555555555555556,
              "#d8576b"
             ],
             [
              0.6666666666666666,
              "#ed7953"
             ],
             [
              0.7777777777777778,
              "#fb9f3a"
             ],
             [
              0.8888888888888888,
              "#fdca26"
             ],
             [
              1,
              "#f0f921"
             ]
            ],
            "type": "surface"
           }
          ],
          "table": [
           {
            "cells": {
             "fill": {
              "color": "#506784"
             },
             "line": {
              "color": "rgb(17,17,17)"
             }
            },
            "header": {
             "fill": {
              "color": "#2a3f5f"
             },
             "line": {
              "color": "rgb(17,17,17)"
             }
            },
            "type": "table"
           }
          ]
         },
         "layout": {
          "annotationdefaults": {
           "arrowcolor": "#f2f5fa",
           "arrowhead": 0,
           "arrowwidth": 1
          },
          "autotypenumbers": "strict",
          "coloraxis": {
           "colorbar": {
            "outlinewidth": 0,
            "ticks": ""
           }
          },
          "colorscale": {
           "diverging": [
            [
             0,
             "#8e0152"
            ],
            [
             0.1,
             "#c51b7d"
            ],
            [
             0.2,
             "#de77ae"
            ],
            [
             0.3,
             "#f1b6da"
            ],
            [
             0.4,
             "#fde0ef"
            ],
            [
             0.5,
             "#f7f7f7"
            ],
            [
             0.6,
             "#e6f5d0"
            ],
            [
             0.7,
             "#b8e186"
            ],
            [
             0.8,
             "#7fbc41"
            ],
            [
             0.9,
             "#4d9221"
            ],
            [
             1,
             "#276419"
            ]
           ],
           "sequential": [
            [
             0,
             "#0d0887"
            ],
            [
             0.1111111111111111,
             "#46039f"
            ],
            [
             0.2222222222222222,
             "#7201a8"
            ],
            [
             0.3333333333333333,
             "#9c179e"
            ],
            [
             0.4444444444444444,
             "#bd3786"
            ],
            [
             0.5555555555555556,
             "#d8576b"
            ],
            [
             0.6666666666666666,
             "#ed7953"
            ],
            [
             0.7777777777777778,
             "#fb9f3a"
            ],
            [
             0.8888888888888888,
             "#fdca26"
            ],
            [
             1,
             "#f0f921"
            ]
           ],
           "sequentialminus": [
            [
             0,
             "#0d0887"
            ],
            [
             0.1111111111111111,
             "#46039f"
            ],
            [
             0.2222222222222222,
             "#7201a8"
            ],
            [
             0.3333333333333333,
             "#9c179e"
            ],
            [
             0.4444444444444444,
             "#bd3786"
            ],
            [
             0.5555555555555556,
             "#d8576b"
            ],
            [
             0.6666666666666666,
             "#ed7953"
            ],
            [
             0.7777777777777778,
             "#fb9f3a"
            ],
            [
             0.8888888888888888,
             "#fdca26"
            ],
            [
             1,
             "#f0f921"
            ]
           ]
          },
          "colorway": [
           "#636efa",
           "#EF553B",
           "#00cc96",
           "#ab63fa",
           "#FFA15A",
           "#19d3f3",
           "#FF6692",
           "#B6E880",
           "#FF97FF",
           "#FECB52"
          ],
          "font": {
           "color": "#f2f5fa"
          },
          "geo": {
           "bgcolor": "rgb(17,17,17)",
           "lakecolor": "rgb(17,17,17)",
           "landcolor": "rgb(17,17,17)",
           "showlakes": true,
           "showland": true,
           "subunitcolor": "#506784"
          },
          "hoverlabel": {
           "align": "left"
          },
          "hovermode": "closest",
          "mapbox": {
           "style": "dark"
          },
          "paper_bgcolor": "rgb(17,17,17)",
          "plot_bgcolor": "rgb(17,17,17)",
          "polar": {
           "angularaxis": {
            "gridcolor": "#506784",
            "linecolor": "#506784",
            "ticks": ""
           },
           "bgcolor": "rgb(17,17,17)",
           "radialaxis": {
            "gridcolor": "#506784",
            "linecolor": "#506784",
            "ticks": ""
           }
          },
          "scene": {
           "xaxis": {
            "backgroundcolor": "rgb(17,17,17)",
            "gridcolor": "#506784",
            "gridwidth": 2,
            "linecolor": "#506784",
            "showbackground": true,
            "ticks": "",
            "zerolinecolor": "#C8D4E3"
           },
           "yaxis": {
            "backgroundcolor": "rgb(17,17,17)",
            "gridcolor": "#506784",
            "gridwidth": 2,
            "linecolor": "#506784",
            "showbackground": true,
            "ticks": "",
            "zerolinecolor": "#C8D4E3"
           },
           "zaxis": {
            "backgroundcolor": "rgb(17,17,17)",
            "gridcolor": "#506784",
            "gridwidth": 2,
            "linecolor": "#506784",
            "showbackground": true,
            "ticks": "",
            "zerolinecolor": "#C8D4E3"
           }
          },
          "shapedefaults": {
           "line": {
            "color": "#f2f5fa"
           }
          },
          "sliderdefaults": {
           "bgcolor": "#C8D4E3",
           "bordercolor": "rgb(17,17,17)",
           "borderwidth": 1,
           "tickwidth": 0
          },
          "ternary": {
           "aaxis": {
            "gridcolor": "#506784",
            "linecolor": "#506784",
            "ticks": ""
           },
           "baxis": {
            "gridcolor": "#506784",
            "linecolor": "#506784",
            "ticks": ""
           },
           "bgcolor": "rgb(17,17,17)",
           "caxis": {
            "gridcolor": "#506784",
            "linecolor": "#506784",
            "ticks": ""
           }
          },
          "title": {
           "x": 0.05
          },
          "updatemenudefaults": {
           "bgcolor": "#506784",
           "borderwidth": 0
          },
          "xaxis": {
           "automargin": true,
           "gridcolor": "#283442",
           "linecolor": "#506784",
           "ticks": "",
           "title": {
            "standoff": 15
           },
           "zerolinecolor": "#283442",
           "zerolinewidth": 2
          },
          "yaxis": {
           "automargin": true,
           "gridcolor": "#283442",
           "linecolor": "#506784",
           "ticks": "",
           "title": {
            "standoff": 15
           },
           "zerolinecolor": "#283442",
           "zerolinewidth": 2
          }
         }
        },
        "title": {
         "text": "Association Actuals vs Predictions"
        },
        "width": 1700,
        "xaxis": {
         "anchor": "y",
         "domain": [
          0,
          1
         ],
         "title": {
          "text": "Predicted"
         }
        },
        "yaxis": {
         "anchor": "x",
         "domain": [
          0,
          1
         ],
         "title": {
          "text": "Actual user revenue"
         }
        }
       }
      }
     },
     "metadata": {},
     "output_type": "display_data"
    }
   ],
   "source": [
    "pdf = pd.DataFrame({'y_test': ((agg_df_train['revenue_d7'].values - agg_df_train['withdraw_d7'].values)/agg_df_train['cost'].values + agg_df_train['d7_28_increase_api'].values), 'predictions': ((agg_df_train['revenue_d7'].values - agg_df_train['withdraw_d7'].values)/agg_df_train['cost'].values + predictions)})\n",
    "\n",
    "fig = px.scatter(pdf, x='predictions', y='y_test', title='Association Actuals vs Predictions', trendline='ols',\n",
    "                 labels={'predictions': 'X-axis Label', 'y_test': 'Y-axis Label'},\n",
    "                 template='plotly_dark',\n",
    "                 hover_data=['predictions', 'y_test']\n",
    "                )\n",
    "\n",
    "# Customize the layout\n",
    "fig.update_layout(\n",
    "    width=1700,\n",
    "    height=800,\n",
    "    xaxis=dict(title_text='Predicted'),\n",
    "    yaxis=dict(title_text='Actual user revenue'),\n",
    "    legend=dict(title='Legend Title'),\n",
    "    showlegend=True\n",
    ")\n",
    "\n",
    "# Show the plot\n",
    "fig.show()"
   ]
  },
  {
   "cell_type": "markdown",
   "metadata": {},
   "source": [
    "## Fit to dictionary based on availables"
   ]
  },
  {
   "cell_type": "code",
   "execution_count": 102,
   "metadata": {},
   "outputs": [],
   "source": [
    "dev_df = agg_df_train.copy(deep = True)\n",
    "\n",
    "columns_rule = ['revenue_d7','withdraw_d7','installs','payment_increase','rpi_increase','installs_difference','is_facebook','pred_roas','roas_d7','withdrawn_ratio']\n",
    "columns_rule = ['revenue_d7','withdraw_d7','payment_increase','rpi_increase','installs_difference']\n",
    "\n",
    "max_date = df['date'].max()\n",
    "dev_df['days_since_install'] = (max_date - dev_df['date']) # Needed? Yes\n"
   ]
  },
  {
   "cell_type": "code",
   "execution_count": 103,
   "metadata": {},
   "outputs": [
    {
     "name": "stderr",
     "output_type": "stream",
     "text": [
      "100%|██████████| 2/2 [00:00<00:00,  4.42it/s]\n"
     ]
    },
    {
     "data": {
      "text/html": [
       "<div>\n",
       "<style scoped>\n",
       "    .dataframe tbody tr th:only-of-type {\n",
       "        vertical-align: middle;\n",
       "    }\n",
       "\n",
       "    .dataframe tbody tr th {\n",
       "        vertical-align: top;\n",
       "    }\n",
       "\n",
       "    .dataframe thead th {\n",
       "        text-align: right;\n",
       "    }\n",
       "</style>\n",
       "<table border=\"1\" class=\"dataframe\">\n",
       "  <thead>\n",
       "    <tr style=\"text-align: right;\">\n",
       "      <th></th>\n",
       "      <th>Available day</th>\n",
       "      <th>Target day</th>\n",
       "      <th>Model</th>\n",
       "      <th>Columns</th>\n",
       "    </tr>\n",
       "  </thead>\n",
       "  <tbody>\n",
       "    <tr>\n",
       "      <th>0</th>\n",
       "      <td>7</td>\n",
       "      <td>14</td>\n",
       "      <td>(ColumnTransformer(remainder='passthrough',\\n ...</td>\n",
       "      <td>Index(['revenue_d7', 'withdraw_d7', 'payment_i...</td>\n",
       "    </tr>\n",
       "    <tr>\n",
       "      <th>1</th>\n",
       "      <td>8</td>\n",
       "      <td>14</td>\n",
       "      <td>(ColumnTransformer(remainder='passthrough',\\n ...</td>\n",
       "      <td>Index(['revenue_d7', 'withdraw_d7', 'payment_i...</td>\n",
       "    </tr>\n",
       "    <tr>\n",
       "      <th>2</th>\n",
       "      <td>9</td>\n",
       "      <td>14</td>\n",
       "      <td>(ColumnTransformer(remainder='passthrough',\\n ...</td>\n",
       "      <td>Index(['revenue_d7', 'withdraw_d7', 'payment_i...</td>\n",
       "    </tr>\n",
       "    <tr>\n",
       "      <th>3</th>\n",
       "      <td>10</td>\n",
       "      <td>14</td>\n",
       "      <td>(ColumnTransformer(remainder='passthrough',\\n ...</td>\n",
       "      <td>Index(['revenue_d7', 'withdraw_d7', 'payment_i...</td>\n",
       "    </tr>\n",
       "    <tr>\n",
       "      <th>4</th>\n",
       "      <td>11</td>\n",
       "      <td>14</td>\n",
       "      <td>(ColumnTransformer(remainder='passthrough',\\n ...</td>\n",
       "      <td>Index(['revenue_d7', 'withdraw_d7', 'payment_i...</td>\n",
       "    </tr>\n",
       "    <tr>\n",
       "      <th>5</th>\n",
       "      <td>12</td>\n",
       "      <td>14</td>\n",
       "      <td>(ColumnTransformer(remainder='passthrough',\\n ...</td>\n",
       "      <td>Index(['revenue_d7', 'withdraw_d7', 'payment_i...</td>\n",
       "    </tr>\n",
       "    <tr>\n",
       "      <th>6</th>\n",
       "      <td>13</td>\n",
       "      <td>14</td>\n",
       "      <td>(ColumnTransformer(remainder='passthrough',\\n ...</td>\n",
       "      <td>Index(['revenue_d7', 'withdraw_d7', 'payment_i...</td>\n",
       "    </tr>\n",
       "    <tr>\n",
       "      <th>7</th>\n",
       "      <td>7</td>\n",
       "      <td>28</td>\n",
       "      <td>(ColumnTransformer(remainder='passthrough',\\n ...</td>\n",
       "      <td>Index(['revenue_d7', 'withdraw_d7', 'payment_i...</td>\n",
       "    </tr>\n",
       "    <tr>\n",
       "      <th>8</th>\n",
       "      <td>8</td>\n",
       "      <td>28</td>\n",
       "      <td>(ColumnTransformer(remainder='passthrough',\\n ...</td>\n",
       "      <td>Index(['revenue_d7', 'withdraw_d7', 'payment_i...</td>\n",
       "    </tr>\n",
       "    <tr>\n",
       "      <th>9</th>\n",
       "      <td>9</td>\n",
       "      <td>28</td>\n",
       "      <td>(ColumnTransformer(remainder='passthrough',\\n ...</td>\n",
       "      <td>Index(['revenue_d7', 'withdraw_d7', 'payment_i...</td>\n",
       "    </tr>\n",
       "    <tr>\n",
       "      <th>10</th>\n",
       "      <td>10</td>\n",
       "      <td>28</td>\n",
       "      <td>(ColumnTransformer(remainder='passthrough',\\n ...</td>\n",
       "      <td>Index(['revenue_d7', 'withdraw_d7', 'payment_i...</td>\n",
       "    </tr>\n",
       "    <tr>\n",
       "      <th>11</th>\n",
       "      <td>11</td>\n",
       "      <td>28</td>\n",
       "      <td>(ColumnTransformer(remainder='passthrough',\\n ...</td>\n",
       "      <td>Index(['revenue_d7', 'withdraw_d7', 'payment_i...</td>\n",
       "    </tr>\n",
       "    <tr>\n",
       "      <th>12</th>\n",
       "      <td>12</td>\n",
       "      <td>28</td>\n",
       "      <td>(ColumnTransformer(remainder='passthrough',\\n ...</td>\n",
       "      <td>Index(['revenue_d7', 'withdraw_d7', 'payment_i...</td>\n",
       "    </tr>\n",
       "    <tr>\n",
       "      <th>13</th>\n",
       "      <td>13</td>\n",
       "      <td>28</td>\n",
       "      <td>(ColumnTransformer(remainder='passthrough',\\n ...</td>\n",
       "      <td>Index(['revenue_d7', 'withdraw_d7', 'payment_i...</td>\n",
       "    </tr>\n",
       "    <tr>\n",
       "      <th>14</th>\n",
       "      <td>14</td>\n",
       "      <td>28</td>\n",
       "      <td>(ColumnTransformer(remainder='passthrough',\\n ...</td>\n",
       "      <td>Index(['revenue_d7', 'withdraw_d7', 'payment_i...</td>\n",
       "    </tr>\n",
       "    <tr>\n",
       "      <th>15</th>\n",
       "      <td>15</td>\n",
       "      <td>28</td>\n",
       "      <td>(ColumnTransformer(remainder='passthrough',\\n ...</td>\n",
       "      <td>Index(['revenue_d7', 'withdraw_d7', 'payment_i...</td>\n",
       "    </tr>\n",
       "    <tr>\n",
       "      <th>16</th>\n",
       "      <td>16</td>\n",
       "      <td>28</td>\n",
       "      <td>(ColumnTransformer(remainder='passthrough',\\n ...</td>\n",
       "      <td>Index(['revenue_d7', 'withdraw_d7', 'payment_i...</td>\n",
       "    </tr>\n",
       "    <tr>\n",
       "      <th>17</th>\n",
       "      <td>17</td>\n",
       "      <td>28</td>\n",
       "      <td>(ColumnTransformer(remainder='passthrough',\\n ...</td>\n",
       "      <td>Index(['revenue_d7', 'withdraw_d7', 'payment_i...</td>\n",
       "    </tr>\n",
       "    <tr>\n",
       "      <th>18</th>\n",
       "      <td>18</td>\n",
       "      <td>28</td>\n",
       "      <td>(ColumnTransformer(remainder='passthrough',\\n ...</td>\n",
       "      <td>Index(['revenue_d7', 'withdraw_d7', 'payment_i...</td>\n",
       "    </tr>\n",
       "    <tr>\n",
       "      <th>19</th>\n",
       "      <td>19</td>\n",
       "      <td>28</td>\n",
       "      <td>(ColumnTransformer(remainder='passthrough',\\n ...</td>\n",
       "      <td>Index(['revenue_d7', 'withdraw_d7', 'payment_i...</td>\n",
       "    </tr>\n",
       "    <tr>\n",
       "      <th>20</th>\n",
       "      <td>20</td>\n",
       "      <td>28</td>\n",
       "      <td>(ColumnTransformer(remainder='passthrough',\\n ...</td>\n",
       "      <td>Index(['revenue_d7', 'withdraw_d7', 'payment_i...</td>\n",
       "    </tr>\n",
       "    <tr>\n",
       "      <th>21</th>\n",
       "      <td>21</td>\n",
       "      <td>28</td>\n",
       "      <td>(ColumnTransformer(remainder='passthrough',\\n ...</td>\n",
       "      <td>Index(['revenue_d7', 'withdraw_d7', 'payment_i...</td>\n",
       "    </tr>\n",
       "    <tr>\n",
       "      <th>22</th>\n",
       "      <td>22</td>\n",
       "      <td>28</td>\n",
       "      <td>(ColumnTransformer(remainder='passthrough',\\n ...</td>\n",
       "      <td>Index(['revenue_d7', 'withdraw_d7', 'payment_i...</td>\n",
       "    </tr>\n",
       "    <tr>\n",
       "      <th>23</th>\n",
       "      <td>23</td>\n",
       "      <td>28</td>\n",
       "      <td>(ColumnTransformer(remainder='passthrough',\\n ...</td>\n",
       "      <td>Index(['revenue_d7', 'withdraw_d7', 'payment_i...</td>\n",
       "    </tr>\n",
       "    <tr>\n",
       "      <th>24</th>\n",
       "      <td>24</td>\n",
       "      <td>28</td>\n",
       "      <td>(ColumnTransformer(remainder='passthrough',\\n ...</td>\n",
       "      <td>Index(['revenue_d7', 'withdraw_d7', 'payment_i...</td>\n",
       "    </tr>\n",
       "    <tr>\n",
       "      <th>25</th>\n",
       "      <td>25</td>\n",
       "      <td>28</td>\n",
       "      <td>(ColumnTransformer(remainder='passthrough',\\n ...</td>\n",
       "      <td>Index(['revenue_d7', 'withdraw_d7', 'payment_i...</td>\n",
       "    </tr>\n",
       "    <tr>\n",
       "      <th>26</th>\n",
       "      <td>26</td>\n",
       "      <td>28</td>\n",
       "      <td>(ColumnTransformer(remainder='passthrough',\\n ...</td>\n",
       "      <td>Index(['revenue_d7', 'withdraw_d7', 'payment_i...</td>\n",
       "    </tr>\n",
       "    <tr>\n",
       "      <th>27</th>\n",
       "      <td>27</td>\n",
       "      <td>28</td>\n",
       "      <td>(ColumnTransformer(remainder='passthrough',\\n ...</td>\n",
       "      <td>Index(['revenue_d7', 'withdraw_d7', 'payment_i...</td>\n",
       "    </tr>\n",
       "  </tbody>\n",
       "</table>\n",
       "</div>"
      ],
      "text/plain": [
       "   Available day Target day  \\\n",
       "0              7         14   \n",
       "1              8         14   \n",
       "2              9         14   \n",
       "3             10         14   \n",
       "4             11         14   \n",
       "5             12         14   \n",
       "6             13         14   \n",
       "7              7         28   \n",
       "8              8         28   \n",
       "9              9         28   \n",
       "10            10         28   \n",
       "11            11         28   \n",
       "12            12         28   \n",
       "13            13         28   \n",
       "14            14         28   \n",
       "15            15         28   \n",
       "16            16         28   \n",
       "17            17         28   \n",
       "18            18         28   \n",
       "19            19         28   \n",
       "20            20         28   \n",
       "21            21         28   \n",
       "22            22         28   \n",
       "23            23         28   \n",
       "24            24         28   \n",
       "25            25         28   \n",
       "26            26         28   \n",
       "27            27         28   \n",
       "\n",
       "                                                Model  \\\n",
       "0   (ColumnTransformer(remainder='passthrough',\\n ...   \n",
       "1   (ColumnTransformer(remainder='passthrough',\\n ...   \n",
       "2   (ColumnTransformer(remainder='passthrough',\\n ...   \n",
       "3   (ColumnTransformer(remainder='passthrough',\\n ...   \n",
       "4   (ColumnTransformer(remainder='passthrough',\\n ...   \n",
       "5   (ColumnTransformer(remainder='passthrough',\\n ...   \n",
       "6   (ColumnTransformer(remainder='passthrough',\\n ...   \n",
       "7   (ColumnTransformer(remainder='passthrough',\\n ...   \n",
       "8   (ColumnTransformer(remainder='passthrough',\\n ...   \n",
       "9   (ColumnTransformer(remainder='passthrough',\\n ...   \n",
       "10  (ColumnTransformer(remainder='passthrough',\\n ...   \n",
       "11  (ColumnTransformer(remainder='passthrough',\\n ...   \n",
       "12  (ColumnTransformer(remainder='passthrough',\\n ...   \n",
       "13  (ColumnTransformer(remainder='passthrough',\\n ...   \n",
       "14  (ColumnTransformer(remainder='passthrough',\\n ...   \n",
       "15  (ColumnTransformer(remainder='passthrough',\\n ...   \n",
       "16  (ColumnTransformer(remainder='passthrough',\\n ...   \n",
       "17  (ColumnTransformer(remainder='passthrough',\\n ...   \n",
       "18  (ColumnTransformer(remainder='passthrough',\\n ...   \n",
       "19  (ColumnTransformer(remainder='passthrough',\\n ...   \n",
       "20  (ColumnTransformer(remainder='passthrough',\\n ...   \n",
       "21  (ColumnTransformer(remainder='passthrough',\\n ...   \n",
       "22  (ColumnTransformer(remainder='passthrough',\\n ...   \n",
       "23  (ColumnTransformer(remainder='passthrough',\\n ...   \n",
       "24  (ColumnTransformer(remainder='passthrough',\\n ...   \n",
       "25  (ColumnTransformer(remainder='passthrough',\\n ...   \n",
       "26  (ColumnTransformer(remainder='passthrough',\\n ...   \n",
       "27  (ColumnTransformer(remainder='passthrough',\\n ...   \n",
       "\n",
       "                                              Columns  \n",
       "0   Index(['revenue_d7', 'withdraw_d7', 'payment_i...  \n",
       "1   Index(['revenue_d7', 'withdraw_d7', 'payment_i...  \n",
       "2   Index(['revenue_d7', 'withdraw_d7', 'payment_i...  \n",
       "3   Index(['revenue_d7', 'withdraw_d7', 'payment_i...  \n",
       "4   Index(['revenue_d7', 'withdraw_d7', 'payment_i...  \n",
       "5   Index(['revenue_d7', 'withdraw_d7', 'payment_i...  \n",
       "6   Index(['revenue_d7', 'withdraw_d7', 'payment_i...  \n",
       "7   Index(['revenue_d7', 'withdraw_d7', 'payment_i...  \n",
       "8   Index(['revenue_d7', 'withdraw_d7', 'payment_i...  \n",
       "9   Index(['revenue_d7', 'withdraw_d7', 'payment_i...  \n",
       "10  Index(['revenue_d7', 'withdraw_d7', 'payment_i...  \n",
       "11  Index(['revenue_d7', 'withdraw_d7', 'payment_i...  \n",
       "12  Index(['revenue_d7', 'withdraw_d7', 'payment_i...  \n",
       "13  Index(['revenue_d7', 'withdraw_d7', 'payment_i...  \n",
       "14  Index(['revenue_d7', 'withdraw_d7', 'payment_i...  \n",
       "15  Index(['revenue_d7', 'withdraw_d7', 'payment_i...  \n",
       "16  Index(['revenue_d7', 'withdraw_d7', 'payment_i...  \n",
       "17  Index(['revenue_d7', 'withdraw_d7', 'payment_i...  \n",
       "18  Index(['revenue_d7', 'withdraw_d7', 'payment_i...  \n",
       "19  Index(['revenue_d7', 'withdraw_d7', 'payment_i...  \n",
       "20  Index(['revenue_d7', 'withdraw_d7', 'payment_i...  \n",
       "21  Index(['revenue_d7', 'withdraw_d7', 'payment_i...  \n",
       "22  Index(['revenue_d7', 'withdraw_d7', 'payment_i...  \n",
       "23  Index(['revenue_d7', 'withdraw_d7', 'payment_i...  \n",
       "24  Index(['revenue_d7', 'withdraw_d7', 'payment_i...  \n",
       "25  Index(['revenue_d7', 'withdraw_d7', 'payment_i...  \n",
       "26  Index(['revenue_d7', 'withdraw_d7', 'payment_i...  \n",
       "27  Index(['revenue_d7', 'withdraw_d7', 'payment_i...  "
      ]
     },
     "execution_count": 103,
     "metadata": {},
     "output_type": "execute_result"
    }
   ],
   "source": [
    "payback_predictive_system = []\n",
    "\n",
    "from tqdm import tqdm, tqdm_notebook\n",
    "\n",
    "for y_day in tqdm(['14', '28']):\n",
    "  for x_day in predictors_days:\n",
    "    if int(y_day) > int(x_day):\n",
    "  \n",
    "      train = dev_df.copy()\n",
    "      train['y'] = train['Recovery on the 28th (rate)'] - (train[f'p{x_day}'] - train[f'w{x_day}'] + train[f'ad{x_day}'])/train['cost']\n",
    "      y = train[train['days_since_install'] <= (int(y_day) - 1)]['y'] # This is the regressors-based of d7_28_increment\n",
    "      del train['y']\n",
    "  \n",
    "      # Make the regressors\n",
    "      selected_columns = columns_rule + [f'pred_{x_day}_{y_day}']\n",
    "      \n",
    "      # Define X \n",
    "      X = train[train['days_since_install'] <= (int(y_day) - 1)]\n",
    "      weights_train = np.log1p(X['te_installs'])\n",
    "  \n",
    "      # Define observation importance 0.01 - 1.05 - 160 - 1 - 10\n",
    "      model = create_huber(0.0, 1.05, selected_columns, weights_train)\n",
    "      model.fit(X[[col for col in selected_columns if col != 'te_installs']], y)\n",
    "  \n",
    "      # Save the model into dictionary (Response, day, model)\n",
    "      payback = pd.DataFrame({\n",
    "              'Available day': [x_day]\n",
    "              , 'Target day': [y_day]\n",
    "              , 'Model': [model]\n",
    "              , 'Columns': [X[[col for col in selected_columns if col != 'te_installs']].columns]\n",
    "              })\n",
    "  \n",
    "      payback_predictive_system.append(payback)\n",
    "\n",
    "rules_dict = pd.concat(payback_predictive_system, ignore_index = True)\n",
    "rules_dict"
   ]
  },
  {
   "cell_type": "code",
   "execution_count": 104,
   "metadata": {},
   "outputs": [],
   "source": [
    "dev_df_check = dev_df.copy(deep = True)"
   ]
  },
  {
   "cell_type": "code",
   "execution_count": 105,
   "metadata": {},
   "outputs": [],
   "source": [
    "# Add predictions\n",
    "integers_list = list(range(7, 28))\n",
    "incremented_numbers = [str(number) for number in range(28, 36, 7)]\n",
    "predictors_days_input = predictors_days = [str(integer) for integer in integers_list] + incremented_numbers\n",
    "\n",
    "# Available dates as target (I am considering adding more values, above and below, maybe up to two on each side)\n",
    "response_days_input = response_days = [\"14\", \"28\", \"56\", \"63\", \"70\", \"77\", \"84\", \"91\", \"98\", \"100\", \"105\", \"112\", \"119\", \"126\", \"133\"]\n",
    "\n",
    "def add_predictions(data, model_dict, response_days, predictors_days):\n",
    "\n",
    "    for response in response_days:\n",
    "\n",
    "        data[f'actual_{response}'] = data[f'p{response}'] - data[f'w{response}'] + data[f'ad{response}'] \n",
    "\n",
    "        for reg in predictors_days:\n",
    "\n",
    "            if int(response) > int(reg):\n",
    "                                \n",
    "                columns = list((model_dict[(model_dict['Available day'] == reg) & (model_dict['Target day'] == response)][['Columns']].reset_index(drop = True).values[0])[0]) #+ [f'p_last_diff_7_{reg}'] + [f'w_last_diff_7_{reg}']\n",
    "    \n",
    "                # Load the model\n",
    "                model = model_dict[(model_dict['Available day'] == reg) & (model_dict['Target day'] == response)]['Model'].reset_index(drop = True).values[0]\n",
    "    \n",
    "                # Make the prediction (Make sure is done only for those on which makese sense)\n",
    "                prediction = model.predict(data[columns])\n",
    "                data[f'pred_{reg}_{response}_agg'] = prediction + (data[f'p{reg}']- data[f'w{reg}'] + data[f'ad{reg}'])/data[f'cost']\n",
    "                \n",
    "    return data\n",
    "\n",
    "dev_df_check = add_predictions(dev_df_check, rules_dict, ['28'], predictors_days_input)\n"
   ]
  },
  {
   "cell_type": "code",
   "execution_count": 106,
   "metadata": {},
   "outputs": [
    {
     "data": {
      "text/html": [
       "<div>\n",
       "<style scoped>\n",
       "    .dataframe tbody tr th:only-of-type {\n",
       "        vertical-align: middle;\n",
       "    }\n",
       "\n",
       "    .dataframe tbody tr th {\n",
       "        vertical-align: top;\n",
       "    }\n",
       "\n",
       "    .dataframe thead th {\n",
       "        text-align: right;\n",
       "    }\n",
       "</style>\n",
       "<table border=\"1\" class=\"dataframe\">\n",
       "  <thead>\n",
       "    <tr style=\"text-align: right;\">\n",
       "      <th></th>\n",
       "      <th>date</th>\n",
       "      <th>te_installs</th>\n",
       "      <th>cost</th>\n",
       "      <th>revenue_d7</th>\n",
       "      <th>withdraw_d7</th>\n",
       "      <th>payment_increase</th>\n",
       "      <th>rpi_increase</th>\n",
       "      <th>installs_difference</th>\n",
       "      <th>withdrawn_ratio</th>\n",
       "      <th>Recovery on the 28th (rate)</th>\n",
       "      <th>...</th>\n",
       "      <th>pred_18_28_agg</th>\n",
       "      <th>pred_19_28_agg</th>\n",
       "      <th>pred_20_28_agg</th>\n",
       "      <th>pred_21_28_agg</th>\n",
       "      <th>pred_22_28_agg</th>\n",
       "      <th>pred_23_28_agg</th>\n",
       "      <th>pred_24_28_agg</th>\n",
       "      <th>pred_25_28_agg</th>\n",
       "      <th>pred_26_28_agg</th>\n",
       "      <th>pred_27_28_agg</th>\n",
       "    </tr>\n",
       "  </thead>\n",
       "  <tbody>\n",
       "    <tr>\n",
       "      <th>4</th>\n",
       "      <td>20231112</td>\n",
       "      <td>2730</td>\n",
       "      <td>6357.49</td>\n",
       "      <td>5789.05</td>\n",
       "      <td>3883.02</td>\n",
       "      <td>-0.677854</td>\n",
       "      <td>6.000060</td>\n",
       "      <td>-0.697070</td>\n",
       "      <td>0.670753</td>\n",
       "      <td>0.8656</td>\n",
       "      <td>...</td>\n",
       "      <td>2.421619</td>\n",
       "      <td>2.754117</td>\n",
       "      <td>2.351796</td>\n",
       "      <td>2.104446</td>\n",
       "      <td>2.112749</td>\n",
       "      <td>1.822192</td>\n",
       "      <td>2.383822</td>\n",
       "      <td>2.898402</td>\n",
       "      <td>2.763233</td>\n",
       "      <td>2.252031</td>\n",
       "    </tr>\n",
       "    <tr>\n",
       "      <th>45</th>\n",
       "      <td>20231223</td>\n",
       "      <td>4642</td>\n",
       "      <td>59061.96</td>\n",
       "      <td>78702.36</td>\n",
       "      <td>67696.19</td>\n",
       "      <td>-0.183431</td>\n",
       "      <td>20.433105</td>\n",
       "      <td>-0.208962</td>\n",
       "      <td>0.860155</td>\n",
       "      <td>0.3054</td>\n",
       "      <td>...</td>\n",
       "      <td>0.305400</td>\n",
       "      <td>0.305400</td>\n",
       "      <td>0.305400</td>\n",
       "      <td>0.305400</td>\n",
       "      <td>0.305400</td>\n",
       "      <td>0.305400</td>\n",
       "      <td>0.305400</td>\n",
       "      <td>0.305400</td>\n",
       "      <td>0.305400</td>\n",
       "      <td>0.305400</td>\n",
       "    </tr>\n",
       "    <tr>\n",
       "      <th>44</th>\n",
       "      <td>20231222</td>\n",
       "      <td>4910</td>\n",
       "      <td>57584.45</td>\n",
       "      <td>41825.53</td>\n",
       "      <td>28837.73</td>\n",
       "      <td>-0.377087</td>\n",
       "      <td>9.765902</td>\n",
       "      <td>-0.208758</td>\n",
       "      <td>0.689477</td>\n",
       "      <td>0.2780</td>\n",
       "      <td>...</td>\n",
       "      <td>0.188211</td>\n",
       "      <td>0.192005</td>\n",
       "      <td>0.247772</td>\n",
       "      <td>0.182971</td>\n",
       "      <td>0.243844</td>\n",
       "      <td>0.207034</td>\n",
       "      <td>0.207336</td>\n",
       "      <td>0.179423</td>\n",
       "      <td>0.173619</td>\n",
       "      <td>0.197554</td>\n",
       "    </tr>\n",
       "    <tr>\n",
       "      <th>48</th>\n",
       "      <td>20231226</td>\n",
       "      <td>4592</td>\n",
       "      <td>63086.76</td>\n",
       "      <td>42776.45</td>\n",
       "      <td>35004.30</td>\n",
       "      <td>-0.332715</td>\n",
       "      <td>10.895565</td>\n",
       "      <td>-0.216899</td>\n",
       "      <td>0.818308</td>\n",
       "      <td>0.3337</td>\n",
       "      <td>...</td>\n",
       "      <td>0.333700</td>\n",
       "      <td>0.333700</td>\n",
       "      <td>0.333700</td>\n",
       "      <td>0.333700</td>\n",
       "      <td>0.333700</td>\n",
       "      <td>0.348857</td>\n",
       "      <td>0.366065</td>\n",
       "      <td>0.366575</td>\n",
       "      <td>0.333700</td>\n",
       "      <td>0.333700</td>\n",
       "    </tr>\n",
       "    <tr>\n",
       "      <th>15</th>\n",
       "      <td>20231123</td>\n",
       "      <td>1415</td>\n",
       "      <td>10238.10</td>\n",
       "      <td>6325.87</td>\n",
       "      <td>4663.57</td>\n",
       "      <td>-0.009124</td>\n",
       "      <td>4.719593</td>\n",
       "      <td>-0.218375</td>\n",
       "      <td>0.737222</td>\n",
       "      <td>0.2479</td>\n",
       "      <td>...</td>\n",
       "      <td>0.554079</td>\n",
       "      <td>0.548327</td>\n",
       "      <td>0.557832</td>\n",
       "      <td>0.566301</td>\n",
       "      <td>0.569154</td>\n",
       "      <td>0.583474</td>\n",
       "      <td>0.581430</td>\n",
       "      <td>0.570868</td>\n",
       "      <td>0.567349</td>\n",
       "      <td>0.593423</td>\n",
       "    </tr>\n",
       "    <tr>\n",
       "      <th>38</th>\n",
       "      <td>20231216</td>\n",
       "      <td>5193</td>\n",
       "      <td>53679.00</td>\n",
       "      <td>55968.22</td>\n",
       "      <td>28679.86</td>\n",
       "      <td>-0.080520</td>\n",
       "      <td>12.297273</td>\n",
       "      <td>-0.189486</td>\n",
       "      <td>0.512431</td>\n",
       "      <td>0.3596</td>\n",
       "      <td>...</td>\n",
       "      <td>0.359600</td>\n",
       "      <td>0.349346</td>\n",
       "      <td>0.334284</td>\n",
       "      <td>0.310860</td>\n",
       "      <td>0.346893</td>\n",
       "      <td>0.359600</td>\n",
       "      <td>0.359600</td>\n",
       "      <td>0.359600</td>\n",
       "      <td>0.327942</td>\n",
       "      <td>0.344175</td>\n",
       "    </tr>\n",
       "  </tbody>\n",
       "</table>\n",
       "<p>6 rows × 452 columns</p>\n",
       "</div>"
      ],
      "text/plain": [
       "        date  te_installs      cost  revenue_d7  withdraw_d7  \\\n",
       "4   20231112         2730   6357.49     5789.05      3883.02   \n",
       "45  20231223         4642  59061.96    78702.36     67696.19   \n",
       "44  20231222         4910  57584.45    41825.53     28837.73   \n",
       "48  20231226         4592  63086.76    42776.45     35004.30   \n",
       "15  20231123         1415  10238.10     6325.87      4663.57   \n",
       "38  20231216         5193  53679.00    55968.22     28679.86   \n",
       "\n",
       "    payment_increase  rpi_increase  installs_difference  withdrawn_ratio  \\\n",
       "4          -0.677854      6.000060            -0.697070         0.670753   \n",
       "45         -0.183431     20.433105            -0.208962         0.860155   \n",
       "44         -0.377087      9.765902            -0.208758         0.689477   \n",
       "48         -0.332715     10.895565            -0.216899         0.818308   \n",
       "15         -0.009124      4.719593            -0.218375         0.737222   \n",
       "38         -0.080520     12.297273            -0.189486         0.512431   \n",
       "\n",
       "    Recovery on the 28th (rate)  ...  pred_18_28_agg  pred_19_28_agg  \\\n",
       "4                        0.8656  ...        2.421619        2.754117   \n",
       "45                       0.3054  ...        0.305400        0.305400   \n",
       "44                       0.2780  ...        0.188211        0.192005   \n",
       "48                       0.3337  ...        0.333700        0.333700   \n",
       "15                       0.2479  ...        0.554079        0.548327   \n",
       "38                       0.3596  ...        0.359600        0.349346   \n",
       "\n",
       "    pred_20_28_agg  pred_21_28_agg  pred_22_28_agg  pred_23_28_agg  \\\n",
       "4         2.351796        2.104446        2.112749        1.822192   \n",
       "45        0.305400        0.305400        0.305400        0.305400   \n",
       "44        0.247772        0.182971        0.243844        0.207034   \n",
       "48        0.333700        0.333700        0.333700        0.348857   \n",
       "15        0.557832        0.566301        0.569154        0.583474   \n",
       "38        0.334284        0.310860        0.346893        0.359600   \n",
       "\n",
       "    pred_24_28_agg  pred_25_28_agg  pred_26_28_agg  pred_27_28_agg  \n",
       "4         2.383822        2.898402        2.763233        2.252031  \n",
       "45        0.305400        0.305400        0.305400        0.305400  \n",
       "44        0.207336        0.179423        0.173619        0.197554  \n",
       "48        0.366065        0.366575        0.333700        0.333700  \n",
       "15        0.581430        0.570868        0.567349        0.593423  \n",
       "38        0.359600        0.359600        0.327942        0.344175  \n",
       "\n",
       "[6 rows x 452 columns]"
      ]
     },
     "execution_count": 106,
     "metadata": {},
     "output_type": "execute_result"
    }
   ],
   "source": [
    "dev_df_check.sample(6)"
   ]
  },
  {
   "cell_type": "code",
   "execution_count": 107,
   "metadata": {},
   "outputs": [
    {
     "data": {
      "image/png": "[encoded data removed]",
      "text/plain": [
       "<Figure size 2200x600 with 1 Axes>"
      ]
     },
     "metadata": {},
     "output_type": "display_data"
    }
   ],
   "source": [
    "### Check the Joint results\n",
    "\n",
    "filtered_df = dev_df_check.copy()\n",
    "# filtered_df['date'] = pd.to_datetime(filtered_df['date'], format='%Y-%m-%d')\n",
    "filtered_df = filtered_df.sort_values(by = 'date')\n",
    "filtered_df['actual_28'] = filtered_df['actual_28']/filtered_df['cost']\n",
    "\n",
    "# Melt the DataFrame to long format for easier plotting\n",
    "df_long = pd.melt(filtered_df, id_vars=['date'], value_vars=['Recovery on the 28th (rate)', 'pred_7_28', 'pred_7_28_agg', 'actual_28'])\n",
    "# df_long['date'] = pd.to_datetime(df_long['date']).dt.date.apply(lambda x: int(x.strftime('%Y%m%d')))\n",
    "df_long['date'] = pd.to_datetime(df_long['date'], format='%Y%m%d')\n",
    "\n",
    "# Create the lineplot\n",
    "plt.figure(figsize=(22, 6))\n",
    "sns.lineplot(x='date', y='value', hue='variable', markers=True, data=df_long)\n",
    "\n",
    "# Set labels and title\n",
    "plt.xlabel('Date')\n",
    "plt.ylabel('ROAS day 28')\n",
    "plt.title(f'ROAS Over Time Unity: ')\n",
    "\n",
    "# Display the legend\n",
    "plt.legend(title='Media Source')\n",
    "\n",
    "# Rotate X-axis labels\n",
    "plt.xticks(rotation=45, ha='right')\n",
    "\n",
    "# Show the plot\n",
    "plt.show()"
   ]
  },
  {
   "cell_type": "code",
   "execution_count": 108,
   "metadata": {},
   "outputs": [],
   "source": [
    "# Remove the last data points and remove the pred_ columns. This is too much\n",
    "with open('acorn_games_ios_ptlv_dictionary_2024.pkl', 'wb') as file:\n",
    "    pickle.dump(rules_dict, file)"
   ]
  },
  {
   "cell_type": "code",
   "execution_count": null,
   "metadata": {},
   "outputs": [],
   "source": [
    "\n",
    "\n"
   ]
  }
 ],
 "metadata": {
  "kernelspec": {
   "display_name": "Python 3",
   "language": "python",
   "name": "python3"
  },
  "language_info": {
   "codemirror_mode": {
    "name": "ipython",
    "version": 3
   },
   "file_extension": ".py",
   "mimetype": "text/x-python",
   "name": "python",
   "nbconvert_exporter": "python",
   "pygments_lexer": "ipython3",
   "version": "3.11.4"
  }
 },
 "nbformat": 4,
 "nbformat_minor": 2
}
